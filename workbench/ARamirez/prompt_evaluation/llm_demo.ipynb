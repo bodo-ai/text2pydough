{
 "cells": [
  {
   "cell_type": "markdown",
   "metadata": {},
   "source": [
    "# Pydough Demo"
   ]
  },
  {
   "cell_type": "markdown",
   "metadata": {},
   "source": [
    "Import the client."
   ]
  },
  {
   "cell_type": "code",
   "execution_count": 16,
   "metadata": {},
   "outputs": [],
   "source": [
    "from llm import LLMClient"
   ]
  },
  {
   "cell_type": "markdown",
   "metadata": {},
   "source": [
    "You must provide the `supplier` and the `model` in variables, then initialize the client with the selected values. "
   ]
  },
  {
   "cell_type": "code",
   "execution_count": null,
   "metadata": {},
   "outputs": [],
   "source": [
    "provider= \"aws\"\n",
    "model = \"us.anthropic.claude-3-7-sonnet-20250219-v1:0\"\n",
    "\n",
    "client = LLMClient(provider, model)"
   ]
  },
  {
   "cell_type": "markdown",
   "metadata": {},
   "source": [
    "Use the `ask()` method to make a query to the model.\n",
    "\n",
    "We get a `Result` object with the parameters: `pydough_code`, `full_explanation`, `df`, `exception`, `original_question`, `sql_output`, `base_prompt`, `cheat_sheet`, `knowledge_graph`.\n",
    "\n",
    "We can print `full_explanation` to test the result object. "
   ]
  },
  {
   "cell_type": "code",
   "execution_count": null,
   "metadata": {},
   "outputs": [],
   "source": [
    "result= client.ask(\"For each of the 5 largest part sizes, find the part of that size with the largest retail price\")\n",
    "\n",
    "print(result.full_explanation)"
   ]
  },
  {
   "cell_type": "markdown",
   "metadata": {},
   "source": [
    "Now, we can take a look at the generated PyDough code. "
   ]
  },
  {
   "cell_type": "code",
   "execution_count": 17,
   "metadata": {},
   "outputs": [
    {
     "name": "stdout",
     "output_type": "stream",
     "text": [
      "# First, calculate the maximum retail price for each part size\n",
      "max_price_by_size = PARTITION(parts.CALCULATE(size=size, retail_price=retail_price), \n",
      "                            name=\"parts_group\", \n",
      "                            by=size).CALCULATE(\n",
      "    size=size,\n",
      "    max_retail_price=MAX(parts_group.retail_price)\n",
      ")\n",
      "\n",
      "# Join back to the parts collection to get the part details with the maximum retail price\n",
      "parts_with_max_price = parts.CALCULATE(\n",
      "    size=size,\n",
      "    name=name,\n",
      "    retail_price=retail_price,\n",
      "    part_type=part_type\n",
      ").WHERE(\n",
      "    (size == max_price_by_size.size) & \n",
      "    (retail_price == max_price_by_size.max_retail_price)\n",
      ")\n",
      "\n",
      "# Get the top 5 largest part sizes with their highest retail price parts\n",
      "largest_parts_by_size = parts_with_max_price.ORDER_BY(\n",
      "    size.DESC()\n",
      ").TOP_K(5, by=size.DESC())\n"
     ]
    }
   ],
   "source": [
    "print(result.code)"
   ]
  },
  {
   "cell_type": "markdown",
   "metadata": {},
   "source": [
    "To see the result, then we print the `df` parameter. "
   ]
  },
  {
   "cell_type": "code",
   "execution_count": 18,
   "metadata": {},
   "outputs": [
    {
     "name": "stdout",
     "output_type": "stream",
     "text": [
      "None\n"
     ]
    }
   ],
   "source": [
    "print(result.df)"
   ]
  },
  {
   "cell_type": "markdown",
   "metadata": {},
   "source": [
    "If you get a `None`, then we should have a PyDough exception. We can check this by running:"
   ]
  },
  {
   "cell_type": "code",
   "execution_count": 19,
   "metadata": {},
   "outputs": [
    {
     "name": "stdout",
     "output_type": "stream",
     "text": [
      "An error occurred while processing the code: Unrecognized term of simple table collection 'parts' in graph 'TPCH': 'parts'\n"
     ]
    }
   ],
   "source": [
    "print(result.exception)"
   ]
  },
  {
   "cell_type": "markdown",
   "metadata": {},
   "source": [
    "You can try to fix the error using the `correct` method, include in the client. We are going to declare a new variable to obtain the corrected result. "
   ]
  },
  {
   "cell_type": "code",
   "execution_count": 20,
   "metadata": {},
   "outputs": [],
   "source": [
    "corrected_result = client.correct(result)"
   ]
  },
  {
   "cell_type": "markdown",
   "metadata": {},
   "source": [
    "To see how the model try to solve the issue, you can print the full explanation of the `corrected_result`."
   ]
  },
  {
   "cell_type": "code",
   "execution_count": 24,
   "metadata": {},
   "outputs": [
    {
     "name": "stdout",
     "output_type": "stream",
     "text": [
      "I see the issue. The error message indicates that the term 'parts' is not recognized in the graph. Looking at the database structure reference file, it seems that the collection name should be singular - `parts` instead of `part`. Let me correct the code:\n",
      "\n",
      "```python\n",
      "# First, calculate the maximum retail price for each part size\n",
      "max_price_by_size = parts.CALCULATE(\n",
      "    size=size,\n",
      "    retail_price=retail_price\n",
      ")\n",
      "\n",
      "# Group by size to find the maximum retail price for each size\n",
      "size_max_price = GROUP_BY(max_price_by_size, name=\"parts_group\", by=size).CALCULATE(\n",
      "    size=size,\n",
      "    max_retail_price=MAX(parts_group.retail_price)\n",
      ")\n",
      "\n",
      "# Join back to the parts collection to find parts with the maximum retail price for their size\n",
      "parts_with_max_price = parts.CALCULATE(\n",
      "    size=size,\n",
      "    name=name,\n",
      "    retail_price=retail_price,\n",
      "    part_type=part_type\n",
      ")\n",
      "\n",
      "# Filter to only include parts that have the maximum retail price for their size\n",
      "max_price_parts = parts_with_max_price.WHERE(\n",
      "    retail_price == size_max_price.WHERE(size == parts_with_max_price.size).max_retail_price\n",
      ")\n",
      "\n",
      "# Get the top 5 largest part sizes with their highest retail price parts\n",
      "largest_parts_by_size = max_price_parts.ORDER_BY(\n",
      "    size.DESC()\n",
      ").TOP_K(5, by=size.DESC())\n",
      "```\n",
      "\n",
      "Wait, I see a problem with the approach above. Let me revise it to correctly handle the join between the parts and the maximum prices:\n",
      "\n",
      "```python\n",
      "# First, calculate the maximum retail price for each size\n",
      "parts_with_size = parts.CALCULATE(\n",
      "    size=size,\n",
      "    retail_price=retail_price\n",
      ")\n",
      "\n",
      "# Create a temporary collection with size and max price\n",
      "size_max_retail = GROUP_BY(parts_with_size, name=\"size_group\", by=size).CALCULATE(\n",
      "    size=size,\n",
      "    max_retail_price=MAX(size_group.retail_price)\n",
      ")\n",
      "\n",
      "# Find parts that match the maximum retail price for their size\n",
      "parts_with_details = parts.CALCULATE(\n",
      "    size=size,\n",
      "    name=name,\n",
      "    retail_price=retail_price,\n",
      "    part_type=part_type\n",
      ")\n",
      "\n",
      "# For each part, check if its retail price equals the maximum for its size\n",
      "max_price_parts = parts_with_details.WHERE(\n",
      "    retail_price == size_max_retail.WHERE(size == parts_with_details.size).max_retail_price\n",
      ")\n",
      "\n",
      "# Get the top 5 largest part sizes with their highest retail price parts\n",
      "largest_parts_by_size = max_price_parts.ORDER_BY(\n",
      "    size.DESC()\n",
      ").TOP_K(5, by=size.DESC())\n",
      "```\n",
      "\n",
      "Actually, I need to simplify this further to avoid the complex WHERE condition:\n",
      "\n",
      "```python\n",
      "# First, get all parts with their sizes and retail prices\n",
      "parts_info = parts.CALCULATE(\n",
      "    size=size,\n",
      "    name=name,\n",
      "    retail_price=retail_price,\n",
      "    part_type=part_type\n",
      ")\n",
      "\n",
      "# Find the maximum retail price for each size\n",
      "max_price_by_size = GROUP_BY(parts_info, name=\"size_group\", by=size).CALCULATE(\n",
      "    size=size,\n",
      "    max_price=MAX(size_group.retail_price)\n",
      ")\n",
      "\n",
      "# Join the parts with the max prices\n",
      "parts_with_max = parts_info.CALCULATE(\n",
      "    size=size,\n",
      "    name=name,\n",
      "    retail_price=retail_price,\n",
      "    part_type=part_type,\n",
      "    is_max_price=(retail_price == max_price_by_size.WHERE(size == parts_info.size).max_price)\n",
      ")\n",
      "\n",
      "# Filter to only include parts with maximum price for their size\n",
      "max_price_parts = parts_with_max.WHERE(is_max_price)\n",
      "\n",
      "# Get the top 5 largest part sizes\n",
      "largest_parts_by_size = max_price_parts.ORDER_BY(size.DESC()).TOP_K(5, by=size.DESC())\n",
      "```\n",
      "\n",
      "Let me simplify this one more time to make it cleaner:\n",
      "\n",
      "```python\n",
      "# Get all parts with their details\n",
      "parts_with_details = parts.CALCULATE(\n",
      "    size=size,\n",
      "    name=name,\n",
      "    retail_price=retail_price,\n",
      "    part_type=part_type\n",
      ")\n",
      "\n",
      "# Find the maximum retail price for each size\n",
      "size_with_max_price = GROUP_BY(parts_with_details, name=\"p\", by=size).CALCULATE(\n",
      "    size=size,\n",
      "    max_price=MAX(p.retail_price)\n",
      ")\n",
      "\n",
      "# Find parts that have the maximum retail price for their size\n",
      "max_price_parts = parts_with_details.CALCULATE(\n",
      "    size=size,\n",
      "    name=name,\n",
      "    retail_price=retail_price,\n",
      "    part_type=part_type\n",
      ").WHERE(\n",
      "    retail_price == size_with_max_price.WHERE(size == parts_with_details.size).max_price\n",
      ")\n",
      "\n",
      "# Get the top 5 largest part sizes with their highest retail price parts\n",
      "largest_parts_by_size = max_price_parts.ORDER_BY(size.DESC()).TOP_K(5, by=size.DESC())\n",
      "```\n"
     ]
    }
   ],
   "source": [
    "print(corrected_result.full_explanation)"
   ]
  },
  {
   "cell_type": "markdown",
   "metadata": {},
   "source": [
    "Now, print the corrected df.\n",
    "\n",
    "Note: If you get `None`, then the model could not solve the issue. You can try again."
   ]
  },
  {
   "cell_type": "code",
   "execution_count": 22,
   "metadata": {},
   "outputs": [
    {
     "name": "stdout",
     "output_type": "stream",
     "text": [
      "    size  max_price\n",
      "0      1    2085.99\n",
      "1      2    2092.99\n",
      "2      3    2095.99\n",
      "3      4    2089.99\n",
      "4      5    2084.99\n",
      "5      6    2085.99\n",
      "6      7    2082.99\n",
      "7      8    2091.99\n",
      "8      9    2085.99\n",
      "9     10    2094.99\n",
      "10    11    2095.99\n",
      "11    12    2091.99\n",
      "12    13    2090.99\n",
      "13    14    2093.99\n",
      "14    15    2095.99\n",
      "15    16    2092.99\n",
      "16    17    2092.99\n",
      "17    18    2096.99\n",
      "18    19    2095.99\n",
      "19    20    2085.99\n",
      "20    21    2094.99\n",
      "21    22    2093.99\n",
      "22    23    2093.99\n",
      "23    24    2098.99\n",
      "24    25    2092.99\n",
      "25    26    2086.99\n",
      "26    27    2089.99\n",
      "27    28    2092.99\n",
      "28    29    2093.99\n",
      "29    30    2082.98\n",
      "30    31    2093.99\n",
      "31    32    2093.99\n",
      "32    33    2094.99\n",
      "33    34    2096.99\n",
      "34    35    2089.99\n",
      "35    36    2089.99\n",
      "36    37    2096.99\n",
      "37    38    2088.99\n",
      "38    39    2083.99\n",
      "39    40    2089.99\n",
      "40    41    2092.99\n",
      "41    42    2094.99\n",
      "42    43    2090.99\n",
      "43    44    2088.99\n",
      "44    45    2090.99\n",
      "45    46    2081.99\n",
      "46    47    2089.99\n",
      "47    48    2090.99\n",
      "48    49    2097.99\n",
      "49    50    2094.99\n"
     ]
    }
   ],
   "source": [
    "print(corrected_result.df)"
   ]
  }
 ],
 "metadata": {
  "kernelspec": {
   "display_name": "aisuite_deepseek",
   "language": "python",
   "name": "python3"
  },
  "language_info": {
   "codemirror_mode": {
    "name": "ipython",
    "version": 3
   },
   "file_extension": ".py",
   "mimetype": "text/x-python",
   "name": "python",
   "nbconvert_exporter": "python",
   "pygments_lexer": "ipython3",
   "version": "3.12.9"
  }
 },
 "nbformat": 4,
 "nbformat_minor": 2
}
