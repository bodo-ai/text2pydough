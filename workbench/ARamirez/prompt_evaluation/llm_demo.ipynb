{
 "cells": [
  {
   "cell_type": "markdown",
   "metadata": {},
   "source": [
    "# Pydough Demo"
   ]
  },
  {
   "cell_type": "code",
   "execution_count": 1,
   "metadata": {},
   "outputs": [],
   "source": [
    "from llm import LLMClient"
   ]
  },
  {
   "cell_type": "code",
   "execution_count": 2,
   "metadata": {},
   "outputs": [],
   "source": [
    "provider= \"aws\"\n",
    "model = \"us.anthropic.claude-3-7-sonnet-20250219-v1:0\"\n",
    "client = LLMClient(provider, model)"
   ]
  },
  {
   "cell_type": "code",
   "execution_count": 6,
   "metadata": {},
   "outputs": [
    {
     "name": "stdout",
     "output_type": "stream",
     "text": [
      "Pydough code generated: \n",
      " # First, calculate the maximum retail price for each part size\n",
      "max_price_by_size = PARTITION(parts.CALCULATE(size=size, retail_price=retail_price), \n",
      "                            name=\"parts_group\", \n",
      "                            by=size).CALCULATE(\n",
      "    size=size,\n",
      "    max_retail_price=MAX(parts_group.retail_price)\n",
      ")\n",
      "\n",
      "# Then join back to the parts collection to get the part details with the maximum retail price\n",
      "parts_with_max_price = parts.CALCULATE(\n",
      "    size=size,\n",
      "    name=name,\n",
      "    retail_price=retail_price,\n",
      "    part_type=part_type\n",
      ").WHERE(\n",
      "    (size == max_price_by_size.size) & \n",
      "    (retail_price == max_price_by_size.max_retail_price)\n",
      ")\n",
      "\n",
      "# Finally, get the top 5 parts by size\n",
      "largest_parts_by_size = parts_with_max_price.TOP_K(5, by=size.DESC())\n",
      "--------------------------------------------------\n",
      "pydough dataframe: \n",
      " None\n"
     ]
    }
   ],
   "source": [
    "result= client.ask(\"For each of the 5 largest part sizes, find the part of that size with the largest retail price\")\n",
    "print(f\"Pydough code generated: \\n {result.code}\")\n",
    "print(\"-\" * 50)\n",
    "print(f\"pydough dataframe: \\n {result.df}\")"
   ]
  },
  {
   "cell_type": "code",
   "execution_count": 7,
   "metadata": {},
   "outputs": [
    {
     "name": "stdout",
     "output_type": "stream",
     "text": [
      "I'll create a PyDough code snippet to find the part with the largest retail price for each of the 5 largest part sizes.\n",
      "\n",
      "First, I need to:\n",
      "1. Group parts by their size\n",
      "2. For each size, find the part with the largest retail price\n",
      "3. Sort by size in descending order\n",
      "4. Take the top 5 sizes\n",
      "\n",
      "Here's the PyDough code:\n",
      "\n",
      "```python\n",
      "# First, calculate the maximum retail price for each part size\n",
      "max_price_by_size = GROUP_BY(parts.CALCULATE(size=size, retail_price=retail_price), \n",
      "                            name=\"parts_group\", \n",
      "                            by=size).CALCULATE(\n",
      "    size=size,\n",
      "    max_retail_price=MAX(parts_group.retail_price)\n",
      ")\n",
      "\n",
      "# Then join back to the parts collection to get the part details with the maximum retail price\n",
      "parts_with_max_price = parts.CALCULATE(\n",
      "    size=size,\n",
      "    name=name,\n",
      "    retail_price=retail_price,\n",
      "    part_type=part_type\n",
      ").WHERE(\n",
      "    (size == max_price_by_size.size) & \n",
      "    (retail_price == max_price_by_size.max_retail_price)\n",
      ")\n",
      "\n",
      "# Finally, get the top 5 parts by size\n",
      "largest_parts_by_size = parts_with_max_price.TOP_K(5, by=size.DESC())\n",
      "```\n"
     ]
    }
   ],
   "source": [
    "print(result.full_explanation)"
   ]
  },
  {
   "cell_type": "code",
   "execution_count": 8,
   "metadata": {},
   "outputs": [
    {
     "data": {
      "text/plain": [
       "\"An error occurred while processing the code: Unrecognized term of simple table collection 'parts' in graph 'TPCH': 'parts'\""
      ]
     },
     "execution_count": 8,
     "metadata": {},
     "output_type": "execute_result"
    }
   ],
   "source": [
    "result.exception"
   ]
  },
  {
   "cell_type": "code",
   "execution_count": 9,
   "metadata": {},
   "outputs": [],
   "source": [
    "corrected_result = client.correct(result)"
   ]
  },
  {
   "cell_type": "code",
   "execution_count": 10,
   "metadata": {},
   "outputs": [],
   "source": [
    "corrected_result.exception"
   ]
  },
  {
   "cell_type": "code",
   "execution_count": 11,
   "metadata": {},
   "outputs": [
    {
     "data": {
      "text/plain": [
       "'I see the issue with the code. The error message indicates that the collection \\'parts\\' is not recognized in the TPCH graph. Looking at the database structure reference file, I can see that the collection is indeed named \\'parts\\', but there might be an issue with how it\\'s being accessed.\\n\\nLet me fix the code:\\n\\n```python\\n# First, calculate the maximum retail price for each part size\\nparts_with_size = parts.CALCULATE(\\n    size=size,\\n    retail_price=retail_price\\n)\\n\\n# Group by size to find the maximum retail price for each size\\nmax_price_by_size = GROUP_BY(parts_with_size, name=\"parts_group\", by=size).CALCULATE(\\n    size=size,\\n    max_retail_price=MAX(parts_group.retail_price)\\n)\\n\\n# Join back to the parts collection to get the part details with the maximum retail price\\nparts_with_max_price = parts.CALCULATE(\\n    size=size,\\n    name=name,\\n    retail_price=retail_price,\\n    part_type=part_type\\n).WHERE(\\n    retail_price == max_price_by_size.WHERE(size == parts.size).max_retail_price\\n)\\n\\n# Finally, get the top 5 parts by size\\nlargest_parts_by_size = parts_with_max_price.TOP_K(5, by=size.DESC())\\n```\\n\\nHowever, if the \\'parts\\' collection is truly not recognized, we might need to ensure we\\'re using the correct collection name as defined in the database. Let me provide an alternative approach that should work regardless:\\n\\n```python\\n# First, get all parts with their size and retail price\\nall_parts = parts.CALCULATE(\\n    size=size,\\n    retail_price=retail_price,\\n    name=name,\\n    part_type=part_type\\n)\\n\\n# Group by size to find the maximum retail price for each size\\nmax_price_by_size = GROUP_BY(all_parts, name=\"parts_group\", by=size).CALCULATE(\\n    size=size,\\n    max_retail_price=MAX(parts_group.retail_price)\\n)\\n\\n# Filter to get only parts with the maximum retail price for their size\\nparts_with_max_price = all_parts.WHERE(\\n    retail_price == max_price_by_size.WHERE(size == all_parts.size).max_retail_price\\n)\\n\\n# Finally, get the top 5 parts by size\\nlargest_parts_by_size = parts_with_max_price.TOP_K(5, by=size.DESC())\\n```\\n\\nIf the issue persists, it might be that the collection name is different or there\\'s another structural issue with the database. In that case, please provide more information about the actual collection names available in your database.'"
      ]
     },
     "execution_count": 11,
     "metadata": {},
     "output_type": "execute_result"
    }
   ],
   "source": [
    "corrected_result.full_explanation"
   ]
  },
  {
   "cell_type": "code",
   "execution_count": 14,
   "metadata": {},
   "outputs": [
    {
     "data": {
      "text/html": [
       "<div>\n",
       "<style scoped>\n",
       "    .dataframe tbody tr th:only-of-type {\n",
       "        vertical-align: middle;\n",
       "    }\n",
       "\n",
       "    .dataframe tbody tr th {\n",
       "        vertical-align: top;\n",
       "    }\n",
       "\n",
       "    .dataframe thead th {\n",
       "        text-align: right;\n",
       "    }\n",
       "</style>\n",
       "<table border=\"1\" class=\"dataframe\">\n",
       "  <thead>\n",
       "    <tr style=\"text-align: right;\">\n",
       "      <th></th>\n",
       "      <th>size</th>\n",
       "      <th>retail_price</th>\n",
       "      <th>name</th>\n",
       "      <th>part_type</th>\n",
       "    </tr>\n",
       "  </thead>\n",
       "  <tbody>\n",
       "    <tr>\n",
       "      <th>0</th>\n",
       "      <td>7</td>\n",
       "      <td>901.00</td>\n",
       "      <td>goldenrod lavender spring chocolate lace</td>\n",
       "      <td>PROMO BURNISHED COPPER</td>\n",
       "    </tr>\n",
       "    <tr>\n",
       "      <th>1</th>\n",
       "      <td>1</td>\n",
       "      <td>902.00</td>\n",
       "      <td>blush thistle blue yellow saddle</td>\n",
       "      <td>LARGE BRUSHED BRASS</td>\n",
       "    </tr>\n",
       "    <tr>\n",
       "      <th>2</th>\n",
       "      <td>21</td>\n",
       "      <td>903.00</td>\n",
       "      <td>spring green yellow purple cornsilk</td>\n",
       "      <td>STANDARD POLISHED BRASS</td>\n",
       "    </tr>\n",
       "    <tr>\n",
       "      <th>3</th>\n",
       "      <td>14</td>\n",
       "      <td>904.00</td>\n",
       "      <td>cornflower chocolate smoke green pink</td>\n",
       "      <td>SMALL PLATED BRASS</td>\n",
       "    </tr>\n",
       "    <tr>\n",
       "      <th>4</th>\n",
       "      <td>15</td>\n",
       "      <td>905.00</td>\n",
       "      <td>forest brown coral puff cream</td>\n",
       "      <td>STANDARD POLISHED TIN</td>\n",
       "    </tr>\n",
       "    <tr>\n",
       "      <th>...</th>\n",
       "      <td>...</td>\n",
       "      <td>...</td>\n",
       "      <td>...</td>\n",
       "      <td>...</td>\n",
       "    </tr>\n",
       "    <tr>\n",
       "      <th>199995</th>\n",
       "      <td>11</td>\n",
       "      <td>2095.99</td>\n",
       "      <td>cream navajo saddle dodger navy</td>\n",
       "      <td>PROMO PLATED COPPER</td>\n",
       "    </tr>\n",
       "    <tr>\n",
       "      <th>199996</th>\n",
       "      <td>37</td>\n",
       "      <td>2096.99</td>\n",
       "      <td>peru maroon snow grey chartreuse</td>\n",
       "      <td>PROMO PLATED NICKEL</td>\n",
       "    </tr>\n",
       "    <tr>\n",
       "      <th>199997</th>\n",
       "      <td>49</td>\n",
       "      <td>2097.99</td>\n",
       "      <td>pink wheat powder burlywood snow</td>\n",
       "      <td>MEDIUM BURNISHED BRASS</td>\n",
       "    </tr>\n",
       "    <tr>\n",
       "      <th>199998</th>\n",
       "      <td>24</td>\n",
       "      <td>2098.99</td>\n",
       "      <td>goldenrod drab brown salmon mint</td>\n",
       "      <td>PROMO PLATED BRASS</td>\n",
       "    </tr>\n",
       "    <tr>\n",
       "      <th>199999</th>\n",
       "      <td>22</td>\n",
       "      <td>1100.00</td>\n",
       "      <td>peach royal cornsilk sky sandy</td>\n",
       "      <td>MEDIUM ANODIZED TIN</td>\n",
       "    </tr>\n",
       "  </tbody>\n",
       "</table>\n",
       "<p>200000 rows × 4 columns</p>\n",
       "</div>"
      ],
      "text/plain": [
       "        size  retail_price                                      name  \\\n",
       "0          7        901.00  goldenrod lavender spring chocolate lace   \n",
       "1          1        902.00          blush thistle blue yellow saddle   \n",
       "2         21        903.00       spring green yellow purple cornsilk   \n",
       "3         14        904.00     cornflower chocolate smoke green pink   \n",
       "4         15        905.00             forest brown coral puff cream   \n",
       "...      ...           ...                                       ...   \n",
       "199995    11       2095.99           cream navajo saddle dodger navy   \n",
       "199996    37       2096.99          peru maroon snow grey chartreuse   \n",
       "199997    49       2097.99          pink wheat powder burlywood snow   \n",
       "199998    24       2098.99          goldenrod drab brown salmon mint   \n",
       "199999    22       1100.00            peach royal cornsilk sky sandy   \n",
       "\n",
       "                      part_type  \n",
       "0        PROMO BURNISHED COPPER  \n",
       "1           LARGE BRUSHED BRASS  \n",
       "2       STANDARD POLISHED BRASS  \n",
       "3            SMALL PLATED BRASS  \n",
       "4         STANDARD POLISHED TIN  \n",
       "...                         ...  \n",
       "199995      PROMO PLATED COPPER  \n",
       "199996      PROMO PLATED NICKEL  \n",
       "199997   MEDIUM BURNISHED BRASS  \n",
       "199998       PROMO PLATED BRASS  \n",
       "199999      MEDIUM ANODIZED TIN  \n",
       "\n",
       "[200000 rows x 4 columns]"
      ]
     },
     "execution_count": 14,
     "metadata": {},
     "output_type": "execute_result"
    }
   ],
   "source": [
    "corrected_result.df"
   ]
  }
 ],
 "metadata": {
  "kernelspec": {
   "display_name": "aisuite_deepseek",
   "language": "python",
   "name": "python3"
  },
  "language_info": {
   "codemirror_mode": {
    "name": "ipython",
    "version": 3
   },
   "file_extension": ".py",
   "mimetype": "text/x-python",
   "name": "python",
   "nbconvert_exporter": "python",
   "pygments_lexer": "ipython3",
   "version": "3.12.9"
  }
 },
 "nbformat": 4,
 "nbformat_minor": 2
}
