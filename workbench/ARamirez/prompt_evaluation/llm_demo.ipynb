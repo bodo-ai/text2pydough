{
 "cells": [
  {
   "cell_type": "markdown",
   "metadata": {},
   "source": [
    "# Pydough Demo"
   ]
  },
  {
   "cell_type": "code",
   "execution_count": 1,
   "metadata": {},
   "outputs": [],
   "source": [
    "from llm import LLMClient"
   ]
  },
  {
   "cell_type": "code",
   "execution_count": 2,
   "metadata": {},
   "outputs": [],
   "source": [
    "provider= \"aws\"\n",
    "model = \"us.anthropic.claude-3-7-sonnet-20250219-v1:0\"\n",
    "client = LLMClient(provider, model)"
   ]
  },
  {
   "cell_type": "code",
   "execution_count": 3,
   "metadata": {},
   "outputs": [
    {
     "name": "stdout",
     "output_type": "stream",
     "text": [
      "Pydough code generated: \n",
      " # First, calculate the maximum retail price for each part size\n",
      "max_price_by_size = PARTITION(parts.CALCULATE(size=size, retail_price=retail_price), \n",
      "                            name=\"parts_group\", \n",
      "                            by=size).CALCULATE(\n",
      "    size=size,\n",
      "    max_retail_price=MAX(parts_group.retail_price)\n",
      ")\n",
      "\n",
      "# Join back to the parts collection to get the part details with the maximum retail price\n",
      "parts_with_max_price = parts.CALCULATE(\n",
      "    size=size,\n",
      "    name=name,\n",
      "    retail_price=retail_price,\n",
      "    part_key=key\n",
      ").WHERE(\n",
      "    (size == max_price_by_size.size) & \n",
      "    (retail_price == max_price_by_size.max_retail_price)\n",
      ")\n",
      "\n",
      "# Get the top 5 largest part sizes with their highest retail price parts\n",
      "largest_parts_by_size = parts_with_max_price.ORDER_BY(\n",
      "    size.DESC()\n",
      ").TOP_K(5, by=size.DESC())\n",
      "--------------------------------------------------\n",
      "pydough dataframe: \n",
      " None\n"
     ]
    }
   ],
   "source": [
    "result= client.ask(\"For each of the 5 largest part sizes, find the part of that size with the largest retail price\")\n",
    "print(f\"Pydough code generated: \\n {result.code}\")\n",
    "print(\"-\" * 50)\n",
    "print(f\"pydough dataframe: \\n {result.df}\")"
   ]
  },
  {
   "cell_type": "code",
   "execution_count": 6,
   "metadata": {},
   "outputs": [
    {
     "name": "stdout",
     "output_type": "stream",
     "text": [
      "I'll analyze this request and create a PyDough code snippet to find the part with the largest retail price for each of the 5 largest part sizes.\n",
      "\n",
      "First, I need to:\n",
      "1. Group parts by their size\n",
      "2. For each size, find the part with the highest retail price\n",
      "3. Sort by part size in descending order\n",
      "4. Take only the top 5 sizes\n",
      "\n",
      "Here's the PyDough code to accomplish this:\n",
      "\n",
      "```python\n",
      "# First, calculate the maximum retail price for each part size\n",
      "max_price_by_size = GROUP_BY(parts.CALCULATE(size=size, retail_price=retail_price), \n",
      "                            name=\"parts_group\", \n",
      "                            by=size).CALCULATE(\n",
      "    size=size,\n",
      "    max_retail_price=MAX(parts_group.retail_price)\n",
      ")\n",
      "\n",
      "# Join back to the parts collection to get the part details with the maximum retail price\n",
      "parts_with_max_price = parts.CALCULATE(\n",
      "    size=size,\n",
      "    name=name,\n",
      "    retail_price=retail_price,\n",
      "    part_key=key\n",
      ").WHERE(\n",
      "    (size == max_price_by_size.size) & \n",
      "    (retail_price == max_price_by_size.max_retail_price)\n",
      ")\n",
      "\n",
      "# Get the top 5 largest part sizes with their highest retail price parts\n",
      "largest_parts_by_size = parts_with_max_price.ORDER_BY(\n",
      "    size.DESC()\n",
      ").TOP_K(5, by=size.DESC())\n",
      "```\n"
     ]
    }
   ],
   "source": [
    "print(result.full_explanation)"
   ]
  }
 ],
 "metadata": {
  "kernelspec": {
   "display_name": "aisuite_deepseek",
   "language": "python",
   "name": "python3"
  },
  "language_info": {
   "codemirror_mode": {
    "name": "ipython",
    "version": 3
   },
   "file_extension": ".py",
   "mimetype": "text/x-python",
   "name": "python",
   "nbconvert_exporter": "python",
   "pygments_lexer": "ipython3",
   "version": "3.12.9"
  }
 },
 "nbformat": 4,
 "nbformat_minor": 2
}
