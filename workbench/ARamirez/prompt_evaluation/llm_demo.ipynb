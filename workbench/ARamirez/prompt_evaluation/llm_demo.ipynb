{
 "cells": [
  {
   "cell_type": "markdown",
   "metadata": {},
   "source": [
    "# Pydough Demo"
   ]
  },
  {
   "cell_type": "code",
   "execution_count": 1,
   "metadata": {},
   "outputs": [],
   "source": [
    "from llm import LLMClient"
   ]
  },
  {
   "cell_type": "code",
   "execution_count": 2,
   "metadata": {},
   "outputs": [],
   "source": [
    "provider= \"aws\"\n",
    "model = \"us.anthropic.claude-3-7-sonnet-20250219-v1:0\"\n",
    "client = LLMClient(provider, model)"
   ]
  },
  {
   "cell_type": "code",
   "execution_count": 8,
   "metadata": {},
   "outputs": [
    {
     "name": "stdout",
     "output_type": "stream",
     "text": [
      "Pydough code generated: \n",
      " # Find the 10 customers with the highest account balances\n",
      "top_10_customers = customers.CALCULATE(\n",
      "    key,\n",
      "    name,\n",
      "    acctbal\n",
      ").TOP_K(10, by=acctbal.DESC())\n",
      "--------------------------------------------------\n"
     ]
    },
    {
     "data": {
      "text/html": [
       "<div>\n",
       "<style scoped>\n",
       "    .dataframe tbody tr th:only-of-type {\n",
       "        vertical-align: middle;\n",
       "    }\n",
       "\n",
       "    .dataframe tbody tr th {\n",
       "        vertical-align: top;\n",
       "    }\n",
       "\n",
       "    .dataframe thead th {\n",
       "        text-align: right;\n",
       "    }\n",
       "</style>\n",
       "<table border=\"1\" class=\"dataframe\">\n",
       "  <thead>\n",
       "    <tr style=\"text-align: right;\">\n",
       "      <th></th>\n",
       "      <th>key</th>\n",
       "      <th>name</th>\n",
       "      <th>acctbal</th>\n",
       "    </tr>\n",
       "  </thead>\n",
       "  <tbody>\n",
       "    <tr>\n",
       "      <th>0</th>\n",
       "      <td>61453</td>\n",
       "      <td>Customer#000061453</td>\n",
       "      <td>9999.99</td>\n",
       "    </tr>\n",
       "    <tr>\n",
       "      <th>1</th>\n",
       "      <td>69321</td>\n",
       "      <td>Customer#000069321</td>\n",
       "      <td>9999.96</td>\n",
       "    </tr>\n",
       "    <tr>\n",
       "      <th>2</th>\n",
       "      <td>144232</td>\n",
       "      <td>Customer#000144232</td>\n",
       "      <td>9999.74</td>\n",
       "    </tr>\n",
       "    <tr>\n",
       "      <th>3</th>\n",
       "      <td>2487</td>\n",
       "      <td>Customer#000002487</td>\n",
       "      <td>9999.72</td>\n",
       "    </tr>\n",
       "    <tr>\n",
       "      <th>4</th>\n",
       "      <td>23828</td>\n",
       "      <td>Customer#000023828</td>\n",
       "      <td>9999.64</td>\n",
       "    </tr>\n",
       "    <tr>\n",
       "      <th>5</th>\n",
       "      <td>129934</td>\n",
       "      <td>Customer#000129934</td>\n",
       "      <td>9999.59</td>\n",
       "    </tr>\n",
       "    <tr>\n",
       "      <th>6</th>\n",
       "      <td>43044</td>\n",
       "      <td>Customer#000043044</td>\n",
       "      <td>9999.49</td>\n",
       "    </tr>\n",
       "    <tr>\n",
       "      <th>7</th>\n",
       "      <td>63655</td>\n",
       "      <td>Customer#000063655</td>\n",
       "      <td>9999.47</td>\n",
       "    </tr>\n",
       "    <tr>\n",
       "      <th>8</th>\n",
       "      <td>15980</td>\n",
       "      <td>Customer#000015980</td>\n",
       "      <td>9999.23</td>\n",
       "    </tr>\n",
       "    <tr>\n",
       "      <th>9</th>\n",
       "      <td>76146</td>\n",
       "      <td>Customer#000076146</td>\n",
       "      <td>9999.23</td>\n",
       "    </tr>\n",
       "  </tbody>\n",
       "</table>\n",
       "</div>"
      ],
      "text/plain": [
       "      key                name  acctbal\n",
       "0   61453  Customer#000061453  9999.99\n",
       "1   69321  Customer#000069321  9999.96\n",
       "2  144232  Customer#000144232  9999.74\n",
       "3    2487  Customer#000002487  9999.72\n",
       "4   23828  Customer#000023828  9999.64\n",
       "5  129934  Customer#000129934  9999.59\n",
       "6   43044  Customer#000043044  9999.49\n",
       "7   63655  Customer#000063655  9999.47\n",
       "8   15980  Customer#000015980  9999.23\n",
       "9   76146  Customer#000076146  9999.23"
      ]
     },
     "execution_count": 8,
     "metadata": {},
     "output_type": "execute_result"
    }
   ],
   "source": [
    "pydough_code, pydough_df= client.ask(\"Find the 10 customers with the highest balances\")\n",
    "print(f\"Pydough code generated: \\n {pydough_code}\")\n",
    "print(\"-\" * 50)\n",
    "pydough_df"
   ]
  },
  {
   "cell_type": "code",
   "execution_count": 5,
   "metadata": {},
   "outputs": [
    {
     "name": "stdout",
     "output_type": "stream",
     "text": [
      "Pydough code generated: \n",
      " # Calculate the number of orders placed by customers in each nation in 1995\n",
      "nation_order_counts = nations.CALCULATE(\n",
      "    nation_name=name,\n",
      "    order_count=COUNT(customers.orders.WHERE(YEAR(order_date) == 1995))\n",
      ")\n",
      "\n",
      "# Get the top 5 nations with the highest order counts\n",
      "top_5_nations = nation_order_counts.TOP_K(5, by=order_count.DESC())\n",
      "--------------------------------------------------\n"
     ]
    },
    {
     "data": {
      "text/html": [
       "<div>\n",
       "<style scoped>\n",
       "    .dataframe tbody tr th:only-of-type {\n",
       "        vertical-align: middle;\n",
       "    }\n",
       "\n",
       "    .dataframe tbody tr th {\n",
       "        vertical-align: top;\n",
       "    }\n",
       "\n",
       "    .dataframe thead th {\n",
       "        text-align: right;\n",
       "    }\n",
       "</style>\n",
       "<table border=\"1\" class=\"dataframe\">\n",
       "  <thead>\n",
       "    <tr style=\"text-align: right;\">\n",
       "      <th></th>\n",
       "      <th>nation_name</th>\n",
       "      <th>order_count</th>\n",
       "    </tr>\n",
       "  </thead>\n",
       "  <tbody>\n",
       "    <tr>\n",
       "      <th>0</th>\n",
       "      <td>RUSSIA</td>\n",
       "      <td>9391</td>\n",
       "    </tr>\n",
       "    <tr>\n",
       "      <th>1</th>\n",
       "      <td>MOZAMBIQUE</td>\n",
       "      <td>9333</td>\n",
       "    </tr>\n",
       "    <tr>\n",
       "      <th>2</th>\n",
       "      <td>INDONESIA</td>\n",
       "      <td>9299</td>\n",
       "    </tr>\n",
       "    <tr>\n",
       "      <th>3</th>\n",
       "      <td>FRANCE</td>\n",
       "      <td>9284</td>\n",
       "    </tr>\n",
       "    <tr>\n",
       "      <th>4</th>\n",
       "      <td>ROMANIA</td>\n",
       "      <td>9283</td>\n",
       "    </tr>\n",
       "  </tbody>\n",
       "</table>\n",
       "</div>"
      ],
      "text/plain": [
       "  nation_name  order_count\n",
       "0      RUSSIA         9391\n",
       "1  MOZAMBIQUE         9333\n",
       "2   INDONESIA         9299\n",
       "3      FRANCE         9284\n",
       "4     ROMANIA         9283"
      ]
     },
     "execution_count": 5,
     "metadata": {},
     "output_type": "execute_result"
    }
   ],
   "source": [
    "pydough_code, pydough_df= client.ask(\"Find the top 5 nations with the highest number of orders placed by their customers in 1995.\")\n",
    "print(f\"Pydough code generated: \\n {pydough_code}\")\n",
    "print(\"-\" * 50)\n",
    "pydough_df"
   ]
  },
  {
   "cell_type": "code",
   "execution_count": 6,
   "metadata": {},
   "outputs": [
    {
     "name": "stdout",
     "output_type": "stream",
     "text": [
      "Pydough code generated: \n",
      " # COUNT distinct customers per region\n",
      "region_customer_counts = regions.CALCULATE(\n",
      "    region_name=name,\n",
      "    distinct_customers=COUNT(nations.customers)\n",
      ").TOP_K(3, by=distinct_customers.DESC())\n",
      "--------------------------------------------------\n"
     ]
    },
    {
     "data": {
      "text/html": [
       "<div>\n",
       "<style scoped>\n",
       "    .dataframe tbody tr th:only-of-type {\n",
       "        vertical-align: middle;\n",
       "    }\n",
       "\n",
       "    .dataframe tbody tr th {\n",
       "        vertical-align: top;\n",
       "    }\n",
       "\n",
       "    .dataframe thead th {\n",
       "        text-align: right;\n",
       "    }\n",
       "</style>\n",
       "<table border=\"1\" class=\"dataframe\">\n",
       "  <thead>\n",
       "    <tr style=\"text-align: right;\">\n",
       "      <th></th>\n",
       "      <th>region_name</th>\n",
       "      <th>distinct_customers</th>\n",
       "    </tr>\n",
       "  </thead>\n",
       "  <tbody>\n",
       "    <tr>\n",
       "      <th>0</th>\n",
       "      <td>EUROPE</td>\n",
       "      <td>30197</td>\n",
       "    </tr>\n",
       "    <tr>\n",
       "      <th>1</th>\n",
       "      <td>ASIA</td>\n",
       "      <td>30183</td>\n",
       "    </tr>\n",
       "    <tr>\n",
       "      <th>2</th>\n",
       "      <td>AMERICA</td>\n",
       "      <td>29952</td>\n",
       "    </tr>\n",
       "  </tbody>\n",
       "</table>\n",
       "</div>"
      ],
      "text/plain": [
       "  region_name  distinct_customers\n",
       "0      EUROPE               30197\n",
       "1        ASIA               30183\n",
       "2     AMERICA               29952"
      ]
     },
     "execution_count": 6,
     "metadata": {},
     "output_type": "execute_result"
    }
   ],
   "source": [
    "pydough_code, pydough_df= client.ask(\"Find the top 3 regions with the most distinct customers\")\n",
    "print(f\"Pydough code generated: \\n {pydough_code}\")\n",
    "print(\"-\" * 50)\n",
    "pydough_df"
   ]
  },
  {
   "cell_type": "code",
   "execution_count": 7,
   "metadata": {},
   "outputs": [
    {
     "name": "stdout",
     "output_type": "stream",
     "text": [
      "Pydough code generated: \n",
      " # Filter orders from 1996 and calculate potential revenue for each line\n",
      "orders_1996 = orders.WHERE(YEAR(order_date) == 1996)\n",
      "lines_1996 = orders_1996.lines.CALCULATE(\n",
      "    potential_revenue=extended_price * (1 - discount)\n",
      ")\n",
      "\n",
      "# Calculate total potential revenue by region\n",
      "region_revenue = regions.CALCULATE(\n",
      "    region_name=name,\n",
      "    total_revenue=SUM(nations.customers.orders.WHERE(YEAR(order_date) == 1996).lines.extended_price * (1 - nations.customers.orders.WHERE(YEAR(order_date) == 1996).lines.discount))\n",
      ")\n",
      "\n",
      "# Find the region with the highest total revenue\n",
      "highest_revenue_region = region_revenue.TOP_K(1, by=total_revenue.DESC())\n",
      "--------------------------------------------------\n"
     ]
    },
    {
     "data": {
      "text/html": [
       "<div>\n",
       "<style scoped>\n",
       "    .dataframe tbody tr th:only-of-type {\n",
       "        vertical-align: middle;\n",
       "    }\n",
       "\n",
       "    .dataframe tbody tr th {\n",
       "        vertical-align: top;\n",
       "    }\n",
       "\n",
       "    .dataframe thead th {\n",
       "        text-align: right;\n",
       "    }\n",
       "</style>\n",
       "<table border=\"1\" class=\"dataframe\">\n",
       "  <thead>\n",
       "    <tr style=\"text-align: right;\">\n",
       "      <th></th>\n",
       "      <th>region_name</th>\n",
       "      <th>total_revenue</th>\n",
       "    </tr>\n",
       "  </thead>\n",
       "  <tbody>\n",
       "    <tr>\n",
       "      <th>0</th>\n",
       "      <td>EUROPE</td>\n",
       "      <td>6.746079e+09</td>\n",
       "    </tr>\n",
       "  </tbody>\n",
       "</table>\n",
       "</div>"
      ],
      "text/plain": [
       "  region_name  total_revenue\n",
       "0      EUROPE   6.746079e+09"
      ]
     },
     "execution_count": 7,
     "metadata": {},
     "output_type": "execute_result"
    }
   ],
   "source": [
    "pydough_code, pydough_df= client.ask(\"Find the region name with the highest total order value in 1996. The total order value is defined as potential revenue, defined as the sum of extended_price * (1 - discount)\")\n",
    "print(f\"Pydough code generated: \\n {pydough_code}\")\n",
    "print(\"-\" * 50)\n",
    "pydough_df"
   ]
  },
  {
   "cell_type": "code",
   "execution_count": 9,
   "metadata": {},
   "outputs": [
    {
     "name": "stdout",
     "output_type": "stream",
     "text": [
      "ERROR WHILE EXECUTING QUERY:\n",
      "SELECT\n",
      "FROM (VALUES\n",
      "  (NULL))\n"
     ]
    },
    {
     "ename": "PydoughCodeError",
     "evalue": "An error occurred while asking the llm: An error occurred while processing the code: near \"FROM\": syntax error",
     "output_type": "error",
     "traceback": [
      "\u001b[0;31m---------------------------------------------------------------------------\u001b[0m",
      "\u001b[0;31mOperationalError\u001b[0m                          Traceback (most recent call last)",
      "File \u001b[0;32m~/github-bodo/text2pydough/workbench/ARamirez/prompt_evaluation/llm.py:123\u001b[0m, in \u001b[0;36mLLMClient.get_pydough_code\u001b[0;34m(self, text)\u001b[0m\n\u001b[1;32m    122\u001b[0m last_variable \u001b[38;5;241m=\u001b[39m \u001b[38;5;28mlist\u001b[39m(local_env\u001b[38;5;241m.\u001b[39mvalues())[\u001b[38;5;241m-\u001b[39m\u001b[38;5;241m1\u001b[39m]\n\u001b[0;32m--> 123\u001b[0m result_df \u001b[38;5;241m=\u001b[39m \u001b[43mpydough\u001b[49m\u001b[38;5;241;43m.\u001b[39;49m\u001b[43mto_df\u001b[49m\u001b[43m(\u001b[49m\u001b[43mlast_variable\u001b[49m\u001b[43m)\u001b[49m\n\u001b[1;32m    124\u001b[0m \u001b[38;5;28;01mreturn\u001b[39;00m extracted_code, result_df\n",
      "File \u001b[0;32m~/miniconda3/envs/aisuite_deepseek/lib/python3.12/site-packages/pydough/evaluation/evaluate_unqualified.py:173\u001b[0m, in \u001b[0;36mto_df\u001b[0;34m(node, **kwargs)\u001b[0m\n\u001b[1;32m    170\u001b[0m relational: RelationalRoot \u001b[38;5;241m=\u001b[39m convert_ast_to_relational(\n\u001b[1;32m    171\u001b[0m     qualified, column_selection, config\n\u001b[1;32m    172\u001b[0m )\n\u001b[0;32m--> 173\u001b[0m \u001b[38;5;28;01mreturn\u001b[39;00m \u001b[43mexecute_df\u001b[49m\u001b[43m(\u001b[49m\u001b[43mrelational\u001b[49m\u001b[43m,\u001b[49m\u001b[43m \u001b[49m\u001b[43mdatabase\u001b[49m\u001b[43m,\u001b[49m\u001b[43m \u001b[49m\u001b[43mbindings\u001b[49m\u001b[43m,\u001b[49m\u001b[43m \u001b[49m\u001b[43mdisplay_sql\u001b[49m\u001b[43m)\u001b[49m\n",
      "File \u001b[0;32m~/miniconda3/envs/aisuite_deepseek/lib/python3.12/site-packages/pydough/sqlglot/execute_relational.py:94\u001b[0m, in \u001b[0;36mexecute_df\u001b[0;34m(relational, ctx, bindings, display_sql)\u001b[0m\n\u001b[1;32m     93\u001b[0m     pyd_logger\u001b[38;5;241m.\u001b[39minfo(\u001b[38;5;124mf\u001b[39m\u001b[38;5;124m\"\u001b[39m\u001b[38;5;124mSQL query:\u001b[39m\u001b[38;5;130;01m\\n\u001b[39;00m\u001b[38;5;124m \u001b[39m\u001b[38;5;132;01m{\u001b[39;00msql\u001b[38;5;132;01m}\u001b[39;00m\u001b[38;5;124m\"\u001b[39m)\n\u001b[0;32m---> 94\u001b[0m \u001b[38;5;28;01mreturn\u001b[39;00m \u001b[43mctx\u001b[49m\u001b[38;5;241;43m.\u001b[39;49m\u001b[43mconnection\u001b[49m\u001b[38;5;241;43m.\u001b[39;49m\u001b[43mexecute_query_df\u001b[49m\u001b[43m(\u001b[49m\u001b[43msql\u001b[49m\u001b[43m)\u001b[49m\n",
      "File \u001b[0;32m~/miniconda3/envs/aisuite_deepseek/lib/python3.12/site-packages/pydough/database_connectors/database_connector.py:50\u001b[0m, in \u001b[0;36mDatabaseConnection.execute_query_df\u001b[0;34m(self, sql)\u001b[0m\n\u001b[1;32m     49\u001b[0m     \u001b[38;5;28mprint\u001b[39m(\u001b[38;5;124mf\u001b[39m\u001b[38;5;124m\"\u001b[39m\u001b[38;5;124mERROR WHILE EXECUTING QUERY:\u001b[39m\u001b[38;5;130;01m\\n\u001b[39;00m\u001b[38;5;132;01m{\u001b[39;00msql\u001b[38;5;132;01m}\u001b[39;00m\u001b[38;5;124m\"\u001b[39m)\n\u001b[0;32m---> 50\u001b[0m     \u001b[38;5;28;01mraise\u001b[39;00m e\n\u001b[1;32m     51\u001b[0m column_names: \u001b[38;5;28mlist\u001b[39m[\u001b[38;5;28mstr\u001b[39m] \u001b[38;5;241m=\u001b[39m [description[\u001b[38;5;241m0\u001b[39m] \u001b[38;5;28;01mfor\u001b[39;00m description \u001b[38;5;129;01min\u001b[39;00m cursor\u001b[38;5;241m.\u001b[39mdescription]\n",
      "File \u001b[0;32m~/miniconda3/envs/aisuite_deepseek/lib/python3.12/site-packages/pydough/database_connectors/database_connector.py:47\u001b[0m, in \u001b[0;36mDatabaseConnection.execute_query_df\u001b[0;34m(self, sql)\u001b[0m\n\u001b[1;32m     46\u001b[0m \u001b[38;5;28;01mtry\u001b[39;00m:\n\u001b[0;32m---> 47\u001b[0m     \u001b[43mcursor\u001b[49m\u001b[38;5;241;43m.\u001b[39;49m\u001b[43mexecute\u001b[49m\u001b[43m(\u001b[49m\u001b[43msql\u001b[49m\u001b[43m)\u001b[49m\n\u001b[1;32m     48\u001b[0m \u001b[38;5;28;01mexcept\u001b[39;00m sqlite3\u001b[38;5;241m.\u001b[39mOperationalError \u001b[38;5;28;01mas\u001b[39;00m e:\n",
      "\u001b[0;31mOperationalError\u001b[0m: near \"FROM\": syntax error",
      "\nDuring handling of the above exception, another exception occurred:\n",
      "\u001b[0;31mPydoughCodeError\u001b[0m                          Traceback (most recent call last)",
      "File \u001b[0;32m~/github-bodo/text2pydough/workbench/ARamirez/prompt_evaluation/llm.py:138\u001b[0m, in \u001b[0;36mLLMClient.ask\u001b[0;34m(self, question)\u001b[0m\n\u001b[1;32m    132\u001b[0m response \u001b[38;5;241m=\u001b[39m \u001b[38;5;28mself\u001b[39m\u001b[38;5;241m.\u001b[39mclient\u001b[38;5;241m.\u001b[39mchat\u001b[38;5;241m.\u001b[39mcompletions\u001b[38;5;241m.\u001b[39mcreate(\n\u001b[1;32m    133\u001b[0m     model\u001b[38;5;241m=\u001b[39m\u001b[38;5;124mf\u001b[39m\u001b[38;5;124m\"\u001b[39m\u001b[38;5;132;01m{\u001b[39;00m\u001b[38;5;28mself\u001b[39m\u001b[38;5;241m.\u001b[39mprovider\u001b[38;5;132;01m}\u001b[39;00m\u001b[38;5;124m:\u001b[39m\u001b[38;5;132;01m{\u001b[39;00m\u001b[38;5;28mself\u001b[39m\u001b[38;5;241m.\u001b[39mmodel\u001b[38;5;132;01m}\u001b[39;00m\u001b[38;5;124m\"\u001b[39m,\n\u001b[1;32m    134\u001b[0m     messages\u001b[38;5;241m=\u001b[39mmessages,\n\u001b[1;32m    135\u001b[0m     temperature\u001b[38;5;241m=\u001b[39m\u001b[38;5;241m0.0\u001b[39m\n\u001b[1;32m    136\u001b[0m )\n\u001b[0;32m--> 138\u001b[0m code,pydough_df\u001b[38;5;241m=\u001b[39m \u001b[38;5;28;43mself\u001b[39;49m\u001b[38;5;241;43m.\u001b[39;49m\u001b[43mget_pydough_code\u001b[49m\u001b[43m(\u001b[49m\u001b[43mresponse\u001b[49m\u001b[38;5;241;43m.\u001b[39;49m\u001b[43mchoices\u001b[49m\u001b[43m[\u001b[49m\u001b[38;5;241;43m0\u001b[39;49m\u001b[43m]\u001b[49m\u001b[38;5;241;43m.\u001b[39;49m\u001b[43mmessage\u001b[49m\u001b[38;5;241;43m.\u001b[39;49m\u001b[43mcontent\u001b[49m\u001b[43m)\u001b[49m\n\u001b[1;32m    139\u001b[0m \u001b[38;5;28;01mreturn\u001b[39;00m code, pydough_df\n",
      "File \u001b[0;32m~/github-bodo/text2pydough/workbench/ARamirez/prompt_evaluation/llm.py:126\u001b[0m, in \u001b[0;36mLLMClient.get_pydough_code\u001b[0;34m(self, text)\u001b[0m\n\u001b[1;32m    125\u001b[0m \u001b[38;5;28;01mexcept\u001b[39;00m \u001b[38;5;167;01mException\u001b[39;00m \u001b[38;5;28;01mas\u001b[39;00m e:\n\u001b[0;32m--> 126\u001b[0m    \u001b[38;5;28;01mraise\u001b[39;00m PydoughCodeError(\u001b[38;5;124mf\u001b[39m\u001b[38;5;124m\"\u001b[39m\u001b[38;5;124mAn error occurred while processing the code: \u001b[39m\u001b[38;5;132;01m{\u001b[39;00m\u001b[38;5;28mstr\u001b[39m(e)\u001b[38;5;132;01m}\u001b[39;00m\u001b[38;5;124m\"\u001b[39m)\n",
      "\u001b[0;31mPydoughCodeError\u001b[0m: An error occurred while processing the code: near \"FROM\": syntax error",
      "\nDuring handling of the above exception, another exception occurred:\n",
      "\u001b[0;31mPydoughCodeError\u001b[0m                          Traceback (most recent call last)",
      "Cell \u001b[0;32mIn[9], line 1\u001b[0m\n\u001b[0;32m----> 1\u001b[0m pydough_code, pydough_df\u001b[38;5;241m=\u001b[39m \u001b[43mclient\u001b[49m\u001b[38;5;241;43m.\u001b[39;49m\u001b[43mask\u001b[49m\u001b[43m(\u001b[49m\u001b[38;5;124;43m\"\u001b[39;49m\u001b[38;5;124;43mFind the number of repairs by country\u001b[39;49m\u001b[38;5;124;43m\"\u001b[39;49m\u001b[43m)\u001b[49m\n\u001b[1;32m      2\u001b[0m \u001b[38;5;28mprint\u001b[39m(\u001b[38;5;124mf\u001b[39m\u001b[38;5;124m\"\u001b[39m\u001b[38;5;124mPydough code generated: \u001b[39m\u001b[38;5;130;01m\\n\u001b[39;00m\u001b[38;5;124m \u001b[39m\u001b[38;5;132;01m{\u001b[39;00mpydough_code\u001b[38;5;132;01m}\u001b[39;00m\u001b[38;5;124m\"\u001b[39m)\n\u001b[1;32m      3\u001b[0m \u001b[38;5;28mprint\u001b[39m(\u001b[38;5;124m\"\u001b[39m\u001b[38;5;124m-\u001b[39m\u001b[38;5;124m\"\u001b[39m \u001b[38;5;241m*\u001b[39m \u001b[38;5;241m50\u001b[39m)\n",
      "File \u001b[0;32m~/github-bodo/text2pydough/workbench/ARamirez/prompt_evaluation/llm.py:141\u001b[0m, in \u001b[0;36mLLMClient.ask\u001b[0;34m(self, question)\u001b[0m\n\u001b[1;32m    139\u001b[0m     \u001b[38;5;28;01mreturn\u001b[39;00m code, pydough_df\n\u001b[1;32m    140\u001b[0m \u001b[38;5;28;01mexcept\u001b[39;00m \u001b[38;5;167;01mException\u001b[39;00m \u001b[38;5;28;01mas\u001b[39;00m e:\n\u001b[0;32m--> 141\u001b[0m     \u001b[38;5;28;01mraise\u001b[39;00m PydoughCodeError(\u001b[38;5;124mf\u001b[39m\u001b[38;5;124m\"\u001b[39m\u001b[38;5;124mAn error occurred while asking the llm: \u001b[39m\u001b[38;5;132;01m{\u001b[39;00m\u001b[38;5;28mstr\u001b[39m(e)\u001b[38;5;132;01m}\u001b[39;00m\u001b[38;5;124m\"\u001b[39m)\n",
      "\u001b[0;31mPydoughCodeError\u001b[0m: An error occurred while asking the llm: An error occurred while processing the code: near \"FROM\": syntax error"
     ]
    }
   ],
   "source": [
    "pydough_code, pydough_df= client.ask(\"Find the number of repairs by country\")\n",
    "print(f\"Pydough code generated: \\n {pydough_code}\")\n",
    "print(\"-\" * 50)\n",
    "pydough_df"
   ]
  },
  {
   "cell_type": "code",
   "execution_count": null,
   "metadata": {},
   "outputs": [],
   "source": []
  }
 ],
 "metadata": {
  "kernelspec": {
   "display_name": "Python 3 (ipykernel)",
   "language": "python",
   "name": "python3"
  },
  "language_info": {
   "codemirror_mode": {
    "name": "ipython",
    "version": 3
   },
   "file_extension": ".py",
   "mimetype": "text/x-python",
   "name": "python",
   "nbconvert_exporter": "python",
   "pygments_lexer": "ipython3",
   "version": "3.12.9"
  }
 },
 "nbformat": 4,
 "nbformat_minor": 4
}
