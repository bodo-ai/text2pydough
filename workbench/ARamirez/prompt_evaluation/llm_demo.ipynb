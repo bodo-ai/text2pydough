{
 "cells": [
  {
   "cell_type": "markdown",
   "metadata": {},
   "source": [
    "# Pydough Demo"
   ]
  },
  {
   "cell_type": "code",
   "execution_count": 1,
   "metadata": {},
   "outputs": [],
   "source": [
    "from llm import LLMClient"
   ]
  },
  {
   "cell_type": "code",
   "execution_count": 2,
   "metadata": {},
   "outputs": [],
   "source": [
    "provider= \"aws\"\n",
    "model = \"us.anthropic.claude-3-7-sonnet-20250219-v1:0\"\n",
    "client = LLMClient(provider, model)"
   ]
  },
  {
   "cell_type": "code",
   "execution_count": 5,
   "metadata": {},
   "outputs": [
    {
     "name": "stdout",
     "output_type": "stream",
     "text": [
      "Pydough code generated: \n",
      " # Find the 10 customers with the highest account balance\n",
      "top_10_customers = customers.CALCULATE(\n",
      "    key,\n",
      "    name,\n",
      "    acctbal,\n",
      "    nation=nation.name\n",
      ").TOP_K(10, by=acctbal.DESC())\n",
      "--------------------------------------------------\n",
      "pydough dataframe:       key                name  acctbal         nation\n",
      "0   61453  Customer#000061453  9999.99        MOROCCO\n",
      "1   69321  Customer#000069321  9999.96        MOROCCO\n",
      "2  144232  Customer#000144232  9999.74        GERMANY\n",
      "3    2487  Customer#000002487  9999.72  UNITED STATES\n",
      "4   23828  Customer#000023828  9999.64     MOZAMBIQUE\n",
      "5  129934  Customer#000129934  9999.59       ETHIOPIA\n",
      "6   43044  Customer#000043044  9999.49         BRAZIL\n",
      "7   63655  Customer#000063655  9999.47        ROMANIA\n",
      "8   15980  Customer#000015980  9999.23     MOZAMBIQUE\n",
      "9   76146  Customer#000076146  9999.23           PERU\n"
     ]
    }
   ],
   "source": [
    "pydough_code, pydough_df= client.ask(\"Find the 10 customer with the highest balance\")\n",
    "print(f\"Pydough code generated: \\n {pydough_code}\")\n",
    "print(\"-\" * 50)\n",
    "print(f\"pydough dataframe: {pydough_df}\")"
   ]
  }
 ],
 "metadata": {
  "kernelspec": {
   "display_name": "aisuite_deepseek",
   "language": "python",
   "name": "python3"
  },
  "language_info": {
   "codemirror_mode": {
    "name": "ipython",
    "version": 3
   },
   "file_extension": ".py",
   "mimetype": "text/x-python",
   "name": "python",
   "nbconvert_exporter": "python",
   "pygments_lexer": "ipython3",
   "version": "3.12.9"
  }
 },
 "nbformat": 4,
 "nbformat_minor": 2
}
