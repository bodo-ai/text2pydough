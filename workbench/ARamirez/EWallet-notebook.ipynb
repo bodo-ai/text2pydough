{
 "cells": [
  {
   "cell_type": "markdown",
   "metadata": {},
   "source": [
    "Initial notebook for teaching purposes with SQL + PyDough\n",
    "\n",
    "This notebook uses TPC-H schema metadata and SQLite database connection for all examples.\n",
    "\n",
    "We will now do the setup steps to load PyDough and its Jupyter extension:"
   ]
  },
  {
   "cell_type": "code",
   "execution_count": 125,
   "metadata": {},
   "outputs": [
    {
     "name": "stdout",
     "output_type": "stream",
     "text": [
      "The pydough.jupyter_extensions extension is already loaded. To reload it, use:\n",
      "  %reload_ext pydough.jupyter_extensions\n",
      "The pydough.jupyter_extensions extension is already loaded. To reload it, use:\n",
      "  %reload_ext pydough.jupyter_extensions\n"
     ]
    }
   ],
   "source": [
    "%load_ext pydough.jupyter_extensions\n",
    "\n",
    "import pydough\n",
    "\n",
    "%load_ext pydough.jupyter_extensions\n",
    "\n",
    "#Necessary for comparison\n",
    "import pandas as pd\n",
    "from pandas.testing import assert_frame_equal, assert_series_equal\n",
    "import re\n",
    "import dfcompare\n",
    "\n",
    "import collections\n",
    "import numpy as np\n",
    "import sqlite3 as sql\n",
    "import os\n",
    "\n",
    "pd.options.display.float_format = '{:.6f}'.format"
   ]
  },
  {
   "cell_type": "code",
   "execution_count": null,
   "metadata": {},
   "outputs": [
    {
     "data": {
      "text/plain": [
       "DatabaseContext(connection=<pydough.database_connectors.database_connector.DatabaseConnection object at 0x7ff913fa67e0>, dialect=<DatabaseDialect.SQLITE: 'sqlite'>)"
      ]
     },
     "execution_count": 128,
     "metadata": {},
     "output_type": "execute_result"
    }
   ],
   "source": [
    "#YOUR .SQL FILE TO CREATE THE DATABASE, COPY IT TO THIS FOLDER.\n",
    "SQL_filename = 'ewallet.sql'\n",
    "\n",
    "#METADATA FOR THE GRAPH .JSON\n",
    "metadata_path = \"./ewallet_graphs.json\"\n",
    "#GRAPH NAME\n",
    "graph_name = \"Ewallet\"\n",
    "\n",
    "#DESIRED DATABASE NAME\n",
    "DB_name = \"Ewallet.db\"\n",
    "\n",
    "\n",
    "\n",
    "with open(SQL_filename, 'r') as sql_file:\n",
    "    sql_script = sql_file.read()\n",
    "\n",
    "os.remove(DB_name)\n",
    "connection = sql.connect(DB_name)\n",
    "cursor = connection.cursor()\n",
    "cursor.executescript(sql_script)\n",
    "\n",
    "pydough.active_session.load_metadata_graph(metadata_path, graph_name)\n",
    "pydough.active_session.connect_database(\"sqlite\", database=DB_name)"
   ]
  },
  {
   "cell_type": "code",
   "execution_count": 90,
   "metadata": {},
   "outputs": [
    {
     "name": "stdout",
     "output_type": "stream",
     "text": [
      "PyDough graph: Ewallet\n",
      "Collections:\n",
      "  Coupons\n",
      "  MerchantBalances\n",
      "  Merchants\n",
      "  Notifications\n",
      "  Transactions\n",
      "  UserBalances\n",
      "  UserSessions\n",
      "  UserSettingSnapshots\n",
      "  Users\n",
      "Call pydough.explain(graph[collection_name]) to learn more about any of these collections.\n",
      "Call pydough.explain_structure(graph) to see how all of the collections in the graph are connected.\n"
     ]
    }
   ],
   "source": [
    "graph = pydough.active_session.metadata\n",
    "\n",
    "print(pydough.explain(graph, verbose=True))"
   ]
  },
  {
   "cell_type": "code",
   "execution_count": 5,
   "metadata": {},
   "outputs": [
    {
     "name": "stdout",
     "output_type": "stream",
     "text": [
      "Structure of PyDough graph: Ewallet\n",
      "\n",
      "  Coupons\n",
      "  ├── cid\n",
      "  ├── code\n",
      "  ├── created_at\n",
      "  ├── description\n",
      "  ├── discount_type\n",
      "  ├── discount_value\n",
      "  ├── end_date\n",
      "  ├── max_discount_amount\n",
      "  ├── merchant_id\n",
      "  ├── min_purchase_amount\n",
      "  ├── redemption_limit\n",
      "  ├── start_date\n",
      "  ├── status\n",
      "  ├── updated_at\n",
      "  ├── merchant [one member of Merchants] (reverse of Merchants.coupons)\n",
      "  └── transaction_used_in [multiple Transactions] (reverse of Transactions.coupon)\n",
      "\n",
      "  MerchantBalances\n",
      "  ├── balance\n",
      "  ├── merchant_id\n",
      "  ├── updated_at\n",
      "  └── merchant [one member of Merchants] (reverse of Merchants.balances)\n",
      "\n",
      "  Merchants\n",
      "  ├── address\n",
      "  ├── category\n",
      "  ├── city\n",
      "  ├── contact_email\n",
      "  ├── contact_name\n",
      "  ├── contact_phone\n",
      "  ├── country\n",
      "  ├── created_at\n",
      "  ├── description\n",
      "  ├── logo_url\n",
      "  ├── mcc\n",
      "  ├── mid\n",
      "  ├── name\n",
      "  ├── postal_code\n",
      "  ├── state\n",
      "  ├── status\n",
      "  ├── sub_category\n",
      "  ├── website_url\n",
      "  ├── balances [multiple MerchantBalances] (reverse of MerchantBalances.merchant)\n",
      "  ├── coupons [multiple Coupons] (reverse of Coupons.merchant)\n",
      "  ├── transactions_received [multiple Transactions] (reverse of Transactions.receiving_merchant)\n",
      "  └── transactions_sent [multiple Transactions] (reverse of Transactions.sending_merchant)\n",
      "\n",
      "  Notifications\n",
      "  ├── _id\n",
      "  ├── action_url\n",
      "  ├── created_at\n",
      "  ├── device_id\n",
      "  ├── device_type\n",
      "  ├── message\n",
      "  ├── notification_type\n",
      "  ├── read_at\n",
      "  ├── status\n",
      "  ├── user_id\n",
      "  └── user [one member of Users] (reverse of Users.notifications)\n",
      "\n",
      "  Transactions\n",
      "  ├── amount\n",
      "  ├── completed_at\n",
      "  ├── coupon_id\n",
      "  ├── created_at\n",
      "  ├── description\n",
      "  ├── device_id\n",
      "  ├── gateway_name\n",
      "  ├── gateway_ref\n",
      "  ├── ip_address\n",
      "  ├── receiver_id\n",
      "  ├── receiver_type\n",
      "  ├── sender_id\n",
      "  ├── sender_type\n",
      "  ├── status\n",
      "  ├── transaction_ref\n",
      "  ├── transaction_type\n",
      "  ├── txid\n",
      "  ├── user_agent\n",
      "  ├── coupon [one member of Coupons] (reverse of Coupons.transaction_used_in)\n",
      "  ├── receiving_merchant [one member of Merchants] (reverse of Merchants.transactions_received)\n",
      "  ├── receiving_user [one member of Users] (reverse of Users.transactions_received)\n",
      "  ├── sending_merchant [one member of Merchants] (reverse of Merchants.transactions_sent)\n",
      "  └── sending_user [one member of Users] (reverse of Users.transactions_sent)\n",
      "\n",
      "  UserBalances\n",
      "  ├── balance\n",
      "  ├── updated_at\n",
      "  ├── user_id\n",
      "  └── user [one member of Users] (reverse of Users.balances)\n",
      "\n",
      "  UserSessions\n",
      "  ├── device_id\n",
      "  ├── device_type\n",
      "  ├── session_end_ts\n",
      "  ├── session_start_ts\n",
      "  ├── user_id\n",
      "  └── user [one member of Users] (reverse of Users.sessions)\n",
      "\n",
      "  UserSettingSnapshots\n",
      "  ├── api_key\n",
      "  ├── created_at\n",
      "  ├── marketing_opt_in\n",
      "  ├── membership_status\n",
      "  ├── mfa_enabled\n",
      "  ├── password_hash\n",
      "  ├── snapshot_date\n",
      "  ├── tx_limit_daily\n",
      "  ├── tx_limit_monthly\n",
      "  ├── user_id\n",
      "  ├── verified_devices\n",
      "  ├── verified_ips\n",
      "  └── user [one member of Users] (reverse of Users.setting_snapshots)\n",
      "\n",
      "  Users\n",
      "  ├── address_billing\n",
      "  ├── address_delivery\n",
      "  ├── country\n",
      "  ├── created_at\n",
      "  ├── email\n",
      "  ├── kyc_status\n",
      "  ├── kyc_verified_at\n",
      "  ├── last_login_at\n",
      "  ├── phone_number\n",
      "  ├── status\n",
      "  ├── uid\n",
      "  ├── user_type\n",
      "  ├── username\n",
      "  ├── balances [multiple UserBalances] (reverse of UserBalances.user)\n",
      "  ├── notifications [multiple Notifications] (reverse of Notifications.user)\n",
      "  ├── sessions [multiple UserSessions] (reverse of UserSessions.user)\n",
      "  ├── setting_snapshots [multiple UserSettingSnapshots] (reverse of UserSettingSnapshots.user)\n",
      "  ├── transactions_received [multiple Transactions] (reverse of Transactions.receiving_user)\n",
      "  └── transactions_sent [multiple Transactions] (reverse of Transactions.sending_user)\n"
     ]
    }
   ],
   "source": [
    "graph = pydough.active_session.metadata\n",
    "\n",
    "print(pydough.explain_structure(graph))"
   ]
  },
  {
   "cell_type": "markdown",
   "metadata": {},
   "source": [
    "# Pydough: Ewallet Queries."
   ]
  },
  {
   "cell_type": "markdown",
   "metadata": {},
   "source": [
    "## SQLite BasicQuery "
   ]
  },
  {
   "cell_type": "markdown",
   "metadata": {},
   "source": [
    "### How many distinct active users sent money per month in 2023? Return the number of active users per month (as a date), starting from the earliest date. Do not include merchants in the query. Only include successful transactions."
   ]
  },
  {
   "cell_type": "code",
   "execution_count": 129,
   "metadata": {},
   "outputs": [
    {
     "data": {
      "text/html": [
       "<div>\n",
       "<style scoped>\n",
       "    .dataframe tbody tr th:only-of-type {\n",
       "        vertical-align: middle;\n",
       "    }\n",
       "\n",
       "    .dataframe tbody tr th {\n",
       "        vertical-align: top;\n",
       "    }\n",
       "\n",
       "    .dataframe thead th {\n",
       "        text-align: right;\n",
       "    }\n",
       "</style>\n",
       "<table border=\"1\" class=\"dataframe\">\n",
       "  <thead>\n",
       "    <tr style=\"text-align: right;\">\n",
       "      <th></th>\n",
       "      <th>month</th>\n",
       "      <th>active_users</th>\n",
       "    </tr>\n",
       "  </thead>\n",
       "  <tbody>\n",
       "    <tr>\n",
       "      <th>0</th>\n",
       "      <td>2023-06</td>\n",
       "      <td>4</td>\n",
       "    </tr>\n",
       "    <tr>\n",
       "      <th>1</th>\n",
       "      <td>2023-07</td>\n",
       "      <td>1</td>\n",
       "    </tr>\n",
       "  </tbody>\n",
       "</table>\n",
       "</div>"
      ],
      "text/plain": [
       "     month  active_users\n",
       "0  2023-06             4\n",
       "1  2023-07             1"
      ]
     },
     "execution_count": 129,
     "metadata": {},
     "output_type": "execute_result"
    }
   ],
   "source": [
    "query = '''\n",
    "SELECT strftime('%Y-%m', t.created_at) AS month, \n",
    "COUNT(DISTINCT t.sender_id) AS active_users \n",
    "FROM wallet_transactions_daily AS t \n",
    "JOIN users AS u ON t.sender_id = u.uid \n",
    "WHERE t.sender_type = 0 AND t.status = 'success' \n",
    "AND u.status = 'active' AND t.created_at >= '2023-01-01' \n",
    "AND t.created_at < '2024-01-01' \n",
    "GROUP BY month ORDER BY month;\n",
    "'''\n",
    "sql_output = pd.read_sql_query(query, connection)\n",
    "sql_output"
   ]
  },
  {
   "cell_type": "code",
   "execution_count": 130,
   "metadata": {},
   "outputs": [
    {
     "data": {
      "text/html": [
       "<div>\n",
       "<style scoped>\n",
       "    .dataframe tbody tr th:only-of-type {\n",
       "        vertical-align: middle;\n",
       "    }\n",
       "\n",
       "    .dataframe tbody tr th {\n",
       "        vertical-align: top;\n",
       "    }\n",
       "\n",
       "    .dataframe thead th {\n",
       "        text-align: right;\n",
       "    }\n",
       "</style>\n",
       "<table border=\"1\" class=\"dataframe\">\n",
       "  <thead>\n",
       "    <tr style=\"text-align: right;\">\n",
       "      <th></th>\n",
       "      <th>month</th>\n",
       "      <th>active_users</th>\n",
       "    </tr>\n",
       "  </thead>\n",
       "  <tbody>\n",
       "    <tr>\n",
       "      <th>0</th>\n",
       "      <td>2023-6</td>\n",
       "      <td>4</td>\n",
       "    </tr>\n",
       "    <tr>\n",
       "      <th>1</th>\n",
       "      <td>2023-7</td>\n",
       "      <td>1</td>\n",
       "    </tr>\n",
       "  </tbody>\n",
       "</table>\n",
       "</div>"
      ],
      "text/plain": [
       "    month  active_users\n",
       "0  2023-6             4\n",
       "1  2023-7             1"
      ]
     },
     "execution_count": 130,
     "metadata": {},
     "output_type": "execute_result"
    }
   ],
   "source": [
    "%%pydough\n",
    "\n",
    "selected_transactions= Transactions.WHERE((status=='success') & (created_at >= \"2023-01-01\") \n",
    "& (created_at < \"2024-01-01\") & (sending_user.status=='active') & (sender_type==0))(new_date= JOIN_STRINGS(\"-\",YEAR(created_at),MONTH(created_at)))\n",
    "\n",
    "output= PARTITION(selected_transactions, name=\"t\", by=new_date)(\n",
    "    month= new_date,\n",
    "    active_users= NDISTINCT(t.sender_id)\n",
    ")\n",
    "\n",
    "\n",
    "#pydough.to_sql(output)\n",
    "pydough.to_df(output)"
   ]
  },
  {
   "cell_type": "code",
   "execution_count": 131,
   "metadata": {},
   "outputs": [
    {
     "data": {
      "text/plain": [
       "np.False_"
      ]
     },
     "execution_count": 131,
     "metadata": {},
     "output_type": "execute_result"
    }
   ],
   "source": [
    "pydough_output = pydough.to_df(output)\n",
    "\n",
    "dfcompare.compare_df(pydough_output, sql_output, query_category=\"a\", question=\"a\")"
   ]
  },
  {
   "cell_type": "code",
   "execution_count": 29,
   "metadata": {},
   "outputs": [
    {
     "ename": "PyDoughQDAGException",
     "evalue": "Unrecognized term of graph 'Ewallet': 'UserSettingSnapshot'",
     "output_type": "error",
     "traceback": [
      "\u001b[0;31m---------------------------------------------------------------------------\u001b[0m",
      "\u001b[0;31mPyDoughQDAGException\u001b[0m                      Traceback (most recent call last)",
      "Cell \u001b[0;32mIn[29], line 6\u001b[0m\n\u001b[1;32m      4\u001b[0m selected_date \u001b[38;5;241m=\u001b[39m selected_snapshot\u001b[38;5;241m.\u001b[39msnapshop_date\n\u001b[1;32m      5\u001b[0m output \u001b[38;5;241m=\u001b[39m _ROOT\u001b[38;5;241m.\u001b[39mUserSettingSnapshot\u001b[38;5;241m.\u001b[39mWHERE(_ROOT\u001b[38;5;241m.\u001b[39msnapshop_date \u001b[38;5;241m==\u001b[39m selected_date)(avg_daily_limit\u001b[38;5;241m=\u001b[39m_ROOT\u001b[38;5;241m.\u001b[39mAVG(_ROOT\u001b[38;5;241m.\u001b[39mtx_limit_daily), avg_monthly_limit\u001b[38;5;241m=\u001b[39m_ROOT\u001b[38;5;241m.\u001b[39mAVG(_ROOT\u001b[38;5;241m.\u001b[39mtx_limit_monthly))\n\u001b[0;32m----> 6\u001b[0m \u001b[43mpydough\u001b[49m\u001b[38;5;241;43m.\u001b[39;49m\u001b[43mto_df\u001b[49m\u001b[43m(\u001b[49m\u001b[43moutput\u001b[49m\u001b[43m)\u001b[49m\n",
      "File \u001b[0;32m~/miniconda3/envs/pydough-bodo/lib/python3.12/site-packages/pydough/evaluation/evaluate_unqualified.py:120\u001b[0m, in \u001b[0;36mto_df\u001b[0;34m(node, **kwargs)\u001b[0m\n\u001b[1;32m    118\u001b[0m display_sql: \u001b[38;5;28mbool\u001b[39m \u001b[38;5;241m=\u001b[39m \u001b[38;5;28mbool\u001b[39m(kwargs\u001b[38;5;241m.\u001b[39mpop(\u001b[38;5;124m\"\u001b[39m\u001b[38;5;124mdisplay_sql\u001b[39m\u001b[38;5;124m\"\u001b[39m, \u001b[38;5;28;01mFalse\u001b[39;00m))\n\u001b[1;32m    119\u001b[0m graph, config, database, bindings \u001b[38;5;241m=\u001b[39m _load_session_info(\u001b[38;5;241m*\u001b[39m\u001b[38;5;241m*\u001b[39mkwargs)\n\u001b[0;32m--> 120\u001b[0m qualified: PyDoughQDAG \u001b[38;5;241m=\u001b[39m \u001b[43mqualify_node\u001b[49m\u001b[43m(\u001b[49m\u001b[43mnode\u001b[49m\u001b[43m,\u001b[49m\u001b[43m \u001b[49m\u001b[43mgraph\u001b[49m\u001b[43m)\u001b[49m\n\u001b[1;32m    121\u001b[0m \u001b[38;5;28;01mif\u001b[39;00m \u001b[38;5;129;01mnot\u001b[39;00m \u001b[38;5;28misinstance\u001b[39m(qualified, PyDoughCollectionQDAG):\n\u001b[1;32m    122\u001b[0m     \u001b[38;5;28;01mraise\u001b[39;00m \u001b[38;5;167;01mTypeError\u001b[39;00m(\n\u001b[1;32m    123\u001b[0m         \u001b[38;5;124mf\u001b[39m\u001b[38;5;124m\"\u001b[39m\u001b[38;5;124mFinal qualified expression must be a collection, found \u001b[39m\u001b[38;5;132;01m{\u001b[39;00mqualified\u001b[38;5;241m.\u001b[39m\u001b[38;5;18m__class__\u001b[39m\u001b[38;5;241m.\u001b[39m\u001b[38;5;18m__name__\u001b[39m\u001b[38;5;132;01m}\u001b[39;00m\u001b[38;5;124m\"\u001b[39m\n\u001b[1;32m    124\u001b[0m     )\n",
      "File \u001b[0;32m~/miniconda3/envs/pydough-bodo/lib/python3.12/site-packages/pydough/unqualified/qualification.py:835\u001b[0m, in \u001b[0;36mqualify_node\u001b[0;34m(unqualified, graph)\u001b[0m\n\u001b[1;32m    817\u001b[0m \u001b[38;5;250m\u001b[39m\u001b[38;5;124;03m\"\"\"\u001b[39;00m\n\u001b[1;32m    818\u001b[0m \u001b[38;5;124;03mTransforms an UnqualifiedNode into a qualified node.\u001b[39;00m\n\u001b[1;32m    819\u001b[0m \n\u001b[0;32m   (...)\u001b[0m\n\u001b[1;32m    832\u001b[0m \u001b[38;5;124;03m    qualified or is not recognized.\u001b[39;00m\n\u001b[1;32m    833\u001b[0m \u001b[38;5;124;03m\"\"\"\u001b[39;00m\n\u001b[1;32m    834\u001b[0m qual: Qualifier \u001b[38;5;241m=\u001b[39m Qualifier(graph)\n\u001b[0;32m--> 835\u001b[0m \u001b[38;5;28;01mreturn\u001b[39;00m \u001b[43mqual\u001b[49m\u001b[38;5;241;43m.\u001b[39;49m\u001b[43mqualify_node\u001b[49m\u001b[43m(\u001b[49m\n\u001b[1;32m    836\u001b[0m \u001b[43m    \u001b[49m\u001b[43munqualified\u001b[49m\u001b[43m,\u001b[49m\u001b[43m \u001b[49m\u001b[43mqual\u001b[49m\u001b[38;5;241;43m.\u001b[39;49m\u001b[43mbuilder\u001b[49m\u001b[38;5;241;43m.\u001b[39;49m\u001b[43mbuild_global_context\u001b[49m\u001b[43m(\u001b[49m\u001b[43m)\u001b[49m\u001b[43m,\u001b[49m\u001b[43m \u001b[49m\u001b[43m[\u001b[49m\u001b[43m]\u001b[49m\u001b[43m,\u001b[49m\u001b[43m \u001b[49m\u001b[38;5;28;43;01mFalse\u001b[39;49;00m\n\u001b[1;32m    837\u001b[0m \u001b[43m\u001b[49m\u001b[43m)\u001b[49m\n",
      "File \u001b[0;32m~/miniconda3/envs/pydough-bodo/lib/python3.12/site-packages/pydough/unqualified/qualification.py:788\u001b[0m, in \u001b[0;36mQualifier.qualify_node\u001b[0;34m(self, unqualified, context, children, is_child)\u001b[0m\n\u001b[1;32m    786\u001b[0m     answer \u001b[38;5;241m=\u001b[39m \u001b[38;5;28mself\u001b[39m\u001b[38;5;241m.\u001b[39mqualify_access(unqualified, context, children, is_child)\n\u001b[1;32m    787\u001b[0m \u001b[38;5;28;01mcase\u001b[39;00m UnqualifiedCalc():\n\u001b[0;32m--> 788\u001b[0m     answer \u001b[38;5;241m=\u001b[39m \u001b[38;5;28;43mself\u001b[39;49m\u001b[38;5;241;43m.\u001b[39;49m\u001b[43mqualify_calc\u001b[49m\u001b[43m(\u001b[49m\u001b[43munqualified\u001b[49m\u001b[43m,\u001b[49m\u001b[43m \u001b[49m\u001b[43mcontext\u001b[49m\u001b[43m,\u001b[49m\u001b[43m \u001b[49m\u001b[43mis_child\u001b[49m\u001b[43m)\u001b[49m\n\u001b[1;32m    789\u001b[0m \u001b[38;5;28;01mcase\u001b[39;00m UnqualifiedWhere():\n\u001b[1;32m    790\u001b[0m     answer \u001b[38;5;241m=\u001b[39m \u001b[38;5;28mself\u001b[39m\u001b[38;5;241m.\u001b[39mqualify_where(unqualified, context, is_child)\n",
      "File \u001b[0;32m~/miniconda3/envs/pydough-bodo/lib/python3.12/site-packages/pydough/unqualified/qualification.py:463\u001b[0m, in \u001b[0;36mQualifier.qualify_calc\u001b[0;34m(self, unqualified, context, is_child)\u001b[0m\n\u001b[1;32m    459\u001b[0m unqualified_parent: UnqualifiedNode \u001b[38;5;241m=\u001b[39m unqualified\u001b[38;5;241m.\u001b[39m_parcel[\u001b[38;5;241m0\u001b[39m]\n\u001b[1;32m    460\u001b[0m unqualified_terms: MutableSequence[\u001b[38;5;28mtuple\u001b[39m[\u001b[38;5;28mstr\u001b[39m, UnqualifiedNode]] \u001b[38;5;241m=\u001b[39m (\n\u001b[1;32m    461\u001b[0m     unqualified\u001b[38;5;241m.\u001b[39m_parcel[\u001b[38;5;241m1\u001b[39m]\n\u001b[1;32m    462\u001b[0m )\n\u001b[0;32m--> 463\u001b[0m qualified_parent: PyDoughCollectionQDAG \u001b[38;5;241m=\u001b[39m \u001b[38;5;28;43mself\u001b[39;49m\u001b[38;5;241;43m.\u001b[39;49m\u001b[43mqualify_collection\u001b[49m\u001b[43m(\u001b[49m\n\u001b[1;32m    464\u001b[0m \u001b[43m    \u001b[49m\u001b[43munqualified_parent\u001b[49m\u001b[43m,\u001b[49m\u001b[43m \u001b[49m\u001b[43mcontext\u001b[49m\u001b[43m,\u001b[49m\u001b[43m \u001b[49m\u001b[43mis_child\u001b[49m\n\u001b[1;32m    465\u001b[0m \u001b[43m\u001b[49m\u001b[43m)\u001b[49m\n\u001b[1;32m    466\u001b[0m \u001b[38;5;66;03m# Qualify all of the CALC terms, storing the children built along\u001b[39;00m\n\u001b[1;32m    467\u001b[0m \u001b[38;5;66;03m# the way.\u001b[39;00m\n\u001b[1;32m    468\u001b[0m children: MutableSequence[PyDoughCollectionQDAG] \u001b[38;5;241m=\u001b[39m []\n",
      "File \u001b[0;32m~/miniconda3/envs/pydough-bodo/lib/python3.12/site-packages/pydough/unqualified/qualification.py:706\u001b[0m, in \u001b[0;36mQualifier.qualify_collection\u001b[0;34m(self, unqualified, context, is_child)\u001b[0m\n\u001b[1;32m    681\u001b[0m \u001b[38;5;28;01mdef\u001b[39;00m\u001b[38;5;250m \u001b[39m\u001b[38;5;21mqualify_collection\u001b[39m(\n\u001b[1;32m    682\u001b[0m     \u001b[38;5;28mself\u001b[39m,\n\u001b[1;32m    683\u001b[0m     unqualified: UnqualifiedNode,\n\u001b[1;32m    684\u001b[0m     context: PyDoughCollectionQDAG,\n\u001b[1;32m    685\u001b[0m     is_child: \u001b[38;5;28mbool\u001b[39m,\n\u001b[1;32m    686\u001b[0m ) \u001b[38;5;241m-\u001b[39m\u001b[38;5;241m>\u001b[39m PyDoughCollectionQDAG:\n\u001b[1;32m    687\u001b[0m \u001b[38;5;250m    \u001b[39m\u001b[38;5;124;03m\"\"\"\u001b[39;00m\n\u001b[1;32m    688\u001b[0m \u001b[38;5;124;03m    Transforms an `UnqualifiedNode` into a PyDoughCollectionQDAG node.\u001b[39;00m\n\u001b[1;32m    689\u001b[0m \n\u001b[0;32m   (...)\u001b[0m\n\u001b[1;32m    704\u001b[0m \u001b[38;5;124;03m        qualified or is not recognized.\u001b[39;00m\n\u001b[1;32m    705\u001b[0m \u001b[38;5;124;03m    \"\"\"\u001b[39;00m\n\u001b[0;32m--> 706\u001b[0m     answer: PyDoughQDAG \u001b[38;5;241m=\u001b[39m \u001b[38;5;28;43mself\u001b[39;49m\u001b[38;5;241;43m.\u001b[39;49m\u001b[43mqualify_node\u001b[49m\u001b[43m(\u001b[49m\u001b[43munqualified\u001b[49m\u001b[43m,\u001b[49m\u001b[43m \u001b[49m\u001b[43mcontext\u001b[49m\u001b[43m,\u001b[49m\u001b[43m \u001b[49m\u001b[43m[\u001b[49m\u001b[43m]\u001b[49m\u001b[43m,\u001b[49m\u001b[43m \u001b[49m\u001b[43mis_child\u001b[49m\u001b[43m)\u001b[49m\n\u001b[1;32m    707\u001b[0m     \u001b[38;5;28;01mif\u001b[39;00m \u001b[38;5;129;01mnot\u001b[39;00m \u001b[38;5;28misinstance\u001b[39m(answer, PyDoughCollectionQDAG):\n\u001b[1;32m    708\u001b[0m         \u001b[38;5;28;01mraise\u001b[39;00m PyDoughUnqualifiedException(\n\u001b[1;32m    709\u001b[0m             \u001b[38;5;124mf\u001b[39m\u001b[38;5;124m\"\u001b[39m\u001b[38;5;124mExpected a collection, but received an expression: \u001b[39m\u001b[38;5;132;01m{\u001b[39;00manswer\u001b[38;5;132;01m}\u001b[39;00m\u001b[38;5;124m\"\u001b[39m\n\u001b[1;32m    710\u001b[0m         )\n",
      "File \u001b[0;32m~/miniconda3/envs/pydough-bodo/lib/python3.12/site-packages/pydough/unqualified/qualification.py:790\u001b[0m, in \u001b[0;36mQualifier.qualify_node\u001b[0;34m(self, unqualified, context, children, is_child)\u001b[0m\n\u001b[1;32m    788\u001b[0m     answer \u001b[38;5;241m=\u001b[39m \u001b[38;5;28mself\u001b[39m\u001b[38;5;241m.\u001b[39mqualify_calc(unqualified, context, is_child)\n\u001b[1;32m    789\u001b[0m \u001b[38;5;28;01mcase\u001b[39;00m UnqualifiedWhere():\n\u001b[0;32m--> 790\u001b[0m     answer \u001b[38;5;241m=\u001b[39m \u001b[38;5;28;43mself\u001b[39;49m\u001b[38;5;241;43m.\u001b[39;49m\u001b[43mqualify_where\u001b[49m\u001b[43m(\u001b[49m\u001b[43munqualified\u001b[49m\u001b[43m,\u001b[49m\u001b[43m \u001b[49m\u001b[43mcontext\u001b[49m\u001b[43m,\u001b[49m\u001b[43m \u001b[49m\u001b[43mis_child\u001b[49m\u001b[43m)\u001b[49m\n\u001b[1;32m    791\u001b[0m \u001b[38;5;28;01mcase\u001b[39;00m UnqualifiedOrderBy():\n\u001b[1;32m    792\u001b[0m     answer \u001b[38;5;241m=\u001b[39m \u001b[38;5;28mself\u001b[39m\u001b[38;5;241m.\u001b[39mqualify_order_by(unqualified, context, is_child)\n",
      "File \u001b[0;32m~/miniconda3/envs/pydough-bodo/lib/python3.12/site-packages/pydough/unqualified/qualification.py:504\u001b[0m, in \u001b[0;36mQualifier.qualify_where\u001b[0;34m(self, unqualified, context, is_child)\u001b[0m\n\u001b[1;32m    502\u001b[0m unqualified_parent: UnqualifiedNode \u001b[38;5;241m=\u001b[39m unqualified\u001b[38;5;241m.\u001b[39m_parcel[\u001b[38;5;241m0\u001b[39m]\n\u001b[1;32m    503\u001b[0m unqualified_cond: UnqualifiedNode \u001b[38;5;241m=\u001b[39m unqualified\u001b[38;5;241m.\u001b[39m_parcel[\u001b[38;5;241m1\u001b[39m]\n\u001b[0;32m--> 504\u001b[0m qualified_parent: PyDoughCollectionQDAG \u001b[38;5;241m=\u001b[39m \u001b[38;5;28;43mself\u001b[39;49m\u001b[38;5;241;43m.\u001b[39;49m\u001b[43mqualify_collection\u001b[49m\u001b[43m(\u001b[49m\n\u001b[1;32m    505\u001b[0m \u001b[43m    \u001b[49m\u001b[43munqualified_parent\u001b[49m\u001b[43m,\u001b[49m\u001b[43m \u001b[49m\u001b[43mcontext\u001b[49m\u001b[43m,\u001b[49m\u001b[43m \u001b[49m\u001b[43mis_child\u001b[49m\n\u001b[1;32m    506\u001b[0m \u001b[43m\u001b[49m\u001b[43m)\u001b[49m\n\u001b[1;32m    507\u001b[0m \u001b[38;5;66;03m# Qualify the condition of the WHERE clause, storing the children\u001b[39;00m\n\u001b[1;32m    508\u001b[0m \u001b[38;5;66;03m# built along the way.\u001b[39;00m\n\u001b[1;32m    509\u001b[0m children: MutableSequence[PyDoughCollectionQDAG] \u001b[38;5;241m=\u001b[39m []\n",
      "File \u001b[0;32m~/miniconda3/envs/pydough-bodo/lib/python3.12/site-packages/pydough/unqualified/qualification.py:706\u001b[0m, in \u001b[0;36mQualifier.qualify_collection\u001b[0;34m(self, unqualified, context, is_child)\u001b[0m\n\u001b[1;32m    681\u001b[0m \u001b[38;5;28;01mdef\u001b[39;00m\u001b[38;5;250m \u001b[39m\u001b[38;5;21mqualify_collection\u001b[39m(\n\u001b[1;32m    682\u001b[0m     \u001b[38;5;28mself\u001b[39m,\n\u001b[1;32m    683\u001b[0m     unqualified: UnqualifiedNode,\n\u001b[1;32m    684\u001b[0m     context: PyDoughCollectionQDAG,\n\u001b[1;32m    685\u001b[0m     is_child: \u001b[38;5;28mbool\u001b[39m,\n\u001b[1;32m    686\u001b[0m ) \u001b[38;5;241m-\u001b[39m\u001b[38;5;241m>\u001b[39m PyDoughCollectionQDAG:\n\u001b[1;32m    687\u001b[0m \u001b[38;5;250m    \u001b[39m\u001b[38;5;124;03m\"\"\"\u001b[39;00m\n\u001b[1;32m    688\u001b[0m \u001b[38;5;124;03m    Transforms an `UnqualifiedNode` into a PyDoughCollectionQDAG node.\u001b[39;00m\n\u001b[1;32m    689\u001b[0m \n\u001b[0;32m   (...)\u001b[0m\n\u001b[1;32m    704\u001b[0m \u001b[38;5;124;03m        qualified or is not recognized.\u001b[39;00m\n\u001b[1;32m    705\u001b[0m \u001b[38;5;124;03m    \"\"\"\u001b[39;00m\n\u001b[0;32m--> 706\u001b[0m     answer: PyDoughQDAG \u001b[38;5;241m=\u001b[39m \u001b[38;5;28;43mself\u001b[39;49m\u001b[38;5;241;43m.\u001b[39;49m\u001b[43mqualify_node\u001b[49m\u001b[43m(\u001b[49m\u001b[43munqualified\u001b[49m\u001b[43m,\u001b[49m\u001b[43m \u001b[49m\u001b[43mcontext\u001b[49m\u001b[43m,\u001b[49m\u001b[43m \u001b[49m\u001b[43m[\u001b[49m\u001b[43m]\u001b[49m\u001b[43m,\u001b[49m\u001b[43m \u001b[49m\u001b[43mis_child\u001b[49m\u001b[43m)\u001b[49m\n\u001b[1;32m    707\u001b[0m     \u001b[38;5;28;01mif\u001b[39;00m \u001b[38;5;129;01mnot\u001b[39;00m \u001b[38;5;28misinstance\u001b[39m(answer, PyDoughCollectionQDAG):\n\u001b[1;32m    708\u001b[0m         \u001b[38;5;28;01mraise\u001b[39;00m PyDoughUnqualifiedException(\n\u001b[1;32m    709\u001b[0m             \u001b[38;5;124mf\u001b[39m\u001b[38;5;124m\"\u001b[39m\u001b[38;5;124mExpected a collection, but received an expression: \u001b[39m\u001b[38;5;132;01m{\u001b[39;00manswer\u001b[38;5;132;01m}\u001b[39;00m\u001b[38;5;124m\"\u001b[39m\n\u001b[1;32m    710\u001b[0m         )\n",
      "File \u001b[0;32m~/miniconda3/envs/pydough-bodo/lib/python3.12/site-packages/pydough/unqualified/qualification.py:786\u001b[0m, in \u001b[0;36mQualifier.qualify_node\u001b[0;34m(self, unqualified, context, children, is_child)\u001b[0m\n\u001b[1;32m    784\u001b[0m     answer \u001b[38;5;241m=\u001b[39m context\n\u001b[1;32m    785\u001b[0m \u001b[38;5;28;01mcase\u001b[39;00m UnqualifiedAccess():\n\u001b[0;32m--> 786\u001b[0m     answer \u001b[38;5;241m=\u001b[39m \u001b[38;5;28;43mself\u001b[39;49m\u001b[38;5;241;43m.\u001b[39;49m\u001b[43mqualify_access\u001b[49m\u001b[43m(\u001b[49m\u001b[43munqualified\u001b[49m\u001b[43m,\u001b[49m\u001b[43m \u001b[49m\u001b[43mcontext\u001b[49m\u001b[43m,\u001b[49m\u001b[43m \u001b[49m\u001b[43mchildren\u001b[49m\u001b[43m,\u001b[49m\u001b[43m \u001b[49m\u001b[43mis_child\u001b[49m\u001b[43m)\u001b[49m\n\u001b[1;32m    787\u001b[0m \u001b[38;5;28;01mcase\u001b[39;00m UnqualifiedCalc():\n\u001b[1;32m    788\u001b[0m     answer \u001b[38;5;241m=\u001b[39m \u001b[38;5;28mself\u001b[39m\u001b[38;5;241m.\u001b[39mqualify_calc(unqualified, context, is_child)\n",
      "File \u001b[0;32m~/miniconda3/envs/pydough-bodo/lib/python3.12/site-packages/pydough/unqualified/qualification.py:402\u001b[0m, in \u001b[0;36mQualifier.qualify_access\u001b[0;34m(self, unqualified, context, children, is_child)\u001b[0m\n\u001b[1;32m    399\u001b[0m     \u001b[38;5;28;01mreturn\u001b[39;00m qualified_parent\n\u001b[1;32m    400\u001b[0m \u001b[38;5;28;01melse\u001b[39;00m:\n\u001b[1;32m    401\u001b[0m     \u001b[38;5;66;03m# Identify whether the access is an expression or a collection\u001b[39;00m\n\u001b[0;32m--> 402\u001b[0m     term \u001b[38;5;241m=\u001b[39m \u001b[43mqualified_parent\u001b[49m\u001b[38;5;241;43m.\u001b[39;49m\u001b[43mget_term\u001b[49m\u001b[43m(\u001b[49m\u001b[43mname\u001b[49m\u001b[43m)\u001b[49m\n\u001b[1;32m    403\u001b[0m     \u001b[38;5;28;01mif\u001b[39;00m \u001b[38;5;28misinstance\u001b[39m(term, PyDoughCollectionQDAG):\n\u001b[1;32m    404\u001b[0m         \u001b[38;5;66;03m# If it is a collection that is not the special case,\u001b[39;00m\n\u001b[1;32m    405\u001b[0m         \u001b[38;5;66;03m# access the child collection from the qualified parent\u001b[39;00m\n\u001b[1;32m    406\u001b[0m         \u001b[38;5;66;03m# collection.\u001b[39;00m\n\u001b[1;32m    407\u001b[0m         answer: PyDoughCollectionQDAG \u001b[38;5;241m=\u001b[39m \u001b[38;5;28mself\u001b[39m\u001b[38;5;241m.\u001b[39mbuilder\u001b[38;5;241m.\u001b[39mbuild_child_access(\n\u001b[1;32m    408\u001b[0m             name, qualified_parent\n\u001b[1;32m    409\u001b[0m         )\n",
      "File \u001b[0;32m~/miniconda3/envs/pydough-bodo/lib/python3.12/site-packages/pydough/qdag/collections/global_context.py:90\u001b[0m, in \u001b[0;36mGlobalContext.get_term\u001b[0;34m(self, term_name)\u001b[0m\n\u001b[1;32m     88\u001b[0m \u001b[38;5;28;01mdef\u001b[39;00m\u001b[38;5;250m \u001b[39m\u001b[38;5;21mget_term\u001b[39m(\u001b[38;5;28mself\u001b[39m, term_name: \u001b[38;5;28mstr\u001b[39m) \u001b[38;5;241m-\u001b[39m\u001b[38;5;241m>\u001b[39m PyDoughQDAG:\n\u001b[1;32m     89\u001b[0m     \u001b[38;5;28;01mif\u001b[39;00m term_name \u001b[38;5;129;01mnot\u001b[39;00m \u001b[38;5;129;01min\u001b[39;00m \u001b[38;5;28mself\u001b[39m\u001b[38;5;241m.\u001b[39mcollections:\n\u001b[0;32m---> 90\u001b[0m         \u001b[38;5;28;01mraise\u001b[39;00m PyDoughQDAGException(\n\u001b[1;32m     91\u001b[0m             \u001b[38;5;124mf\u001b[39m\u001b[38;5;124m\"\u001b[39m\u001b[38;5;124mUnrecognized term of \u001b[39m\u001b[38;5;132;01m{\u001b[39;00m\u001b[38;5;28mself\u001b[39m\u001b[38;5;241m.\u001b[39mgraph\u001b[38;5;241m.\u001b[39merror_name\u001b[38;5;132;01m}\u001b[39;00m\u001b[38;5;124m: \u001b[39m\u001b[38;5;132;01m{\u001b[39;00mterm_name\u001b[38;5;132;01m!r}\u001b[39;00m\u001b[38;5;124m\"\u001b[39m\n\u001b[1;32m     92\u001b[0m         )\n\u001b[1;32m     93\u001b[0m     \u001b[38;5;28;01mreturn\u001b[39;00m \u001b[38;5;28mself\u001b[39m\u001b[38;5;241m.\u001b[39mcollections[term_name]\n",
      "\u001b[0;31mPyDoughQDAGException\u001b[0m: Unrecognized term of graph 'Ewallet': 'UserSettingSnapshot'"
     ]
    }
   ],
   "source": [
    "%%pydough\n",
    "\n",
    "selected_snapshot = UserSettingSnapshot((snapshop_date <= \"2023-12-31\") & (snapshop_date >= \"2023-01-01\")). TOP_K(1, by=snapshop_date.ASC())\n",
    "\n",
    "selected_date = selected_snapshot.snapshop_date\n",
    "\n",
    "output = UserSettingSnapshot.WHERE(snapshop_date == selected_date)(\n",
    "avg_daily_limit=AVG(tx_limit_daily),\n",
    "avg_monthly_limit=AVG(tx_limit_monthly))\n",
    "#pydough.to_sql(output)\n",
    "pydough.to_df(output)"
   ]
  },
  {
   "cell_type": "markdown",
   "metadata": {},
   "source": [
    "### Return merchants (merchant ID and name) who have not issued any coupons."
   ]
  },
  {
   "cell_type": "code",
   "execution_count": 132,
   "metadata": {},
   "outputs": [
    {
     "data": {
      "text/html": [
       "<div>\n",
       "<style scoped>\n",
       "    .dataframe tbody tr th:only-of-type {\n",
       "        vertical-align: middle;\n",
       "    }\n",
       "\n",
       "    .dataframe tbody tr th {\n",
       "        vertical-align: top;\n",
       "    }\n",
       "\n",
       "    .dataframe thead th {\n",
       "        text-align: right;\n",
       "    }\n",
       "</style>\n",
       "<table border=\"1\" class=\"dataframe\">\n",
       "  <thead>\n",
       "    <tr style=\"text-align: right;\">\n",
       "      <th></th>\n",
       "      <th>merchant_id</th>\n",
       "      <th>merchant_name</th>\n",
       "    </tr>\n",
       "  </thead>\n",
       "  <tbody>\n",
       "    <tr>\n",
       "      <th>0</th>\n",
       "      <td>11</td>\n",
       "      <td>FashionTrend</td>\n",
       "    </tr>\n",
       "    <tr>\n",
       "      <th>1</th>\n",
       "      <td>12</td>\n",
       "      <td>GreenGourmet</td>\n",
       "    </tr>\n",
       "    <tr>\n",
       "      <th>2</th>\n",
       "      <td>13</td>\n",
       "      <td>PetParadise</td>\n",
       "    </tr>\n",
       "    <tr>\n",
       "      <th>3</th>\n",
       "      <td>14</td>\n",
       "      <td>HomeTechSolutions</td>\n",
       "    </tr>\n",
       "    <tr>\n",
       "      <th>4</th>\n",
       "      <td>15</td>\n",
       "      <td>BookWorms</td>\n",
       "    </tr>\n",
       "  </tbody>\n",
       "</table>\n",
       "</div>"
      ],
      "text/plain": [
       "   merchant_id      merchant_name\n",
       "0           11       FashionTrend\n",
       "1           12       GreenGourmet\n",
       "2           13        PetParadise\n",
       "3           14  HomeTechSolutions\n",
       "4           15          BookWorms"
      ]
     },
     "execution_count": 132,
     "metadata": {},
     "output_type": "execute_result"
    }
   ],
   "source": [
    "query = '''\n",
    "SELECT m.mid AS merchant_id, m.name AS merchant_name \n",
    "FROM merchants AS m \n",
    "LEFT JOIN coupons AS c ON m.mid = c.merchant_id \n",
    "WHERE c.cid IS NULL;\n",
    "'''\n",
    "sql_output = pd.read_sql_query(query, connection)\n",
    "sql_output"
   ]
  },
  {
   "cell_type": "code",
   "execution_count": 133,
   "metadata": {},
   "outputs": [
    {
     "data": {
      "text/html": [
       "<div>\n",
       "<style scoped>\n",
       "    .dataframe tbody tr th:only-of-type {\n",
       "        vertical-align: middle;\n",
       "    }\n",
       "\n",
       "    .dataframe tbody tr th {\n",
       "        vertical-align: top;\n",
       "    }\n",
       "\n",
       "    .dataframe thead th {\n",
       "        text-align: right;\n",
       "    }\n",
       "</style>\n",
       "<table border=\"1\" class=\"dataframe\">\n",
       "  <thead>\n",
       "    <tr style=\"text-align: right;\">\n",
       "      <th></th>\n",
       "      <th>merchan_id</th>\n",
       "      <th>merchant_name</th>\n",
       "    </tr>\n",
       "  </thead>\n",
       "  <tbody>\n",
       "    <tr>\n",
       "      <th>0</th>\n",
       "      <td>11</td>\n",
       "      <td>FashionTrend</td>\n",
       "    </tr>\n",
       "    <tr>\n",
       "      <th>1</th>\n",
       "      <td>12</td>\n",
       "      <td>GreenGourmet</td>\n",
       "    </tr>\n",
       "    <tr>\n",
       "      <th>2</th>\n",
       "      <td>13</td>\n",
       "      <td>PetParadise</td>\n",
       "    </tr>\n",
       "    <tr>\n",
       "      <th>3</th>\n",
       "      <td>14</td>\n",
       "      <td>HomeTechSolutions</td>\n",
       "    </tr>\n",
       "    <tr>\n",
       "      <th>4</th>\n",
       "      <td>15</td>\n",
       "      <td>BookWorms</td>\n",
       "    </tr>\n",
       "  </tbody>\n",
       "</table>\n",
       "</div>"
      ],
      "text/plain": [
       "   merchan_id      merchant_name\n",
       "0          11       FashionTrend\n",
       "1          12       GreenGourmet\n",
       "2          13        PetParadise\n",
       "3          14  HomeTechSolutions\n",
       "4          15          BookWorms"
      ]
     },
     "execution_count": 133,
     "metadata": {},
     "output_type": "execute_result"
    }
   ],
   "source": [
    "%%pydough\n",
    "\n",
    "mercants_wihout_coupons = Merchants.WHERE(HASNOT(coupons))(merchan_id= mid, merchant_name= name)\n",
    "\n",
    "#pydough.to_sql(output)\n",
    "pydough.to_df(mercants_wihout_coupons)"
   ]
  },
  {
   "cell_type": "code",
   "execution_count": 134,
   "metadata": {},
   "outputs": [
    {
     "data": {
      "text/plain": [
       "True"
      ]
     },
     "execution_count": 134,
     "metadata": {},
     "output_type": "execute_result"
    }
   ],
   "source": [
    "pydough_output = pydough.to_df(mercants_wihout_coupons)\n",
    "\n",
    "dfcompare.compare_df(pydough_output, sql_output, query_category=\"a\", question=\"a\")"
   ]
  },
  {
   "cell_type": "markdown",
   "metadata": {},
   "source": [
    "### Return the distinct list of merchant IDs that have received money from a transaction. Consider all transaction types in the results you return, but only include the merchant ids in your final answer.\n",
    "\n",
    "\n"
   ]
  },
  {
   "cell_type": "code",
   "execution_count": 135,
   "metadata": {},
   "outputs": [
    {
     "data": {
      "text/html": [
       "<div>\n",
       "<style scoped>\n",
       "    .dataframe tbody tr th:only-of-type {\n",
       "        vertical-align: middle;\n",
       "    }\n",
       "\n",
       "    .dataframe tbody tr th {\n",
       "        vertical-align: top;\n",
       "    }\n",
       "\n",
       "    .dataframe thead th {\n",
       "        text-align: right;\n",
       "    }\n",
       "</style>\n",
       "<table border=\"1\" class=\"dataframe\">\n",
       "  <thead>\n",
       "    <tr style=\"text-align: right;\">\n",
       "      <th></th>\n",
       "      <th>merchant_id</th>\n",
       "    </tr>\n",
       "  </thead>\n",
       "  <tbody>\n",
       "    <tr>\n",
       "      <th>0</th>\n",
       "      <td>1</td>\n",
       "    </tr>\n",
       "    <tr>\n",
       "      <th>1</th>\n",
       "      <td>3</td>\n",
       "    </tr>\n",
       "    <tr>\n",
       "      <th>2</th>\n",
       "      <td>7</td>\n",
       "    </tr>\n",
       "    <tr>\n",
       "      <th>3</th>\n",
       "      <td>4</td>\n",
       "    </tr>\n",
       "    <tr>\n",
       "      <th>4</th>\n",
       "      <td>5</td>\n",
       "    </tr>\n",
       "    <tr>\n",
       "      <th>5</th>\n",
       "      <td>9</td>\n",
       "    </tr>\n",
       "    <tr>\n",
       "      <th>6</th>\n",
       "      <td>10</td>\n",
       "    </tr>\n",
       "    <tr>\n",
       "      <th>7</th>\n",
       "      <td>2</td>\n",
       "    </tr>\n",
       "  </tbody>\n",
       "</table>\n",
       "</div>"
      ],
      "text/plain": [
       "   merchant_id\n",
       "0            1\n",
       "1            3\n",
       "2            7\n",
       "3            4\n",
       "4            5\n",
       "5            9\n",
       "6           10\n",
       "7            2"
      ]
     },
     "execution_count": 135,
     "metadata": {},
     "output_type": "execute_result"
    }
   ],
   "source": [
    "query = '''SELECT DISTINCT m.mid AS merchant_id FROM merchants AS m JOIN wallet_transactions_daily AS t ON m.mid = t.receiver_id WHERE t.receiver_type = 1;'''\n",
    "sql_output = pd.read_sql_query(query, connection)\n",
    "sql_output"
   ]
  },
  {
   "cell_type": "code",
   "execution_count": 137,
   "metadata": {},
   "outputs": [
    {
     "data": {
      "text/html": [
       "<div>\n",
       "<style scoped>\n",
       "    .dataframe tbody tr th:only-of-type {\n",
       "        vertical-align: middle;\n",
       "    }\n",
       "\n",
       "    .dataframe tbody tr th {\n",
       "        vertical-align: top;\n",
       "    }\n",
       "\n",
       "    .dataframe thead th {\n",
       "        text-align: right;\n",
       "    }\n",
       "</style>\n",
       "<table border=\"1\" class=\"dataframe\">\n",
       "  <thead>\n",
       "    <tr style=\"text-align: right;\">\n",
       "      <th></th>\n",
       "      <th>merchant</th>\n",
       "    </tr>\n",
       "  </thead>\n",
       "  <tbody>\n",
       "    <tr>\n",
       "      <th>0</th>\n",
       "      <td>1</td>\n",
       "    </tr>\n",
       "    <tr>\n",
       "      <th>1</th>\n",
       "      <td>2</td>\n",
       "    </tr>\n",
       "    <tr>\n",
       "      <th>2</th>\n",
       "      <td>3</td>\n",
       "    </tr>\n",
       "    <tr>\n",
       "      <th>3</th>\n",
       "      <td>4</td>\n",
       "    </tr>\n",
       "    <tr>\n",
       "      <th>4</th>\n",
       "      <td>5</td>\n",
       "    </tr>\n",
       "    <tr>\n",
       "      <th>5</th>\n",
       "      <td>7</td>\n",
       "    </tr>\n",
       "    <tr>\n",
       "      <th>6</th>\n",
       "      <td>9</td>\n",
       "    </tr>\n",
       "    <tr>\n",
       "      <th>7</th>\n",
       "      <td>10</td>\n",
       "    </tr>\n",
       "  </tbody>\n",
       "</table>\n",
       "</div>"
      ],
      "text/plain": [
       "   merchant\n",
       "0         1\n",
       "1         2\n",
       "2         3\n",
       "3         4\n",
       "4         5\n",
       "5         7\n",
       "6         9\n",
       "7        10"
      ]
     },
     "execution_count": 137,
     "metadata": {},
     "output_type": "execute_result"
    }
   ],
   "source": [
    "%%pydough\n",
    "result = Merchants.WHERE(HAS(transactions_received.WHERE(receiver_type==1)))(merchant= mid)\n",
    "pydough.to_df(result)"
   ]
  },
  {
   "cell_type": "code",
   "execution_count": 138,
   "metadata": {},
   "outputs": [
    {
     "data": {
      "text/plain": [
       "np.True_"
      ]
     },
     "execution_count": 138,
     "metadata": {},
     "output_type": "execute_result"
    }
   ],
   "source": [
    "pydough_output = pydough.to_df(result)\n",
    "\n",
    "dfcompare.compare_df(pydough_output, sql_output, query_category=\"a\", question=\"a\")"
   ]
  },
  {
   "cell_type": "markdown",
   "metadata": {},
   "source": [
    "### Return the distinct list of user IDs who have received transaction notifications."
   ]
  },
  {
   "cell_type": "code",
   "execution_count": 140,
   "metadata": {},
   "outputs": [
    {
     "data": {
      "text/html": [
       "<div>\n",
       "<style scoped>\n",
       "    .dataframe tbody tr th:only-of-type {\n",
       "        vertical-align: middle;\n",
       "    }\n",
       "\n",
       "    .dataframe tbody tr th {\n",
       "        vertical-align: top;\n",
       "    }\n",
       "\n",
       "    .dataframe thead th {\n",
       "        text-align: right;\n",
       "    }\n",
       "</style>\n",
       "<table border=\"1\" class=\"dataframe\">\n",
       "  <thead>\n",
       "    <tr style=\"text-align: right;\">\n",
       "      <th></th>\n",
       "      <th>user_id</th>\n",
       "    </tr>\n",
       "  </thead>\n",
       "  <tbody>\n",
       "    <tr>\n",
       "      <th>0</th>\n",
       "      <td>1</td>\n",
       "    </tr>\n",
       "    <tr>\n",
       "      <th>1</th>\n",
       "      <td>2</td>\n",
       "    </tr>\n",
       "    <tr>\n",
       "      <th>2</th>\n",
       "      <td>3</td>\n",
       "    </tr>\n",
       "    <tr>\n",
       "      <th>3</th>\n",
       "      <td>4</td>\n",
       "    </tr>\n",
       "    <tr>\n",
       "      <th>4</th>\n",
       "      <td>10</td>\n",
       "    </tr>\n",
       "  </tbody>\n",
       "</table>\n",
       "</div>"
      ],
      "text/plain": [
       "   user_id\n",
       "0        1\n",
       "1        2\n",
       "2        3\n",
       "3        4\n",
       "4       10"
      ]
     },
     "execution_count": 140,
     "metadata": {},
     "output_type": "execute_result"
    }
   ],
   "source": [
    "query = '''\n",
    "SELECT DISTINCT user_id FROM notifications WHERE type = 'transaction';\n",
    "'''\n",
    "sql_output = pd.read_sql_query(query, connection)\n",
    "sql_output"
   ]
  },
  {
   "cell_type": "code",
   "execution_count": 141,
   "metadata": {},
   "outputs": [
    {
     "data": {
      "text/html": [
       "<div>\n",
       "<style scoped>\n",
       "    .dataframe tbody tr th:only-of-type {\n",
       "        vertical-align: middle;\n",
       "    }\n",
       "\n",
       "    .dataframe tbody tr th {\n",
       "        vertical-align: top;\n",
       "    }\n",
       "\n",
       "    .dataframe thead th {\n",
       "        text-align: right;\n",
       "    }\n",
       "</style>\n",
       "<table border=\"1\" class=\"dataframe\">\n",
       "  <thead>\n",
       "    <tr style=\"text-align: right;\">\n",
       "      <th></th>\n",
       "      <th>user_id</th>\n",
       "    </tr>\n",
       "  </thead>\n",
       "  <tbody>\n",
       "    <tr>\n",
       "      <th>0</th>\n",
       "      <td>1</td>\n",
       "    </tr>\n",
       "    <tr>\n",
       "      <th>1</th>\n",
       "      <td>2</td>\n",
       "    </tr>\n",
       "    <tr>\n",
       "      <th>2</th>\n",
       "      <td>3</td>\n",
       "    </tr>\n",
       "    <tr>\n",
       "      <th>3</th>\n",
       "      <td>4</td>\n",
       "    </tr>\n",
       "    <tr>\n",
       "      <th>4</th>\n",
       "      <td>10</td>\n",
       "    </tr>\n",
       "  </tbody>\n",
       "</table>\n",
       "</div>"
      ],
      "text/plain": [
       "   user_id\n",
       "0        1\n",
       "1        2\n",
       "2        3\n",
       "3        4\n",
       "4       10"
      ]
     },
     "execution_count": 141,
     "metadata": {},
     "output_type": "execute_result"
    }
   ],
   "source": [
    "%%pydough\n",
    "users_with_notifications = Users.WHERE(HAS(notifications.WHERE(notification_type=='transaction')))(user_id= uid)\n",
    "pydough.to_df(users_with_notifications)"
   ]
  },
  {
   "cell_type": "code",
   "execution_count": 142,
   "metadata": {},
   "outputs": [
    {
     "data": {
      "text/plain": [
       "True"
      ]
     },
     "execution_count": 142,
     "metadata": {},
     "output_type": "execute_result"
    }
   ],
   "source": [
    "pydough_output = pydough.to_df(users_with_notifications)\n",
    "\n",
    "dfcompare.compare_df(pydough_output, sql_output, query_category=\"a\", question=\"a\")"
   ]
  },
  {
   "cell_type": "code",
   "execution_count": 104,
   "metadata": {},
   "outputs": [
    {
     "data": {
      "text/html": [
       "<div>\n",
       "<style scoped>\n",
       "    .dataframe tbody tr th:only-of-type {\n",
       "        vertical-align: middle;\n",
       "    }\n",
       "\n",
       "    .dataframe tbody tr th {\n",
       "        vertical-align: top;\n",
       "    }\n",
       "\n",
       "    .dataframe thead th {\n",
       "        text-align: right;\n",
       "    }\n",
       "</style>\n",
       "<table border=\"1\" class=\"dataframe\">\n",
       "  <thead>\n",
       "    <tr style=\"text-align: right;\">\n",
       "      <th></th>\n",
       "      <th>user_id</th>\n",
       "    </tr>\n",
       "  </thead>\n",
       "  <tbody>\n",
       "    <tr>\n",
       "      <th>0</th>\n",
       "      <td>1</td>\n",
       "    </tr>\n",
       "    <tr>\n",
       "      <th>1</th>\n",
       "      <td>2</td>\n",
       "    </tr>\n",
       "    <tr>\n",
       "      <th>2</th>\n",
       "      <td>3</td>\n",
       "    </tr>\n",
       "    <tr>\n",
       "      <th>3</th>\n",
       "      <td>4</td>\n",
       "    </tr>\n",
       "    <tr>\n",
       "      <th>4</th>\n",
       "      <td>10</td>\n",
       "    </tr>\n",
       "    <tr>\n",
       "      <th>5</th>\n",
       "      <td>1</td>\n",
       "    </tr>\n",
       "  </tbody>\n",
       "</table>\n",
       "</div>"
      ],
      "text/plain": [
       "   user_id\n",
       "0        1\n",
       "1        2\n",
       "2        3\n",
       "3        4\n",
       "4       10\n",
       "5        1"
      ]
     },
     "execution_count": 104,
     "metadata": {},
     "output_type": "execute_result"
    }
   ],
   "source": [
    "%%pydough\n",
    "\n",
    "users_with_notifications = Notifications.WHERE(notification_type=='transaction')(user_id= user_id)\n",
    "\n",
    "#pydough.to_sql(output)\n",
    "pydough.to_df(users_with_notifications)"
   ]
  },
  {
   "cell_type": "markdown",
   "metadata": {},
   "source": [
    "### Return users (user ID and username) who have not received any notifications"
   ]
  },
  {
   "cell_type": "code",
   "execution_count": 143,
   "metadata": {},
   "outputs": [
    {
     "data": {
      "text/html": [
       "<div>\n",
       "<style scoped>\n",
       "    .dataframe tbody tr th:only-of-type {\n",
       "        vertical-align: middle;\n",
       "    }\n",
       "\n",
       "    .dataframe tbody tr th {\n",
       "        vertical-align: top;\n",
       "    }\n",
       "\n",
       "    .dataframe thead th {\n",
       "        text-align: right;\n",
       "    }\n",
       "</style>\n",
       "<table border=\"1\" class=\"dataframe\">\n",
       "  <thead>\n",
       "    <tr style=\"text-align: right;\">\n",
       "      <th></th>\n",
       "      <th>uid</th>\n",
       "      <th>username</th>\n",
       "    </tr>\n",
       "  </thead>\n",
       "  <tbody>\n",
       "    <tr>\n",
       "      <th>0</th>\n",
       "      <td>11</td>\n",
       "      <td>lisa_jones</td>\n",
       "    </tr>\n",
       "  </tbody>\n",
       "</table>\n",
       "</div>"
      ],
      "text/plain": [
       "   uid    username\n",
       "0   11  lisa_jones"
      ]
     },
     "execution_count": 143,
     "metadata": {},
     "output_type": "execute_result"
    }
   ],
   "source": [
    "query = '''\n",
    "SELECT u.uid, u.username FROM users AS u \n",
    "LEFT JOIN notifications AS n ON u.uid = n.user_id \n",
    "WHERE n.id IS NULL;\n",
    "'''\n",
    "sql_output = pd.read_sql_query(query, connection)\n",
    "sql_output"
   ]
  },
  {
   "cell_type": "code",
   "execution_count": 144,
   "metadata": {},
   "outputs": [
    {
     "data": {
      "text/html": [
       "<div>\n",
       "<style scoped>\n",
       "    .dataframe tbody tr th:only-of-type {\n",
       "        vertical-align: middle;\n",
       "    }\n",
       "\n",
       "    .dataframe tbody tr th {\n",
       "        vertical-align: top;\n",
       "    }\n",
       "\n",
       "    .dataframe thead th {\n",
       "        text-align: right;\n",
       "    }\n",
       "</style>\n",
       "<table border=\"1\" class=\"dataframe\">\n",
       "  <thead>\n",
       "    <tr style=\"text-align: right;\">\n",
       "      <th></th>\n",
       "      <th>uid</th>\n",
       "      <th>username</th>\n",
       "    </tr>\n",
       "  </thead>\n",
       "  <tbody>\n",
       "    <tr>\n",
       "      <th>0</th>\n",
       "      <td>11</td>\n",
       "      <td>lisa_jones</td>\n",
       "    </tr>\n",
       "  </tbody>\n",
       "</table>\n",
       "</div>"
      ],
      "text/plain": [
       "   uid    username\n",
       "0   11  lisa_jones"
      ]
     },
     "execution_count": 144,
     "metadata": {},
     "output_type": "execute_result"
    }
   ],
   "source": [
    "%%pydough\n",
    "\n",
    "users_without_notifications = Users.WHERE(HASNOT(notifications))(uid,username)\n",
    "\n",
    "#pydough.to_sql(output)\n",
    "pydough.to_df(users_without_notifications)"
   ]
  },
  {
   "cell_type": "code",
   "execution_count": 145,
   "metadata": {},
   "outputs": [
    {
     "data": {
      "text/plain": [
       "True"
      ]
     },
     "execution_count": 145,
     "metadata": {},
     "output_type": "execute_result"
    }
   ],
   "source": [
    "pydough_output = pydough.to_df(users_without_notifications)\n",
    "\n",
    "dfcompare.compare_df(pydough_output, sql_output, query_category=\"a\", question=\"a\")"
   ]
  },
  {
   "cell_type": "markdown",
   "metadata": {},
   "source": [
    "### What are the top 2 most frequently used device types for user sessions and their respective counts?"
   ]
  },
  {
   "cell_type": "code",
   "execution_count": 146,
   "metadata": {},
   "outputs": [
    {
     "data": {
      "text/html": [
       "<div>\n",
       "<style scoped>\n",
       "    .dataframe tbody tr th:only-of-type {\n",
       "        vertical-align: middle;\n",
       "    }\n",
       "\n",
       "    .dataframe tbody tr th {\n",
       "        vertical-align: top;\n",
       "    }\n",
       "\n",
       "    .dataframe thead th {\n",
       "        text-align: right;\n",
       "    }\n",
       "</style>\n",
       "<table border=\"1\" class=\"dataframe\">\n",
       "  <thead>\n",
       "    <tr style=\"text-align: right;\">\n",
       "      <th></th>\n",
       "      <th>device_type</th>\n",
       "      <th>COUNT</th>\n",
       "    </tr>\n",
       "  </thead>\n",
       "  <tbody>\n",
       "    <tr>\n",
       "      <th>0</th>\n",
       "      <td>web_app</td>\n",
       "      <td>15</td>\n",
       "    </tr>\n",
       "    <tr>\n",
       "      <th>1</th>\n",
       "      <td>mobile_app</td>\n",
       "      <td>8</td>\n",
       "    </tr>\n",
       "  </tbody>\n",
       "</table>\n",
       "</div>"
      ],
      "text/plain": [
       "  device_type  COUNT\n",
       "0     web_app     15\n",
       "1  mobile_app      8"
      ]
     },
     "execution_count": 146,
     "metadata": {},
     "output_type": "execute_result"
    }
   ],
   "source": [
    "query = '''\n",
    "SELECT device_type, COUNT(*) AS COUNT \n",
    "FROM user_sessions \n",
    "GROUP BY device_type \n",
    "ORDER BY CASE WHEN COUNT IS NULL THEN 1 ELSE 0 END DESC, COUNT DESC LIMIT 2;\n",
    "'''\n",
    "sql_output = pd.read_sql_query(query, connection)\n",
    "sql_output"
   ]
  },
  {
   "cell_type": "code",
   "execution_count": 147,
   "metadata": {},
   "outputs": [
    {
     "data": {
      "text/html": [
       "<div>\n",
       "<style scoped>\n",
       "    .dataframe tbody tr th:only-of-type {\n",
       "        vertical-align: middle;\n",
       "    }\n",
       "\n",
       "    .dataframe tbody tr th {\n",
       "        vertical-align: top;\n",
       "    }\n",
       "\n",
       "    .dataframe thead th {\n",
       "        text-align: right;\n",
       "    }\n",
       "</style>\n",
       "<table border=\"1\" class=\"dataframe\">\n",
       "  <thead>\n",
       "    <tr style=\"text-align: right;\">\n",
       "      <th></th>\n",
       "      <th>device_type</th>\n",
       "      <th>count</th>\n",
       "    </tr>\n",
       "  </thead>\n",
       "  <tbody>\n",
       "    <tr>\n",
       "      <th>0</th>\n",
       "      <td>web_app</td>\n",
       "      <td>15</td>\n",
       "    </tr>\n",
       "    <tr>\n",
       "      <th>1</th>\n",
       "      <td>mobile_app</td>\n",
       "      <td>8</td>\n",
       "    </tr>\n",
       "  </tbody>\n",
       "</table>\n",
       "</div>"
      ],
      "text/plain": [
       "  device_type  count\n",
       "0     web_app     15\n",
       "1  mobile_app      8"
      ]
     },
     "execution_count": 147,
     "metadata": {},
     "output_type": "execute_result"
    }
   ],
   "source": [
    "%%pydough\n",
    "\n",
    "selected_sessions= PARTITION(UserSessions, name=\"usession\", by=device_type)(\n",
    "    device_type=device_type,\n",
    "    count= COUNT(usession)\n",
    ")\n",
    "\n",
    "sorted_sessions= selected_sessions.TOP_K(2,count.DESC())\n",
    "\n",
    "#pydough.to_sql(output)\n",
    "pydough.to_df(sorted_sessions)"
   ]
  },
  {
   "cell_type": "code",
   "execution_count": 148,
   "metadata": {},
   "outputs": [
    {
     "data": {
      "text/plain": [
       "True"
      ]
     },
     "execution_count": 148,
     "metadata": {},
     "output_type": "execute_result"
    }
   ],
   "source": [
    "pydough_output = pydough.to_df(sorted_sessions)\n",
    "\n",
    "dfcompare.compare_df(pydough_output, sql_output, query_category=\"a\", question=\"a\")"
   ]
  },
  {
   "cell_type": "markdown",
   "metadata": {},
   "source": [
    "### What are the top 3 most common transaction statuses and their respective counts?"
   ]
  },
  {
   "cell_type": "code",
   "execution_count": 150,
   "metadata": {},
   "outputs": [
    {
     "data": {
      "text/html": [
       "<div>\n",
       "<style scoped>\n",
       "    .dataframe tbody tr th:only-of-type {\n",
       "        vertical-align: middle;\n",
       "    }\n",
       "\n",
       "    .dataframe tbody tr th {\n",
       "        vertical-align: top;\n",
       "    }\n",
       "\n",
       "    .dataframe thead th {\n",
       "        text-align: right;\n",
       "    }\n",
       "</style>\n",
       "<table border=\"1\" class=\"dataframe\">\n",
       "  <thead>\n",
       "    <tr style=\"text-align: right;\">\n",
       "      <th></th>\n",
       "      <th>status</th>\n",
       "      <th>COUNT</th>\n",
       "    </tr>\n",
       "  </thead>\n",
       "  <tbody>\n",
       "    <tr>\n",
       "      <th>0</th>\n",
       "      <td>success</td>\n",
       "      <td>19</td>\n",
       "    </tr>\n",
       "    <tr>\n",
       "      <th>1</th>\n",
       "      <td>pending</td>\n",
       "      <td>4</td>\n",
       "    </tr>\n",
       "    <tr>\n",
       "      <th>2</th>\n",
       "      <td>failed</td>\n",
       "      <td>2</td>\n",
       "    </tr>\n",
       "  </tbody>\n",
       "</table>\n",
       "</div>"
      ],
      "text/plain": [
       "    status  COUNT\n",
       "0  success     19\n",
       "1  pending      4\n",
       "2   failed      2"
      ]
     },
     "execution_count": 150,
     "metadata": {},
     "output_type": "execute_result"
    }
   ],
   "source": [
    "query = '''\n",
    "SELECT status, COUNT(*) AS COUNT FROM wallet_transactions_daily \n",
    "GROUP BY status \n",
    "ORDER BY CASE WHEN COUNT IS NULL THEN 1 ELSE 0 END DESC, COUNT DESC LIMIT 3;\n",
    "'''\n",
    "df = pd.read_sql_query(query, connection)\n",
    "df"
   ]
  },
  {
   "cell_type": "code",
   "execution_count": 149,
   "metadata": {},
   "outputs": [
    {
     "data": {
      "text/html": [
       "<div>\n",
       "<style scoped>\n",
       "    .dataframe tbody tr th:only-of-type {\n",
       "        vertical-align: middle;\n",
       "    }\n",
       "\n",
       "    .dataframe tbody tr th {\n",
       "        vertical-align: top;\n",
       "    }\n",
       "\n",
       "    .dataframe thead th {\n",
       "        text-align: right;\n",
       "    }\n",
       "</style>\n",
       "<table border=\"1\" class=\"dataframe\">\n",
       "  <thead>\n",
       "    <tr style=\"text-align: right;\">\n",
       "      <th></th>\n",
       "      <th>status</th>\n",
       "      <th>count</th>\n",
       "    </tr>\n",
       "  </thead>\n",
       "  <tbody>\n",
       "    <tr>\n",
       "      <th>0</th>\n",
       "      <td>success</td>\n",
       "      <td>19</td>\n",
       "    </tr>\n",
       "    <tr>\n",
       "      <th>1</th>\n",
       "      <td>pending</td>\n",
       "      <td>4</td>\n",
       "    </tr>\n",
       "    <tr>\n",
       "      <th>2</th>\n",
       "      <td>failed</td>\n",
       "      <td>2</td>\n",
       "    </tr>\n",
       "  </tbody>\n",
       "</table>\n",
       "</div>"
      ],
      "text/plain": [
       "    status  count\n",
       "0  success     19\n",
       "1  pending      4\n",
       "2   failed      2"
      ]
     },
     "execution_count": 149,
     "metadata": {},
     "output_type": "execute_result"
    }
   ],
   "source": [
    "%%pydough\n",
    "\n",
    "transactions_by_status= PARTITION(Transactions, name=\"t\", by=status)(\n",
    "    status=status,\n",
    "    count= COUNT(t)\n",
    ")\n",
    "\n",
    "sorted_transactions= transactions_by_status.TOP_K(3,count.DESC())\n",
    "\n",
    "#pydough.to_sql(output)\n",
    "pydough.to_df(sorted_transactions)"
   ]
  },
  {
   "cell_type": "code",
   "execution_count": 151,
   "metadata": {},
   "outputs": [
    {
     "data": {
      "text/plain": [
       "True"
      ]
     },
     "execution_count": 151,
     "metadata": {},
     "output_type": "execute_result"
    }
   ],
   "source": [
    "pydough_output = pydough.to_df(sorted_transactions)\n",
    "\n",
    "dfcompare.compare_df(pydough_output, df, query_category=\"a\", question=\"a\")"
   ]
  },
  {
   "cell_type": "markdown",
   "metadata": {},
   "source": [
    "### What are the top 3 most frequently used coupon codes? Return the coupon code, total number of redemptions, and total amount redeemed."
   ]
  },
  {
   "cell_type": "code",
   "execution_count": 152,
   "metadata": {},
   "outputs": [
    {
     "data": {
      "text/html": [
       "<div>\n",
       "<style scoped>\n",
       "    .dataframe tbody tr th:only-of-type {\n",
       "        vertical-align: middle;\n",
       "    }\n",
       "\n",
       "    .dataframe tbody tr th {\n",
       "        vertical-align: top;\n",
       "    }\n",
       "\n",
       "    .dataframe thead th {\n",
       "        text-align: right;\n",
       "    }\n",
       "</style>\n",
       "<table border=\"1\" class=\"dataframe\">\n",
       "  <thead>\n",
       "    <tr style=\"text-align: right;\">\n",
       "      <th></th>\n",
       "      <th>coupon_code</th>\n",
       "      <th>redemption_count</th>\n",
       "      <th>total_discount</th>\n",
       "    </tr>\n",
       "  </thead>\n",
       "  <tbody>\n",
       "    <tr>\n",
       "      <th>0</th>\n",
       "      <td>DINEDISCOUNT</td>\n",
       "      <td>2</td>\n",
       "      <td>52.750000</td>\n",
       "    </tr>\n",
       "    <tr>\n",
       "      <th>1</th>\n",
       "      <td>GLOWUP</td>\n",
       "      <td>2</td>\n",
       "      <td>125.000000</td>\n",
       "    </tr>\n",
       "    <tr>\n",
       "      <th>2</th>\n",
       "      <td>TECH20</td>\n",
       "      <td>2</td>\n",
       "      <td>36.000000</td>\n",
       "    </tr>\n",
       "  </tbody>\n",
       "</table>\n",
       "</div>"
      ],
      "text/plain": [
       "    coupon_code  redemption_count  total_discount\n",
       "0  DINEDISCOUNT                 2       52.750000\n",
       "1        GLOWUP                 2      125.000000\n",
       "2        TECH20                 2       36.000000"
      ]
     },
     "execution_count": 152,
     "metadata": {},
     "output_type": "execute_result"
    }
   ],
   "source": [
    "query = '''\n",
    "SELECT c.code AS coupon_code, COUNT(t.txid) AS redemption_count, SUM(t.amount) AS total_discount \n",
    "FROM coupons AS c JOIN wallet_transactions_daily AS t ON c.cid = t.coupon_id \n",
    "GROUP BY c.code \n",
    "ORDER BY CASE WHEN redemption_count IS NULL THEN 1 ELSE 0 END DESC, redemption_count DESC LIMIT 3;\n",
    "'''\n",
    "df = pd.read_sql_query(query, connection)\n",
    "df"
   ]
  },
  {
   "cell_type": "code",
   "execution_count": 153,
   "metadata": {},
   "outputs": [
    {
     "data": {
      "text/html": [
       "<div>\n",
       "<style scoped>\n",
       "    .dataframe tbody tr th:only-of-type {\n",
       "        vertical-align: middle;\n",
       "    }\n",
       "\n",
       "    .dataframe tbody tr th {\n",
       "        vertical-align: top;\n",
       "    }\n",
       "\n",
       "    .dataframe thead th {\n",
       "        text-align: right;\n",
       "    }\n",
       "</style>\n",
       "<table border=\"1\" class=\"dataframe\">\n",
       "  <thead>\n",
       "    <tr style=\"text-align: right;\">\n",
       "      <th></th>\n",
       "      <th>coupon_code</th>\n",
       "      <th>redemption_count</th>\n",
       "      <th>total_discount</th>\n",
       "    </tr>\n",
       "  </thead>\n",
       "  <tbody>\n",
       "    <tr>\n",
       "      <th>0</th>\n",
       "      <td>TECH20</td>\n",
       "      <td>2</td>\n",
       "      <td>36.000000</td>\n",
       "    </tr>\n",
       "    <tr>\n",
       "      <th>1</th>\n",
       "      <td>DINEDISCOUNT</td>\n",
       "      <td>2</td>\n",
       "      <td>52.750000</td>\n",
       "    </tr>\n",
       "    <tr>\n",
       "      <th>2</th>\n",
       "      <td>GLOWUP</td>\n",
       "      <td>2</td>\n",
       "      <td>125.000000</td>\n",
       "    </tr>\n",
       "  </tbody>\n",
       "</table>\n",
       "</div>"
      ],
      "text/plain": [
       "    coupon_code  redemption_count  total_discount\n",
       "0        TECH20                 2       36.000000\n",
       "1  DINEDISCOUNT                 2       52.750000\n",
       "2        GLOWUP                 2      125.000000"
      ]
     },
     "execution_count": 153,
     "metadata": {},
     "output_type": "execute_result"
    }
   ],
   "source": [
    "%%pydough\n",
    "\n",
    "coupons_by_code= Coupons(coupon_code= code, redemption_count=COUNT(transaction_used_in.txid), total_discount=SUM(transaction_used_in.amount))\n",
    "\n",
    "sorted_coupons= coupons_by_code.TOP_K(3,redemption_count.DESC())\n",
    "\n",
    "#pydough.to_sql(output)\n",
    "pydough.to_df(sorted_coupons)"
   ]
  },
  {
   "cell_type": "code",
   "execution_count": 154,
   "metadata": {},
   "outputs": [
    {
     "data": {
      "text/plain": [
       "np.True_"
      ]
     },
     "execution_count": 154,
     "metadata": {},
     "output_type": "execute_result"
    }
   ],
   "source": [
    "pydough_output = pydough.to_df(sorted_coupons)\n",
    "\n",
    "dfcompare.compare_df(pydough_output, df, query_category=\"a\", question=\"a\")"
   ]
  },
  {
   "cell_type": "markdown",
   "metadata": {},
   "source": [
    "### Which are the top 5 countries by total transaction amount sent by users, sender_type = 0? Return the country, number of distinct users who sent, and total transaction amount."
   ]
  },
  {
   "cell_type": "code",
   "execution_count": 155,
   "metadata": {},
   "outputs": [
    {
     "data": {
      "text/html": [
       "<div>\n",
       "<style scoped>\n",
       "    .dataframe tbody tr th:only-of-type {\n",
       "        vertical-align: middle;\n",
       "    }\n",
       "\n",
       "    .dataframe tbody tr th {\n",
       "        vertical-align: top;\n",
       "    }\n",
       "\n",
       "    .dataframe thead th {\n",
       "        text-align: right;\n",
       "    }\n",
       "</style>\n",
       "<table border=\"1\" class=\"dataframe\">\n",
       "  <thead>\n",
       "    <tr style=\"text-align: right;\">\n",
       "      <th></th>\n",
       "      <th>country</th>\n",
       "      <th>user_count</th>\n",
       "      <th>total_amount</th>\n",
       "    </tr>\n",
       "  </thead>\n",
       "  <tbody>\n",
       "    <tr>\n",
       "      <th>0</th>\n",
       "      <td>GB</td>\n",
       "      <td>1</td>\n",
       "      <td>2749.980000</td>\n",
       "    </tr>\n",
       "    <tr>\n",
       "      <th>1</th>\n",
       "      <td>CA</td>\n",
       "      <td>1</td>\n",
       "      <td>619.940000</td>\n",
       "    </tr>\n",
       "    <tr>\n",
       "      <th>2</th>\n",
       "      <td>US</td>\n",
       "      <td>1</td>\n",
       "      <td>344.980000</td>\n",
       "    </tr>\n",
       "    <tr>\n",
       "      <th>3</th>\n",
       "      <td>NZ</td>\n",
       "      <td>1</td>\n",
       "      <td>177.750000</td>\n",
       "    </tr>\n",
       "    <tr>\n",
       "      <th>4</th>\n",
       "      <td>DE</td>\n",
       "      <td>1</td>\n",
       "      <td>149.980000</td>\n",
       "    </tr>\n",
       "  </tbody>\n",
       "</table>\n",
       "</div>"
      ],
      "text/plain": [
       "  country  user_count  total_amount\n",
       "0      GB           1   2749.980000\n",
       "1      CA           1    619.940000\n",
       "2      US           1    344.980000\n",
       "3      NZ           1    177.750000\n",
       "4      DE           1    149.980000"
      ]
     },
     "execution_count": 155,
     "metadata": {},
     "output_type": "execute_result"
    }
   ],
   "source": [
    "query = '''\n",
    "SELECT u.country, COUNT(DISTINCT t.sender_id) AS user_count, SUM(t.amount) AS total_amount FROM users AS u \n",
    "JOIN wallet_transactions_daily AS t ON u.uid = t.sender_id \n",
    "WHERE t.sender_type = 0 \n",
    "GROUP BY u.country \n",
    "ORDER BY CASE WHEN total_amount IS NULL THEN 1 ELSE 0 END DESC, total_amount DESC LIMIT 5;\n",
    "'''\n",
    "df = pd.read_sql_query(query, connection)\n",
    "df"
   ]
  },
  {
   "cell_type": "code",
   "execution_count": 156,
   "metadata": {},
   "outputs": [
    {
     "data": {
      "text/html": [
       "<div>\n",
       "<style scoped>\n",
       "    .dataframe tbody tr th:only-of-type {\n",
       "        vertical-align: middle;\n",
       "    }\n",
       "\n",
       "    .dataframe tbody tr th {\n",
       "        vertical-align: top;\n",
       "    }\n",
       "\n",
       "    .dataframe thead th {\n",
       "        text-align: right;\n",
       "    }\n",
       "</style>\n",
       "<table border=\"1\" class=\"dataframe\">\n",
       "  <thead>\n",
       "    <tr style=\"text-align: right;\">\n",
       "      <th></th>\n",
       "      <th>country</th>\n",
       "      <th>user_count</th>\n",
       "      <th>total_amount</th>\n",
       "    </tr>\n",
       "  </thead>\n",
       "  <tbody>\n",
       "    <tr>\n",
       "      <th>0</th>\n",
       "      <td>GB</td>\n",
       "      <td>1</td>\n",
       "      <td>2749.980000</td>\n",
       "    </tr>\n",
       "    <tr>\n",
       "      <th>1</th>\n",
       "      <td>CA</td>\n",
       "      <td>1</td>\n",
       "      <td>619.940000</td>\n",
       "    </tr>\n",
       "    <tr>\n",
       "      <th>2</th>\n",
       "      <td>US</td>\n",
       "      <td>1</td>\n",
       "      <td>344.980000</td>\n",
       "    </tr>\n",
       "    <tr>\n",
       "      <th>3</th>\n",
       "      <td>NZ</td>\n",
       "      <td>1</td>\n",
       "      <td>177.750000</td>\n",
       "    </tr>\n",
       "    <tr>\n",
       "      <th>4</th>\n",
       "      <td>DE</td>\n",
       "      <td>1</td>\n",
       "      <td>149.980000</td>\n",
       "    </tr>\n",
       "  </tbody>\n",
       "</table>\n",
       "</div>"
      ],
      "text/plain": [
       "  country  user_count  total_amount\n",
       "0      GB           1   2749.980000\n",
       "1      CA           1    619.940000\n",
       "2      US           1    344.980000\n",
       "3      NZ           1    177.750000\n",
       "4      DE           1    149.980000"
      ]
     },
     "execution_count": 156,
     "metadata": {},
     "output_type": "execute_result"
    }
   ],
   "source": [
    "%%pydough\n",
    "\n",
    "transactions_by_sending_users= Transactions.WHERE(sender_type==0)(country= sending_user.country)\n",
    "\n",
    "output= PARTITION(transactions_by_sending_users, name=\"t\", by=country)(\n",
    "    country=country,\n",
    "    user_count= NDISTINCT(t.sender_id),\n",
    "    total_amount= SUM(t.amount)\n",
    ").TOP_K(5,total_amount.DESC())\n",
    "\n",
    "#pydough.to_sql(output)\n",
    "pydough.to_df(output)"
   ]
  },
  {
   "cell_type": "code",
   "execution_count": 157,
   "metadata": {},
   "outputs": [
    {
     "data": {
      "text/plain": [
       "True"
      ]
     },
     "execution_count": 157,
     "metadata": {},
     "output_type": "execute_result"
    }
   ],
   "source": [
    "pydough_output = pydough.to_df(output)\n",
    "\n",
    "dfcompare.compare_df(pydough_output, df, query_category=\"a\", question=\"a\")"
   ]
  },
  {
   "cell_type": "markdown",
   "metadata": {},
   "source": [
    "### Who are the top 2 merchants (receiver type 1) by total transaction amount in the past 150 days (inclusive of 150 days ago)? Return the merchant name, total number of transactions, and total transaction amount."
   ]
  },
  {
   "cell_type": "code",
   "execution_count": 158,
   "metadata": {},
   "outputs": [
    {
     "data": {
      "text/html": [
       "<div>\n",
       "<style scoped>\n",
       "    .dataframe tbody tr th:only-of-type {\n",
       "        vertical-align: middle;\n",
       "    }\n",
       "\n",
       "    .dataframe tbody tr th {\n",
       "        vertical-align: top;\n",
       "    }\n",
       "\n",
       "    .dataframe thead th {\n",
       "        text-align: right;\n",
       "    }\n",
       "</style>\n",
       "<table border=\"1\" class=\"dataframe\">\n",
       "  <thead>\n",
       "    <tr style=\"text-align: right;\">\n",
       "      <th></th>\n",
       "      <th>merchant_name</th>\n",
       "      <th>total_transactions</th>\n",
       "      <th>total_amount</th>\n",
       "    </tr>\n",
       "  </thead>\n",
       "  <tbody>\n",
       "    <tr>\n",
       "      <th>0</th>\n",
       "      <td>TechMart</td>\n",
       "      <td>2</td>\n",
       "      <td>399.980000</td>\n",
       "    </tr>\n",
       "    <tr>\n",
       "      <th>1</th>\n",
       "      <td>HandyCraft</td>\n",
       "      <td>1</td>\n",
       "      <td>199.990000</td>\n",
       "    </tr>\n",
       "  </tbody>\n",
       "</table>\n",
       "</div>"
      ],
      "text/plain": [
       "  merchant_name  total_transactions  total_amount\n",
       "0      TechMart                   2    399.980000\n",
       "1    HandyCraft                   1    199.990000"
      ]
     },
     "execution_count": 158,
     "metadata": {},
     "output_type": "execute_result"
    }
   ],
   "source": [
    "query = '''\n",
    "SELECT m.name AS merchant_name, COUNT(t.txid) AS total_transactions, SUM(t.amount) AS total_amount \n",
    "FROM merchants AS m \n",
    "JOIN wallet_transactions_daily AS t ON m.mid = t.receiver_id \n",
    "WHERE t.receiver_type = 1 AND t.created_at >= DATE('now', '-150 days') \n",
    "GROUP BY m.name \n",
    "ORDER BY total_amount DESC LIMIT 2;\n",
    "'''\n",
    "df = pd.read_sql_query(query, connection)\n",
    "df\n"
   ]
  },
  {
   "cell_type": "code",
   "execution_count": 159,
   "metadata": {},
   "outputs": [
    {
     "data": {
      "text/html": [
       "<div>\n",
       "<style scoped>\n",
       "    .dataframe tbody tr th:only-of-type {\n",
       "        vertical-align: middle;\n",
       "    }\n",
       "\n",
       "    .dataframe tbody tr th {\n",
       "        vertical-align: top;\n",
       "    }\n",
       "\n",
       "    .dataframe thead th {\n",
       "        text-align: right;\n",
       "    }\n",
       "</style>\n",
       "<table border=\"1\" class=\"dataframe\">\n",
       "  <thead>\n",
       "    <tr style=\"text-align: right;\">\n",
       "      <th></th>\n",
       "      <th>merchant_name</th>\n",
       "      <th>total_transactions</th>\n",
       "      <th>total_amount</th>\n",
       "    </tr>\n",
       "  </thead>\n",
       "  <tbody>\n",
       "    <tr>\n",
       "      <th>0</th>\n",
       "      <td>TechMart</td>\n",
       "      <td>2</td>\n",
       "      <td>399.980000</td>\n",
       "    </tr>\n",
       "    <tr>\n",
       "      <th>1</th>\n",
       "      <td>HandyCraft</td>\n",
       "      <td>1</td>\n",
       "      <td>199.990000</td>\n",
       "    </tr>\n",
       "  </tbody>\n",
       "</table>\n",
       "</div>"
      ],
      "text/plain": [
       "  merchant_name  total_transactions  total_amount\n",
       "0      TechMart                   2    399.980000\n",
       "1    HandyCraft                   1    199.990000"
      ]
     },
     "execution_count": 159,
     "metadata": {},
     "output_type": "execute_result"
    }
   ],
   "source": [
    "%%pydough\n",
    "\n",
    "# Retrieve transactions where the receiver type is 1 (merchant) and the transaction date is after October 9th, 2024\n",
    "selected_transactions = transactions_received.WHERE(\n",
    " (receiver_type == 1) & (created_at >= \"2024-10-09\")\n",
    ")\n",
    "\n",
    "merchant_transaction_summary=Merchants(\n",
    " merchant_name = name,\n",
    " total_transactions = COUNT(selected_transactions),\n",
    " total_amount = SUM(selected_transactions.amount),\n",
    ").TOP_K(2, by=total_amount.DESC())\n",
    "#pydough.to_sql(output)\n",
    "pydough.to_df(merchant_transaction_summary)"
   ]
  },
  {
   "cell_type": "code",
   "execution_count": 160,
   "metadata": {},
   "outputs": [
    {
     "data": {
      "text/plain": [
       "True"
      ]
     },
     "execution_count": 160,
     "metadata": {},
     "output_type": "execute_result"
    }
   ],
   "source": [
    "pydough_output = pydough.to_df(merchant_transaction_summary)\n",
    "\n",
    "dfcompare.compare_df(pydough_output, df, query_category=\"a\", question=\"a\")"
   ]
  },
  {
   "cell_type": "code",
   "execution_count": null,
   "metadata": {},
   "outputs": [
    {
     "data": {
      "text/html": [
       "<div>\n",
       "<style scoped>\n",
       "    .dataframe tbody tr th:only-of-type {\n",
       "        vertical-align: middle;\n",
       "    }\n",
       "\n",
       "    .dataframe tbody tr th {\n",
       "        vertical-align: top;\n",
       "    }\n",
       "\n",
       "    .dataframe thead th {\n",
       "        text-align: right;\n",
       "    }\n",
       "</style>\n",
       "<table border=\"1\" class=\"dataframe\">\n",
       "  <thead>\n",
       "    <tr style=\"text-align: right;\">\n",
       "      <th></th>\n",
       "      <th>m_name</th>\n",
       "      <th>total_transactions</th>\n",
       "      <th>total_amount</th>\n",
       "    </tr>\n",
       "  </thead>\n",
       "  <tbody>\n",
       "    <tr>\n",
       "      <th>0</th>\n",
       "      <td>TechMart</td>\n",
       "      <td>2</td>\n",
       "      <td>399.98</td>\n",
       "    </tr>\n",
       "    <tr>\n",
       "      <th>1</th>\n",
       "      <td>HandyCraft</td>\n",
       "      <td>1</td>\n",
       "      <td>199.99</td>\n",
       "    </tr>\n",
       "  </tbody>\n",
       "</table>\n",
       "</div>"
      ],
      "text/plain": [
       "       m_name  total_transactions  total_amount\n",
       "0    TechMart                   2        399.98\n",
       "1  HandyCraft                   1        199.99"
      ]
     },
     "metadata": {},
     "output_type": "display_data"
    }
   ],
   "source": [
    "%%pydough\n",
    "\n",
    "# Retrieve transactions where the receiver type is 1 (merchant) and the transaction date is after October 9th, 2024\n",
    "transactions_from_sending_users = Transactions.WHERE(\n",
    "    (receiver_type == 1) & (created_at >= \"2024-10-09\") \n",
    ")(merchant_name=receiving_merchant.name)  \n",
    "\n",
    "# Partition the selected transactions by merchant name and calculate the total number of transactions and total amount for each merchant\n",
    "merchant_transaction_summary = PARTITION(transactions_from_sending_users, name=\"transaction\", by=m_name)(\n",
    "    merchant_name=m_name,  \n",
    "    total_transactions=COUNT(transaction), \n",
    "    total_amount=SUM(transaction.amount) \n",
    ").TOP_K(2, total_amount.DESC())  \n",
    "#pydough.to_sql(output)\n",
    "pydough.to_df(output)"
   ]
  },
  {
   "cell_type": "markdown",
   "metadata": {},
   "source": [
    "### Give me today's median merchant wallet balance for all active merchants whose category contains 'retail'"
   ]
  },
  {
   "cell_type": "code",
   "execution_count": 49,
   "metadata": {},
   "outputs": [
    {
     "data": {
      "text/html": [
       "<div>\n",
       "<style scoped>\n",
       "    .dataframe tbody tr th:only-of-type {\n",
       "        vertical-align: middle;\n",
       "    }\n",
       "\n",
       "    .dataframe tbody tr th {\n",
       "        vertical-align: top;\n",
       "    }\n",
       "\n",
       "    .dataframe thead th {\n",
       "        text-align: right;\n",
       "    }\n",
       "</style>\n",
       "<table border=\"1\" class=\"dataframe\">\n",
       "  <thead>\n",
       "    <tr style=\"text-align: right;\">\n",
       "      <th></th>\n",
       "      <th>median_balance</th>\n",
       "    </tr>\n",
       "  </thead>\n",
       "  <tbody>\n",
       "    <tr>\n",
       "      <th>0</th>\n",
       "      <td>164.485</td>\n",
       "    </tr>\n",
       "  </tbody>\n",
       "</table>\n",
       "</div>"
      ],
      "text/plain": [
       "   median_balance\n",
       "0         164.485"
      ]
     },
     "execution_count": 49,
     "metadata": {},
     "output_type": "execute_result"
    }
   ],
   "source": [
    "query = '''\n",
    "WITH retail_merchants AS (\n",
    "    SELECT mid\n",
    "    FROM merchants\n",
    "    WHERE LOWER(category) LIKE LOWER('%retail%')\n",
    "      AND status = 'active'\n",
    "), \n",
    "merchant_balances AS (\n",
    "    SELECT balance\n",
    "    FROM wallet_merchant_balance_daily AS wmbd\n",
    "    JOIN retail_merchants AS rm\n",
    "        ON wmbd.merchant_id = rm.mid\n",
    "    WHERE DATE(wmbd.updated_at) = date('now','-611 days')\n",
    ")\n",
    "SELECT AVG(balance) AS median_balance\n",
    "FROM (\n",
    "    SELECT balance\n",
    "    FROM merchant_balances\n",
    "    ORDER BY balance\n",
    "    LIMIT 2 - (SELECT COUNT(*) FROM merchant_balances) % 2\n",
    "    OFFSET (SELECT (COUNT(*) - 1) / 2 FROM merchant_balances)\n",
    ");\n",
    "'''\n",
    "df = pd.read_sql_query(query, connection)\n",
    "df"
   ]
  },
  {
   "cell_type": "code",
   "execution_count": null,
   "metadata": {},
   "outputs": [
    {
     "ename": "PyDoughQDAGException",
     "evalue": "Unrecognized term of simple table collection 'Merchants' in graph 'Ewallet': 'sending_merchant'",
     "output_type": "error",
     "traceback": [
      "\u001b[0;31m---------------------------------------------------------------------------\u001b[0m",
      "\u001b[0;31mPyDoughQDAGException\u001b[0m                      Traceback (most recent call last)",
      "Cell \u001b[0;32mIn[37], line 5\u001b[0m\n\u001b[1;32m      3\u001b[0m selected_transactions \u001b[38;5;241m=\u001b[39m _ROOT\u001b[38;5;241m.\u001b[39msending_merchant\u001b[38;5;241m.\u001b[39mWHERE(_ROOT\u001b[38;5;241m.\u001b[39mCONTAINS(_ROOT\u001b[38;5;241m.\u001b[39mLOWER(_ROOT\u001b[38;5;241m.\u001b[39mcategory), \u001b[38;5;124m'\u001b[39m\u001b[38;5;132;01m%r\u001b[39;00m\u001b[38;5;124metail\u001b[39m\u001b[38;5;124m%\u001b[39m\u001b[38;5;124m'\u001b[39m) \u001b[38;5;241m&\u001b[39m (_ROOT\u001b[38;5;241m.\u001b[39mstatus \u001b[38;5;241m==\u001b[39m \u001b[38;5;124m'\u001b[39m\u001b[38;5;124mactive\u001b[39m\u001b[38;5;124m'\u001b[39m))\n\u001b[1;32m      4\u001b[0m merchant_transaction_summary \u001b[38;5;241m=\u001b[39m _ROOT\u001b[38;5;241m.\u001b[39mMerchants(merchant_name\u001b[38;5;241m=\u001b[39m_ROOT\u001b[38;5;241m.\u001b[39mname, total_transactions\u001b[38;5;241m=\u001b[39m_ROOT\u001b[38;5;241m.\u001b[39mCOUNT(selected_transactions), total_amount\u001b[38;5;241m=\u001b[39m_ROOT\u001b[38;5;241m.\u001b[39mSUM(selected_transactions\u001b[38;5;241m.\u001b[39mamount))\u001b[38;5;241m.\u001b[39mTOP_K(\u001b[38;5;241m2\u001b[39m, by\u001b[38;5;241m=\u001b[39m_ROOT\u001b[38;5;241m.\u001b[39mtotal_amount\u001b[38;5;241m.\u001b[39mDESC())\n\u001b[0;32m----> 5\u001b[0m \u001b[43mpydough\u001b[49m\u001b[38;5;241;43m.\u001b[39;49m\u001b[43mto_df\u001b[49m\u001b[43m(\u001b[49m\u001b[43mmerchant_transaction_summary\u001b[49m\u001b[43m)\u001b[49m\n",
      "File \u001b[0;32m~/miniconda3/envs/pydough-bodo/lib/python3.12/site-packages/pydough/evaluation/evaluate_unqualified.py:120\u001b[0m, in \u001b[0;36mto_df\u001b[0;34m(node, **kwargs)\u001b[0m\n\u001b[1;32m    118\u001b[0m display_sql: \u001b[38;5;28mbool\u001b[39m \u001b[38;5;241m=\u001b[39m \u001b[38;5;28mbool\u001b[39m(kwargs\u001b[38;5;241m.\u001b[39mpop(\u001b[38;5;124m\"\u001b[39m\u001b[38;5;124mdisplay_sql\u001b[39m\u001b[38;5;124m\"\u001b[39m, \u001b[38;5;28;01mFalse\u001b[39;00m))\n\u001b[1;32m    119\u001b[0m graph, config, database, bindings \u001b[38;5;241m=\u001b[39m _load_session_info(\u001b[38;5;241m*\u001b[39m\u001b[38;5;241m*\u001b[39mkwargs)\n\u001b[0;32m--> 120\u001b[0m qualified: PyDoughQDAG \u001b[38;5;241m=\u001b[39m \u001b[43mqualify_node\u001b[49m\u001b[43m(\u001b[49m\u001b[43mnode\u001b[49m\u001b[43m,\u001b[49m\u001b[43m \u001b[49m\u001b[43mgraph\u001b[49m\u001b[43m)\u001b[49m\n\u001b[1;32m    121\u001b[0m \u001b[38;5;28;01mif\u001b[39;00m \u001b[38;5;129;01mnot\u001b[39;00m \u001b[38;5;28misinstance\u001b[39m(qualified, PyDoughCollectionQDAG):\n\u001b[1;32m    122\u001b[0m     \u001b[38;5;28;01mraise\u001b[39;00m \u001b[38;5;167;01mTypeError\u001b[39;00m(\n\u001b[1;32m    123\u001b[0m         \u001b[38;5;124mf\u001b[39m\u001b[38;5;124m\"\u001b[39m\u001b[38;5;124mFinal qualified expression must be a collection, found \u001b[39m\u001b[38;5;132;01m{\u001b[39;00mqualified\u001b[38;5;241m.\u001b[39m\u001b[38;5;18m__class__\u001b[39m\u001b[38;5;241m.\u001b[39m\u001b[38;5;18m__name__\u001b[39m\u001b[38;5;132;01m}\u001b[39;00m\u001b[38;5;124m\"\u001b[39m\n\u001b[1;32m    124\u001b[0m     )\n",
      "File \u001b[0;32m~/miniconda3/envs/pydough-bodo/lib/python3.12/site-packages/pydough/unqualified/qualification.py:835\u001b[0m, in \u001b[0;36mqualify_node\u001b[0;34m(unqualified, graph)\u001b[0m\n\u001b[1;32m    817\u001b[0m \u001b[38;5;250m\u001b[39m\u001b[38;5;124;03m\"\"\"\u001b[39;00m\n\u001b[1;32m    818\u001b[0m \u001b[38;5;124;03mTransforms an UnqualifiedNode into a qualified node.\u001b[39;00m\n\u001b[1;32m    819\u001b[0m \n\u001b[0;32m   (...)\u001b[0m\n\u001b[1;32m    832\u001b[0m \u001b[38;5;124;03m    qualified or is not recognized.\u001b[39;00m\n\u001b[1;32m    833\u001b[0m \u001b[38;5;124;03m\"\"\"\u001b[39;00m\n\u001b[1;32m    834\u001b[0m qual: Qualifier \u001b[38;5;241m=\u001b[39m Qualifier(graph)\n\u001b[0;32m--> 835\u001b[0m \u001b[38;5;28;01mreturn\u001b[39;00m \u001b[43mqual\u001b[49m\u001b[38;5;241;43m.\u001b[39;49m\u001b[43mqualify_node\u001b[49m\u001b[43m(\u001b[49m\n\u001b[1;32m    836\u001b[0m \u001b[43m    \u001b[49m\u001b[43munqualified\u001b[49m\u001b[43m,\u001b[49m\u001b[43m \u001b[49m\u001b[43mqual\u001b[49m\u001b[38;5;241;43m.\u001b[39;49m\u001b[43mbuilder\u001b[49m\u001b[38;5;241;43m.\u001b[39;49m\u001b[43mbuild_global_context\u001b[49m\u001b[43m(\u001b[49m\u001b[43m)\u001b[49m\u001b[43m,\u001b[49m\u001b[43m \u001b[49m\u001b[43m[\u001b[49m\u001b[43m]\u001b[49m\u001b[43m,\u001b[49m\u001b[43m \u001b[49m\u001b[38;5;28;43;01mFalse\u001b[39;49;00m\n\u001b[1;32m    837\u001b[0m \u001b[43m\u001b[49m\u001b[43m)\u001b[49m\n",
      "File \u001b[0;32m~/miniconda3/envs/pydough-bodo/lib/python3.12/site-packages/pydough/unqualified/qualification.py:794\u001b[0m, in \u001b[0;36mQualifier.qualify_node\u001b[0;34m(self, unqualified, context, children, is_child)\u001b[0m\n\u001b[1;32m    792\u001b[0m     answer \u001b[38;5;241m=\u001b[39m \u001b[38;5;28mself\u001b[39m\u001b[38;5;241m.\u001b[39mqualify_order_by(unqualified, context, is_child)\n\u001b[1;32m    793\u001b[0m \u001b[38;5;28;01mcase\u001b[39;00m UnqualifiedTopK():\n\u001b[0;32m--> 794\u001b[0m     answer \u001b[38;5;241m=\u001b[39m \u001b[38;5;28;43mself\u001b[39;49m\u001b[38;5;241;43m.\u001b[39;49m\u001b[43mqualify_top_k\u001b[49m\u001b[43m(\u001b[49m\u001b[43munqualified\u001b[49m\u001b[43m,\u001b[49m\u001b[43m \u001b[49m\u001b[43mcontext\u001b[49m\u001b[43m,\u001b[49m\u001b[43m \u001b[49m\u001b[43mis_child\u001b[49m\u001b[43m)\u001b[49m\n\u001b[1;32m    795\u001b[0m \u001b[38;5;28;01mcase\u001b[39;00m UnqualifiedPartition():\n\u001b[1;32m    796\u001b[0m     answer \u001b[38;5;241m=\u001b[39m \u001b[38;5;28mself\u001b[39m\u001b[38;5;241m.\u001b[39mqualify_partition(unqualified, context, is_child)\n",
      "File \u001b[0;32m~/miniconda3/envs/pydough-bodo/lib/python3.12/site-packages/pydough/unqualified/qualification.py:598\u001b[0m, in \u001b[0;36mQualifier.qualify_top_k\u001b[0;34m(self, unqualified, context, is_child)\u001b[0m\n\u001b[1;32m    594\u001b[0m \u001b[38;5;28;01massert\u001b[39;00m (\n\u001b[1;32m    595\u001b[0m     unqualified\u001b[38;5;241m.\u001b[39m_parcel[\u001b[38;5;241m2\u001b[39m] \u001b[38;5;129;01mis\u001b[39;00m \u001b[38;5;129;01mnot\u001b[39;00m \u001b[38;5;28;01mNone\u001b[39;00m\n\u001b[1;32m    596\u001b[0m ), \u001b[38;5;124m\"\u001b[39m\u001b[38;5;124mTopK does not currently support an implied \u001b[39m\u001b[38;5;124m'\u001b[39m\u001b[38;5;124mby\u001b[39m\u001b[38;5;124m'\u001b[39m\u001b[38;5;124m clause.\u001b[39m\u001b[38;5;124m\"\u001b[39m\n\u001b[1;32m    597\u001b[0m unqualified_terms: MutableSequence[UnqualifiedNode] \u001b[38;5;241m=\u001b[39m unqualified\u001b[38;5;241m.\u001b[39m_parcel[\u001b[38;5;241m2\u001b[39m]\n\u001b[0;32m--> 598\u001b[0m qualified_parent: PyDoughCollectionQDAG \u001b[38;5;241m=\u001b[39m \u001b[38;5;28;43mself\u001b[39;49m\u001b[38;5;241;43m.\u001b[39;49m\u001b[43mqualify_collection\u001b[49m\u001b[43m(\u001b[49m\n\u001b[1;32m    599\u001b[0m \u001b[43m    \u001b[49m\u001b[43munqualified_parent\u001b[49m\u001b[43m,\u001b[49m\u001b[43m \u001b[49m\u001b[43mcontext\u001b[49m\u001b[43m,\u001b[49m\u001b[43m \u001b[49m\u001b[43mis_child\u001b[49m\n\u001b[1;32m    600\u001b[0m \u001b[43m\u001b[49m\u001b[43m)\u001b[49m\n\u001b[1;32m    601\u001b[0m \u001b[38;5;66;03m# Qualify all of the collation terms, storing the children built along\u001b[39;00m\n\u001b[1;32m    602\u001b[0m \u001b[38;5;66;03m# the way.\u001b[39;00m\n\u001b[1;32m    603\u001b[0m children: MutableSequence[PyDoughCollectionQDAG] \u001b[38;5;241m=\u001b[39m []\n",
      "File \u001b[0;32m~/miniconda3/envs/pydough-bodo/lib/python3.12/site-packages/pydough/unqualified/qualification.py:706\u001b[0m, in \u001b[0;36mQualifier.qualify_collection\u001b[0;34m(self, unqualified, context, is_child)\u001b[0m\n\u001b[1;32m    681\u001b[0m \u001b[38;5;28;01mdef\u001b[39;00m\u001b[38;5;250m \u001b[39m\u001b[38;5;21mqualify_collection\u001b[39m(\n\u001b[1;32m    682\u001b[0m     \u001b[38;5;28mself\u001b[39m,\n\u001b[1;32m    683\u001b[0m     unqualified: UnqualifiedNode,\n\u001b[1;32m    684\u001b[0m     context: PyDoughCollectionQDAG,\n\u001b[1;32m    685\u001b[0m     is_child: \u001b[38;5;28mbool\u001b[39m,\n\u001b[1;32m    686\u001b[0m ) \u001b[38;5;241m-\u001b[39m\u001b[38;5;241m>\u001b[39m PyDoughCollectionQDAG:\n\u001b[1;32m    687\u001b[0m \u001b[38;5;250m    \u001b[39m\u001b[38;5;124;03m\"\"\"\u001b[39;00m\n\u001b[1;32m    688\u001b[0m \u001b[38;5;124;03m    Transforms an `UnqualifiedNode` into a PyDoughCollectionQDAG node.\u001b[39;00m\n\u001b[1;32m    689\u001b[0m \n\u001b[0;32m   (...)\u001b[0m\n\u001b[1;32m    704\u001b[0m \u001b[38;5;124;03m        qualified or is not recognized.\u001b[39;00m\n\u001b[1;32m    705\u001b[0m \u001b[38;5;124;03m    \"\"\"\u001b[39;00m\n\u001b[0;32m--> 706\u001b[0m     answer: PyDoughQDAG \u001b[38;5;241m=\u001b[39m \u001b[38;5;28;43mself\u001b[39;49m\u001b[38;5;241;43m.\u001b[39;49m\u001b[43mqualify_node\u001b[49m\u001b[43m(\u001b[49m\u001b[43munqualified\u001b[49m\u001b[43m,\u001b[49m\u001b[43m \u001b[49m\u001b[43mcontext\u001b[49m\u001b[43m,\u001b[49m\u001b[43m \u001b[49m\u001b[43m[\u001b[49m\u001b[43m]\u001b[49m\u001b[43m,\u001b[49m\u001b[43m \u001b[49m\u001b[43mis_child\u001b[49m\u001b[43m)\u001b[49m\n\u001b[1;32m    707\u001b[0m     \u001b[38;5;28;01mif\u001b[39;00m \u001b[38;5;129;01mnot\u001b[39;00m \u001b[38;5;28misinstance\u001b[39m(answer, PyDoughCollectionQDAG):\n\u001b[1;32m    708\u001b[0m         \u001b[38;5;28;01mraise\u001b[39;00m PyDoughUnqualifiedException(\n\u001b[1;32m    709\u001b[0m             \u001b[38;5;124mf\u001b[39m\u001b[38;5;124m\"\u001b[39m\u001b[38;5;124mExpected a collection, but received an expression: \u001b[39m\u001b[38;5;132;01m{\u001b[39;00manswer\u001b[38;5;132;01m}\u001b[39;00m\u001b[38;5;124m\"\u001b[39m\n\u001b[1;32m    710\u001b[0m         )\n",
      "File \u001b[0;32m~/miniconda3/envs/pydough-bodo/lib/python3.12/site-packages/pydough/unqualified/qualification.py:788\u001b[0m, in \u001b[0;36mQualifier.qualify_node\u001b[0;34m(self, unqualified, context, children, is_child)\u001b[0m\n\u001b[1;32m    786\u001b[0m     answer \u001b[38;5;241m=\u001b[39m \u001b[38;5;28mself\u001b[39m\u001b[38;5;241m.\u001b[39mqualify_access(unqualified, context, children, is_child)\n\u001b[1;32m    787\u001b[0m \u001b[38;5;28;01mcase\u001b[39;00m UnqualifiedCalc():\n\u001b[0;32m--> 788\u001b[0m     answer \u001b[38;5;241m=\u001b[39m \u001b[38;5;28;43mself\u001b[39;49m\u001b[38;5;241;43m.\u001b[39;49m\u001b[43mqualify_calc\u001b[49m\u001b[43m(\u001b[49m\u001b[43munqualified\u001b[49m\u001b[43m,\u001b[49m\u001b[43m \u001b[49m\u001b[43mcontext\u001b[49m\u001b[43m,\u001b[49m\u001b[43m \u001b[49m\u001b[43mis_child\u001b[49m\u001b[43m)\u001b[49m\n\u001b[1;32m    789\u001b[0m \u001b[38;5;28;01mcase\u001b[39;00m UnqualifiedWhere():\n\u001b[1;32m    790\u001b[0m     answer \u001b[38;5;241m=\u001b[39m \u001b[38;5;28mself\u001b[39m\u001b[38;5;241m.\u001b[39mqualify_where(unqualified, context, is_child)\n",
      "File \u001b[0;32m~/miniconda3/envs/pydough-bodo/lib/python3.12/site-packages/pydough/unqualified/qualification.py:471\u001b[0m, in \u001b[0;36mQualifier.qualify_calc\u001b[0;34m(self, unqualified, context, is_child)\u001b[0m\n\u001b[1;32m    469\u001b[0m qualified_terms: MutableSequence[\u001b[38;5;28mtuple\u001b[39m[\u001b[38;5;28mstr\u001b[39m, PyDoughExpressionQDAG]] \u001b[38;5;241m=\u001b[39m []\n\u001b[1;32m    470\u001b[0m \u001b[38;5;28;01mfor\u001b[39;00m name, term \u001b[38;5;129;01min\u001b[39;00m unqualified_terms:\n\u001b[0;32m--> 471\u001b[0m     qualified_term \u001b[38;5;241m=\u001b[39m \u001b[38;5;28;43mself\u001b[39;49m\u001b[38;5;241;43m.\u001b[39;49m\u001b[43mqualify_expression\u001b[49m\u001b[43m(\u001b[49m\u001b[43mterm\u001b[49m\u001b[43m,\u001b[49m\u001b[43m \u001b[49m\u001b[43mqualified_parent\u001b[49m\u001b[43m,\u001b[49m\u001b[43m \u001b[49m\u001b[43mchildren\u001b[49m\u001b[43m)\u001b[49m\n\u001b[1;32m    472\u001b[0m     qualified_terms\u001b[38;5;241m.\u001b[39mappend((name, qualified_term))\n\u001b[1;32m    473\u001b[0m \u001b[38;5;66;03m# Use the qualified children & terms to create a new CALC node.\u001b[39;00m\n",
      "File \u001b[0;32m~/miniconda3/envs/pydough-bodo/lib/python3.12/site-packages/pydough/unqualified/qualification.py:737\u001b[0m, in \u001b[0;36mQualifier.qualify_expression\u001b[0;34m(self, unqualified, context, children)\u001b[0m\n\u001b[1;32m    713\u001b[0m \u001b[38;5;28;01mdef\u001b[39;00m\u001b[38;5;250m \u001b[39m\u001b[38;5;21mqualify_expression\u001b[39m(\n\u001b[1;32m    714\u001b[0m     \u001b[38;5;28mself\u001b[39m,\n\u001b[1;32m    715\u001b[0m     unqualified: UnqualifiedNode,\n\u001b[1;32m    716\u001b[0m     context: PyDoughCollectionQDAG,\n\u001b[1;32m    717\u001b[0m     children: MutableSequence[PyDoughCollectionQDAG],\n\u001b[1;32m    718\u001b[0m ) \u001b[38;5;241m-\u001b[39m\u001b[38;5;241m>\u001b[39m PyDoughExpressionQDAG:\n\u001b[1;32m    719\u001b[0m \u001b[38;5;250m    \u001b[39m\u001b[38;5;124;03m\"\"\"\u001b[39;00m\n\u001b[1;32m    720\u001b[0m \u001b[38;5;124;03m    Transforms an `UnqualifiedNode` into a PyDoughExpressionQDAG node.\u001b[39;00m\n\u001b[1;32m    721\u001b[0m \n\u001b[0;32m   (...)\u001b[0m\n\u001b[1;32m    735\u001b[0m \u001b[38;5;124;03m        qualified or is not recognized.\u001b[39;00m\n\u001b[1;32m    736\u001b[0m \u001b[38;5;124;03m    \"\"\"\u001b[39;00m\n\u001b[0;32m--> 737\u001b[0m     answer: PyDoughQDAG \u001b[38;5;241m=\u001b[39m \u001b[38;5;28;43mself\u001b[39;49m\u001b[38;5;241;43m.\u001b[39;49m\u001b[43mqualify_node\u001b[49m\u001b[43m(\u001b[49m\u001b[43munqualified\u001b[49m\u001b[43m,\u001b[49m\u001b[43m \u001b[49m\u001b[43mcontext\u001b[49m\u001b[43m,\u001b[49m\u001b[43m \u001b[49m\u001b[43mchildren\u001b[49m\u001b[43m,\u001b[49m\u001b[43m \u001b[49m\u001b[38;5;28;43;01mTrue\u001b[39;49;00m\u001b[43m)\u001b[49m\n\u001b[1;32m    738\u001b[0m     \u001b[38;5;28;01mif\u001b[39;00m \u001b[38;5;129;01mnot\u001b[39;00m \u001b[38;5;28misinstance\u001b[39m(answer, PyDoughExpressionQDAG):\n\u001b[1;32m    739\u001b[0m         \u001b[38;5;28;01mraise\u001b[39;00m PyDoughUnqualifiedException(\n\u001b[1;32m    740\u001b[0m             \u001b[38;5;124mf\u001b[39m\u001b[38;5;124m\"\u001b[39m\u001b[38;5;124mExpected an expression, but received a collection: \u001b[39m\u001b[38;5;132;01m{\u001b[39;00manswer\u001b[38;5;132;01m}\u001b[39;00m\u001b[38;5;124m\"\u001b[39m\n\u001b[1;32m    741\u001b[0m         )\n",
      "File \u001b[0;32m~/miniconda3/envs/pydough-bodo/lib/python3.12/site-packages/pydough/unqualified/qualification.py:800\u001b[0m, in \u001b[0;36mQualifier.qualify_node\u001b[0;34m(self, unqualified, context, children, is_child)\u001b[0m\n\u001b[1;32m    798\u001b[0m     answer \u001b[38;5;241m=\u001b[39m \u001b[38;5;28mself\u001b[39m\u001b[38;5;241m.\u001b[39mqualify_literal(unqualified)\n\u001b[1;32m    799\u001b[0m \u001b[38;5;28;01mcase\u001b[39;00m UnqualifiedOperation():\n\u001b[0;32m--> 800\u001b[0m     answer \u001b[38;5;241m=\u001b[39m \u001b[38;5;28;43mself\u001b[39;49m\u001b[38;5;241;43m.\u001b[39;49m\u001b[43mqualify_operation\u001b[49m\u001b[43m(\u001b[49m\u001b[43munqualified\u001b[49m\u001b[43m,\u001b[49m\u001b[43m \u001b[49m\u001b[43mcontext\u001b[49m\u001b[43m,\u001b[49m\u001b[43m \u001b[49m\u001b[43mchildren\u001b[49m\u001b[43m)\u001b[49m\n\u001b[1;32m    801\u001b[0m \u001b[38;5;28;01mcase\u001b[39;00m UnqualifiedWindow():\n\u001b[1;32m    802\u001b[0m     answer \u001b[38;5;241m=\u001b[39m \u001b[38;5;28mself\u001b[39m\u001b[38;5;241m.\u001b[39mqualify_window(unqualified, context, children)\n",
      "File \u001b[0;32m~/miniconda3/envs/pydough-bodo/lib/python3.12/site-packages/pydough/unqualified/qualification.py:182\u001b[0m, in \u001b[0;36mQualifier.qualify_operation\u001b[0;34m(self, unqualified, context, children)\u001b[0m\n\u001b[1;32m    177\u001b[0m \u001b[38;5;66;03m# Iterate across every operand to generate its qualified variant.\u001b[39;00m\n\u001b[1;32m    178\u001b[0m \u001b[38;5;66;03m# First, attempt to qualify it as an expression (the common case), but\u001b[39;00m\n\u001b[1;32m    179\u001b[0m \u001b[38;5;66;03m# if that fails specifically because the result would be a collection,\u001b[39;00m\n\u001b[1;32m    180\u001b[0m \u001b[38;5;66;03m# then attempt to qualify it as a collection.\u001b[39;00m\n\u001b[1;32m    181\u001b[0m \u001b[38;5;28;01mfor\u001b[39;00m node \u001b[38;5;129;01min\u001b[39;00m unqualified_operands:\n\u001b[0;32m--> 182\u001b[0m     operand: PyDoughQDAG \u001b[38;5;241m=\u001b[39m \u001b[38;5;28;43mself\u001b[39;49m\u001b[38;5;241;43m.\u001b[39;49m\u001b[43mqualify_node\u001b[49m\u001b[43m(\u001b[49m\u001b[43mnode\u001b[49m\u001b[43m,\u001b[49m\u001b[43m \u001b[49m\u001b[43mcontext\u001b[49m\u001b[43m,\u001b[49m\u001b[43m \u001b[49m\u001b[43mchildren\u001b[49m\u001b[43m,\u001b[49m\u001b[43m \u001b[49m\u001b[38;5;28;43;01mTrue\u001b[39;49;00m\u001b[43m)\u001b[49m\n\u001b[1;32m    183\u001b[0m     \u001b[38;5;28;01mif\u001b[39;00m \u001b[38;5;28misinstance\u001b[39m(operand, PyDoughExpressionQDAG):\n\u001b[1;32m    184\u001b[0m         qualified_operands\u001b[38;5;241m.\u001b[39mappend(\n\u001b[1;32m    185\u001b[0m             \u001b[38;5;28mself\u001b[39m\u001b[38;5;241m.\u001b[39mqualify_expression(node, context, children)\n\u001b[1;32m    186\u001b[0m         )\n",
      "File \u001b[0;32m~/miniconda3/envs/pydough-bodo/lib/python3.12/site-packages/pydough/unqualified/qualification.py:790\u001b[0m, in \u001b[0;36mQualifier.qualify_node\u001b[0;34m(self, unqualified, context, children, is_child)\u001b[0m\n\u001b[1;32m    788\u001b[0m     answer \u001b[38;5;241m=\u001b[39m \u001b[38;5;28mself\u001b[39m\u001b[38;5;241m.\u001b[39mqualify_calc(unqualified, context, is_child)\n\u001b[1;32m    789\u001b[0m \u001b[38;5;28;01mcase\u001b[39;00m UnqualifiedWhere():\n\u001b[0;32m--> 790\u001b[0m     answer \u001b[38;5;241m=\u001b[39m \u001b[38;5;28;43mself\u001b[39;49m\u001b[38;5;241;43m.\u001b[39;49m\u001b[43mqualify_where\u001b[49m\u001b[43m(\u001b[49m\u001b[43munqualified\u001b[49m\u001b[43m,\u001b[49m\u001b[43m \u001b[49m\u001b[43mcontext\u001b[49m\u001b[43m,\u001b[49m\u001b[43m \u001b[49m\u001b[43mis_child\u001b[49m\u001b[43m)\u001b[49m\n\u001b[1;32m    791\u001b[0m \u001b[38;5;28;01mcase\u001b[39;00m UnqualifiedOrderBy():\n\u001b[1;32m    792\u001b[0m     answer \u001b[38;5;241m=\u001b[39m \u001b[38;5;28mself\u001b[39m\u001b[38;5;241m.\u001b[39mqualify_order_by(unqualified, context, is_child)\n",
      "File \u001b[0;32m~/miniconda3/envs/pydough-bodo/lib/python3.12/site-packages/pydough/unqualified/qualification.py:504\u001b[0m, in \u001b[0;36mQualifier.qualify_where\u001b[0;34m(self, unqualified, context, is_child)\u001b[0m\n\u001b[1;32m    502\u001b[0m unqualified_parent: UnqualifiedNode \u001b[38;5;241m=\u001b[39m unqualified\u001b[38;5;241m.\u001b[39m_parcel[\u001b[38;5;241m0\u001b[39m]\n\u001b[1;32m    503\u001b[0m unqualified_cond: UnqualifiedNode \u001b[38;5;241m=\u001b[39m unqualified\u001b[38;5;241m.\u001b[39m_parcel[\u001b[38;5;241m1\u001b[39m]\n\u001b[0;32m--> 504\u001b[0m qualified_parent: PyDoughCollectionQDAG \u001b[38;5;241m=\u001b[39m \u001b[38;5;28;43mself\u001b[39;49m\u001b[38;5;241;43m.\u001b[39;49m\u001b[43mqualify_collection\u001b[49m\u001b[43m(\u001b[49m\n\u001b[1;32m    505\u001b[0m \u001b[43m    \u001b[49m\u001b[43munqualified_parent\u001b[49m\u001b[43m,\u001b[49m\u001b[43m \u001b[49m\u001b[43mcontext\u001b[49m\u001b[43m,\u001b[49m\u001b[43m \u001b[49m\u001b[43mis_child\u001b[49m\n\u001b[1;32m    506\u001b[0m \u001b[43m\u001b[49m\u001b[43m)\u001b[49m\n\u001b[1;32m    507\u001b[0m \u001b[38;5;66;03m# Qualify the condition of the WHERE clause, storing the children\u001b[39;00m\n\u001b[1;32m    508\u001b[0m \u001b[38;5;66;03m# built along the way.\u001b[39;00m\n\u001b[1;32m    509\u001b[0m children: MutableSequence[PyDoughCollectionQDAG] \u001b[38;5;241m=\u001b[39m []\n",
      "File \u001b[0;32m~/miniconda3/envs/pydough-bodo/lib/python3.12/site-packages/pydough/unqualified/qualification.py:706\u001b[0m, in \u001b[0;36mQualifier.qualify_collection\u001b[0;34m(self, unqualified, context, is_child)\u001b[0m\n\u001b[1;32m    681\u001b[0m \u001b[38;5;28;01mdef\u001b[39;00m\u001b[38;5;250m \u001b[39m\u001b[38;5;21mqualify_collection\u001b[39m(\n\u001b[1;32m    682\u001b[0m     \u001b[38;5;28mself\u001b[39m,\n\u001b[1;32m    683\u001b[0m     unqualified: UnqualifiedNode,\n\u001b[1;32m    684\u001b[0m     context: PyDoughCollectionQDAG,\n\u001b[1;32m    685\u001b[0m     is_child: \u001b[38;5;28mbool\u001b[39m,\n\u001b[1;32m    686\u001b[0m ) \u001b[38;5;241m-\u001b[39m\u001b[38;5;241m>\u001b[39m PyDoughCollectionQDAG:\n\u001b[1;32m    687\u001b[0m \u001b[38;5;250m    \u001b[39m\u001b[38;5;124;03m\"\"\"\u001b[39;00m\n\u001b[1;32m    688\u001b[0m \u001b[38;5;124;03m    Transforms an `UnqualifiedNode` into a PyDoughCollectionQDAG node.\u001b[39;00m\n\u001b[1;32m    689\u001b[0m \n\u001b[0;32m   (...)\u001b[0m\n\u001b[1;32m    704\u001b[0m \u001b[38;5;124;03m        qualified or is not recognized.\u001b[39;00m\n\u001b[1;32m    705\u001b[0m \u001b[38;5;124;03m    \"\"\"\u001b[39;00m\n\u001b[0;32m--> 706\u001b[0m     answer: PyDoughQDAG \u001b[38;5;241m=\u001b[39m \u001b[38;5;28;43mself\u001b[39;49m\u001b[38;5;241;43m.\u001b[39;49m\u001b[43mqualify_node\u001b[49m\u001b[43m(\u001b[49m\u001b[43munqualified\u001b[49m\u001b[43m,\u001b[49m\u001b[43m \u001b[49m\u001b[43mcontext\u001b[49m\u001b[43m,\u001b[49m\u001b[43m \u001b[49m\u001b[43m[\u001b[49m\u001b[43m]\u001b[49m\u001b[43m,\u001b[49m\u001b[43m \u001b[49m\u001b[43mis_child\u001b[49m\u001b[43m)\u001b[49m\n\u001b[1;32m    707\u001b[0m     \u001b[38;5;28;01mif\u001b[39;00m \u001b[38;5;129;01mnot\u001b[39;00m \u001b[38;5;28misinstance\u001b[39m(answer, PyDoughCollectionQDAG):\n\u001b[1;32m    708\u001b[0m         \u001b[38;5;28;01mraise\u001b[39;00m PyDoughUnqualifiedException(\n\u001b[1;32m    709\u001b[0m             \u001b[38;5;124mf\u001b[39m\u001b[38;5;124m\"\u001b[39m\u001b[38;5;124mExpected a collection, but received an expression: \u001b[39m\u001b[38;5;132;01m{\u001b[39;00manswer\u001b[38;5;132;01m}\u001b[39;00m\u001b[38;5;124m\"\u001b[39m\n\u001b[1;32m    710\u001b[0m         )\n",
      "File \u001b[0;32m~/miniconda3/envs/pydough-bodo/lib/python3.12/site-packages/pydough/unqualified/qualification.py:786\u001b[0m, in \u001b[0;36mQualifier.qualify_node\u001b[0;34m(self, unqualified, context, children, is_child)\u001b[0m\n\u001b[1;32m    784\u001b[0m     answer \u001b[38;5;241m=\u001b[39m context\n\u001b[1;32m    785\u001b[0m \u001b[38;5;28;01mcase\u001b[39;00m UnqualifiedAccess():\n\u001b[0;32m--> 786\u001b[0m     answer \u001b[38;5;241m=\u001b[39m \u001b[38;5;28;43mself\u001b[39;49m\u001b[38;5;241;43m.\u001b[39;49m\u001b[43mqualify_access\u001b[49m\u001b[43m(\u001b[49m\u001b[43munqualified\u001b[49m\u001b[43m,\u001b[49m\u001b[43m \u001b[49m\u001b[43mcontext\u001b[49m\u001b[43m,\u001b[49m\u001b[43m \u001b[49m\u001b[43mchildren\u001b[49m\u001b[43m,\u001b[49m\u001b[43m \u001b[49m\u001b[43mis_child\u001b[49m\u001b[43m)\u001b[49m\n\u001b[1;32m    787\u001b[0m \u001b[38;5;28;01mcase\u001b[39;00m UnqualifiedCalc():\n\u001b[1;32m    788\u001b[0m     answer \u001b[38;5;241m=\u001b[39m \u001b[38;5;28mself\u001b[39m\u001b[38;5;241m.\u001b[39mqualify_calc(unqualified, context, is_child)\n",
      "File \u001b[0;32m~/miniconda3/envs/pydough-bodo/lib/python3.12/site-packages/pydough/unqualified/qualification.py:402\u001b[0m, in \u001b[0;36mQualifier.qualify_access\u001b[0;34m(self, unqualified, context, children, is_child)\u001b[0m\n\u001b[1;32m    399\u001b[0m     \u001b[38;5;28;01mreturn\u001b[39;00m qualified_parent\n\u001b[1;32m    400\u001b[0m \u001b[38;5;28;01melse\u001b[39;00m:\n\u001b[1;32m    401\u001b[0m     \u001b[38;5;66;03m# Identify whether the access is an expression or a collection\u001b[39;00m\n\u001b[0;32m--> 402\u001b[0m     term \u001b[38;5;241m=\u001b[39m \u001b[43mqualified_parent\u001b[49m\u001b[38;5;241;43m.\u001b[39;49m\u001b[43mget_term\u001b[49m\u001b[43m(\u001b[49m\u001b[43mname\u001b[49m\u001b[43m)\u001b[49m\n\u001b[1;32m    403\u001b[0m     \u001b[38;5;28;01mif\u001b[39;00m \u001b[38;5;28misinstance\u001b[39m(term, PyDoughCollectionQDAG):\n\u001b[1;32m    404\u001b[0m         \u001b[38;5;66;03m# If it is a collection that is not the special case,\u001b[39;00m\n\u001b[1;32m    405\u001b[0m         \u001b[38;5;66;03m# access the child collection from the qualified parent\u001b[39;00m\n\u001b[1;32m    406\u001b[0m         \u001b[38;5;66;03m# collection.\u001b[39;00m\n\u001b[1;32m    407\u001b[0m         answer: PyDoughCollectionQDAG \u001b[38;5;241m=\u001b[39m \u001b[38;5;28mself\u001b[39m\u001b[38;5;241m.\u001b[39mbuilder\u001b[38;5;241m.\u001b[39mbuild_child_access(\n\u001b[1;32m    408\u001b[0m             name, qualified_parent\n\u001b[1;32m    409\u001b[0m         )\n",
      "File \u001b[0;32m~/miniconda3/envs/pydough-bodo/lib/python3.12/site-packages/pydough/qdag/collections/collection_access.py:96\u001b[0m, in \u001b[0;36mCollectionAccess.get_term\u001b[0;34m(self, term_name)\u001b[0m\n\u001b[1;32m     93\u001b[0m \u001b[38;5;28;01mfrom\u001b[39;00m\u001b[38;5;250m \u001b[39m\u001b[38;5;21;01m.\u001b[39;00m\u001b[38;5;21;01msub_collection\u001b[39;00m\u001b[38;5;250m \u001b[39m\u001b[38;5;28;01mimport\u001b[39;00m SubCollection\n\u001b[1;32m     95\u001b[0m \u001b[38;5;28;01mif\u001b[39;00m term_name \u001b[38;5;129;01mnot\u001b[39;00m \u001b[38;5;129;01min\u001b[39;00m \u001b[38;5;28mself\u001b[39m\u001b[38;5;241m.\u001b[39mall_terms:\n\u001b[0;32m---> 96\u001b[0m     \u001b[38;5;28;01mraise\u001b[39;00m PyDoughQDAGException(\n\u001b[1;32m     97\u001b[0m         \u001b[38;5;124mf\u001b[39m\u001b[38;5;124m\"\u001b[39m\u001b[38;5;124mUnrecognized term of \u001b[39m\u001b[38;5;132;01m{\u001b[39;00m\u001b[38;5;28mself\u001b[39m\u001b[38;5;241m.\u001b[39mcollection\u001b[38;5;241m.\u001b[39merror_name\u001b[38;5;132;01m}\u001b[39;00m\u001b[38;5;124m: \u001b[39m\u001b[38;5;132;01m{\u001b[39;00mterm_name\u001b[38;5;132;01m!r}\u001b[39;00m\u001b[38;5;124m\"\u001b[39m\n\u001b[1;32m     98\u001b[0m     )\n\u001b[1;32m    100\u001b[0m \u001b[38;5;28mproperty\u001b[39m \u001b[38;5;241m=\u001b[39m \u001b[38;5;28mself\u001b[39m\u001b[38;5;241m.\u001b[39mcollection\u001b[38;5;241m.\u001b[39mget_property(term_name)\n\u001b[1;32m    101\u001b[0m \u001b[38;5;28;01massert\u001b[39;00m \u001b[38;5;28misinstance\u001b[39m(\u001b[38;5;28mproperty\u001b[39m, PropertyMetadata)\n",
      "\u001b[0;31mPyDoughQDAGException\u001b[0m: Unrecognized term of simple table collection 'Merchants' in graph 'Ewallet': 'sending_merchant'"
     ]
    }
   ],
   "source": [
    "%%pydough\n",
    "\n",
    "# Retrieve transactions where the receiver type is 1 (merchant) and the transaction date is after October 9th, 2024\n",
    "selected_transactions = Merchants.WHERE(\n",
    " (CONTAINS(LOWER(category),'%retail%')) & (status == \"active\")\n",
    ")\n",
    "\n",
    "merchant_transaction_summary=Merchants(\n",
    " merchant_name = name,\n",
    " total_transactions = COUNT(selected_transactions),\n",
    " total_amount = SUM(selected_transactions.amount),\n",
    ").TOP_K(2, by=total_amount.DESC())\n",
    "#pydough.to_sql(output)\n",
    "pydough.to_df(merchant_transaction_summary)"
   ]
  },
  {
   "cell_type": "markdown",
   "metadata": {},
   "source": [
    "### What was the average transaction daily and monthly limit for the earliest setting snapshot in 2023?"
   ]
  },
  {
   "cell_type": "code",
   "execution_count": 118,
   "metadata": {},
   "outputs": [
    {
     "data": {
      "text/html": [
       "<div>\n",
       "<style scoped>\n",
       "    .dataframe tbody tr th:only-of-type {\n",
       "        vertical-align: middle;\n",
       "    }\n",
       "\n",
       "    .dataframe tbody tr th {\n",
       "        vertical-align: top;\n",
       "    }\n",
       "\n",
       "    .dataframe thead th {\n",
       "        text-align: right;\n",
       "    }\n",
       "</style>\n",
       "<table border=\"1\" class=\"dataframe\">\n",
       "  <thead>\n",
       "    <tr style=\"text-align: right;\">\n",
       "      <th></th>\n",
       "      <th>avg_daily_limit</th>\n",
       "      <th>avg_monthly_limit</th>\n",
       "    </tr>\n",
       "  </thead>\n",
       "  <tbody>\n",
       "    <tr>\n",
       "      <th>0</th>\n",
       "      <td>501.0</td>\n",
       "      <td>1750.0</td>\n",
       "    </tr>\n",
       "  </tbody>\n",
       "</table>\n",
       "</div>"
      ],
      "text/plain": [
       "   avg_daily_limit  avg_monthly_limit\n",
       "0            501.0             1750.0"
      ]
     },
     "execution_count": 118,
     "metadata": {},
     "output_type": "execute_result"
    }
   ],
   "source": [
    "query = '''\n",
    "SELECT AVG(tx_limit_daily) AS avg_daily_limit, AVG(tx_limit_monthly) AS avg_monthly_limit \n",
    "FROM user_setting_snapshot \n",
    "WHERE snapshot_date = (SELECT MIN(snapshot_date) FROM user_setting_snapshot \n",
    "WHERE snapshot_date >= '2023-01-01' AND snapshot_date < '2024-01-01');\n",
    "'''\n",
    "df = pd.read_sql_query(query, connection)\n",
    "df"
   ]
  },
  {
   "cell_type": "code",
   "execution_count": 48,
   "metadata": {},
   "outputs": [
    {
     "ename": "AssertionError",
     "evalue": "",
     "output_type": "error",
     "traceback": [
      "\u001b[0;31m---------------------------------------------------------------------------\u001b[0m",
      "\u001b[0;31mAssertionError\u001b[0m                            Traceback (most recent call last)",
      "Cell \u001b[0;32mIn[48], line 7\u001b[0m\n\u001b[1;32m      5\u001b[0m selected_snapshots \u001b[38;5;241m=\u001b[39m min_snapshot_date\u001b[38;5;241m.\u001b[39mUserSettingSnapshots\u001b[38;5;241m.\u001b[39mWHERE(_ROOT\u001b[38;5;241m.\u001b[39msnapshot_date \u001b[38;5;241m==\u001b[39m _ROOT\u001b[38;5;241m.\u001b[39mBACK(\u001b[38;5;241m1\u001b[39m)\u001b[38;5;241m.\u001b[39mmin_snapshot_date)\n\u001b[1;32m      6\u001b[0m avg_transaction \u001b[38;5;241m=\u001b[39m _ROOT\u001b[38;5;241m.\u001b[39mPARTITION(selected_snapshots, name\u001b[38;5;241m=\u001b[39m\u001b[38;5;124m'\u001b[39m\u001b[38;5;124mpar\u001b[39m\u001b[38;5;124m'\u001b[39m, by\u001b[38;5;241m=\u001b[39m(_ROOT\u001b[38;5;241m.\u001b[39mtx_limit_daily, _ROOT\u001b[38;5;241m.\u001b[39mtx_limit_monthly))(avg_daily_limit\u001b[38;5;241m=\u001b[39m_ROOT\u001b[38;5;241m.\u001b[39mAVG(_ROOT\u001b[38;5;241m.\u001b[39mpar\u001b[38;5;241m.\u001b[39mtx_limit_daily), avg_monthly_limit\u001b[38;5;241m=\u001b[39m_ROOT\u001b[38;5;241m.\u001b[39mAVG(_ROOT\u001b[38;5;241m.\u001b[39mpar\u001b[38;5;241m.\u001b[39mtx_limit_monthly))\n\u001b[0;32m----> 7\u001b[0m \u001b[43mpydough\u001b[49m\u001b[38;5;241;43m.\u001b[39;49m\u001b[43mto_df\u001b[49m\u001b[43m(\u001b[49m\u001b[43mavg_transaction\u001b[49m\u001b[43m)\u001b[49m\n",
      "File \u001b[0;32m~/miniconda3/envs/pydough-bodo/lib/python3.12/site-packages/pydough/evaluation/evaluate_unqualified.py:125\u001b[0m, in \u001b[0;36mto_df\u001b[0;34m(node, **kwargs)\u001b[0m\n\u001b[1;32m    121\u001b[0m \u001b[38;5;28;01mif\u001b[39;00m \u001b[38;5;129;01mnot\u001b[39;00m \u001b[38;5;28misinstance\u001b[39m(qualified, PyDoughCollectionQDAG):\n\u001b[1;32m    122\u001b[0m     \u001b[38;5;28;01mraise\u001b[39;00m \u001b[38;5;167;01mTypeError\u001b[39;00m(\n\u001b[1;32m    123\u001b[0m         \u001b[38;5;124mf\u001b[39m\u001b[38;5;124m\"\u001b[39m\u001b[38;5;124mFinal qualified expression must be a collection, found \u001b[39m\u001b[38;5;132;01m{\u001b[39;00mqualified\u001b[38;5;241m.\u001b[39m\u001b[38;5;18m__class__\u001b[39m\u001b[38;5;241m.\u001b[39m\u001b[38;5;18m__name__\u001b[39m\u001b[38;5;132;01m}\u001b[39;00m\u001b[38;5;124m\"\u001b[39m\n\u001b[1;32m    124\u001b[0m     )\n\u001b[0;32m--> 125\u001b[0m relational: RelationalRoot \u001b[38;5;241m=\u001b[39m \u001b[43mconvert_ast_to_relational\u001b[49m\u001b[43m(\u001b[49m\u001b[43mqualified\u001b[49m\u001b[43m,\u001b[49m\u001b[43m \u001b[49m\u001b[43mconfig\u001b[49m\u001b[43m)\u001b[49m\n\u001b[1;32m    126\u001b[0m \u001b[38;5;28;01mreturn\u001b[39;00m execute_df(relational, database, bindings, display_sql)\n",
      "File \u001b[0;32m~/miniconda3/envs/pydough-bodo/lib/python3.12/site-packages/pydough/conversion/relational_converter.py:950\u001b[0m, in \u001b[0;36mconvert_ast_to_relational\u001b[0;34m(node, configs)\u001b[0m\n\u001b[1;32m    948\u001b[0m hybrid: HybridTree \u001b[38;5;241m=\u001b[39m HybridTranslator(configs)\u001b[38;5;241m.\u001b[39mmake_hybrid_tree(node)\n\u001b[1;32m    949\u001b[0m renamings: \u001b[38;5;28mdict\u001b[39m[\u001b[38;5;28mstr\u001b[39m, \u001b[38;5;28mstr\u001b[39m] \u001b[38;5;241m=\u001b[39m hybrid\u001b[38;5;241m.\u001b[39mpipeline[\u001b[38;5;241m-\u001b[39m\u001b[38;5;241m1\u001b[39m]\u001b[38;5;241m.\u001b[39mrenamings\n\u001b[0;32m--> 950\u001b[0m output: TranslationOutput \u001b[38;5;241m=\u001b[39m \u001b[43mtranslator\u001b[49m\u001b[38;5;241;43m.\u001b[39;49m\u001b[43mrel_translation\u001b[49m\u001b[43m(\u001b[49m\n\u001b[1;32m    951\u001b[0m \u001b[43m    \u001b[49m\u001b[38;5;28;43;01mNone\u001b[39;49;00m\u001b[43m,\u001b[49m\u001b[43m \u001b[49m\u001b[43mhybrid\u001b[49m\u001b[43m,\u001b[49m\u001b[43m \u001b[49m\u001b[38;5;28;43mlen\u001b[39;49m\u001b[43m(\u001b[49m\u001b[43mhybrid\u001b[49m\u001b[38;5;241;43m.\u001b[39;49m\u001b[43mpipeline\u001b[49m\u001b[43m)\u001b[49m\u001b[43m \u001b[49m\u001b[38;5;241;43m-\u001b[39;49m\u001b[43m \u001b[49m\u001b[38;5;241;43m1\u001b[39;49m\n\u001b[1;32m    952\u001b[0m \u001b[43m\u001b[49m\u001b[43m)\u001b[49m\n\u001b[1;32m    953\u001b[0m ordered_columns: \u001b[38;5;28mlist\u001b[39m[\u001b[38;5;28mtuple\u001b[39m[\u001b[38;5;28mstr\u001b[39m, RelationalExpression]] \u001b[38;5;241m=\u001b[39m []\n\u001b[1;32m    954\u001b[0m orderings: \u001b[38;5;28mlist\u001b[39m[ExpressionSortInfo] \u001b[38;5;241m|\u001b[39m \u001b[38;5;28;01mNone\u001b[39;00m \u001b[38;5;241m=\u001b[39m \u001b[38;5;28;01mNone\u001b[39;00m\n",
      "File \u001b[0;32m~/miniconda3/envs/pydough-bodo/lib/python3.12/site-packages/pydough/conversion/relational_converter.py:821\u001b[0m, in \u001b[0;36mRelTranslation.rel_translation\u001b[0;34m(self, connection, hybrid, pipeline_idx)\u001b[0m\n\u001b[1;32m    819\u001b[0m     context \u001b[38;5;241m=\u001b[39m \u001b[38;5;28mself\u001b[39m\u001b[38;5;241m.\u001b[39mhandle_children(context, \u001b[38;5;241m*\u001b[39mpreceding_hybrid)\n\u001b[1;32m    820\u001b[0m \u001b[38;5;28;01melse\u001b[39;00m:\n\u001b[0;32m--> 821\u001b[0m     context \u001b[38;5;241m=\u001b[39m \u001b[38;5;28;43mself\u001b[39;49m\u001b[38;5;241;43m.\u001b[39;49m\u001b[43mrel_translation\u001b[49m\u001b[43m(\u001b[49m\u001b[43mconnection\u001b[49m\u001b[43m,\u001b[49m\u001b[43m \u001b[49m\u001b[38;5;241;43m*\u001b[39;49m\u001b[43mpreceding_hybrid\u001b[49m\u001b[43m)\u001b[49m\n\u001b[1;32m    823\u001b[0m \u001b[38;5;66;03m# Then, dispatch onto the logic to transform from the context into the\u001b[39;00m\n\u001b[1;32m    824\u001b[0m \u001b[38;5;66;03m# new translation output.\u001b[39;00m\n\u001b[1;32m    825\u001b[0m handled_children: \u001b[38;5;28mbool\u001b[39m \u001b[38;5;241m=\u001b[39m \u001b[38;5;28;01mFalse\u001b[39;00m\n",
      "File \u001b[0;32m~/miniconda3/envs/pydough-bodo/lib/python3.12/site-packages/pydough/conversion/relational_converter.py:821\u001b[0m, in \u001b[0;36mRelTranslation.rel_translation\u001b[0;34m(self, connection, hybrid, pipeline_idx)\u001b[0m\n\u001b[1;32m    819\u001b[0m     context \u001b[38;5;241m=\u001b[39m \u001b[38;5;28mself\u001b[39m\u001b[38;5;241m.\u001b[39mhandle_children(context, \u001b[38;5;241m*\u001b[39mpreceding_hybrid)\n\u001b[1;32m    820\u001b[0m \u001b[38;5;28;01melse\u001b[39;00m:\n\u001b[0;32m--> 821\u001b[0m     context \u001b[38;5;241m=\u001b[39m \u001b[38;5;28;43mself\u001b[39;49m\u001b[38;5;241;43m.\u001b[39;49m\u001b[43mrel_translation\u001b[49m\u001b[43m(\u001b[49m\u001b[43mconnection\u001b[49m\u001b[43m,\u001b[49m\u001b[43m \u001b[49m\u001b[38;5;241;43m*\u001b[39;49m\u001b[43mpreceding_hybrid\u001b[49m\u001b[43m)\u001b[49m\n\u001b[1;32m    823\u001b[0m \u001b[38;5;66;03m# Then, dispatch onto the logic to transform from the context into the\u001b[39;00m\n\u001b[1;32m    824\u001b[0m \u001b[38;5;66;03m# new translation output.\u001b[39;00m\n\u001b[1;32m    825\u001b[0m handled_children: \u001b[38;5;28mbool\u001b[39m \u001b[38;5;241m=\u001b[39m \u001b[38;5;28;01mFalse\u001b[39;00m\n",
      "File \u001b[0;32m~/miniconda3/envs/pydough-bodo/lib/python3.12/site-packages/pydough/conversion/relational_converter.py:860\u001b[0m, in \u001b[0;36mRelTranslation.rel_translation\u001b[0;34m(self, connection, hybrid, pipeline_idx)\u001b[0m\n\u001b[1;32m    858\u001b[0m \u001b[38;5;28;01mcase\u001b[39;00m HybridPartition():\n\u001b[1;32m    859\u001b[0m     \u001b[38;5;28;01massert\u001b[39;00m context \u001b[38;5;129;01mis\u001b[39;00m \u001b[38;5;129;01mnot\u001b[39;00m \u001b[38;5;28;01mNone\u001b[39;00m, \u001b[38;5;124m\"\u001b[39m\u001b[38;5;124mMalformed HybridTree pattern.\u001b[39m\u001b[38;5;124m\"\u001b[39m\n\u001b[0;32m--> 860\u001b[0m     result \u001b[38;5;241m=\u001b[39m \u001b[38;5;28;43mself\u001b[39;49m\u001b[38;5;241;43m.\u001b[39;49m\u001b[43mtranslate_partition\u001b[49m\u001b[43m(\u001b[49m\n\u001b[1;32m    861\u001b[0m \u001b[43m        \u001b[49m\u001b[43moperation\u001b[49m\u001b[43m,\u001b[49m\u001b[43m \u001b[49m\u001b[43mcontext\u001b[49m\u001b[43m,\u001b[49m\u001b[43m \u001b[49m\u001b[43mhybrid\u001b[49m\u001b[43m,\u001b[49m\u001b[43m \u001b[49m\u001b[43mpipeline_idx\u001b[49m\n\u001b[1;32m    862\u001b[0m \u001b[43m    \u001b[49m\u001b[43m)\u001b[49m\n\u001b[1;32m    863\u001b[0m     handled_children \u001b[38;5;241m=\u001b[39m \u001b[38;5;28;01mTrue\u001b[39;00m\n\u001b[1;32m    864\u001b[0m \u001b[38;5;28;01mcase\u001b[39;00m HybridLimit():\n",
      "File \u001b[0;32m~/miniconda3/envs/pydough-bodo/lib/python3.12/site-packages/pydough/conversion/relational_converter.py:607\u001b[0m, in \u001b[0;36mRelTranslation.translate_partition\u001b[0;34m(self, node, context, hybrid, pipeline_idx)\u001b[0m\n\u001b[1;32m    603\u001b[0m         expressions[shifted_expr] \u001b[38;5;241m=\u001b[39m ref\n\u001b[1;32m    604\u001b[0m result: TranslationOutput \u001b[38;5;241m=\u001b[39m TranslationOutput(\n\u001b[1;32m    605\u001b[0m     context\u001b[38;5;241m.\u001b[39mrelational_node, expressions\n\u001b[1;32m    606\u001b[0m )\n\u001b[0;32m--> 607\u001b[0m result \u001b[38;5;241m=\u001b[39m \u001b[38;5;28;43mself\u001b[39;49m\u001b[38;5;241;43m.\u001b[39;49m\u001b[43mhandle_children\u001b[49m\u001b[43m(\u001b[49m\u001b[43mresult\u001b[49m\u001b[43m,\u001b[49m\u001b[43m \u001b[49m\u001b[43mhybrid\u001b[49m\u001b[43m,\u001b[49m\u001b[43m \u001b[49m\u001b[43mpipeline_idx\u001b[49m\u001b[43m)\u001b[49m\n\u001b[1;32m    608\u001b[0m \u001b[38;5;66;03m# Pull every aggregation key into the current context since it is now\u001b[39;00m\n\u001b[1;32m    609\u001b[0m \u001b[38;5;66;03m# accessible as a normal ref instead of a child ref.\u001b[39;00m\n\u001b[1;32m    610\u001b[0m \u001b[38;5;28;01mfor\u001b[39;00m key_name \u001b[38;5;129;01min\u001b[39;00m node\u001b[38;5;241m.\u001b[39mkey_names:\n",
      "File \u001b[0;32m~/miniconda3/envs/pydough-bodo/lib/python3.12/site-packages/pydough/conversion/relational_converter.py:403\u001b[0m, in \u001b[0;36mRelTranslation.handle_children\u001b[0;34m(self, context, hybrid, pipeline_idx)\u001b[0m\n\u001b[1;32m    399\u001b[0m \u001b[38;5;28;01mif\u001b[39;00m child\u001b[38;5;241m.\u001b[39mrequired_steps \u001b[38;5;241m==\u001b[39m pipeline_idx:\n\u001b[1;32m    400\u001b[0m     child_output \u001b[38;5;241m=\u001b[39m \u001b[38;5;28mself\u001b[39m\u001b[38;5;241m.\u001b[39mrel_translation(\n\u001b[1;32m    401\u001b[0m         child, child\u001b[38;5;241m.\u001b[39msubtree, \u001b[38;5;28mlen\u001b[39m(child\u001b[38;5;241m.\u001b[39msubtree\u001b[38;5;241m.\u001b[39mpipeline) \u001b[38;5;241m-\u001b[39m \u001b[38;5;241m1\u001b[39m\n\u001b[1;32m    402\u001b[0m     )\n\u001b[0;32m--> 403\u001b[0m     \u001b[38;5;28;01massert\u001b[39;00m child\u001b[38;5;241m.\u001b[39msubtree\u001b[38;5;241m.\u001b[39mjoin_keys \u001b[38;5;129;01mis\u001b[39;00m \u001b[38;5;129;01mnot\u001b[39;00m \u001b[38;5;28;01mNone\u001b[39;00m\n\u001b[1;32m    404\u001b[0m     join_keys: \u001b[38;5;28mlist\u001b[39m[\u001b[38;5;28mtuple\u001b[39m[HybridExpr, HybridExpr]] \u001b[38;5;241m=\u001b[39m child\u001b[38;5;241m.\u001b[39msubtree\u001b[38;5;241m.\u001b[39mjoin_keys\n\u001b[1;32m    405\u001b[0m     agg_keys: \u001b[38;5;28mlist\u001b[39m[HybridExpr]\n",
      "\u001b[0;31mAssertionError\u001b[0m: "
     ]
    }
   ],
   "source": [
    "%%pydough\n",
    "\n",
    "dates_range= (snapshot_date >= datetime.date(2023,1,1)) & (snapshot_date < datetime.date(2024,1,1))\n",
    "\n",
    "min_snapshot_date = Ewallet(min_snapshot_date=MIN(UserSettingSnapshots.WHERE(dates_range).snapshot_date))\n",
    "\n",
    "selected_snapshots= min_snapshot_date.UserSettingSnapshots.WHERE(snapshot_date == BACK(1).min_snapshot_date)\n",
    "\n",
    "avg_transaction= PARTITION(selected_snapshots, name=\"par\", by=(tx_limit_daily, tx_limit_monthly))(\n",
    "avg_daily_limit=AVG(par.tx_limit_daily),\n",
    "avg_monthly_limit=AVG(par.tx_limit_monthly))\n",
    "#pydough.to_sql(output)\n",
    "pydough.to_df(avg_transaction)"
   ]
  },
  {
   "cell_type": "code",
   "execution_count": 120,
   "metadata": {},
   "outputs": [
    {
     "ename": "NotImplementedError",
     "evalue": "TODO: (gh #141) support BACK references that step from a child subtree back into a parent context.",
     "output_type": "error",
     "traceback": [
      "\u001b[0;31m---------------------------------------------------------------------------\u001b[0m",
      "\u001b[0;31mNotImplementedError\u001b[0m                       Traceback (most recent call last)",
      "Cell \u001b[0;32mIn[120], line 7\u001b[0m\n\u001b[1;32m      5\u001b[0m selected_snapshots \u001b[38;5;241m=\u001b[39m min_snapshot_date\u001b[38;5;241m.\u001b[39mUserSettingSnapshots\u001b[38;5;241m.\u001b[39mWHERE(_ROOT\u001b[38;5;241m.\u001b[39msnapshot_date \u001b[38;5;241m==\u001b[39m _ROOT\u001b[38;5;241m.\u001b[39mBACK(\u001b[38;5;241m1\u001b[39m)\u001b[38;5;241m.\u001b[39mmin_snapshot_date)\n\u001b[1;32m      6\u001b[0m avg_transaction \u001b[38;5;241m=\u001b[39m min_snapshot_date(avg_daily_limit\u001b[38;5;241m=\u001b[39m_ROOT\u001b[38;5;241m.\u001b[39mAVG(_ROOT\u001b[38;5;241m.\u001b[39mUserSettingSnapshots\u001b[38;5;241m.\u001b[39mWHERE(_ROOT\u001b[38;5;241m.\u001b[39msnapshot_date \u001b[38;5;241m==\u001b[39m _ROOT\u001b[38;5;241m.\u001b[39mBACK(\u001b[38;5;241m1\u001b[39m)\u001b[38;5;241m.\u001b[39mmin_snapshot_date)\u001b[38;5;241m.\u001b[39mtx_limit_daily))\n\u001b[0;32m----> 7\u001b[0m \u001b[43mpydough\u001b[49m\u001b[38;5;241;43m.\u001b[39;49m\u001b[43mto_df\u001b[49m\u001b[43m(\u001b[49m\u001b[43mavg_transaction\u001b[49m\u001b[43m)\u001b[49m\n",
      "File \u001b[0;32m~/miniconda3/envs/pydough-bodo/lib/python3.12/site-packages/pydough/evaluation/evaluate_unqualified.py:125\u001b[0m, in \u001b[0;36mto_df\u001b[0;34m(node, **kwargs)\u001b[0m\n\u001b[1;32m    121\u001b[0m \u001b[38;5;28;01mif\u001b[39;00m \u001b[38;5;129;01mnot\u001b[39;00m \u001b[38;5;28misinstance\u001b[39m(qualified, PyDoughCollectionQDAG):\n\u001b[1;32m    122\u001b[0m     \u001b[38;5;28;01mraise\u001b[39;00m \u001b[38;5;167;01mTypeError\u001b[39;00m(\n\u001b[1;32m    123\u001b[0m         \u001b[38;5;124mf\u001b[39m\u001b[38;5;124m\"\u001b[39m\u001b[38;5;124mFinal qualified expression must be a collection, found \u001b[39m\u001b[38;5;132;01m{\u001b[39;00mqualified\u001b[38;5;241m.\u001b[39m\u001b[38;5;18m__class__\u001b[39m\u001b[38;5;241m.\u001b[39m\u001b[38;5;18m__name__\u001b[39m\u001b[38;5;132;01m}\u001b[39;00m\u001b[38;5;124m\"\u001b[39m\n\u001b[1;32m    124\u001b[0m     )\n\u001b[0;32m--> 125\u001b[0m relational: RelationalRoot \u001b[38;5;241m=\u001b[39m \u001b[43mconvert_ast_to_relational\u001b[49m\u001b[43m(\u001b[49m\u001b[43mqualified\u001b[49m\u001b[43m,\u001b[49m\u001b[43m \u001b[49m\u001b[43mconfig\u001b[49m\u001b[43m)\u001b[49m\n\u001b[1;32m    126\u001b[0m \u001b[38;5;28;01mreturn\u001b[39;00m execute_df(relational, database, bindings, display_sql)\n",
      "File \u001b[0;32m~/miniconda3/envs/pydough-bodo/lib/python3.12/site-packages/pydough/conversion/relational_converter.py:948\u001b[0m, in \u001b[0;36mconvert_ast_to_relational\u001b[0;34m(node, configs)\u001b[0m\n\u001b[1;32m    943\u001b[0m node \u001b[38;5;241m=\u001b[39m translator\u001b[38;5;241m.\u001b[39mpreprocess_root(node)\n\u001b[1;32m    945\u001b[0m \u001b[38;5;66;03m# Convert the QDAG node to the hybrid form, then invoke the relational\u001b[39;00m\n\u001b[1;32m    946\u001b[0m \u001b[38;5;66;03m# conversion procedure. The first element in the returned list is the\u001b[39;00m\n\u001b[1;32m    947\u001b[0m \u001b[38;5;66;03m# final rel node.\u001b[39;00m\n\u001b[0;32m--> 948\u001b[0m hybrid: HybridTree \u001b[38;5;241m=\u001b[39m \u001b[43mHybridTranslator\u001b[49m\u001b[43m(\u001b[49m\u001b[43mconfigs\u001b[49m\u001b[43m)\u001b[49m\u001b[38;5;241;43m.\u001b[39;49m\u001b[43mmake_hybrid_tree\u001b[49m\u001b[43m(\u001b[49m\u001b[43mnode\u001b[49m\u001b[43m)\u001b[49m\n\u001b[1;32m    949\u001b[0m renamings: \u001b[38;5;28mdict\u001b[39m[\u001b[38;5;28mstr\u001b[39m, \u001b[38;5;28mstr\u001b[39m] \u001b[38;5;241m=\u001b[39m hybrid\u001b[38;5;241m.\u001b[39mpipeline[\u001b[38;5;241m-\u001b[39m\u001b[38;5;241m1\u001b[39m]\u001b[38;5;241m.\u001b[39mrenamings\n\u001b[1;32m    950\u001b[0m output: TranslationOutput \u001b[38;5;241m=\u001b[39m translator\u001b[38;5;241m.\u001b[39mrel_translation(\n\u001b[1;32m    951\u001b[0m     \u001b[38;5;28;01mNone\u001b[39;00m, hybrid, \u001b[38;5;28mlen\u001b[39m(hybrid\u001b[38;5;241m.\u001b[39mpipeline) \u001b[38;5;241m-\u001b[39m \u001b[38;5;241m1\u001b[39m\n\u001b[1;32m    952\u001b[0m )\n",
      "File \u001b[0;32m~/miniconda3/envs/pydough-bodo/lib/python3.12/site-packages/pydough/conversion/hybrid_tree.py:1790\u001b[0m, in \u001b[0;36mHybridTranslator.make_hybrid_tree\u001b[0;34m(self, node, parent)\u001b[0m\n\u001b[1;32m   1788\u001b[0m     \u001b[38;5;28;01mreturn\u001b[39;00m successor_hybrid\n\u001b[1;32m   1789\u001b[0m \u001b[38;5;28;01mcase\u001b[39;00m Calc():\n\u001b[0;32m-> 1790\u001b[0m     hybrid \u001b[38;5;241m=\u001b[39m \u001b[38;5;28;43mself\u001b[39;49m\u001b[38;5;241;43m.\u001b[39;49m\u001b[43mmake_hybrid_tree\u001b[49m\u001b[43m(\u001b[49m\u001b[43mnode\u001b[49m\u001b[38;5;241;43m.\u001b[39;49m\u001b[43mpreceding_context\u001b[49m\u001b[43m,\u001b[49m\u001b[43m \u001b[49m\u001b[43mparent\u001b[49m\u001b[43m)\u001b[49m\n\u001b[1;32m   1791\u001b[0m     \u001b[38;5;28mself\u001b[39m\u001b[38;5;241m.\u001b[39mpopulate_children(hybrid, node, child_ref_mapping)\n\u001b[1;32m   1792\u001b[0m     new_expressions: \u001b[38;5;28mdict\u001b[39m[\u001b[38;5;28mstr\u001b[39m, HybridExpr] \u001b[38;5;241m=\u001b[39m {}\n",
      "File \u001b[0;32m~/miniconda3/envs/pydough-bodo/lib/python3.12/site-packages/pydough/conversion/hybrid_tree.py:1791\u001b[0m, in \u001b[0;36mHybridTranslator.make_hybrid_tree\u001b[0;34m(self, node, parent)\u001b[0m\n\u001b[1;32m   1789\u001b[0m \u001b[38;5;28;01mcase\u001b[39;00m Calc():\n\u001b[1;32m   1790\u001b[0m     hybrid \u001b[38;5;241m=\u001b[39m \u001b[38;5;28mself\u001b[39m\u001b[38;5;241m.\u001b[39mmake_hybrid_tree(node\u001b[38;5;241m.\u001b[39mpreceding_context, parent)\n\u001b[0;32m-> 1791\u001b[0m     \u001b[38;5;28;43mself\u001b[39;49m\u001b[38;5;241;43m.\u001b[39;49m\u001b[43mpopulate_children\u001b[49m\u001b[43m(\u001b[49m\u001b[43mhybrid\u001b[49m\u001b[43m,\u001b[49m\u001b[43m \u001b[49m\u001b[43mnode\u001b[49m\u001b[43m,\u001b[49m\u001b[43m \u001b[49m\u001b[43mchild_ref_mapping\u001b[49m\u001b[43m)\u001b[49m\n\u001b[1;32m   1792\u001b[0m     new_expressions: \u001b[38;5;28mdict\u001b[39m[\u001b[38;5;28mstr\u001b[39m, HybridExpr] \u001b[38;5;241m=\u001b[39m {}\n\u001b[1;32m   1793\u001b[0m     \u001b[38;5;28;01mfor\u001b[39;00m name \u001b[38;5;129;01min\u001b[39;00m \u001b[38;5;28msorted\u001b[39m(node\u001b[38;5;241m.\u001b[39mcalc_terms):\n",
      "File \u001b[0;32m~/miniconda3/envs/pydough-bodo/lib/python3.12/site-packages/pydough/conversion/hybrid_tree.py:1240\u001b[0m, in \u001b[0;36mHybridTranslator.populate_children\u001b[0;34m(self, hybrid, child_operator, child_idx_mapping)\u001b[0m\n\u001b[1;32m   1238\u001b[0m snapshot: \u001b[38;5;28mint\u001b[39m \u001b[38;5;241m=\u001b[39m \u001b[38;5;28mself\u001b[39m\u001b[38;5;241m.\u001b[39malias_counter\n\u001b[1;32m   1239\u001b[0m \u001b[38;5;28mself\u001b[39m\u001b[38;5;241m.\u001b[39malias_counter \u001b[38;5;241m=\u001b[39m \u001b[38;5;241m0\u001b[39m\n\u001b[0;32m-> 1240\u001b[0m subtree: HybridTree \u001b[38;5;241m=\u001b[39m \u001b[38;5;28;43mself\u001b[39;49m\u001b[38;5;241;43m.\u001b[39;49m\u001b[43mmake_hybrid_tree\u001b[49m\u001b[43m(\u001b[49m\u001b[43mchild\u001b[49m\u001b[43m,\u001b[49m\u001b[43m \u001b[49m\u001b[43mhybrid\u001b[49m\u001b[43m)\u001b[49m\n\u001b[1;32m   1241\u001b[0m \u001b[38;5;28mself\u001b[39m\u001b[38;5;241m.\u001b[39malias_counter \u001b[38;5;241m=\u001b[39m snapshot\n\u001b[1;32m   1242\u001b[0m \u001b[38;5;66;03m# Infer how the child is used by the current operation based on\u001b[39;00m\n\u001b[1;32m   1243\u001b[0m \u001b[38;5;66;03m# the expressions that the operator uses.\u001b[39;00m\n",
      "File \u001b[0;32m~/miniconda3/envs/pydough-bodo/lib/python3.12/site-packages/pydough/conversion/hybrid_tree.py:1809\u001b[0m, in \u001b[0;36mHybridTranslator.make_hybrid_tree\u001b[0;34m(self, node, parent)\u001b[0m\n\u001b[1;32m   1807\u001b[0m hybrid \u001b[38;5;241m=\u001b[39m \u001b[38;5;28mself\u001b[39m\u001b[38;5;241m.\u001b[39mmake_hybrid_tree(node\u001b[38;5;241m.\u001b[39mpreceding_context, parent)\n\u001b[1;32m   1808\u001b[0m \u001b[38;5;28mself\u001b[39m\u001b[38;5;241m.\u001b[39mpopulate_children(hybrid, node, child_ref_mapping)\n\u001b[0;32m-> 1809\u001b[0m expr \u001b[38;5;241m=\u001b[39m \u001b[38;5;28;43mself\u001b[39;49m\u001b[38;5;241;43m.\u001b[39;49m\u001b[43mmake_hybrid_expr\u001b[49m\u001b[43m(\u001b[49m\u001b[43mhybrid\u001b[49m\u001b[43m,\u001b[49m\u001b[43m \u001b[49m\u001b[43mnode\u001b[49m\u001b[38;5;241;43m.\u001b[39;49m\u001b[43mcondition\u001b[49m\u001b[43m,\u001b[49m\u001b[43m \u001b[49m\u001b[43mchild_ref_mapping\u001b[49m\u001b[43m)\u001b[49m\n\u001b[1;32m   1810\u001b[0m hybrid\u001b[38;5;241m.\u001b[39mpipeline\u001b[38;5;241m.\u001b[39mappend(HybridFilter(hybrid\u001b[38;5;241m.\u001b[39mpipeline[\u001b[38;5;241m-\u001b[39m\u001b[38;5;241m1\u001b[39m], expr))\n\u001b[1;32m   1811\u001b[0m \u001b[38;5;28;01mreturn\u001b[39;00m hybrid\n",
      "File \u001b[0;32m~/miniconda3/envs/pydough-bodo/lib/python3.12/site-packages/pydough/conversion/hybrid_tree.py:1622\u001b[0m, in \u001b[0;36mHybridTranslator.make_hybrid_expr\u001b[0;34m(self, hybrid, expr, child_ref_mapping)\u001b[0m\n\u001b[1;32m   1618\u001b[0m         \u001b[38;5;28;01mif\u001b[39;00m \u001b[38;5;129;01mnot\u001b[39;00m \u001b[38;5;28misinstance\u001b[39m(arg, PyDoughExpressionQDAG):\n\u001b[1;32m   1619\u001b[0m             \u001b[38;5;28;01mraise\u001b[39;00m \u001b[38;5;167;01mNotImplementedError\u001b[39;00m(\n\u001b[1;32m   1620\u001b[0m                 \u001b[38;5;124m\"\u001b[39m\u001b[38;5;124mPyDough does not yet support converting collections as function arguments to a non-aggregation function\u001b[39m\u001b[38;5;124m\"\u001b[39m\n\u001b[1;32m   1621\u001b[0m             )\n\u001b[0;32m-> 1622\u001b[0m         args\u001b[38;5;241m.\u001b[39mappend(\u001b[38;5;28;43mself\u001b[39;49m\u001b[38;5;241;43m.\u001b[39;49m\u001b[43mmake_hybrid_expr\u001b[49m\u001b[43m(\u001b[49m\u001b[43mhybrid\u001b[49m\u001b[43m,\u001b[49m\u001b[43m \u001b[49m\u001b[43marg\u001b[49m\u001b[43m,\u001b[49m\u001b[43m \u001b[49m\u001b[43mchild_ref_mapping\u001b[49m\u001b[43m)\u001b[49m)\n\u001b[1;32m   1623\u001b[0m     \u001b[38;5;28;01mreturn\u001b[39;00m HybridFunctionExpr(expr\u001b[38;5;241m.\u001b[39moperator, args, expr\u001b[38;5;241m.\u001b[39mpydough_type)\n\u001b[1;32m   1624\u001b[0m \u001b[38;5;28;01mcase\u001b[39;00m ExpressionFunctionCall() \u001b[38;5;28;01mif\u001b[39;00m expr\u001b[38;5;241m.\u001b[39moperator\u001b[38;5;241m.\u001b[39mis_aggregation:\n\u001b[1;32m   1625\u001b[0m     \u001b[38;5;66;03m# For aggregate function calls, their arguments are translated in\u001b[39;00m\n\u001b[1;32m   1626\u001b[0m     \u001b[38;5;66;03m# a manner that identifies what child subtree they correspond too,\u001b[39;00m\n\u001b[0;32m   (...)\u001b[0m\n\u001b[1;32m   1631\u001b[0m     \u001b[38;5;66;03m# translation, an aggregated child subtree only has the grouping\u001b[39;00m\n\u001b[1;32m   1632\u001b[0m     \u001b[38;5;66;03m# keys & the aggregation calls as opposed to its other terms.\u001b[39;00m\n",
      "File \u001b[0;32m~/miniconda3/envs/pydough-bodo/lib/python3.12/site-packages/pydough/conversion/hybrid_tree.py:1596\u001b[0m, in \u001b[0;36mHybridTranslator.make_hybrid_expr\u001b[0;34m(self, hybrid, expr, child_ref_mapping)\u001b[0m\n\u001b[1;32m   1594\u001b[0m \u001b[38;5;28;01mwhile\u001b[39;00m true_steps_back \u001b[38;5;241m<\u001b[39m expr\u001b[38;5;241m.\u001b[39mback_levels:\n\u001b[1;32m   1595\u001b[0m     \u001b[38;5;28;01mif\u001b[39;00m ancestor_tree\u001b[38;5;241m.\u001b[39mparent \u001b[38;5;129;01mis\u001b[39;00m \u001b[38;5;28;01mNone\u001b[39;00m:\n\u001b[0;32m-> 1596\u001b[0m         \u001b[38;5;28;01mraise\u001b[39;00m \u001b[38;5;167;01mNotImplementedError\u001b[39;00m(\n\u001b[1;32m   1597\u001b[0m             \u001b[38;5;124m\"\u001b[39m\u001b[38;5;124mTODO: (gh #141) support BACK references that step from a child subtree back into a parent context.\u001b[39m\u001b[38;5;124m\"\u001b[39m\n\u001b[1;32m   1598\u001b[0m         )\n\u001b[1;32m   1599\u001b[0m     ancestor_tree \u001b[38;5;241m=\u001b[39m ancestor_tree\u001b[38;5;241m.\u001b[39mparent\n\u001b[1;32m   1600\u001b[0m     back_idx \u001b[38;5;241m+\u001b[39m\u001b[38;5;241m=\u001b[39m true_steps_back\n",
      "\u001b[0;31mNotImplementedError\u001b[0m: TODO: (gh #141) support BACK references that step from a child subtree back into a parent context."
     ]
    }
   ],
   "source": [
    "%%pydough\n",
    "\n",
    "dates_range= (snapshot_date >= datetime.date(2023,1,1)) & (snapshot_date < datetime.date(2024,1,1))\n",
    "\n",
    "min_snapshot_date = Ewallet(min_snapshot_date=MIN(UserSettingSnapshots.WHERE(dates_range).snapshot_date))\n",
    "\n",
    "selected_snapshots= min_snapshot_date.UserSettingSnapshots.WHERE(snapshot_date == BACK(1).min_snapshot_date)\n",
    "\n",
    "avg_transaction= min_snapshot_date(avg_daily_limit= AVG(UserSettingSnapshots.WHERE(snapshot_date == BACK(1).min_snapshot_date).tx_limit_daily))\n",
    "#pydough.to_sql(output)\n",
    "pydough.to_df(avg_transaction)"
   ]
  },
  {
   "cell_type": "markdown",
   "metadata": {},
   "source": [
    "### what was the average user session duration in seconds split by device_type?"
   ]
  },
  {
   "cell_type": "code",
   "execution_count": 161,
   "metadata": {},
   "outputs": [
    {
     "data": {
      "text/html": [
       "<div>\n",
       "<style scoped>\n",
       "    .dataframe tbody tr th:only-of-type {\n",
       "        vertical-align: middle;\n",
       "    }\n",
       "\n",
       "    .dataframe tbody tr th {\n",
       "        vertical-align: top;\n",
       "    }\n",
       "\n",
       "    .dataframe thead th {\n",
       "        text-align: right;\n",
       "    }\n",
       "</style>\n",
       "<table border=\"1\" class=\"dataframe\">\n",
       "  <thead>\n",
       "    <tr style=\"text-align: right;\">\n",
       "      <th></th>\n",
       "      <th>device_type</th>\n",
       "      <th>avg_session_duration_seconds</th>\n",
       "    </tr>\n",
       "  </thead>\n",
       "  <tbody>\n",
       "    <tr>\n",
       "      <th>0</th>\n",
       "      <td>mobile_app</td>\n",
       "      <td>1765.875000</td>\n",
       "    </tr>\n",
       "    <tr>\n",
       "      <th>1</th>\n",
       "      <td>web_app</td>\n",
       "      <td>1351.333333</td>\n",
       "    </tr>\n",
       "  </tbody>\n",
       "</table>\n",
       "</div>"
      ],
      "text/plain": [
       "  device_type  avg_session_duration_seconds\n",
       "0  mobile_app                   1765.875000\n",
       "1     web_app                   1351.333333"
      ]
     },
     "execution_count": 161,
     "metadata": {},
     "output_type": "execute_result"
    }
   ],
   "source": [
    "query = '''\n",
    "SELECT device_type, AVG(strftime('%s', session_end_ts) - strftime('%s', session_start_ts)) AS avg_session_duration_seconds \n",
    "FROM \n",
    "    user_sessions \n",
    "WHERE \n",
    "    session_end_ts IS NOT NULL \n",
    "GROUP BY \n",
    "    device_type;\n",
    "'''\n",
    "df = pd.read_sql_query(query, connection)\n",
    "df"
   ]
  },
  {
   "cell_type": "code",
   "execution_count": 162,
   "metadata": {},
   "outputs": [
    {
     "data": {
      "text/html": [
       "<div>\n",
       "<style scoped>\n",
       "    .dataframe tbody tr th:only-of-type {\n",
       "        vertical-align: middle;\n",
       "    }\n",
       "\n",
       "    .dataframe tbody tr th {\n",
       "        vertical-align: top;\n",
       "    }\n",
       "\n",
       "    .dataframe thead th {\n",
       "        text-align: right;\n",
       "    }\n",
       "</style>\n",
       "<table border=\"1\" class=\"dataframe\">\n",
       "  <thead>\n",
       "    <tr style=\"text-align: right;\">\n",
       "      <th></th>\n",
       "      <th>device_type</th>\n",
       "      <th>avg_session_duration_seconds</th>\n",
       "    </tr>\n",
       "  </thead>\n",
       "  <tbody>\n",
       "    <tr>\n",
       "      <th>0</th>\n",
       "      <td>mobile_app</td>\n",
       "      <td>18.375000</td>\n",
       "    </tr>\n",
       "    <tr>\n",
       "      <th>1</th>\n",
       "      <td>web_app</td>\n",
       "      <td>3.333333</td>\n",
       "    </tr>\n",
       "  </tbody>\n",
       "</table>\n",
       "</div>"
      ],
      "text/plain": [
       "  device_type  avg_session_duration_seconds\n",
       "0  mobile_app                     18.375000\n",
       "1     web_app                      3.333333"
      ]
     },
     "execution_count": 162,
     "metadata": {},
     "output_type": "execute_result"
    }
   ],
   "source": [
    "%%pydough\n",
    "\n",
    "has_session_end= PRESENT(session_end_ts)\n",
    "\n",
    "selected_user_sessions = UserSessions.WHERE(has_session_end)\n",
    "\n",
    "output=  PARTITION(selected_user_sessions, name=\"usession\", by=device_type)(\n",
    "    device_type=device_type,\n",
    "    avg_session_duration_seconds= AVG(SECOND(usession.session_end_ts) - SECOND(usession.session_start_ts))\n",
    ")\n",
    "pydough.to_df(output)"
   ]
  },
  {
   "cell_type": "code",
   "execution_count": 163,
   "metadata": {},
   "outputs": [
    {
     "data": {
      "text/plain": [
       "np.False_"
      ]
     },
     "execution_count": 163,
     "metadata": {},
     "output_type": "execute_result"
    }
   ],
   "source": [
    "pydough_output = pydough.to_df(output)\n",
    "\n",
    "dfcompare.compare_df(pydough_output, df, query_category=\"a\", question=\"a\")"
   ]
  },
  {
   "cell_type": "markdown",
   "metadata": {},
   "source": [
    "### Which merchants earliest coupon start date was within a year of the merchant's registration? Return the merchant id, registration date, and earliest coupon id and start date\n"
   ]
  },
  {
   "cell_type": "code",
   "execution_count": 19,
   "metadata": {},
   "outputs": [
    {
     "data": {
      "text/html": [
       "<div>\n",
       "<style scoped>\n",
       "    .dataframe tbody tr th:only-of-type {\n",
       "        vertical-align: middle;\n",
       "    }\n",
       "\n",
       "    .dataframe tbody tr th {\n",
       "        vertical-align: top;\n",
       "    }\n",
       "\n",
       "    .dataframe thead th {\n",
       "        text-align: right;\n",
       "    }\n",
       "</style>\n",
       "<table border=\"1\" class=\"dataframe\">\n",
       "  <thead>\n",
       "    <tr style=\"text-align: right;\">\n",
       "      <th></th>\n",
       "      <th>merchant_id</th>\n",
       "      <th>merchant_registration_date</th>\n",
       "      <th>earliest_coupon_start_date</th>\n",
       "      <th>earliest_coupon_id</th>\n",
       "    </tr>\n",
       "  </thead>\n",
       "  <tbody>\n",
       "    <tr>\n",
       "      <th>0</th>\n",
       "      <td>5</td>\n",
       "      <td>2022-06-20 00:00:00</td>\n",
       "      <td>2023-04-01</td>\n",
       "      <td>5</td>\n",
       "    </tr>\n",
       "    <tr>\n",
       "      <th>1</th>\n",
       "      <td>10</td>\n",
       "      <td>2023-02-01 00:00:00</td>\n",
       "      <td>2023-03-01</td>\n",
       "      <td>10</td>\n",
       "    </tr>\n",
       "  </tbody>\n",
       "</table>\n",
       "</div>"
      ],
      "text/plain": [
       "   merchant_id merchant_registration_date earliest_coupon_start_date  \\\n",
       "0            5        2022-06-20 00:00:00                 2023-04-01   \n",
       "1           10        2023-02-01 00:00:00                 2023-03-01   \n",
       "\n",
       "   earliest_coupon_id  \n",
       "0                   5  \n",
       "1                  10  "
      ]
     },
     "execution_count": 19,
     "metadata": {},
     "output_type": "execute_result"
    }
   ],
   "source": [
    "query = '''\n",
    "WITH earliest_coupons AS (\n",
    "    SELECT c.merchant_id, \n",
    "           MIN(c.start_date) AS earliest_coupon_start_date \n",
    "    FROM coupons AS c\n",
    "    GROUP BY c.merchant_id\n",
    ")\n",
    "SELECT m.mid AS merchant_id, \n",
    "       m.created_at AS merchant_registration_date, \n",
    "       ec.earliest_coupon_start_date, \n",
    "       c.cid AS earliest_coupon_id\n",
    "FROM merchants AS m\n",
    "JOIN earliest_coupons AS ec \n",
    "    ON m.mid = ec.merchant_id\n",
    "JOIN coupons AS c \n",
    "    ON ec.merchant_id = c.merchant_id \n",
    "    AND ec.earliest_coupon_start_date = c.start_date\n",
    "WHERE ec.earliest_coupon_start_date <= date(m.created_at, '+1 year');\n",
    "\n",
    "'''\n",
    "df = pd.read_sql_query(query, connection)\n",
    "df"
   ]
  },
  {
   "cell_type": "code",
   "execution_count": 21,
   "metadata": {},
   "outputs": [
    {
     "data": {
      "text/html": [
       "<div>\n",
       "<style scoped>\n",
       "    .dataframe tbody tr th:only-of-type {\n",
       "        vertical-align: middle;\n",
       "    }\n",
       "\n",
       "    .dataframe tbody tr th {\n",
       "        vertical-align: top;\n",
       "    }\n",
       "\n",
       "    .dataframe thead th {\n",
       "        text-align: right;\n",
       "    }\n",
       "</style>\n",
       "<table border=\"1\" class=\"dataframe\">\n",
       "  <thead>\n",
       "    <tr style=\"text-align: right;\">\n",
       "      <th></th>\n",
       "      <th>merchant_id</th>\n",
       "      <th>merchant_registration_date</th>\n",
       "      <th>earliest_coupon_start_date</th>\n",
       "      <th>earliest_coupon_id</th>\n",
       "    </tr>\n",
       "  </thead>\n",
       "  <tbody>\n",
       "    <tr>\n",
       "      <th>0</th>\n",
       "      <td>2</td>\n",
       "      <td>2018-07-01 00:00:00</td>\n",
       "      <td>2023-01-01</td>\n",
       "      <td>2</td>\n",
       "    </tr>\n",
       "    <tr>\n",
       "      <th>1</th>\n",
       "      <td>8</td>\n",
       "      <td>2017-04-01 00:00:00</td>\n",
       "      <td>2022-12-01</td>\n",
       "      <td>8</td>\n",
       "    </tr>\n",
       "  </tbody>\n",
       "</table>\n",
       "</div>"
      ],
      "text/plain": [
       "   merchant_id merchant_registration_date earliest_coupon_start_date  \\\n",
       "0            2        2018-07-01 00:00:00                 2023-01-01   \n",
       "1            8        2017-04-01 00:00:00                 2022-12-01   \n",
       "\n",
       "   earliest_coupon_id  \n",
       "0                   2  \n",
       "1                   8  "
      ]
     },
     "execution_count": 21,
     "metadata": {},
     "output_type": "execute_result"
    }
   ],
   "source": [
    "%%pydough\n",
    "# Retrieve merchants with their earliest coupon start date, filtering those whose first coupon start date is before January 1st, 2023\n",
    "merchants_with_earliest_coupons = Merchants(\n",
    "    merchant_id=mid, \n",
    "    merchant_registration_date=created_at,  \n",
    "    earliest_coupon_start_date=MIN(coupons.start_date) \n",
    ").WHERE(earliest_coupon_start_date <= \"2023-01-01\") \n",
    "\n",
    "# Retrieve coupon details for the merchants with the earliest coupon start dates\n",
    "selected_earliest_coupons = merchants_with_earliest_coupons.coupons(\n",
    "    merchant_id=BACK(1).merchant_id,  \n",
    "    merchant_registration_date=BACK(1).merchant_registration_date, \n",
    "    earliest_coupon_start_date=BACK(1).earliest_coupon_start_date,  \n",
    "    earliest_coupon_id=cid \n",
    ")\n",
    "\n",
    "pydough.to_df(earliest_coupons)"
   ]
  },
  {
   "cell_type": "code",
   "execution_count": null,
   "metadata": {},
   "outputs": [],
   "source": []
  },
  {
   "cell_type": "markdown",
   "metadata": {},
   "source": [
    "### Which users did not get a notification within the first year of signing up? Return their usernames, emails and signup dates.\n"
   ]
  },
  {
   "cell_type": "code",
   "execution_count": 138,
   "metadata": {},
   "outputs": [
    {
     "data": {
      "text/html": [
       "<div>\n",
       "<style scoped>\n",
       "    .dataframe tbody tr th:only-of-type {\n",
       "        vertical-align: middle;\n",
       "    }\n",
       "\n",
       "    .dataframe tbody tr th {\n",
       "        vertical-align: top;\n",
       "    }\n",
       "\n",
       "    .dataframe thead th {\n",
       "        text-align: right;\n",
       "    }\n",
       "</style>\n",
       "<table border=\"1\" class=\"dataframe\">\n",
       "  <thead>\n",
       "    <tr style=\"text-align: right;\">\n",
       "      <th></th>\n",
       "      <th>username</th>\n",
       "      <th>email</th>\n",
       "      <th>created_at</th>\n",
       "    </tr>\n",
       "  </thead>\n",
       "  <tbody>\n",
       "    <tr>\n",
       "      <th>0</th>\n",
       "      <td>john_doe</td>\n",
       "      <td>john.doe@email.com</td>\n",
       "      <td>2025-01-06 15:13:01</td>\n",
       "    </tr>\n",
       "    <tr>\n",
       "      <th>1</th>\n",
       "      <td>jane_smith</td>\n",
       "      <td>jane.smith@email.com</td>\n",
       "      <td>2024-12-06 15:13:01</td>\n",
       "    </tr>\n",
       "    <tr>\n",
       "      <th>2</th>\n",
       "      <td>huang2143</td>\n",
       "      <td>huang2143@example.com</td>\n",
       "      <td>2023-12-10 08:00:00</td>\n",
       "    </tr>\n",
       "    <tr>\n",
       "      <th>3</th>\n",
       "      <td>lisa_jones</td>\n",
       "      <td>lisa.jones@email.com</td>\n",
       "      <td>2023-09-05 15:20:00</td>\n",
       "    </tr>\n",
       "  </tbody>\n",
       "</table>\n",
       "</div>"
      ],
      "text/plain": [
       "     username                  email           created_at\n",
       "0    john_doe     john.doe@email.com  2025-01-06 15:13:01\n",
       "1  jane_smith   jane.smith@email.com  2024-12-06 15:13:01\n",
       "2   huang2143  huang2143@example.com  2023-12-10 08:00:00\n",
       "3  lisa_jones   lisa.jones@email.com  2023-09-05 15:20:00"
      ]
     },
     "execution_count": 138,
     "metadata": {},
     "output_type": "execute_result"
    }
   ],
   "source": [
    "query = '''\n",
    "SELECT u.username, u.email, u.created_at \n",
    "FROM users AS u \n",
    "LEFT JOIN notifications AS n ON u.uid = n.user_id \n",
    "AND n.created_at BETWEEN u.created_at \n",
    "AND '2025-01-01' \n",
    "WHERE n.user_id IS NULL;\n",
    "\n",
    "'''\n",
    "df = pd.read_sql_query(query, connection)\n",
    "df"
   ]
  },
  {
   "cell_type": "code",
   "execution_count": 23,
   "metadata": {},
   "outputs": [
    {
     "data": {
      "text/html": [
       "<div>\n",
       "<style scoped>\n",
       "    .dataframe tbody tr th:only-of-type {\n",
       "        vertical-align: middle;\n",
       "    }\n",
       "\n",
       "    .dataframe tbody tr th {\n",
       "        vertical-align: top;\n",
       "    }\n",
       "\n",
       "    .dataframe thead th {\n",
       "        text-align: right;\n",
       "    }\n",
       "</style>\n",
       "<table border=\"1\" class=\"dataframe\">\n",
       "  <thead>\n",
       "    <tr style=\"text-align: right;\">\n",
       "      <th></th>\n",
       "      <th>username</th>\n",
       "      <th>email</th>\n",
       "    </tr>\n",
       "  </thead>\n",
       "  <tbody>\n",
       "    <tr>\n",
       "      <th>0</th>\n",
       "      <td>john_doe</td>\n",
       "      <td>john.doe@email.com</td>\n",
       "    </tr>\n",
       "    <tr>\n",
       "      <th>1</th>\n",
       "      <td>jane_smith</td>\n",
       "      <td>jane.smith@email.com</td>\n",
       "    </tr>\n",
       "    <tr>\n",
       "      <th>2</th>\n",
       "      <td>huang2143</td>\n",
       "      <td>huang2143@example.com</td>\n",
       "    </tr>\n",
       "    <tr>\n",
       "      <th>3</th>\n",
       "      <td>lisa_jones</td>\n",
       "      <td>lisa.jones@email.com</td>\n",
       "    </tr>\n",
       "  </tbody>\n",
       "</table>\n",
       "</div>"
      ],
      "text/plain": [
       "     username                  email\n",
       "0    john_doe     john.doe@email.com\n",
       "1  jane_smith   jane.smith@email.com\n",
       "2   huang2143  huang2143@example.com\n",
       "3  lisa_jones   lisa.jones@email.com"
      ]
     },
     "execution_count": 23,
     "metadata": {},
     "output_type": "execute_result"
    }
   ],
   "source": [
    "%%pydough\n",
    "\n",
    "users_without_notifications = Users.WHERE(HASNOT(notifications.WHERE((created_at >= user.created_at) & (created_at < \"2025-01-01\") )))(username, email)\n",
    "\n",
    "#pydough.to_sql(output)\n",
    "pydough.to_df(users_without_notifications)"
   ]
  },
  {
   "cell_type": "markdown",
   "metadata": {},
   "source": [
    "# Advance queries"
   ]
  },
  {
   "cell_type": "markdown",
   "metadata": {},
   "source": [
    "### Calculate the CPUR for each merchant, considering only successful transactions. Return the merchant name and CPUR. CPUR (coupon usage rate) = number of distinct coupons used / number of distinct transactions."
   ]
  },
  {
   "cell_type": "code",
   "execution_count": 62,
   "metadata": {},
   "outputs": [
    {
     "data": {
      "text/html": [
       "<div>\n",
       "<style scoped>\n",
       "    .dataframe tbody tr th:only-of-type {\n",
       "        vertical-align: middle;\n",
       "    }\n",
       "\n",
       "    .dataframe tbody tr th {\n",
       "        vertical-align: top;\n",
       "    }\n",
       "\n",
       "    .dataframe thead th {\n",
       "        text-align: right;\n",
       "    }\n",
       "</style>\n",
       "<table border=\"1\" class=\"dataframe\">\n",
       "  <thead>\n",
       "    <tr style=\"text-align: right;\">\n",
       "      <th></th>\n",
       "      <th>name</th>\n",
       "      <th>CPUR</th>\n",
       "    </tr>\n",
       "  </thead>\n",
       "  <tbody>\n",
       "    <tr>\n",
       "      <th>0</th>\n",
       "      <td>BeautyTrending</td>\n",
       "      <td>0.333333</td>\n",
       "    </tr>\n",
       "    <tr>\n",
       "      <th>1</th>\n",
       "      <td>FitLifeGear</td>\n",
       "      <td>0.000000</td>\n",
       "    </tr>\n",
       "    <tr>\n",
       "      <th>2</th>\n",
       "      <td>GameRush</td>\n",
       "      <td>1.000000</td>\n",
       "    </tr>\n",
       "    <tr>\n",
       "      <th>3</th>\n",
       "      <td>HandyCraft</td>\n",
       "      <td>0.000000</td>\n",
       "    </tr>\n",
       "    <tr>\n",
       "      <th>4</th>\n",
       "      <td>TechMart</td>\n",
       "      <td>0.142857</td>\n",
       "    </tr>\n",
       "    <tr>\n",
       "      <th>5</th>\n",
       "      <td>UrbanDining</td>\n",
       "      <td>0.500000</td>\n",
       "    </tr>\n",
       "    <tr>\n",
       "      <th>6</th>\n",
       "      <td>ZenHomeGoods</td>\n",
       "      <td>1.000000</td>\n",
       "    </tr>\n",
       "  </tbody>\n",
       "</table>\n",
       "</div>"
      ],
      "text/plain": [
       "             name      CPUR\n",
       "0  BeautyTrending  0.333333\n",
       "1     FitLifeGear  0.000000\n",
       "2        GameRush  1.000000\n",
       "3      HandyCraft  0.000000\n",
       "4        TechMart  0.142857\n",
       "5     UrbanDining  0.500000\n",
       "6    ZenHomeGoods  1.000000"
      ]
     },
     "execution_count": 62,
     "metadata": {},
     "output_type": "execute_result"
    }
   ],
   "source": [
    "query = '''\n",
    "SELECT m.name, (COUNT(DISTINCT wtd.coupon_id) * 1.0 / NULLIF(COUNT(DISTINCT wtd.txid), 0)) AS CPUR \n",
    "FROM wallet_transactions_daily AS wtd \n",
    "JOIN merchants AS m ON wtd.receiver_id = m.mid \n",
    "WHERE wtd.status = 'success' \n",
    "GROUP BY m.name;\n",
    "'''\n",
    "df = pd.read_sql_query(query, connection)\n",
    "df"
   ]
  },
  {
   "cell_type": "code",
   "execution_count": 106,
   "metadata": {},
   "outputs": [
    {
     "data": {
      "text/html": [
       "<div>\n",
       "<style scoped>\n",
       "    .dataframe tbody tr th:only-of-type {\n",
       "        vertical-align: middle;\n",
       "    }\n",
       "\n",
       "    .dataframe tbody tr th {\n",
       "        vertical-align: top;\n",
       "    }\n",
       "\n",
       "    .dataframe thead th {\n",
       "        text-align: right;\n",
       "    }\n",
       "</style>\n",
       "<table border=\"1\" class=\"dataframe\">\n",
       "  <thead>\n",
       "    <tr style=\"text-align: right;\">\n",
       "      <th></th>\n",
       "      <th>name</th>\n",
       "      <th>CPUR</th>\n",
       "    </tr>\n",
       "  </thead>\n",
       "  <tbody>\n",
       "    <tr>\n",
       "      <th>0</th>\n",
       "      <td>TechMart</td>\n",
       "      <td>0.142857</td>\n",
       "    </tr>\n",
       "    <tr>\n",
       "      <th>1</th>\n",
       "      <td>FitLifeGear</td>\n",
       "      <td>0.000000</td>\n",
       "    </tr>\n",
       "    <tr>\n",
       "      <th>2</th>\n",
       "      <td>UrbanDining</td>\n",
       "      <td>0.500000</td>\n",
       "    </tr>\n",
       "    <tr>\n",
       "      <th>3</th>\n",
       "      <td>HandyCraft</td>\n",
       "      <td>0.000000</td>\n",
       "    </tr>\n",
       "    <tr>\n",
       "      <th>4</th>\n",
       "      <td>ZenHomeGoods</td>\n",
       "      <td>1.000000</td>\n",
       "    </tr>\n",
       "    <tr>\n",
       "      <th>5</th>\n",
       "      <td>BeautyTrending</td>\n",
       "      <td>0.333333</td>\n",
       "    </tr>\n",
       "    <tr>\n",
       "      <th>6</th>\n",
       "      <td>GameRush</td>\n",
       "      <td>1.000000</td>\n",
       "    </tr>\n",
       "  </tbody>\n",
       "</table>\n",
       "</div>"
      ],
      "text/plain": [
       "             name      CPUR\n",
       "0        TechMart  0.142857\n",
       "1     FitLifeGear  0.000000\n",
       "2     UrbanDining  0.500000\n",
       "3      HandyCraft  0.000000\n",
       "4    ZenHomeGoods  1.000000\n",
       "5  BeautyTrending  0.333333\n",
       "6        GameRush  1.000000"
      ]
     },
     "execution_count": 106,
     "metadata": {},
     "output_type": "execute_result"
    }
   ],
   "source": [
    "%%pydough\n",
    "\n",
    "# Filter the transactions to get only successful ones\n",
    "successful_transactions= transactions_received.WHERE(status==\"success\")\n",
    "\n",
    "# Calculate the CPUR for the merchant\n",
    "merchant_cpur_summary= Merchants.WHERE(HAS(successful_transactions))(\n",
    "    name= name,\n",
    "    CPUR= NDISTINCT(successful_transactions.coupon_id) * 1.0 / NDISTINCT(successful_transactions.txid)\n",
    ")\n",
    "\n",
    "pydough.to_df(merchant_cpur_summary)"
   ]
  },
  {
   "cell_type": "markdown",
   "metadata": {},
   "source": [
    "### For users in the US and Canada, how many total notifications were sent in each of the last 3 weeks excluding the current week? How many of those were sent on weekends?"
   ]
  },
  {
   "cell_type": "code",
   "execution_count": 73,
   "metadata": {},
   "outputs": [
    {
     "data": {
      "text/html": [
       "<div>\n",
       "<style scoped>\n",
       "    .dataframe tbody tr th:only-of-type {\n",
       "        vertical-align: middle;\n",
       "    }\n",
       "\n",
       "    .dataframe tbody tr th {\n",
       "        vertical-align: top;\n",
       "    }\n",
       "\n",
       "    .dataframe thead th {\n",
       "        text-align: right;\n",
       "    }\n",
       "</style>\n",
       "<table border=\"1\" class=\"dataframe\">\n",
       "  <thead>\n",
       "    <tr style=\"text-align: right;\">\n",
       "      <th></th>\n",
       "      <th>WEEK</th>\n",
       "      <th>total_notifications</th>\n",
       "      <th>weekend_notifications</th>\n",
       "    </tr>\n",
       "  </thead>\n",
       "  <tbody>\n",
       "    <tr>\n",
       "      <th>0</th>\n",
       "      <td>2025-01-13</td>\n",
       "      <td>1</td>\n",
       "      <td>0</td>\n",
       "    </tr>\n",
       "    <tr>\n",
       "      <th>1</th>\n",
       "      <td>2025-01-20</td>\n",
       "      <td>1</td>\n",
       "      <td>0</td>\n",
       "    </tr>\n",
       "    <tr>\n",
       "      <th>2</th>\n",
       "      <td>2025-01-27</td>\n",
       "      <td>2</td>\n",
       "      <td>1</td>\n",
       "    </tr>\n",
       "  </tbody>\n",
       "</table>\n",
       "</div>"
      ],
      "text/plain": [
       "         WEEK  total_notifications  weekend_notifications\n",
       "0  2025-01-13                    1                      0\n",
       "1  2025-01-20                    1                      0\n",
       "2  2025-01-27                    2                      1"
      ]
     },
     "execution_count": 73,
     "metadata": {},
     "output_type": "execute_result"
    }
   ],
   "source": [
    "query = '''\n",
    "SELECT \n",
    "    date(n.created_at, '-' || ((strftime('%w', n.created_at) + 6) % 7) || ' days') AS WEEK, \n",
    "    COUNT(*) AS total_notifications, \n",
    "    COUNT(CASE \n",
    "        WHEN strftime('%w', n.created_at) IN ('0', '6') THEN 1 \n",
    "    END) AS weekend_notifications \n",
    "FROM notifications AS n \n",
    "JOIN users AS u ON n.user_id = u.uid \n",
    "WHERE \n",
    "    u.country IN ('US', 'CA') \n",
    "    AND n.created_at >= date('now', '-' || ((strftime('%w', 'now') + 6) % 7) || ' days', '-21 days') \n",
    "    AND n.created_at < date('now', '-' || ((strftime('%w', 'now') + 6) % 7) || ' days') \n",
    "GROUP BY WEEK;\n",
    "\n",
    "'''\n",
    "df = pd.read_sql_query(query, connection)\n",
    "df"
   ]
  },
  {
   "cell_type": "code",
   "execution_count": null,
   "metadata": {},
   "outputs": [],
   "source": [
    "%%pydough\n",
    "\n",
    "end_date = DATETRUNC(DATE('now'), 'week')\n",
    "\n",
    "start_date = start_date - Interval(days=21)\n",
    "\n",
    "Notifications.WHERE(\n",
    " ISIN(user.country,('US', 'CA')) &\n",
    " (start_date <= created_at) & (start_date < end_date)\n",
    ").PARTITION_BY(week = DATETRUNC(start_date, 'week'))(\n",
    " week,\n",
    " total_notifications = COUNT()\n",
    " weekend_notifications = COUNT(CLUSTER.WHERE(DAYOFWEEK(created_at) in (0, 6)))\n",
    ")"
   ]
  },
  {
   "cell_type": "markdown",
   "metadata": {},
   "source": [
    "### How many active retail merchants have issued coupons? Return the merchant name and the total number of coupons issued."
   ]
  },
  {
   "cell_type": "code",
   "execution_count": 77,
   "metadata": {},
   "outputs": [
    {
     "data": {
      "text/html": [
       "<div>\n",
       "<style scoped>\n",
       "    .dataframe tbody tr th:only-of-type {\n",
       "        vertical-align: middle;\n",
       "    }\n",
       "\n",
       "    .dataframe tbody tr th {\n",
       "        vertical-align: top;\n",
       "    }\n",
       "\n",
       "    .dataframe thead th {\n",
       "        text-align: right;\n",
       "    }\n",
       "</style>\n",
       "<table border=\"1\" class=\"dataframe\">\n",
       "  <thead>\n",
       "    <tr style=\"text-align: right;\">\n",
       "      <th></th>\n",
       "      <th>name</th>\n",
       "      <th>total_coupons</th>\n",
       "    </tr>\n",
       "  </thead>\n",
       "  <tbody>\n",
       "    <tr>\n",
       "      <th>0</th>\n",
       "      <td>BeautyTrending</td>\n",
       "      <td>1</td>\n",
       "    </tr>\n",
       "    <tr>\n",
       "      <th>1</th>\n",
       "      <td>FitLifeGear</td>\n",
       "      <td>1</td>\n",
       "    </tr>\n",
       "    <tr>\n",
       "      <th>2</th>\n",
       "      <td>GameRush</td>\n",
       "      <td>1</td>\n",
       "    </tr>\n",
       "    <tr>\n",
       "      <th>3</th>\n",
       "      <td>HandyCraft</td>\n",
       "      <td>1</td>\n",
       "    </tr>\n",
       "    <tr>\n",
       "      <th>4</th>\n",
       "      <td>TechMart</td>\n",
       "      <td>1</td>\n",
       "    </tr>\n",
       "    <tr>\n",
       "      <th>5</th>\n",
       "      <td>ZenHomeGoods</td>\n",
       "      <td>1</td>\n",
       "    </tr>\n",
       "  </tbody>\n",
       "</table>\n",
       "</div>"
      ],
      "text/plain": [
       "             name  total_coupons\n",
       "0  BeautyTrending              1\n",
       "1     FitLifeGear              1\n",
       "2        GameRush              1\n",
       "3      HandyCraft              1\n",
       "4        TechMart              1\n",
       "5    ZenHomeGoods              1"
      ]
     },
     "execution_count": 77,
     "metadata": {},
     "output_type": "execute_result"
    }
   ],
   "source": [
    "query = '''\n",
    "SELECT \n",
    "    m.name, COUNT(c.cid) AS total_coupons \n",
    "FROM\n",
    "    merchants AS m \n",
    "JOIN \n",
    "    coupons AS c ON m.mid = c.merchant_id \n",
    "WHERE \n",
    "    m.status = 'active' AND LOWER(m.category) LIKE '%retail%' \n",
    "GROUP BY m.name;\n",
    "'''\n",
    "df = pd.read_sql_query(query, connection)\n",
    "df"
   ]
  },
  {
   "cell_type": "code",
   "execution_count": 4,
   "metadata": {},
   "outputs": [
    {
     "data": {
      "text/html": [
       "<div>\n",
       "<style scoped>\n",
       "    .dataframe tbody tr th:only-of-type {\n",
       "        vertical-align: middle;\n",
       "    }\n",
       "\n",
       "    .dataframe tbody tr th {\n",
       "        vertical-align: top;\n",
       "    }\n",
       "\n",
       "    .dataframe thead th {\n",
       "        text-align: right;\n",
       "    }\n",
       "</style>\n",
       "<table border=\"1\" class=\"dataframe\">\n",
       "  <thead>\n",
       "    <tr style=\"text-align: right;\">\n",
       "      <th></th>\n",
       "      <th>merchant_name</th>\n",
       "      <th>total_coupons</th>\n",
       "    </tr>\n",
       "  </thead>\n",
       "  <tbody>\n",
       "    <tr>\n",
       "      <th>0</th>\n",
       "      <td>TechMart</td>\n",
       "      <td>1</td>\n",
       "    </tr>\n",
       "    <tr>\n",
       "      <th>1</th>\n",
       "      <td>FitLifeGear</td>\n",
       "      <td>1</td>\n",
       "    </tr>\n",
       "    <tr>\n",
       "      <th>2</th>\n",
       "      <td>HandyCraft</td>\n",
       "      <td>1</td>\n",
       "    </tr>\n",
       "    <tr>\n",
       "      <th>3</th>\n",
       "      <td>ZenHomeGoods</td>\n",
       "      <td>1</td>\n",
       "    </tr>\n",
       "    <tr>\n",
       "      <th>4</th>\n",
       "      <td>BeautyTrending</td>\n",
       "      <td>1</td>\n",
       "    </tr>\n",
       "    <tr>\n",
       "      <th>5</th>\n",
       "      <td>GameRush</td>\n",
       "      <td>1</td>\n",
       "    </tr>\n",
       "  </tbody>\n",
       "</table>\n",
       "</div>"
      ],
      "text/plain": [
       "    merchant_name  total_coupons\n",
       "0        TechMart              1\n",
       "1     FitLifeGear              1\n",
       "2      HandyCraft              1\n",
       "3    ZenHomeGoods              1\n",
       "4  BeautyTrending              1\n",
       "5        GameRush              1"
      ]
     },
     "execution_count": 4,
     "metadata": {},
     "output_type": "execute_result"
    }
   ],
   "source": [
    "%%pydough\n",
    "\n",
    "# Retrieve merchant summary for active merchants in the \"retail\" category who have coupons\n",
    "active_retail_merchants_with_coupons = Merchants.WHERE(\n",
    "    (status == \"active\") & \n",
    "    (CONTAINS(LOWER(category), '%retail%')) &  \n",
    "    HAS(coupons) \n",
    ")(\n",
    "    merchant_name=name, \n",
    "    total_coupons=COUNT(coupons)  \n",
    ")\n",
    "\n",
    "\n",
    "pydough.to_df(active_retail_merchants_with_coupons)"
   ]
  },
  {
   "cell_type": "markdown",
   "metadata": {},
   "source": [
    "### How many wallet transactions were made by users from the US in the last 7 days inclusive of today? Return the number of transactions and total transaction amount."
   ]
  },
  {
   "cell_type": "code",
   "execution_count": 34,
   "metadata": {},
   "outputs": [
    {
     "data": {
      "text/html": [
       "<div>\n",
       "<style scoped>\n",
       "    .dataframe tbody tr th:only-of-type {\n",
       "        vertical-align: middle;\n",
       "    }\n",
       "\n",
       "    .dataframe tbody tr th {\n",
       "        vertical-align: top;\n",
       "    }\n",
       "\n",
       "    .dataframe thead th {\n",
       "        text-align: right;\n",
       "    }\n",
       "</style>\n",
       "<table border=\"1\" class=\"dataframe\">\n",
       "  <thead>\n",
       "    <tr style=\"text-align: right;\">\n",
       "      <th></th>\n",
       "      <th>num_transactions</th>\n",
       "      <th>total_amount</th>\n",
       "    </tr>\n",
       "  </thead>\n",
       "  <tbody>\n",
       "    <tr>\n",
       "      <th>0</th>\n",
       "      <td>1</td>\n",
       "      <td>49.99</td>\n",
       "    </tr>\n",
       "  </tbody>\n",
       "</table>\n",
       "</div>"
      ],
      "text/plain": [
       "   num_transactions  total_amount\n",
       "0                 1         49.99"
      ]
     },
     "execution_count": 34,
     "metadata": {},
     "output_type": "execute_result"
    }
   ],
   "source": [
    "query = '''\n",
    "SELECT \n",
    "    COUNT(*) AS num_transactions, \n",
    "    SUM(amount) AS total_amount \n",
    "FROM wallet_transactions_daily AS t \n",
    "JOIN users AS u ON t.sender_id = u.uid \n",
    "WHERE \n",
    "    u.country = 'US' \n",
    "    AND t.created_at >=  '2024-08-24'\n",
    "    AND t.created_at < DATE('now', '+1 day'); \n",
    "\n",
    "'''\n",
    "df = pd.read_sql_query(query, connection)\n",
    "df"
   ]
  },
  {
   "cell_type": "code",
   "execution_count": null,
   "metadata": {},
   "outputs": [
    {
     "data": {
      "text/html": [
       "<div>\n",
       "<style scoped>\n",
       "    .dataframe tbody tr th:only-of-type {\n",
       "        vertical-align: middle;\n",
       "    }\n",
       "\n",
       "    .dataframe tbody tr th {\n",
       "        vertical-align: top;\n",
       "    }\n",
       "\n",
       "    .dataframe thead th {\n",
       "        text-align: right;\n",
       "    }\n",
       "</style>\n",
       "<table border=\"1\" class=\"dataframe\">\n",
       "  <thead>\n",
       "    <tr style=\"text-align: right;\">\n",
       "      <th></th>\n",
       "      <th>num_transactions</th>\n",
       "      <th>total_amount</th>\n",
       "    </tr>\n",
       "  </thead>\n",
       "  <tbody>\n",
       "    <tr>\n",
       "      <th>0</th>\n",
       "      <td>5</td>\n",
       "      <td>374.93</td>\n",
       "    </tr>\n",
       "  </tbody>\n",
       "</table>\n",
       "</div>"
      ],
      "text/plain": [
       "   num_transactions  total_amount\n",
       "0                 5        374.93"
      ]
     },
     "execution_count": 33,
     "metadata": {},
     "output_type": "execute_result"
    }
   ],
   "source": [
    "%%pydough\n",
    "# Define the start date for filtering transactions\n",
    "start_date = DATE('now', '-7 days')\n",
    "# Filter transactions based on the creation date and sending user's country\n",
    "us_transactions = Transactions.WHERE(\n",
    "    (created_at >= start_date) & \n",
    "    (sending_user.country == 'US') \n",
    ")\n",
    "# Calculate the number of transactions and the total amount for the filtered transactions\n",
    "transaction_summary = Ewallet(\n",
    "    num_transactions=COUNT(us_transactions), \n",
    "    total_amount=SUM(us_transactions.amount)  \n",
    ")\n",
    "\n",
    "pydough.to_df(transaction_summary)\n"
   ]
  },
  {
   "cell_type": "markdown",
   "metadata": {},
   "source": [
    "### What is the average AMB for user wallets updated in the past week, inclusive of 7 days ago? Return the average balance.\n"
   ]
  },
  {
   "cell_type": "code",
   "execution_count": 84,
   "metadata": {},
   "outputs": [
    {
     "data": {
      "text/html": [
       "<div>\n",
       "<style scoped>\n",
       "    .dataframe tbody tr th:only-of-type {\n",
       "        vertical-align: middle;\n",
       "    }\n",
       "\n",
       "    .dataframe tbody tr th {\n",
       "        vertical-align: top;\n",
       "    }\n",
       "\n",
       "    .dataframe thead th {\n",
       "        text-align: right;\n",
       "    }\n",
       "</style>\n",
       "<table border=\"1\" class=\"dataframe\">\n",
       "  <thead>\n",
       "    <tr style=\"text-align: right;\">\n",
       "      <th></th>\n",
       "      <th>AMB</th>\n",
       "    </tr>\n",
       "  </thead>\n",
       "  <tbody>\n",
       "    <tr>\n",
       "      <th>0</th>\n",
       "      <td>848.26</td>\n",
       "    </tr>\n",
       "  </tbody>\n",
       "</table>\n",
       "</div>"
      ],
      "text/plain": [
       "      AMB\n",
       "0  848.26"
      ]
     },
     "execution_count": 84,
     "metadata": {},
     "output_type": "execute_result"
    }
   ],
   "source": [
    "query = '''\n",
    "SELECT \n",
    "    AVG(balance) AS AMB \n",
    "FROM wallet_user_balance_daily \n",
    "WHERE updated_at >= DATE('now', '-7 days'); \n",
    "'''\n",
    "df = pd.read_sql_query(query, connection)\n",
    "df"
   ]
  },
  {
   "cell_type": "code",
   "execution_count": 89,
   "metadata": {},
   "outputs": [
    {
     "data": {
      "text/html": [
       "<div>\n",
       "<style scoped>\n",
       "    .dataframe tbody tr th:only-of-type {\n",
       "        vertical-align: middle;\n",
       "    }\n",
       "\n",
       "    .dataframe tbody tr th {\n",
       "        vertical-align: top;\n",
       "    }\n",
       "\n",
       "    .dataframe thead th {\n",
       "        text-align: right;\n",
       "    }\n",
       "</style>\n",
       "<table border=\"1\" class=\"dataframe\">\n",
       "  <thead>\n",
       "    <tr style=\"text-align: right;\">\n",
       "      <th></th>\n",
       "      <th>AMB</th>\n",
       "    </tr>\n",
       "  </thead>\n",
       "  <tbody>\n",
       "    <tr>\n",
       "      <th>0</th>\n",
       "      <td>848.26</td>\n",
       "    </tr>\n",
       "  </tbody>\n",
       "</table>\n",
       "</div>"
      ],
      "text/plain": [
       "      AMB\n",
       "0  848.26"
      ]
     },
     "execution_count": 89,
     "metadata": {},
     "output_type": "execute_result"
    }
   ],
   "source": [
    "%%pydough\n",
    "\n",
    "d= DATE('now', '-7 days')\n",
    "selected_user_balances= UserBalances.WHERE(updated_at >= \"2025-02-01\")\n",
    "\n",
    "amb= Ewallet(AMB= AVG(selected_user_balances.balance))\n",
    "pydough.to_df(amb)"
   ]
  },
  {
   "cell_type": "markdown",
   "metadata": {},
   "source": [
    "### What is the LUB for each user. LUB = Latest User Balance, which is the most recent balance for each user\n",
    "\n"
   ]
  },
  {
   "cell_type": "code",
   "execution_count": 90,
   "metadata": {},
   "outputs": [
    {
     "data": {
      "text/html": [
       "<div>\n",
       "<style scoped>\n",
       "    .dataframe tbody tr th:only-of-type {\n",
       "        vertical-align: middle;\n",
       "    }\n",
       "\n",
       "    .dataframe tbody tr th {\n",
       "        vertical-align: top;\n",
       "    }\n",
       "\n",
       "    .dataframe thead th {\n",
       "        text-align: right;\n",
       "    }\n",
       "</style>\n",
       "<table border=\"1\" class=\"dataframe\">\n",
       "  <thead>\n",
       "    <tr style=\"text-align: right;\">\n",
       "      <th></th>\n",
       "      <th>user_id</th>\n",
       "      <th>balance</th>\n",
       "    </tr>\n",
       "  </thead>\n",
       "  <tbody>\n",
       "    <tr>\n",
       "      <th>0</th>\n",
       "      <td>1</td>\n",
       "      <td>2733.92</td>\n",
       "    </tr>\n",
       "    <tr>\n",
       "      <th>1</th>\n",
       "      <td>2</td>\n",
       "      <td>155.24</td>\n",
       "    </tr>\n",
       "    <tr>\n",
       "      <th>2</th>\n",
       "      <td>3</td>\n",
       "      <td>2775.25</td>\n",
       "    </tr>\n",
       "    <tr>\n",
       "      <th>3</th>\n",
       "      <td>4</td>\n",
       "      <td>2500.00</td>\n",
       "    </tr>\n",
       "    <tr>\n",
       "      <th>4</th>\n",
       "      <td>5</td>\n",
       "      <td>155.99</td>\n",
       "    </tr>\n",
       "    <tr>\n",
       "      <th>5</th>\n",
       "      <td>6</td>\n",
       "      <td>29.95</td>\n",
       "    </tr>\n",
       "    <tr>\n",
       "      <th>6</th>\n",
       "      <td>7</td>\n",
       "      <td>172.98</td>\n",
       "    </tr>\n",
       "    <tr>\n",
       "      <th>7</th>\n",
       "      <td>8</td>\n",
       "      <td>0.00</td>\n",
       "    </tr>\n",
       "    <tr>\n",
       "      <th>8</th>\n",
       "      <td>9</td>\n",
       "      <td>125.00</td>\n",
       "    </tr>\n",
       "    <tr>\n",
       "      <th>9</th>\n",
       "      <td>10</td>\n",
       "      <td>219.98</td>\n",
       "    </tr>\n",
       "  </tbody>\n",
       "</table>\n",
       "</div>"
      ],
      "text/plain": [
       "   user_id  balance\n",
       "0        1  2733.92\n",
       "1        2   155.24\n",
       "2        3  2775.25\n",
       "3        4  2500.00\n",
       "4        5   155.99\n",
       "5        6    29.95\n",
       "6        7   172.98\n",
       "7        8     0.00\n",
       "8        9   125.00\n",
       "9       10   219.98"
      ]
     },
     "execution_count": 90,
     "metadata": {},
     "output_type": "execute_result"
    }
   ],
   "source": [
    "query = '''\n",
    "WITH user_balances AS (\n",
    "    SELECT \n",
    "        user_id, \n",
    "        balance, \n",
    "        ROW_NUMBER() OVER (\n",
    "            PARTITION BY user_id \n",
    "            ORDER BY \n",
    "                CASE WHEN updated_at IS NULL THEN 1 ELSE 0 END DESC, \n",
    "                updated_at DESC\n",
    "        ) AS rn \n",
    "    FROM wallet_user_balance_daily\n",
    ") \n",
    "SELECT \n",
    "    user_id, \n",
    "    balance \n",
    "FROM user_balances \n",
    "WHERE rn = 1;\n",
    "\n",
    "'''\n",
    "df = pd.read_sql_query(query, connection)\n",
    "df"
   ]
  },
  {
   "cell_type": "code",
   "execution_count": null,
   "metadata": {},
   "outputs": [],
   "source": [
    "%%pydough\n",
    "\n",
    "latest_balance = BEST(balances, by=updated_at.DESC())\n",
    "\n",
    "Users(uid, latest_balance.balance)\n",
    "pydough.to_df(amb)"
   ]
  },
  {
   "cell_type": "markdown",
   "metadata": {},
   "source": [
    "### What is the marketing opt-in preference for each user? Return the user ID and boolean opt-in value"
   ]
  },
  {
   "cell_type": "code",
   "execution_count": 38,
   "metadata": {},
   "outputs": [
    {
     "data": {
      "text/html": [
       "<div>\n",
       "<style scoped>\n",
       "    .dataframe tbody tr th:only-of-type {\n",
       "        vertical-align: middle;\n",
       "    }\n",
       "\n",
       "    .dataframe tbody tr th {\n",
       "        vertical-align: top;\n",
       "    }\n",
       "\n",
       "    .dataframe thead th {\n",
       "        text-align: right;\n",
       "    }\n",
       "</style>\n",
       "<table border=\"1\" class=\"dataframe\">\n",
       "  <thead>\n",
       "    <tr style=\"text-align: right;\">\n",
       "      <th></th>\n",
       "      <th>uid</th>\n",
       "      <th>marketing_opt_in</th>\n",
       "    </tr>\n",
       "  </thead>\n",
       "  <tbody>\n",
       "    <tr>\n",
       "      <th>0</th>\n",
       "      <td>1</td>\n",
       "      <td>0</td>\n",
       "    </tr>\n",
       "    <tr>\n",
       "      <th>1</th>\n",
       "      <td>2</td>\n",
       "      <td>1</td>\n",
       "    </tr>\n",
       "    <tr>\n",
       "      <th>2</th>\n",
       "      <td>3</td>\n",
       "      <td>0</td>\n",
       "    </tr>\n",
       "    <tr>\n",
       "      <th>3</th>\n",
       "      <td>4</td>\n",
       "      <td>1</td>\n",
       "    </tr>\n",
       "    <tr>\n",
       "      <th>4</th>\n",
       "      <td>5</td>\n",
       "      <td>0</td>\n",
       "    </tr>\n",
       "    <tr>\n",
       "      <th>5</th>\n",
       "      <td>6</td>\n",
       "      <td>1</td>\n",
       "    </tr>\n",
       "    <tr>\n",
       "      <th>6</th>\n",
       "      <td>7</td>\n",
       "      <td>1</td>\n",
       "    </tr>\n",
       "    <tr>\n",
       "      <th>7</th>\n",
       "      <td>8</td>\n",
       "      <td>0</td>\n",
       "    </tr>\n",
       "    <tr>\n",
       "      <th>8</th>\n",
       "      <td>9</td>\n",
       "      <td>1</td>\n",
       "    </tr>\n",
       "    <tr>\n",
       "      <th>9</th>\n",
       "      <td>10</td>\n",
       "      <td>1</td>\n",
       "    </tr>\n",
       "  </tbody>\n",
       "</table>\n",
       "</div>"
      ],
      "text/plain": [
       "   uid  marketing_opt_in\n",
       "0    1                 0\n",
       "1    2                 1\n",
       "2    3                 0\n",
       "3    4                 1\n",
       "4    5                 0\n",
       "5    6                 1\n",
       "6    7                 1\n",
       "7    8                 0\n",
       "8    9                 1\n",
       "9   10                 1"
      ]
     },
     "execution_count": 38,
     "metadata": {},
     "output_type": "execute_result"
    }
   ],
   "source": [
    "query = '''\n",
    "WITH user_latest_setting AS (\n",
    "    SELECT \n",
    "        u.uid, \n",
    "        s.marketing_opt_in, \n",
    "        s.created_at, \n",
    "        ROW_NUMBER() OVER (\n",
    "            PARTITION BY u.uid \n",
    "            ORDER BY \n",
    "                CASE WHEN s.created_at IS NULL THEN 1 ELSE 0 END DESC, \n",
    "                s.created_at DESC\n",
    "        ) AS rn\n",
    "    FROM users AS u\n",
    "    JOIN user_setting_snapshot AS s \n",
    "        ON u.uid = s.user_id\n",
    ")\n",
    "SELECT \n",
    "    UID, \n",
    "    marketing_opt_in \n",
    "FROM user_latest_setting \n",
    "WHERE rn = 1;\n",
    "\n",
    "\n",
    "'''\n",
    "df = pd.read_sql_query(query, connection)\n",
    "df"
   ]
  },
  {
   "cell_type": "code",
   "execution_count": null,
   "metadata": {},
   "outputs": [],
   "source": []
  },
  {
   "cell_type": "markdown",
   "metadata": {},
   "source": [
    "### What is the MRR for each merchant? Return the merchant name, category, revenue amount, and revenue rank. MRR = Merchant Revenue Rank, which ranks merchants based on amounts from successfully received transactions only. Filter receiver_type=1 in wallet_transactions_daily for merchants. Merchant with rank 1 has the highest revenue."
   ]
  },
  {
   "cell_type": "code",
   "execution_count": 81,
   "metadata": {},
   "outputs": [
    {
     "data": {
      "text/html": [
       "<div>\n",
       "<style scoped>\n",
       "    .dataframe tbody tr th:only-of-type {\n",
       "        vertical-align: middle;\n",
       "    }\n",
       "\n",
       "    .dataframe tbody tr th {\n",
       "        vertical-align: top;\n",
       "    }\n",
       "\n",
       "    .dataframe thead th {\n",
       "        text-align: right;\n",
       "    }\n",
       "</style>\n",
       "<table border=\"1\" class=\"dataframe\">\n",
       "  <thead>\n",
       "    <tr style=\"text-align: right;\">\n",
       "      <th></th>\n",
       "      <th>mid</th>\n",
       "      <th>name</th>\n",
       "      <th>merchant_category</th>\n",
       "      <th>total_revenue</th>\n",
       "      <th>mrr</th>\n",
       "    </tr>\n",
       "  </thead>\n",
       "  <tbody>\n",
       "    <tr>\n",
       "      <th>0</th>\n",
       "      <td>1</td>\n",
       "      <td>TechMart</td>\n",
       "      <td>retail (hardware)</td>\n",
       "      <td>435.98</td>\n",
       "      <td>1</td>\n",
       "    </tr>\n",
       "    <tr>\n",
       "      <th>1</th>\n",
       "      <td>9</td>\n",
       "      <td>BeautyTrending</td>\n",
       "      <td>Retail</td>\n",
       "      <td>125.00</td>\n",
       "      <td>2</td>\n",
       "    </tr>\n",
       "    <tr>\n",
       "      <th>2</th>\n",
       "      <td>3</td>\n",
       "      <td>UrbanDining</td>\n",
       "      <td>Food &amp; Dining</td>\n",
       "      <td>109.99</td>\n",
       "      <td>3</td>\n",
       "    </tr>\n",
       "    <tr>\n",
       "      <th>3</th>\n",
       "      <td>2</td>\n",
       "      <td>FitLifeGear</td>\n",
       "      <td>retail (hardware)</td>\n",
       "      <td>72.98</td>\n",
       "      <td>4</td>\n",
       "    </tr>\n",
       "    <tr>\n",
       "      <th>4</th>\n",
       "      <td>5</td>\n",
       "      <td>HandyCraft</td>\n",
       "      <td>Retail</td>\n",
       "      <td>55.99</td>\n",
       "      <td>5</td>\n",
       "    </tr>\n",
       "    <tr>\n",
       "      <th>5</th>\n",
       "      <td>10</td>\n",
       "      <td>GameRush</td>\n",
       "      <td>Retail</td>\n",
       "      <td>29.99</td>\n",
       "      <td>6</td>\n",
       "    </tr>\n",
       "    <tr>\n",
       "      <th>6</th>\n",
       "      <td>7</td>\n",
       "      <td>ZenHomeGoods</td>\n",
       "      <td>Retail</td>\n",
       "      <td>17.99</td>\n",
       "      <td>7</td>\n",
       "    </tr>\n",
       "  </tbody>\n",
       "</table>\n",
       "</div>"
      ],
      "text/plain": [
       "   mid            name  merchant_category  total_revenue  mrr\n",
       "0    1        TechMart  retail (hardware)         435.98    1\n",
       "1    9  BeautyTrending             Retail         125.00    2\n",
       "2    3     UrbanDining      Food & Dining         109.99    3\n",
       "3    2     FitLifeGear  retail (hardware)          72.98    4\n",
       "4    5      HandyCraft             Retail          55.99    5\n",
       "5   10        GameRush             Retail          29.99    6\n",
       "6    7    ZenHomeGoods             Retail          17.99    7"
      ]
     },
     "execution_count": 81,
     "metadata": {},
     "output_type": "execute_result"
    }
   ],
   "source": [
    "query1 = '''\n",
    "WITH merchant_revenue AS (\n",
    "    SELECT \n",
    "        m.mid, \n",
    "        m.category AS merchant_category, \n",
    "        SUM(w.amount) AS total_revenue \n",
    "    FROM merchants AS m\n",
    "    INNER JOIN wallet_transactions_daily AS w \n",
    "        ON m.mid = w.receiver_id \n",
    "        AND w.receiver_type = 1\n",
    "    WHERE w.status = 'success'\n",
    "    GROUP BY m.mid, m.category\n",
    ")\n",
    "SELECT \n",
    "    *, \n",
    "    RANK() OVER (\n",
    "        ORDER BY \n",
    "            CASE WHEN total_revenue IS NULL THEN 1 ELSE 0 END DESC, \n",
    "            total_revenue DESC\n",
    "    ) AS mrr \n",
    "FROM merchant_revenue;\n",
    "'''\n",
    "\n",
    "query2 = '''\n",
    "WITH merchant_revenue AS (\n",
    "    SELECT \n",
    "        m.name, \n",
    "        m.category AS merchant_category, \n",
    "        SUM(w.amount) AS total_revenue \n",
    "    FROM merchants AS m\n",
    "    INNER JOIN wallet_transactions_daily AS w \n",
    "        ON m.mid = w.receiver_id \n",
    "        AND w.receiver_type = 1\n",
    "    WHERE w.status = 'success'\n",
    "    GROUP BY m.name, m.category\n",
    ")\n",
    "SELECT \n",
    "    *, \n",
    "    RANK() OVER (\n",
    "        ORDER BY \n",
    "            CASE WHEN total_revenue IS NULL THEN 1 ELSE 0 END DESC, \n",
    "            total_revenue DESC\n",
    "    ) AS mrr \n",
    "FROM merchant_revenue;\n",
    "'''\n",
    "\n",
    "query3 = '''\n",
    "WITH merchant_revenue AS (\n",
    "    SELECT \n",
    "        m.mid, \n",
    "        m.name, \n",
    "        m.category AS merchant_category, \n",
    "        SUM(w.amount) AS total_revenue \n",
    "    FROM merchants AS m\n",
    "    INNER JOIN wallet_transactions_daily AS w \n",
    "        ON m.mid = w.receiver_id \n",
    "        AND w.receiver_type = 1\n",
    "    WHERE w.status = 'success'\n",
    "    GROUP BY m.mid, m.name, m.category\n",
    ")\n",
    "SELECT \n",
    "    *, \n",
    "    RANK() OVER (\n",
    "        ORDER BY \n",
    "            CASE WHEN total_revenue IS NULL THEN 1 ELSE 0 END DESC, \n",
    "            total_revenue DESC\n",
    "    ) AS mrr \n",
    "FROM merchant_revenue;\n",
    "'''\n",
    "\n",
    "# Run each query separately\n",
    "df1 = pd.read_sql_query(query1, connection)\n",
    "df2 = pd.read_sql_query(query2, connection)\n",
    "df3 = pd.read_sql_query(query3, connection)\n",
    "\n",
    "# Optionally, you can concatenate the results into one DataFrame\n",
    "df = pd.concat([df3], ignore_index=True)\n",
    "df\n"
   ]
  },
  {
   "cell_type": "code",
   "execution_count": 80,
   "metadata": {},
   "outputs": [
    {
     "name": "stderr",
     "output_type": "stream",
     "text": [
      "/home/ara/miniconda3/envs/pydough-bodo/lib/python3.12/site-packages/pydough/sqlglot/sqlglot_relational_expression_visitor.py:88: UserWarning: PyDough when using SQLITE dialect does not support ascending ordering with nulls first (changed to nulls last)\n",
      "  warnings.warn(\n"
     ]
    },
    {
     "data": {
      "text/html": [
       "<div>\n",
       "<style scoped>\n",
       "    .dataframe tbody tr th:only-of-type {\n",
       "        vertical-align: middle;\n",
       "    }\n",
       "\n",
       "    .dataframe tbody tr th {\n",
       "        vertical-align: top;\n",
       "    }\n",
       "\n",
       "    .dataframe thead th {\n",
       "        text-align: right;\n",
       "    }\n",
       "</style>\n",
       "<table border=\"1\" class=\"dataframe\">\n",
       "  <thead>\n",
       "    <tr style=\"text-align: right;\">\n",
       "      <th></th>\n",
       "      <th>mid</th>\n",
       "      <th>category</th>\n",
       "      <th>name</th>\n",
       "      <th>total_revenue</th>\n",
       "      <th>mrr</th>\n",
       "    </tr>\n",
       "  </thead>\n",
       "  <tbody>\n",
       "    <tr>\n",
       "      <th>0</th>\n",
       "      <td>1</td>\n",
       "      <td>retail (hardware)</td>\n",
       "      <td>TechMart</td>\n",
       "      <td>435.98</td>\n",
       "      <td>1</td>\n",
       "    </tr>\n",
       "    <tr>\n",
       "      <th>1</th>\n",
       "      <td>9</td>\n",
       "      <td>Retail</td>\n",
       "      <td>BeautyTrending</td>\n",
       "      <td>125.00</td>\n",
       "      <td>2</td>\n",
       "    </tr>\n",
       "    <tr>\n",
       "      <th>2</th>\n",
       "      <td>3</td>\n",
       "      <td>Food &amp; Dining</td>\n",
       "      <td>UrbanDining</td>\n",
       "      <td>109.99</td>\n",
       "      <td>3</td>\n",
       "    </tr>\n",
       "    <tr>\n",
       "      <th>3</th>\n",
       "      <td>2</td>\n",
       "      <td>retail (hardware)</td>\n",
       "      <td>FitLifeGear</td>\n",
       "      <td>72.98</td>\n",
       "      <td>4</td>\n",
       "    </tr>\n",
       "    <tr>\n",
       "      <th>4</th>\n",
       "      <td>5</td>\n",
       "      <td>Retail</td>\n",
       "      <td>HandyCraft</td>\n",
       "      <td>55.99</td>\n",
       "      <td>5</td>\n",
       "    </tr>\n",
       "    <tr>\n",
       "      <th>5</th>\n",
       "      <td>10</td>\n",
       "      <td>Retail</td>\n",
       "      <td>GameRush</td>\n",
       "      <td>29.99</td>\n",
       "      <td>6</td>\n",
       "    </tr>\n",
       "    <tr>\n",
       "      <th>6</th>\n",
       "      <td>7</td>\n",
       "      <td>Retail</td>\n",
       "      <td>ZenHomeGoods</td>\n",
       "      <td>17.99</td>\n",
       "      <td>7</td>\n",
       "    </tr>\n",
       "  </tbody>\n",
       "</table>\n",
       "</div>"
      ],
      "text/plain": [
       "   mid           category            name  total_revenue  mrr\n",
       "0    1  retail (hardware)        TechMart         435.98    1\n",
       "1    9             Retail  BeautyTrending         125.00    2\n",
       "2    3      Food & Dining     UrbanDining         109.99    3\n",
       "3    2  retail (hardware)     FitLifeGear          72.98    4\n",
       "4    5             Retail      HandyCraft          55.99    5\n",
       "5   10             Retail        GameRush          29.99    6\n",
       "6    7             Retail    ZenHomeGoods          17.99    7"
      ]
     },
     "execution_count": 80,
     "metadata": {},
     "output_type": "execute_result"
    }
   ],
   "source": [
    "%%pydough\n",
    "\n",
    "successful_transactions= transactions_received.WHERE((receiver_type == 1) & (status==\"success\"))\n",
    "\n",
    "mrr_summary= Merchants.WHERE(HAS(successful_transactions))(\n",
    "   total_revenue= SUM(successful_transactions.amount)\n",
    ")(\n",
    "   mid,\n",
    "   category,\n",
    "   name,\n",
    "   total_revenue,\n",
    "   mrr = RANKING(by=total_revenue.DESC(), levels=1)\n",
    ")\n",
    "pydough.to_df(mrr_summary)"
   ]
  },
  {
   "cell_type": "markdown",
   "metadata": {},
   "source": [
    "### What is the PMDAU (Per Month Daily Active Users) for wallet transactions in the last 2 months excluding the current month? PMDAU (Per Month Daily Active Users) = COUNT(DISTINCT(sender_id) ... WHERE t.sender_type = 0. Truncate created_at to month for aggregation."
   ]
  },
  {
   "cell_type": "code",
   "execution_count": 97,
   "metadata": {},
   "outputs": [
    {
     "data": {
      "text/html": [
       "<div>\n",
       "<style scoped>\n",
       "    .dataframe tbody tr th:only-of-type {\n",
       "        vertical-align: middle;\n",
       "    }\n",
       "\n",
       "    .dataframe tbody tr th {\n",
       "        vertical-align: top;\n",
       "    }\n",
       "\n",
       "    .dataframe thead th {\n",
       "        text-align: right;\n",
       "    }\n",
       "</style>\n",
       "<table border=\"1\" class=\"dataframe\">\n",
       "  <thead>\n",
       "    <tr style=\"text-align: right;\">\n",
       "      <th></th>\n",
       "      <th>month</th>\n",
       "      <th>active_users</th>\n",
       "    </tr>\n",
       "  </thead>\n",
       "  <tbody>\n",
       "    <tr>\n",
       "      <th>0</th>\n",
       "      <td>2024-12</td>\n",
       "      <td>1</td>\n",
       "    </tr>\n",
       "    <tr>\n",
       "      <th>1</th>\n",
       "      <td>2025-01</td>\n",
       "      <td>1</td>\n",
       "    </tr>\n",
       "  </tbody>\n",
       "</table>\n",
       "</div>"
      ],
      "text/plain": [
       "     month  active_users\n",
       "0  2024-12             1\n",
       "1  2025-01             1"
      ]
     },
     "execution_count": 97,
     "metadata": {},
     "output_type": "execute_result"
    }
   ],
   "source": [
    "query = '''\n",
    "SELECT \n",
    "    strftime('%Y-%m', t.created_at) AS month, \n",
    "    COUNT(DISTINCT t.sender_id) AS active_users \n",
    "FROM wallet_transactions_daily AS t \n",
    "WHERE \n",
    "    t.sender_type = 0 \n",
    "    AND t.created_at >= date('now', 'start of month', '-2 months') \n",
    "    AND t.created_at < date('now', 'start of month') \n",
    "GROUP BY month;\n",
    "\n",
    "'''\n",
    "df = pd.read_sql_query(query, connection)\n",
    "df"
   ]
  },
  {
   "cell_type": "code",
   "execution_count": 96,
   "metadata": {},
   "outputs": [
    {
     "data": {
      "text/html": [
       "<div>\n",
       "<style scoped>\n",
       "    .dataframe tbody tr th:only-of-type {\n",
       "        vertical-align: middle;\n",
       "    }\n",
       "\n",
       "    .dataframe tbody tr th {\n",
       "        vertical-align: top;\n",
       "    }\n",
       "\n",
       "    .dataframe thead th {\n",
       "        text-align: right;\n",
       "    }\n",
       "</style>\n",
       "<table border=\"1\" class=\"dataframe\">\n",
       "  <thead>\n",
       "    <tr style=\"text-align: right;\">\n",
       "      <th></th>\n",
       "      <th>month</th>\n",
       "      <th>active_users</th>\n",
       "    </tr>\n",
       "  </thead>\n",
       "  <tbody>\n",
       "    <tr>\n",
       "      <th>0</th>\n",
       "      <td>2024-12</td>\n",
       "      <td>1</td>\n",
       "    </tr>\n",
       "    <tr>\n",
       "      <th>1</th>\n",
       "      <td>2025-1</td>\n",
       "      <td>1</td>\n",
       "    </tr>\n",
       "  </tbody>\n",
       "</table>\n",
       "</div>"
      ],
      "text/plain": [
       "     month  active_users\n",
       "0  2024-12             1\n",
       "1   2025-1             1"
      ]
     },
     "execution_count": 96,
     "metadata": {},
     "output_type": "execute_result"
    }
   ],
   "source": [
    "%%pydough\n",
    "\n",
    "# In PyDough we do not have a method DATE('now', '-6 months') to return the date.\n",
    "# Then we take 2025-02-10 (current day when it was made) as \"now\" to calculate the date if we go 6 months in the past.\n",
    "# This would be: \"2024-12-01\" as start date and '2025-02-01' as end_date \n",
    "\n",
    "\n",
    "# Define the start date (2 months before the start of the current month)\n",
    "start_date = DATE('now', 'start of month', '-2 months')\n",
    "\n",
    "# Define the end date (start of the current month)\n",
    "end_date = DATE('now', 'start of month')\n",
    "\n",
    "# Filter successful transactions based on sender type and creation date range\n",
    "successful_transactions = Transactions.WHERE(\n",
    "    (sender_type == 0) &  \n",
    "    (created_at >= start_date) &  \n",
    "    (created_at < end_date) \n",
    ")(year_month= JOIN_STRINGS(\"-\",YEAR(created_at),MONTH(created_at)))\n",
    "\n",
    "# Group transactions by month and calculate the number of distinct active users\n",
    "pmdau_summary = PARTITION(successful_transactions, name=\"transc\", by=year_month)(\n",
    "    month=year_month,  \n",
    "    active_users=NDISTINCT(transc.sender_id) \n",
    ")\n",
    "\n",
    "pydough.to_df(pmdau_summary)"
   ]
  },
  {
   "cell_type": "markdown",
   "metadata": {},
   "source": [
    "### What is the total number of wallet transactions sent by each user that is not a merchant? Return the user ID and total transaction count."
   ]
  },
  {
   "cell_type": "code",
   "execution_count": 98,
   "metadata": {},
   "outputs": [
    {
     "data": {
      "text/html": [
       "<div>\n",
       "<style scoped>\n",
       "    .dataframe tbody tr th:only-of-type {\n",
       "        vertical-align: middle;\n",
       "    }\n",
       "\n",
       "    .dataframe tbody tr th {\n",
       "        vertical-align: top;\n",
       "    }\n",
       "\n",
       "    .dataframe thead th {\n",
       "        text-align: right;\n",
       "    }\n",
       "</style>\n",
       "<table border=\"1\" class=\"dataframe\">\n",
       "  <thead>\n",
       "    <tr style=\"text-align: right;\">\n",
       "      <th></th>\n",
       "      <th>uid</th>\n",
       "      <th>total_transactions</th>\n",
       "    </tr>\n",
       "  </thead>\n",
       "  <tbody>\n",
       "    <tr>\n",
       "      <th>0</th>\n",
       "      <td>1</td>\n",
       "      <td>4</td>\n",
       "    </tr>\n",
       "    <tr>\n",
       "      <th>1</th>\n",
       "      <td>2</td>\n",
       "      <td>7</td>\n",
       "    </tr>\n",
       "    <tr>\n",
       "      <th>2</th>\n",
       "      <td>4</td>\n",
       "      <td>3</td>\n",
       "    </tr>\n",
       "    <tr>\n",
       "      <th>3</th>\n",
       "      <td>5</td>\n",
       "      <td>1</td>\n",
       "    </tr>\n",
       "    <tr>\n",
       "      <th>4</th>\n",
       "      <td>8</td>\n",
       "      <td>2</td>\n",
       "    </tr>\n",
       "    <tr>\n",
       "      <th>5</th>\n",
       "      <td>9</td>\n",
       "      <td>4</td>\n",
       "    </tr>\n",
       "  </tbody>\n",
       "</table>\n",
       "</div>"
      ],
      "text/plain": [
       "   uid  total_transactions\n",
       "0    1                   4\n",
       "1    2                   7\n",
       "2    4                   3\n",
       "3    5                   1\n",
       "4    8                   2\n",
       "5    9                   4"
      ]
     },
     "execution_count": 98,
     "metadata": {},
     "output_type": "execute_result"
    }
   ],
   "source": [
    "query = '''\n",
    "WITH user_transactions AS (\n",
    "    SELECT u.uid, t.txid \n",
    "    FROM users AS u \n",
    "    JOIN wallet_transactions_daily AS t \n",
    "        ON u.uid = t.sender_id \n",
    "    WHERE t.sender_type = 0\n",
    ")\n",
    "SELECT \n",
    "    UID, \n",
    "    COUNT(txid) AS total_transactions \n",
    "FROM user_transactions \n",
    "GROUP BY UID;\n",
    "'''\n",
    "df = pd.read_sql_query(query, connection)\n",
    "df"
   ]
  },
  {
   "cell_type": "code",
   "execution_count": 105,
   "metadata": {},
   "outputs": [
    {
     "data": {
      "text/html": [
       "<div>\n",
       "<style scoped>\n",
       "    .dataframe tbody tr th:only-of-type {\n",
       "        vertical-align: middle;\n",
       "    }\n",
       "\n",
       "    .dataframe tbody tr th {\n",
       "        vertical-align: top;\n",
       "    }\n",
       "\n",
       "    .dataframe thead th {\n",
       "        text-align: right;\n",
       "    }\n",
       "</style>\n",
       "<table border=\"1\" class=\"dataframe\">\n",
       "  <thead>\n",
       "    <tr style=\"text-align: right;\">\n",
       "      <th></th>\n",
       "      <th>uid</th>\n",
       "      <th>total_transactions</th>\n",
       "    </tr>\n",
       "  </thead>\n",
       "  <tbody>\n",
       "    <tr>\n",
       "      <th>0</th>\n",
       "      <td>1</td>\n",
       "      <td>4</td>\n",
       "    </tr>\n",
       "    <tr>\n",
       "      <th>1</th>\n",
       "      <td>2</td>\n",
       "      <td>7</td>\n",
       "    </tr>\n",
       "    <tr>\n",
       "      <th>2</th>\n",
       "      <td>4</td>\n",
       "      <td>3</td>\n",
       "    </tr>\n",
       "    <tr>\n",
       "      <th>3</th>\n",
       "      <td>5</td>\n",
       "      <td>1</td>\n",
       "    </tr>\n",
       "    <tr>\n",
       "      <th>4</th>\n",
       "      <td>8</td>\n",
       "      <td>2</td>\n",
       "    </tr>\n",
       "    <tr>\n",
       "      <th>5</th>\n",
       "      <td>9</td>\n",
       "      <td>4</td>\n",
       "    </tr>\n",
       "  </tbody>\n",
       "</table>\n",
       "</div>"
      ],
      "text/plain": [
       "   uid  total_transactions\n",
       "0    1                   4\n",
       "1    2                   7\n",
       "2    4                   3\n",
       "3    5                   1\n",
       "4    8                   2\n",
       "5    9                   4"
      ]
     },
     "execution_count": 105,
     "metadata": {},
     "output_type": "execute_result"
    }
   ],
   "source": [
    "%%pydough\n",
    "\n",
    "successful_transactions = transactions_sent.WHERE(sender_type == 0)\n",
    "# Group users who have successful transactions and calculate the number of distinct transactions per user\n",
    "transactions_by_users = Users.WHERE(HAS(successful_transactions))(\n",
    "    uid,\n",
    "    total_transactions= COUNT(successful_transactions)\n",
    ")\n",
    "\n",
    "pydough.to_df(transactions_by_users)"
   ]
  },
  {
   "cell_type": "markdown",
   "metadata": {},
   "source": [
    "### What is the total session duration in seconds for each user between 2023-06-01 inclusive and 2023-06-08 exclusive? Return the user ID and their total duration as an integer sorted by total duration with the longest duration first"
   ]
  },
  {
   "cell_type": "code",
   "execution_count": 107,
   "metadata": {},
   "outputs": [
    {
     "data": {
      "text/html": [
       "<div>\n",
       "<style scoped>\n",
       "    .dataframe tbody tr th:only-of-type {\n",
       "        vertical-align: middle;\n",
       "    }\n",
       "\n",
       "    .dataframe tbody tr th {\n",
       "        vertical-align: top;\n",
       "    }\n",
       "\n",
       "    .dataframe thead th {\n",
       "        text-align: right;\n",
       "    }\n",
       "</style>\n",
       "<table border=\"1\" class=\"dataframe\">\n",
       "  <thead>\n",
       "    <tr style=\"text-align: right;\">\n",
       "      <th></th>\n",
       "      <th>uid</th>\n",
       "      <th>total_duration</th>\n",
       "    </tr>\n",
       "  </thead>\n",
       "  <tbody>\n",
       "    <tr>\n",
       "      <th>0</th>\n",
       "      <td>1</td>\n",
       "      <td>5018</td>\n",
       "    </tr>\n",
       "    <tr>\n",
       "      <th>1</th>\n",
       "      <td>6</td>\n",
       "      <td>4205</td>\n",
       "    </tr>\n",
       "    <tr>\n",
       "      <th>2</th>\n",
       "      <td>8</td>\n",
       "      <td>3640</td>\n",
       "    </tr>\n",
       "    <tr>\n",
       "      <th>3</th>\n",
       "      <td>2</td>\n",
       "      <td>3224</td>\n",
       "    </tr>\n",
       "    <tr>\n",
       "      <th>4</th>\n",
       "      <td>4</td>\n",
       "      <td>2736</td>\n",
       "    </tr>\n",
       "    <tr>\n",
       "      <th>5</th>\n",
       "      <td>5</td>\n",
       "      <td>2098</td>\n",
       "    </tr>\n",
       "    <tr>\n",
       "      <th>6</th>\n",
       "      <td>10</td>\n",
       "      <td>1843</td>\n",
       "    </tr>\n",
       "    <tr>\n",
       "      <th>7</th>\n",
       "      <td>9</td>\n",
       "      <td>1797</td>\n",
       "    </tr>\n",
       "    <tr>\n",
       "      <th>8</th>\n",
       "      <td>7</td>\n",
       "      <td>1518</td>\n",
       "    </tr>\n",
       "    <tr>\n",
       "      <th>9</th>\n",
       "      <td>3</td>\n",
       "      <td>1370</td>\n",
       "    </tr>\n",
       "  </tbody>\n",
       "</table>\n",
       "</div>"
      ],
      "text/plain": [
       "   uid  total_duration\n",
       "0    1            5018\n",
       "1    6            4205\n",
       "2    8            3640\n",
       "3    2            3224\n",
       "4    4            2736\n",
       "5    5            2098\n",
       "6   10            1843\n",
       "7    9            1797\n",
       "8    7            1518\n",
       "9    3            1370"
      ]
     },
     "execution_count": 107,
     "metadata": {},
     "output_type": "execute_result"
    }
   ],
   "source": [
    "query = '''\n",
    "WITH user_session_duration AS (\n",
    "    SELECT \n",
    "        u.uid, \n",
    "        s.session_start_ts, \n",
    "        s.session_end_ts \n",
    "    FROM users AS u \n",
    "    JOIN user_sessions AS s \n",
    "        ON u.uid = s.user_id \n",
    "    WHERE \n",
    "        s.session_start_ts >= '2023-06-01' \n",
    "        AND s.session_end_ts < '2023-06-08'\n",
    ")\n",
    "SELECT \n",
    "    uid, \n",
    "    SUM(strftime('%s', session_end_ts) - strftime('%s', session_start_ts)) AS total_duration \n",
    "FROM user_session_duration \n",
    "GROUP BY uid \n",
    "ORDER BY total_duration DESC;\n",
    "\n",
    "'''\n",
    "df = pd.read_sql_query(query, connection)\n",
    "df"
   ]
  },
  {
   "cell_type": "code",
   "execution_count": 114,
   "metadata": {},
   "outputs": [
    {
     "data": {
      "text/html": [
       "<div>\n",
       "<style scoped>\n",
       "    .dataframe tbody tr th:only-of-type {\n",
       "        vertical-align: middle;\n",
       "    }\n",
       "\n",
       "    .dataframe tbody tr th {\n",
       "        vertical-align: top;\n",
       "    }\n",
       "\n",
       "    .dataframe thead th {\n",
       "        text-align: right;\n",
       "    }\n",
       "</style>\n",
       "<table border=\"1\" class=\"dataframe\">\n",
       "  <thead>\n",
       "    <tr style=\"text-align: right;\">\n",
       "      <th></th>\n",
       "      <th>uid</th>\n",
       "      <th>total_duration</th>\n",
       "    </tr>\n",
       "  </thead>\n",
       "  <tbody>\n",
       "    <tr>\n",
       "      <th>0</th>\n",
       "      <td>3</td>\n",
       "      <td>10</td>\n",
       "    </tr>\n",
       "    <tr>\n",
       "      <th>1</th>\n",
       "      <td>9</td>\n",
       "      <td>3</td>\n",
       "    </tr>\n",
       "    <tr>\n",
       "      <th>2</th>\n",
       "      <td>5</td>\n",
       "      <td>2</td>\n",
       "    </tr>\n",
       "    <tr>\n",
       "      <th>3</th>\n",
       "      <td>11</td>\n",
       "      <td>0</td>\n",
       "    </tr>\n",
       "    <tr>\n",
       "      <th>4</th>\n",
       "      <td>6</td>\n",
       "      <td>-5</td>\n",
       "    </tr>\n",
       "    <tr>\n",
       "      <th>5</th>\n",
       "      <td>7</td>\n",
       "      <td>-18</td>\n",
       "    </tr>\n",
       "    <tr>\n",
       "      <th>6</th>\n",
       "      <td>4</td>\n",
       "      <td>-36</td>\n",
       "    </tr>\n",
       "    <tr>\n",
       "      <th>7</th>\n",
       "      <td>1</td>\n",
       "      <td>-38</td>\n",
       "    </tr>\n",
       "    <tr>\n",
       "      <th>8</th>\n",
       "      <td>8</td>\n",
       "      <td>-40</td>\n",
       "    </tr>\n",
       "    <tr>\n",
       "      <th>9</th>\n",
       "      <td>10</td>\n",
       "      <td>-43</td>\n",
       "    </tr>\n",
       "    <tr>\n",
       "      <th>10</th>\n",
       "      <td>2</td>\n",
       "      <td>-44</td>\n",
       "    </tr>\n",
       "  </tbody>\n",
       "</table>\n",
       "</div>"
      ],
      "text/plain": [
       "    uid  total_duration\n",
       "0     3              10\n",
       "1     9               3\n",
       "2     5               2\n",
       "3    11               0\n",
       "4     6              -5\n",
       "5     7             -18\n",
       "6     4             -36\n",
       "7     1             -38\n",
       "8     8             -40\n",
       "9    10             -43\n",
       "10    2             -44"
      ]
     },
     "execution_count": 114,
     "metadata": {},
     "output_type": "execute_result"
    }
   ],
   "source": [
    "%%pydough\n",
    "\n",
    "selected_sessions = sessions.WHERE(\n",
    "    (session_start_ts >= \"2023-06-01\") &  \n",
    "    (session_end_ts < \"2023-06-08\")  \n",
    ")(duration=(SECOND(session_start_ts) - SECOND(session_end_ts))) #Pydough cannot convert dates to seconds directly, DATEDIFF\n",
    "\n",
    "# Calculate the total session duration for each user and order by the total duration in descending order\n",
    "total_session_duration = Users(\n",
    "    uid,  \n",
    "    total_duration=SUM(selected_sessions.duration) \n",
    ").ORDER_BY(total_duration.DESC())  \n",
    "\n",
    "pydough.to_df(total_session_duration)"
   ]
  },
  {
   "cell_type": "markdown",
   "metadata": {},
   "source": [
    "### What is the total transaction amount for each coupon offered by merchant with ID 1? Return the coupon ID and total amount transacted with it."
   ]
  },
  {
   "cell_type": "code",
   "execution_count": 116,
   "metadata": {},
   "outputs": [
    {
     "data": {
      "text/html": [
       "<div>\n",
       "<style scoped>\n",
       "    .dataframe tbody tr th:only-of-type {\n",
       "        vertical-align: middle;\n",
       "    }\n",
       "\n",
       "    .dataframe tbody tr th {\n",
       "        vertical-align: top;\n",
       "    }\n",
       "\n",
       "    .dataframe thead th {\n",
       "        text-align: right;\n",
       "    }\n",
       "</style>\n",
       "<table border=\"1\" class=\"dataframe\">\n",
       "  <thead>\n",
       "    <tr style=\"text-align: right;\">\n",
       "      <th></th>\n",
       "      <th>cid</th>\n",
       "      <th>total_discount</th>\n",
       "    </tr>\n",
       "  </thead>\n",
       "  <tbody>\n",
       "    <tr>\n",
       "      <th>0</th>\n",
       "      <td>1</td>\n",
       "      <td>36.0</td>\n",
       "    </tr>\n",
       "  </tbody>\n",
       "</table>\n",
       "</div>"
      ],
      "text/plain": [
       "   cid  total_discount\n",
       "0    1            36.0"
      ]
     },
     "execution_count": 116,
     "metadata": {},
     "output_type": "execute_result"
    }
   ],
   "source": [
    "query = '''\n",
    "WITH merchant_coupon_usage AS (\n",
    "    SELECT \n",
    "        c.cid, \n",
    "        t.amount \n",
    "    FROM \n",
    "        coupons AS c\n",
    "    JOIN \n",
    "        wallet_transactions_daily AS t \n",
    "    ON \n",
    "        c.cid = t.coupon_id \n",
    "    WHERE \n",
    "        c.merchant_id = 1\n",
    ")\n",
    "SELECT \n",
    "    cid, \n",
    "    SUM(amount) AS total_discount \n",
    "FROM \n",
    "    merchant_coupon_usage \n",
    "GROUP BY \n",
    "    cid;\n",
    "'''\n",
    "df = pd.read_sql_query(query, connection)\n",
    "df"
   ]
  },
  {
   "cell_type": "code",
   "execution_count": 124,
   "metadata": {},
   "outputs": [
    {
     "data": {
      "text/html": [
       "<div>\n",
       "<style scoped>\n",
       "    .dataframe tbody tr th:only-of-type {\n",
       "        vertical-align: middle;\n",
       "    }\n",
       "\n",
       "    .dataframe tbody tr th {\n",
       "        vertical-align: top;\n",
       "    }\n",
       "\n",
       "    .dataframe thead th {\n",
       "        text-align: right;\n",
       "    }\n",
       "</style>\n",
       "<table border=\"1\" class=\"dataframe\">\n",
       "  <thead>\n",
       "    <tr style=\"text-align: right;\">\n",
       "      <th></th>\n",
       "      <th>cid</th>\n",
       "      <th>total_discount</th>\n",
       "    </tr>\n",
       "  </thead>\n",
       "  <tbody>\n",
       "    <tr>\n",
       "      <th>0</th>\n",
       "      <td>1</td>\n",
       "      <td>36.0</td>\n",
       "    </tr>\n",
       "  </tbody>\n",
       "</table>\n",
       "</div>"
      ],
      "text/plain": [
       "   cid  total_discount\n",
       "0    1            36.0"
      ]
     },
     "execution_count": 124,
     "metadata": {},
     "output_type": "execute_result"
    }
   ],
   "source": [
    "%%pydough\n",
    "# Calculate the total session duration for each user and order by the total duration in descending order\n",
    "total_session_duration = Coupons(\n",
    "    cid,  \n",
    "    total_discount=SUM(transaction_used_in.amount) \n",
    ").WHERE(merchant_id=='1') \n",
    "\n",
    "pydough.to_df(total_session_duration)"
   ]
  }
 ],
 "metadata": {
  "kernelspec": {
   "display_name": "pydough-bodo",
   "language": "python",
   "name": "python3"
  },
  "language_info": {
   "codemirror_mode": {
    "name": "ipython",
    "version": 3
   },
   "file_extension": ".py",
   "mimetype": "text/x-python",
   "name": "python",
   "nbconvert_exporter": "python",
   "pygments_lexer": "ipython3",
   "version": "3.12.8"
  }
 },
 "nbformat": 4,
 "nbformat_minor": 2
}
