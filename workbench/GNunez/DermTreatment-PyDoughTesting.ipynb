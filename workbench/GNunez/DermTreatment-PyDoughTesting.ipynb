{
 "cells": [
  {
   "cell_type": "code",
   "execution_count": 1,
   "metadata": {},
   "outputs": [],
   "source": [
    "%load_ext pydough.jupyter_extensions"
   ]
  },
  {
   "cell_type": "code",
   "execution_count": 2,
   "metadata": {},
   "outputs": [],
   "source": [
    "import pydough\n",
    "import datetime\n",
    "\n",
    "import pandas as pd\n",
    "from pandas.testing import assert_frame_equal, assert_series_equal\n",
    "import re\n",
    "import dfcompare\n",
    "\n",
    "import collections\n",
    "import numpy as np\n",
    "import sqlite3 as sql\n",
    "import os\n",
    "\n",
    "# Setup demo metadata\n",
    "pydough.active_session.load_metadata_graph(\"../../tests/test_metadata/defog_graphs.json\", \"DermTreatment\");\n",
    "pydough.active_session.connect_database(\"sqlite\", database=\"../../derm_treat.db\");\n",
    "pydough.active_session.metadata\n",
    "\n",
    "db_path = \"../../derm_treat.db\" # variable to pass the path in python function\n",
    "\n",
    "connection = sql.connect(\"../../derm_treat.db\")\n",
    "\n",
    "# Avoid scientific notation\n",
    "pd.options.display.float_format = '{:.6f}'.format\n"
   ]
  },
  {
   "cell_type": "markdown",
   "metadata": {},
   "source": [
    "## Query 1\n",
    "\n",
    "Calculate the average DDD for each drug. Return the drug name and average DDD value.\n",
    "\n",
    "DDD (defined daily dose) = total drug amount consumed during one treatment / total days of treatment (end - start date in days). To find the average weight of patients treated with a specific drug, first join patients with treatments on patient_id, then filter by the drug name. To identify doctors who have prescribed a certain drug type and their respective locations, first join doctors with treatments on doc_id, then filter by the drug type. To calculate the total number of adverse events reported for treatments involving certain drug types, first join treatments with adverse_events on treatment_id, then filter by the drug type.\n",
    "\n",
    "SQL:"
   ]
  },
  {
   "cell_type": "code",
   "execution_count": 3,
   "metadata": {},
   "outputs": [
    {
     "data": {
      "text/html": [
       "<div>\n",
       "<style scoped>\n",
       "    .dataframe tbody tr th:only-of-type {\n",
       "        vertical-align: middle;\n",
       "    }\n",
       "\n",
       "    .dataframe tbody tr th {\n",
       "        vertical-align: top;\n",
       "    }\n",
       "\n",
       "    .dataframe thead th {\n",
       "        text-align: right;\n",
       "    }\n",
       "</style>\n",
       "<table border=\"1\" class=\"dataframe\">\n",
       "  <thead>\n",
       "    <tr style=\"text-align: right;\">\n",
       "      <th></th>\n",
       "      <th>drug_name</th>\n",
       "      <th>ddd</th>\n",
       "    </tr>\n",
       "  </thead>\n",
       "  <tbody>\n",
       "    <tr>\n",
       "      <th>0</th>\n",
       "      <td>Biologic-X</td>\n",
       "      <td>0.448430</td>\n",
       "    </tr>\n",
       "    <tr>\n",
       "      <th>1</th>\n",
       "      <td>Drugalin</td>\n",
       "      <td>1.383211</td>\n",
       "    </tr>\n",
       "    <tr>\n",
       "      <th>2</th>\n",
       "      <td>Medicol</td>\n",
       "      <td>1.240407</td>\n",
       "    </tr>\n",
       "    <tr>\n",
       "      <th>3</th>\n",
       "      <td>Smallazine</td>\n",
       "      <td>0.991803</td>\n",
       "    </tr>\n",
       "    <tr>\n",
       "      <th>4</th>\n",
       "      <td>Topicort</td>\n",
       "      <td>3.966972</td>\n",
       "    </tr>\n",
       "    <tr>\n",
       "      <th>5</th>\n",
       "      <td>Topizol</td>\n",
       "      <td>1.978142</td>\n",
       "    </tr>\n",
       "  </tbody>\n",
       "</table>\n",
       "</div>"
      ],
      "text/plain": [
       "    drug_name      ddd\n",
       "0  Biologic-X 0.448430\n",
       "1    Drugalin 1.383211\n",
       "2     Medicol 1.240407\n",
       "3  Smallazine 0.991803\n",
       "4    Topicort 3.966972\n",
       "5     Topizol 1.978142"
      ]
     },
     "execution_count": 3,
     "metadata": {},
     "output_type": "execute_result"
    }
   ],
   "source": [
    "query = '''\n",
    "SELECT \n",
    "    d.drug_name, \n",
    "    AVG(t.tot_drug_amt / NULLIF((JULIANDAY(t.end_dt) - JULIANDAY(t.start_dt)), 0)) AS ddd\n",
    "FROM \n",
    "    treatments AS t\n",
    "JOIN \n",
    "    drugs AS d \n",
    "    ON t.drug_id = d.drug_id\n",
    "WHERE \n",
    "    NOT t.end_dt IS NULL\n",
    "GROUP BY \n",
    "    d.drug_name;\n",
    "'''\n",
    "\n",
    "sql_output = pd.read_sql_query(query, connection)\n",
    "sql_output"
   ]
  },
  {
   "cell_type": "markdown",
   "metadata": {},
   "source": [
    "This query is impossible in PyDough because we do not have a method to manipulate dates, then we can not execute the difference between end date - start date. "
   ]
  },
  {
   "cell_type": "markdown",
   "metadata": {},
   "source": [
    "## Query 2\n",
    "\n",
    "How many distinct patients had treatments in each of the last 3 months, not including the current month? Out of these, how many had treatments with biologic drugs? Return the month, patient count, and biologic treatment count.\n",
    "\n",
    "Biologic drugs have drug_type = 'biologic'. Truncate start_dt to month for aggregation.\n",
    "\n",
    "SQL:"
   ]
  },
  {
   "cell_type": "code",
   "execution_count": 72,
   "metadata": {},
   "outputs": [
    {
     "data": {
      "text/html": [
       "<div>\n",
       "<style scoped>\n",
       "    .dataframe tbody tr th:only-of-type {\n",
       "        vertical-align: middle;\n",
       "    }\n",
       "\n",
       "    .dataframe tbody tr th {\n",
       "        vertical-align: top;\n",
       "    }\n",
       "\n",
       "    .dataframe thead th {\n",
       "        text-align: right;\n",
       "    }\n",
       "</style>\n",
       "<table border=\"1\" class=\"dataframe\">\n",
       "  <thead>\n",
       "    <tr style=\"text-align: right;\">\n",
       "      <th></th>\n",
       "      <th>MONTH</th>\n",
       "      <th>patient_count</th>\n",
       "      <th>biologic_treatment_count</th>\n",
       "    </tr>\n",
       "  </thead>\n",
       "  <tbody>\n",
       "    <tr>\n",
       "      <th>0</th>\n",
       "      <td>2024-11</td>\n",
       "      <td>1</td>\n",
       "      <td>1</td>\n",
       "    </tr>\n",
       "    <tr>\n",
       "      <th>1</th>\n",
       "      <td>2024-12</td>\n",
       "      <td>1</td>\n",
       "      <td>0</td>\n",
       "    </tr>\n",
       "    <tr>\n",
       "      <th>2</th>\n",
       "      <td>2025-01</td>\n",
       "      <td>1</td>\n",
       "      <td>0</td>\n",
       "    </tr>\n",
       "  </tbody>\n",
       "</table>\n",
       "</div>"
      ],
      "text/plain": [
       "     MONTH  patient_count  biologic_treatment_count\n",
       "0  2024-11              1                         1\n",
       "1  2024-12              1                         0\n",
       "2  2025-01              1                         0"
      ]
     },
     "execution_count": 72,
     "metadata": {},
     "output_type": "execute_result"
    }
   ],
   "source": [
    "query = '''\n",
    "SELECT \n",
    "    strftime('%Y-%m', t.start_dt) AS MONTH, \n",
    "    COUNT(DISTINCT t.patient_id) AS patient_count, \n",
    "    COUNT(DISTINCT CASE WHEN d.drug_type = 'biologic' THEN t.treatment_id END) AS biologic_treatment_count\n",
    "FROM \n",
    "    treatments AS t\n",
    "JOIN \n",
    "    drugs AS d \n",
    "    ON t.drug_id = d.drug_id\n",
    "WHERE \n",
    "    t.start_dt >= date('now', '-3 months', 'start of month')\n",
    "    AND t.start_dt < date('now', 'start of month')\n",
    "GROUP BY \n",
    "    MONTH;\n",
    "'''\n",
    "\n",
    "sql_output = pd.read_sql_query(query, connection)\n",
    "sql_output"
   ]
  },
  {
   "cell_type": "markdown",
   "metadata": {},
   "source": [
    "In Python we do not have a method to take the current date, then all the calculations will be use \"2025-02\" as month and year of reference.\n",
    "\n",
    "PyDough:"
   ]
  },
  {
   "cell_type": "code",
   "execution_count": 76,
   "metadata": {},
   "outputs": [
    {
     "data": {
      "text/html": [
       "<div>\n",
       "<style scoped>\n",
       "    .dataframe tbody tr th:only-of-type {\n",
       "        vertical-align: middle;\n",
       "    }\n",
       "\n",
       "    .dataframe tbody tr th {\n",
       "        vertical-align: top;\n",
       "    }\n",
       "\n",
       "    .dataframe thead th {\n",
       "        text-align: right;\n",
       "    }\n",
       "</style>\n",
       "<table border=\"1\" class=\"dataframe\">\n",
       "  <thead>\n",
       "    <tr style=\"text-align: right;\">\n",
       "      <th></th>\n",
       "      <th>MONTH</th>\n",
       "      <th>patient_count</th>\n",
       "      <th>biologic_treatment_count</th>\n",
       "    </tr>\n",
       "  </thead>\n",
       "  <tbody>\n",
       "    <tr>\n",
       "      <th>0</th>\n",
       "      <td>2024-11</td>\n",
       "      <td>1</td>\n",
       "      <td>1</td>\n",
       "    </tr>\n",
       "    <tr>\n",
       "      <th>1</th>\n",
       "      <td>2024-12</td>\n",
       "      <td>1</td>\n",
       "      <td>0</td>\n",
       "    </tr>\n",
       "    <tr>\n",
       "      <th>2</th>\n",
       "      <td>2025-1</td>\n",
       "      <td>1</td>\n",
       "      <td>0</td>\n",
       "    </tr>\n",
       "  </tbody>\n",
       "</table>\n",
       "</div>"
      ],
      "text/plain": [
       "     MONTH  patient_count  biologic_treatment_count\n",
       "0  2024-11              1                         1\n",
       "1  2024-12              1                         0\n",
       "2   2025-1              1                         0"
      ]
     },
     "execution_count": 76,
     "metadata": {},
     "output_type": "execute_result"
    }
   ],
   "source": [
    "%%pydough\n",
    "\n",
    "# In Python we do not have a method to take the current date, then all the calculations will be use \"2025-02\" as month and year of reference.\n",
    "selected_treatments = Treatments(month=JOIN_STRINGS(\"-\", YEAR(start_dt), MONTH(start_dt)), biologic_treatment_count=IFF(drug.drug_type == \"biologic\", 1, 0)).WHERE(\n",
    "    (start_dt >= \"2024-11-01\") & (start_dt <= \"2025-01-31\")\n",
    "    )\n",
    "\n",
    "output = PARTITION(selected_treatments, name=\"part\", by=(month, biologic_treatment_count))(\n",
    "    MONTH=month,\n",
    "    patient_count=NDISTINCT(part.patient.patient_id),\n",
    "    biologic_treatment_count=biologic_treatment_count\n",
    ").ORDER_BY(month.ASC())\n",
    "\n",
    "pydough_output= pydough.to_df(output)\n",
    "pydough_output"
   ]
  },
  {
   "cell_type": "markdown",
   "metadata": {},
   "source": [
    "Now we are going to compare the result in SQL and PyDough:"
   ]
  },
  {
   "cell_type": "code",
   "execution_count": 77,
   "metadata": {},
   "outputs": [
    {
     "data": {
      "text/plain": [
       "np.False_"
      ]
     },
     "execution_count": 77,
     "metadata": {},
     "output_type": "execute_result"
    }
   ],
   "source": [
    "dfcompare.compare_df(pydough_output, sql_output, query_category=\"instructions_date_join\", \n",
    "                     question=\"How many distinct patients had treatments in each of the last 3 months, not including the current month? Out of these, how many had treatments with biologic drugs? Return the month, patient count, and biologic treatment count.\")"
   ]
  },
  {
   "cell_type": "markdown",
   "metadata": {},
   "source": [
    "We believe the result is “False” because there is a difference in how SQL and PyDough return dates. For example, the date “2025-01” in SQL is not the same as “2025-1” in PyDough, we lost the 0. "
   ]
  },
  {
   "cell_type": "markdown",
   "metadata": {},
   "source": [
    "## Query 3\n",
    "\n",
    "How many patients have a Gmail or Yahoo email address?\n",
    "\n",
    "SQL:"
   ]
  },
  {
   "cell_type": "code",
   "execution_count": 44,
   "metadata": {},
   "outputs": [
    {
     "data": {
      "text/html": [
       "<div>\n",
       "<style scoped>\n",
       "    .dataframe tbody tr th:only-of-type {\n",
       "        vertical-align: middle;\n",
       "    }\n",
       "\n",
       "    .dataframe tbody tr th {\n",
       "        vertical-align: top;\n",
       "    }\n",
       "\n",
       "    .dataframe thead th {\n",
       "        text-align: right;\n",
       "    }\n",
       "</style>\n",
       "<table border=\"1\" class=\"dataframe\">\n",
       "  <thead>\n",
       "    <tr style=\"text-align: right;\">\n",
       "      <th></th>\n",
       "      <th>COUNT(*)</th>\n",
       "    </tr>\n",
       "  </thead>\n",
       "  <tbody>\n",
       "    <tr>\n",
       "      <th>0</th>\n",
       "      <td>0</td>\n",
       "    </tr>\n",
       "  </tbody>\n",
       "</table>\n",
       "</div>"
      ],
      "text/plain": [
       "   COUNT(*)\n",
       "0         0"
      ]
     },
     "execution_count": 98,
     "metadata": {},
     "output_type": "execute_result"
    }
   ],
   "source": [
    "query = '''\n",
    "SELECT COUNT(*) \n",
    "FROM patients \n",
    "WHERE email \n",
    "    LIKE '%@gmail.com' OR email LIKE '%@yahoo.com';\n",
    "'''\n",
    "\n",
    "sql_output = pd.read_sql_query(query, connection)\n",
    "sql_output"
   ]
  },
  {
   "cell_type": "markdown",
   "metadata": {},
   "source": [
    "PyDough:"
   ]
  },
  {
   "cell_type": "code",
   "execution_count": 35,
   "metadata": {},
   "outputs": [
    {
     "data": {
      "text/html": [
       "<div>\n",
       "<style scoped>\n",
       "    .dataframe tbody tr th:only-of-type {\n",
       "        vertical-align: middle;\n",
       "    }\n",
       "\n",
       "    .dataframe tbody tr th {\n",
       "        vertical-align: top;\n",
       "    }\n",
       "\n",
       "    .dataframe thead th {\n",
       "        text-align: right;\n",
       "    }\n",
       "</style>\n",
       "<table border=\"1\" class=\"dataframe\">\n",
       "  <thead>\n",
       "    <tr style=\"text-align: right;\">\n",
       "      <th></th>\n",
       "      <th>COUNT</th>\n",
       "    </tr>\n",
       "  </thead>\n",
       "  <tbody>\n",
       "    <tr>\n",
       "      <th>0</th>\n",
       "      <td>0</td>\n",
       "    </tr>\n",
       "  </tbody>\n",
       "</table>\n",
       "</div>"
      ],
      "text/plain": [
       "   COUNT\n",
       "0      0"
      ]
     },
     "execution_count": 35,
     "metadata": {},
     "output_type": "execute_result"
    }
   ],
   "source": [
    "%%pydough\n",
    "\n",
    "output = DermTreatment(COUNT=COUNT(Patients.WHERE(ENDSWITH(email, \"@gmail.com\") | ENDSWITH(email, \"@yahoo.com\"))))\n",
    "\n",
    "pydough_output = pydough.to_df(output)\n",
    "pydough_output"
   ]
  },
  {
   "cell_type": "markdown",
   "metadata": {},
   "source": [
    "**Important Note:** In this case, we are not getting any results because the patients registered in the DermTreatment database do not have a gmail or yahoo email. You can change in the SQL and PyDough queries one of the emails to the word “@email.com” and you will get results. \n",
    "\n",
    "Now we are going to compare the results in SQL and PyDough:"
   ]
  },
  {
   "cell_type": "code",
   "execution_count": 101,
   "metadata": {},
   "outputs": [
    {
     "data": {
      "text/plain": [
       "True"
      ]
     },
     "execution_count": 101,
     "metadata": {},
     "output_type": "execute_result"
    }
   ],
   "source": [
    "dfcompare.compare_df(pydough_output, sql_output, query_category=\"instructions_string_matching\", \n",
    "                     question=\"How many patients have a Gmail or Yahoo email address?\")"
   ]
  },
  {
   "cell_type": "markdown",
   "metadata": {},
   "source": [
    "## Query 4\n",
    "\n",
    "How many patients have been diagnosed with 'Psoriasis vulgaris' and treated with a biologic drug? Return the distinct count of patients.\n",
    "\n",
    "To find the number of patients who have been diagnosed with a specific type of psoriasis and treated with a biologic drug, first join patients with treatments on patient_id, then join with diagnoses on diag_id, filtering by diagnosis and drug type.\n",
    "\n",
    "SQL:"
   ]
  },
  {
   "cell_type": "code",
   "execution_count": 133,
   "metadata": {},
   "outputs": [
    {
     "data": {
      "text/html": [
       "<div>\n",
       "<style scoped>\n",
       "    .dataframe tbody tr th:only-of-type {\n",
       "        vertical-align: middle;\n",
       "    }\n",
       "\n",
       "    .dataframe tbody tr th {\n",
       "        vertical-align: top;\n",
       "    }\n",
       "\n",
       "    .dataframe thead th {\n",
       "        text-align: right;\n",
       "    }\n",
       "</style>\n",
       "<table border=\"1\" class=\"dataframe\">\n",
       "  <thead>\n",
       "    <tr style=\"text-align: right;\">\n",
       "      <th></th>\n",
       "      <th>COUNT(DISTINCT patient_id)</th>\n",
       "    </tr>\n",
       "  </thead>\n",
       "  <tbody>\n",
       "    <tr>\n",
       "      <th>0</th>\n",
       "      <td>3</td>\n",
       "    </tr>\n",
       "  </tbody>\n",
       "</table>\n",
       "</div>"
      ],
      "text/plain": [
       "   COUNT(DISTINCT patient_id)\n",
       "0                           3"
      ]
     },
     "execution_count": 133,
     "metadata": {},
     "output_type": "execute_result"
    }
   ],
   "source": [
    "# Test sql query in python\n",
    "query = '''\n",
    "WITH patient_diagnosis_treatment AS (\n",
    "    SELECT \n",
    "        p.patient_id\n",
    "    FROM \n",
    "        patients AS p\n",
    "    JOIN \n",
    "        treatments AS t \n",
    "        ON p.patient_id = t.patient_id\n",
    "    JOIN \n",
    "        diagnoses AS d \n",
    "        ON t.diag_id = d.diag_id\n",
    "    JOIN \n",
    "        drugs AS dr \n",
    "        ON t.drug_id = dr.drug_id\n",
    "    WHERE \n",
    "        d.diag_name = 'Psoriasis vulgaris' \n",
    "        AND dr.drug_type = 'biologic'\n",
    ")\n",
    "SELECT \n",
    "    COUNT(DISTINCT patient_id)\n",
    "FROM \n",
    "    patient_diagnosis_treatment;\n",
    "'''\n",
    "\n",
    "sql_output = pd.read_sql_query(query, connection)\n",
    "sql_output"
   ]
  },
  {
   "cell_type": "markdown",
   "metadata": {},
   "source": [
    "PyDough:"
   ]
  },
  {
   "cell_type": "code",
   "execution_count": 129,
   "metadata": {},
   "outputs": [
    {
     "data": {
      "text/html": [
       "<div>\n",
       "<style scoped>\n",
       "    .dataframe tbody tr th:only-of-type {\n",
       "        vertical-align: middle;\n",
       "    }\n",
       "\n",
       "    .dataframe tbody tr th {\n",
       "        vertical-align: top;\n",
       "    }\n",
       "\n",
       "    .dataframe thead th {\n",
       "        text-align: right;\n",
       "    }\n",
       "</style>\n",
       "<table border=\"1\" class=\"dataframe\">\n",
       "  <thead>\n",
       "    <tr style=\"text-align: right;\">\n",
       "      <th></th>\n",
       "      <th>COUNT</th>\n",
       "    </tr>\n",
       "  </thead>\n",
       "  <tbody>\n",
       "    <tr>\n",
       "      <th>0</th>\n",
       "      <td>3</td>\n",
       "    </tr>\n",
       "  </tbody>\n",
       "</table>\n",
       "</div>"
      ],
      "text/plain": [
       "   COUNT\n",
       "0      3"
      ]
     },
     "execution_count": 129,
     "metadata": {},
     "output_type": "execute_result"
    }
   ],
   "source": [
    "%%pydough\n",
    "\n",
    "patients = Treatments.WHERE(LIKE(diagnosis.diag_name, \"Psoriasis vulgaris\") & LIKE(drug.drug_type, \"biologic\"))\n",
    "\n",
    "output = DermTreatment(COUNT=NDISTINCT(patients.patient_id))\n",
    "\n",
    "pydough_output = pydough.to_df(output)\n",
    "pydough_output"
   ]
  },
  {
   "cell_type": "markdown",
   "metadata": {},
   "source": [
    "Now we are going to compare the results in SQL and PyDough:"
   ]
  },
  {
   "cell_type": "code",
   "execution_count": 134,
   "metadata": {},
   "outputs": [
    {
     "data": {
      "text/plain": [
       "True"
      ]
     },
     "execution_count": 134,
     "metadata": {},
     "output_type": "execute_result"
    }
   ],
   "source": [
    "dfcompare.compare_df(pydough_output, sql_output, query_category=\"instructions_cte_join\", \n",
    "                     question=\"How many patients have been diagnosed with 'Psoriasis vulgaris' and treated with a biologic drug? Return the distinct count of patients.\")"
   ]
  },
  {
   "cell_type": "markdown",
   "metadata": {},
   "source": [
    "## Query 5\n",
    "\n",
    "How many treatments did the patient Alice have in the last 6 months, not including the current month?\n",
    "\n",
    "Last 6 months = DATE('now', 'start of month', '-6 months') to DATE('now', 'start of month', '-1 day'). Always join treatments with patients before using the treatments table. If not mentioned, the patient name provided is the first name.\n",
    "\n",
    "SQL:"
   ]
  },
  {
   "cell_type": "code",
   "execution_count": 32,
   "metadata": {},
   "outputs": [
    {
     "data": {
      "text/html": [
       "<div>\n",
       "<style scoped>\n",
       "    .dataframe tbody tr th:only-of-type {\n",
       "        vertical-align: middle;\n",
       "    }\n",
       "\n",
       "    .dataframe tbody tr th {\n",
       "        vertical-align: top;\n",
       "    }\n",
       "\n",
       "    .dataframe thead th {\n",
       "        text-align: right;\n",
       "    }\n",
       "</style>\n",
       "<table border=\"1\" class=\"dataframe\">\n",
       "  <thead>\n",
       "    <tr style=\"text-align: right;\">\n",
       "      <th></th>\n",
       "      <th>COUNT(t.treatment_id)</th>\n",
       "    </tr>\n",
       "  </thead>\n",
       "  <tbody>\n",
       "    <tr>\n",
       "      <th>0</th>\n",
       "      <td>2</td>\n",
       "    </tr>\n",
       "  </tbody>\n",
       "</table>\n",
       "</div>"
      ],
      "text/plain": [
       "   COUNT(t.treatment_id)\n",
       "0                      2"
      ]
     },
     "execution_count": 32,
     "metadata": {},
     "output_type": "execute_result"
    }
   ],
   "source": [
    "query = '''\n",
    "SELECT \n",
    "    COUNT(t.treatment_id)\n",
    "FROM \n",
    "    treatments AS t\n",
    "JOIN \n",
    "    patients AS p \n",
    "    ON t.patient_id = p.patient_id\n",
    "WHERE \n",
    "    p.first_name = 'Alice' \n",
    "    AND t.start_dt BETWEEN \n",
    "        date('now', 'start of month', '-6 months') \n",
    "        AND date('now', 'start of month', '-1 day');\n",
    "'''\n",
    "\n",
    "sql_output = pd.read_sql_query(query, connection)\n",
    "sql_output"
   ]
  },
  {
   "cell_type": "markdown",
   "metadata": {},
   "source": [
    "In PyDough we do not have a method \"now\" and can not calculate the current date. Then we are simulate, and \"now\" will be the date of \"2025-02-10\", and dates should be between \"2024-08-01 and \"2025-01-31\".\n",
    "\n",
    "PyDough:"
   ]
  },
  {
   "cell_type": "code",
   "execution_count": 33,
   "metadata": {},
   "outputs": [
    {
     "data": {
      "text/html": [
       "<div>\n",
       "<style scoped>\n",
       "    .dataframe tbody tr th:only-of-type {\n",
       "        vertical-align: middle;\n",
       "    }\n",
       "\n",
       "    .dataframe tbody tr th {\n",
       "        vertical-align: top;\n",
       "    }\n",
       "\n",
       "    .dataframe thead th {\n",
       "        text-align: right;\n",
       "    }\n",
       "</style>\n",
       "<table border=\"1\" class=\"dataframe\">\n",
       "  <thead>\n",
       "    <tr style=\"text-align: right;\">\n",
       "      <th></th>\n",
       "      <th>COUNT</th>\n",
       "    </tr>\n",
       "  </thead>\n",
       "  <tbody>\n",
       "    <tr>\n",
       "      <th>0</th>\n",
       "      <td>2</td>\n",
       "    </tr>\n",
       "  </tbody>\n",
       "</table>\n",
       "</div>"
      ],
      "text/plain": [
       "   COUNT\n",
       "0      2"
      ]
     },
     "execution_count": 33,
     "metadata": {},
     "output_type": "execute_result"
    }
   ],
   "source": [
    "%%pydough\n",
    "\n",
    "# In PyDough we do not have a method \"now\" and can not calculate the current date. Then we are simulate, and \"now\" will be the date of \"2025-02-10\", \n",
    "# and dates should be between \"2024-08-01 and \"2025-01-31\". \n",
    "\n",
    "treatments = Treatments.WHERE(\n",
    "    (start_dt >= \"2024-08-01\") & (start_dt <= \"2025-01-31\") & LIKE(patient.first_name, \"Alice\"))\n",
    "\n",
    "output = DermTreatment(COUNT=COUNT(treatments.treatment_id))\n",
    "\n",
    "pydough_output = pydough.to_df(output)\n",
    "pydough_output"
   ]
  },
  {
   "cell_type": "markdown",
   "metadata": {},
   "source": [
    "Now we are going to compare the results in SQL and PyDough:"
   ]
  },
  {
   "cell_type": "code",
   "execution_count": 34,
   "metadata": {},
   "outputs": [
    {
     "data": {
      "text/plain": [
       "True"
      ]
     },
     "execution_count": 34,
     "metadata": {},
     "output_type": "execute_result"
    }
   ],
   "source": [
    "dfcompare.compare_df(pydough_output, sql_output, query_category=\"instructions_date_join\", \n",
    "                     question=\"How many treatments did the patient Alice have in the last 6 months, not including the current month?\")"
   ]
  },
  {
   "cell_type": "markdown",
   "metadata": {},
   "source": [
    "## Query 6 \n",
    "\n",
    "I want the adverse events that have been reported for treatments involving topical drugs. Give me the description, treatment id, drug id and name.\n",
    "\n",
    "To get adverse events reported for treatments involving certain drugs, first join treatments with adverse_events on treatment_id, then join with drugs on drug_id to filter on the specific drug(s).\n",
    "\n",
    "SQL:"
   ]
  },
  {
   "cell_type": "code",
   "execution_count": 93,
   "metadata": {},
   "outputs": [
    {
     "data": {
      "text/html": [
       "<div>\n",
       "<style scoped>\n",
       "    .dataframe tbody tr th:only-of-type {\n",
       "        vertical-align: middle;\n",
       "    }\n",
       "\n",
       "    .dataframe tbody tr th {\n",
       "        vertical-align: top;\n",
       "    }\n",
       "\n",
       "    .dataframe thead th {\n",
       "        text-align: right;\n",
       "    }\n",
       "</style>\n",
       "<table border=\"1\" class=\"dataframe\">\n",
       "  <thead>\n",
       "    <tr style=\"text-align: right;\">\n",
       "      <th></th>\n",
       "      <th>description</th>\n",
       "      <th>treatment_id</th>\n",
       "      <th>drug_id</th>\n",
       "      <th>drug_name</th>\n",
       "    </tr>\n",
       "  </thead>\n",
       "  <tbody>\n",
       "    <tr>\n",
       "      <th>0</th>\n",
       "      <td>Diarrhea</td>\n",
       "      <td>9</td>\n",
       "      <td>3</td>\n",
       "      <td>Topizol</td>\n",
       "    </tr>\n",
       "  </tbody>\n",
       "</table>\n",
       "</div>"
      ],
      "text/plain": [
       "  description  treatment_id  drug_id drug_name\n",
       "0    Diarrhea             9        3   Topizol"
      ]
     },
     "execution_count": 93,
     "metadata": {},
     "output_type": "execute_result"
    }
   ],
   "source": [
    "query = '''\n",
    "SELECT \n",
    "    a.description, \n",
    "    a.treatment_id, \n",
    "    d.drug_id, \n",
    "    d.drug_name\n",
    "FROM \n",
    "    adverse_events AS a\n",
    "JOIN \n",
    "    treatments AS t \n",
    "    ON a.treatment_id = t.treatment_id\n",
    "JOIN \n",
    "    drugs AS d \n",
    "    ON t.drug_id = d.drug_id\n",
    "WHERE \n",
    "    d.drug_type = 'topical';\n",
    "'''\n",
    "\n",
    "sql_output = pd.read_sql_query(query, connection)\n",
    "sql_output"
   ]
  },
  {
   "cell_type": "markdown",
   "metadata": {},
   "source": [
    "PyDough:"
   ]
  },
  {
   "cell_type": "code",
   "execution_count": 92,
   "metadata": {},
   "outputs": [
    {
     "data": {
      "text/html": [
       "<div>\n",
       "<style scoped>\n",
       "    .dataframe tbody tr th:only-of-type {\n",
       "        vertical-align: middle;\n",
       "    }\n",
       "\n",
       "    .dataframe tbody tr th {\n",
       "        vertical-align: top;\n",
       "    }\n",
       "\n",
       "    .dataframe thead th {\n",
       "        text-align: right;\n",
       "    }\n",
       "</style>\n",
       "<table border=\"1\" class=\"dataframe\">\n",
       "  <thead>\n",
       "    <tr style=\"text-align: right;\">\n",
       "      <th></th>\n",
       "      <th>description</th>\n",
       "      <th>treatment_id</th>\n",
       "      <th>drug_id</th>\n",
       "      <th>drug_name</th>\n",
       "    </tr>\n",
       "  </thead>\n",
       "  <tbody>\n",
       "    <tr>\n",
       "      <th>0</th>\n",
       "      <td>Diarrhea</td>\n",
       "      <td>9</td>\n",
       "      <td>3</td>\n",
       "      <td>Topizol</td>\n",
       "    </tr>\n",
       "  </tbody>\n",
       "</table>\n",
       "</div>"
      ],
      "text/plain": [
       "  description  treatment_id  drug_id drug_name\n",
       "0    Diarrhea             9        3   Topizol"
      ]
     },
     "execution_count": 92,
     "metadata": {},
     "output_type": "execute_result"
    }
   ],
   "source": [
    "%%pydough\n",
    "\n",
    "output = AdverseEvents.treatment.WHERE(\n",
    "    LIKE(drug.drug_type, \"topical\")\n",
    ")(BACK(1).description, treatment_id, drug.drug_id, drug.drug_name)\n",
    "\n",
    "pydough_output = pydough.to_df(output)\n",
    "pydough_output"
   ]
  },
  {
   "cell_type": "markdown",
   "metadata": {},
   "source": [
    "Now we are going to compare the results in SQL and PyDough:"
   ]
  },
  {
   "cell_type": "code",
   "execution_count": 94,
   "metadata": {},
   "outputs": [
    {
     "data": {
      "text/plain": [
       "True"
      ]
     },
     "execution_count": 94,
     "metadata": {},
     "output_type": "execute_result"
    }
   ],
   "source": [
    "dfcompare.compare_df(pydough_output, sql_output, query_category=\"instructions_cte_join\", \n",
    "                     question=\"I want the adverse events that have been reported for treatments involving topical drugs. Give me the description, treatment id, drug id and name.\")"
   ]
  },
  {
   "cell_type": "markdown",
   "metadata": {},
   "source": [
    "## Query 7\n",
    "\n",
    "Return each doctor's doc_id, specialty, number of distinct drugs prescribed, and SDR\n",
    "\n",
    "SDR = a doctor's rank within their specialty by number of distinct drugs prescribed. Doctors prescribing more drugs will have a higher rank.\n",
    "\n",
    "SQL:"
   ]
  },
  {
   "cell_type": "code",
   "execution_count": 35,
   "metadata": {},
   "outputs": [
    {
     "data": {
      "text/html": [
       "<div>\n",
       "<style scoped>\n",
       "    .dataframe tbody tr th:only-of-type {\n",
       "        vertical-align: middle;\n",
       "    }\n",
       "\n",
       "    .dataframe tbody tr th {\n",
       "        vertical-align: top;\n",
       "    }\n",
       "\n",
       "    .dataframe thead th {\n",
       "        text-align: right;\n",
       "    }\n",
       "</style>\n",
       "<table border=\"1\" class=\"dataframe\">\n",
       "  <thead>\n",
       "    <tr style=\"text-align: right;\">\n",
       "      <th></th>\n",
       "      <th>doc_id</th>\n",
       "      <th>specialty</th>\n",
       "      <th>num_drugs_prescribed</th>\n",
       "      <th>specialty_drug_rank</th>\n",
       "    </tr>\n",
       "  </thead>\n",
       "  <tbody>\n",
       "    <tr>\n",
       "      <th>0</th>\n",
       "      <td>1</td>\n",
       "      <td>dermatology</td>\n",
       "      <td>4</td>\n",
       "      <td>1</td>\n",
       "    </tr>\n",
       "    <tr>\n",
       "      <th>1</th>\n",
       "      <td>4</td>\n",
       "      <td>dermatology</td>\n",
       "      <td>3</td>\n",
       "      <td>2</td>\n",
       "    </tr>\n",
       "    <tr>\n",
       "      <th>2</th>\n",
       "      <td>7</td>\n",
       "      <td>dermatology</td>\n",
       "      <td>3</td>\n",
       "      <td>2</td>\n",
       "    </tr>\n",
       "    <tr>\n",
       "      <th>3</th>\n",
       "      <td>3</td>\n",
       "      <td>general</td>\n",
       "      <td>3</td>\n",
       "      <td>1</td>\n",
       "    </tr>\n",
       "    <tr>\n",
       "      <th>4</th>\n",
       "      <td>2</td>\n",
       "      <td>immunology</td>\n",
       "      <td>4</td>\n",
       "      <td>1</td>\n",
       "    </tr>\n",
       "    <tr>\n",
       "      <th>5</th>\n",
       "      <td>5</td>\n",
       "      <td>immunology</td>\n",
       "      <td>4</td>\n",
       "      <td>1</td>\n",
       "    </tr>\n",
       "    <tr>\n",
       "      <th>6</th>\n",
       "      <td>6</td>\n",
       "      <td>oncology</td>\n",
       "      <td>3</td>\n",
       "      <td>1</td>\n",
       "    </tr>\n",
       "  </tbody>\n",
       "</table>\n",
       "</div>"
      ],
      "text/plain": [
       "   doc_id    specialty  num_drugs_prescribed  specialty_drug_rank\n",
       "0       1  dermatology                     4                    1\n",
       "1       4  dermatology                     3                    2\n",
       "2       7  dermatology                     3                    2\n",
       "3       3      general                     3                    1\n",
       "4       2   immunology                     4                    1\n",
       "5       5   immunology                     4                    1\n",
       "6       6     oncology                     3                    1"
      ]
     },
     "execution_count": 35,
     "metadata": {},
     "output_type": "execute_result"
    }
   ],
   "source": [
    "query = '''\n",
    "WITH doc_drug_counts AS (\n",
    "    SELECT \n",
    "        d.doc_id, \n",
    "        d.specialty, \n",
    "        COUNT(DISTINCT t.drug_id) AS num_drugs_prescribed\n",
    "    FROM \n",
    "        doctors AS d\n",
    "    JOIN \n",
    "        treatments AS t \n",
    "        ON d.doc_id = t.doc_id\n",
    "    GROUP BY \n",
    "        d.doc_id\n",
    ")\n",
    "SELECT \n",
    "    doc_id, \n",
    "    specialty, \n",
    "    num_drugs_prescribed, \n",
    "    DENSE_RANK() OVER (\n",
    "        PARTITION BY specialty \n",
    "        ORDER BY \n",
    "            CASE \n",
    "                WHEN num_drugs_prescribed IS NULL THEN 1 \n",
    "                ELSE 0 \n",
    "            END DESC, \n",
    "            num_drugs_prescribed DESC\n",
    "    ) AS specialty_drug_rank\n",
    "FROM \n",
    "    doc_drug_counts;\n",
    "'''\n",
    "\n",
    "sql_output = pd.read_sql_query(query, connection)\n",
    "sql_output"
   ]
  },
  {
   "cell_type": "markdown",
   "metadata": {},
   "source": [
    "PyDough:"
   ]
  },
  {
   "cell_type": "code",
   "execution_count": null,
   "metadata": {},
   "outputs": [
    {
     "data": {
      "text/html": [
       "<div>\n",
       "<style scoped>\n",
       "    .dataframe tbody tr th:only-of-type {\n",
       "        vertical-align: middle;\n",
       "    }\n",
       "\n",
       "    .dataframe tbody tr th {\n",
       "        vertical-align: top;\n",
       "    }\n",
       "\n",
       "    .dataframe thead th {\n",
       "        text-align: right;\n",
       "    }\n",
       "</style>\n",
       "<table border=\"1\" class=\"dataframe\">\n",
       "  <thead>\n",
       "    <tr style=\"text-align: right;\">\n",
       "      <th></th>\n",
       "      <th>specialty</th>\n",
       "      <th>num_drugs_prescribed</th>\n",
       "    </tr>\n",
       "  </thead>\n",
       "  <tbody>\n",
       "    <tr>\n",
       "      <th>0</th>\n",
       "      <td>dermatology</td>\n",
       "      <td>5</td>\n",
       "    </tr>\n",
       "    <tr>\n",
       "      <th>1</th>\n",
       "      <td>general</td>\n",
       "      <td>3</td>\n",
       "    </tr>\n",
       "    <tr>\n",
       "      <th>2</th>\n",
       "      <td>immunology</td>\n",
       "      <td>6</td>\n",
       "    </tr>\n",
       "    <tr>\n",
       "      <th>3</th>\n",
       "      <td>oncology</td>\n",
       "      <td>3</td>\n",
       "    </tr>\n",
       "  </tbody>\n",
       "</table>\n",
       "</div>"
      ],
      "text/plain": [
       "     specialty  num_drugs_prescribed\n",
       "0  dermatology                     5\n",
       "1      general                     3\n",
       "2   immunology                     6\n",
       "3     oncology                     3"
      ]
     },
     "execution_count": 36,
     "metadata": {},
     "output_type": "execute_result"
    }
   ],
   "source": [
    "%%pydough\n",
    "# WROKING HERE, THE SOLUTION HAS NOT BEEN IMPLEMENTED YET\n",
    "\n",
    "treatments = Treatments(doc=doctor.doc_id, specialty=doctor.speciality)\n",
    "\n",
    "partition = PARTITION(treatments, name=\"part\", by=specialty)(\n",
    "    specialty=specialty,\n",
    "    num_drugs_prescribed=NDISTINCT(part.drug.drug_id),\n",
    ")\n",
    "\n",
    "pydough_output = pydough.to_df(partition)\n",
    "pydough_output"
   ]
  },
  {
   "cell_type": "markdown",
   "metadata": {},
   "source": [
    "## Query 8\n",
    "\n",
    "Return the first name, last name and specialty of doctors whose first name starts with 'J' or last name contains 'son', case-insensitive.\n",
    "\n",
    "Doctors whose first name starts with 'J' or last name contains 'son', case-insensitive\n",
    "\n",
    "SQL:"
   ]
  },
  {
   "cell_type": "code",
   "execution_count": 23,
   "metadata": {},
   "outputs": [
    {
     "data": {
      "text/html": [
       "<div>\n",
       "<style scoped>\n",
       "    .dataframe tbody tr th:only-of-type {\n",
       "        vertical-align: middle;\n",
       "    }\n",
       "\n",
       "    .dataframe tbody tr th {\n",
       "        vertical-align: top;\n",
       "    }\n",
       "\n",
       "    .dataframe thead th {\n",
       "        text-align: right;\n",
       "    }\n",
       "</style>\n",
       "<table border=\"1\" class=\"dataframe\">\n",
       "  <thead>\n",
       "    <tr style=\"text-align: right;\">\n",
       "      <th></th>\n",
       "      <th>first_name</th>\n",
       "      <th>last_name</th>\n",
       "      <th>specialty</th>\n",
       "    </tr>\n",
       "  </thead>\n",
       "  <tbody>\n",
       "    <tr>\n",
       "      <th>0</th>\n",
       "      <td>John</td>\n",
       "      <td>Doe</td>\n",
       "      <td>dermatology</td>\n",
       "    </tr>\n",
       "    <tr>\n",
       "      <th>1</th>\n",
       "      <td>Jane</td>\n",
       "      <td>Smith</td>\n",
       "      <td>immunology</td>\n",
       "    </tr>\n",
       "    <tr>\n",
       "      <th>2</th>\n",
       "      <td>David</td>\n",
       "      <td>Johnson</td>\n",
       "      <td>general</td>\n",
       "    </tr>\n",
       "    <tr>\n",
       "      <th>3</th>\n",
       "      <td>Sarah</td>\n",
       "      <td>Wilson</td>\n",
       "      <td>oncology</td>\n",
       "    </tr>\n",
       "    <tr>\n",
       "      <th>4</th>\n",
       "      <td>Olivia</td>\n",
       "      <td>Anderson</td>\n",
       "      <td>dermatology</td>\n",
       "    </tr>\n",
       "  </tbody>\n",
       "</table>\n",
       "</div>"
      ],
      "text/plain": [
       "  first_name last_name    specialty\n",
       "0       John       Doe  dermatology\n",
       "1       Jane     Smith   immunology\n",
       "2      David   Johnson      general\n",
       "3      Sarah    Wilson     oncology\n",
       "4     Olivia  Anderson  dermatology"
      ]
     },
     "execution_count": 23,
     "metadata": {},
     "output_type": "execute_result"
    }
   ],
   "source": [
    "query = '''\n",
    "SELECT \n",
    "    first_name, \n",
    "    last_name, \n",
    "    specialty\n",
    "FROM \n",
    "    doctors\n",
    "WHERE \n",
    "    LOWER(first_name) LIKE 'j%' \n",
    "    OR LOWER(last_name) LIKE '%son%';\n",
    "'''\n",
    "\n",
    "sql_output = pd.read_sql_query(query, connection)\n",
    "sql_output"
   ]
  },
  {
   "cell_type": "markdown",
   "metadata": {},
   "source": [
    "PyDough:"
   ]
  },
  {
   "cell_type": "code",
   "execution_count": 29,
   "metadata": {},
   "outputs": [
    {
     "data": {
      "text/html": [
       "<div>\n",
       "<style scoped>\n",
       "    .dataframe tbody tr th:only-of-type {\n",
       "        vertical-align: middle;\n",
       "    }\n",
       "\n",
       "    .dataframe tbody tr th {\n",
       "        vertical-align: top;\n",
       "    }\n",
       "\n",
       "    .dataframe thead th {\n",
       "        text-align: right;\n",
       "    }\n",
       "</style>\n",
       "<table border=\"1\" class=\"dataframe\">\n",
       "  <thead>\n",
       "    <tr style=\"text-align: right;\">\n",
       "      <th></th>\n",
       "      <th>first_name</th>\n",
       "      <th>last_name</th>\n",
       "      <th>specialty</th>\n",
       "    </tr>\n",
       "  </thead>\n",
       "  <tbody>\n",
       "    <tr>\n",
       "      <th>0</th>\n",
       "      <td>John</td>\n",
       "      <td>Doe</td>\n",
       "      <td>dermatology</td>\n",
       "    </tr>\n",
       "    <tr>\n",
       "      <th>1</th>\n",
       "      <td>Jane</td>\n",
       "      <td>Smith</td>\n",
       "      <td>immunology</td>\n",
       "    </tr>\n",
       "    <tr>\n",
       "      <th>2</th>\n",
       "      <td>David</td>\n",
       "      <td>Johnson</td>\n",
       "      <td>general</td>\n",
       "    </tr>\n",
       "    <tr>\n",
       "      <th>3</th>\n",
       "      <td>Sarah</td>\n",
       "      <td>Wilson</td>\n",
       "      <td>oncology</td>\n",
       "    </tr>\n",
       "    <tr>\n",
       "      <th>4</th>\n",
       "      <td>Olivia</td>\n",
       "      <td>Anderson</td>\n",
       "      <td>dermatology</td>\n",
       "    </tr>\n",
       "  </tbody>\n",
       "</table>\n",
       "</div>"
      ],
      "text/plain": [
       "  first_name last_name    specialty\n",
       "0       John       Doe  dermatology\n",
       "1       Jane     Smith   immunology\n",
       "2      David   Johnson      general\n",
       "3      Sarah    Wilson     oncology\n",
       "4     Olivia  Anderson  dermatology"
      ]
     },
     "execution_count": 29,
     "metadata": {},
     "output_type": "execute_result"
    }
   ],
   "source": [
    "%%pydough\n",
    "output = Doctors(first_name, last_name, specialty=speciality).WHERE(\n",
    "    STARTSWITH(first_name, \"j\") | LIKE(last_name, \"%son%\")\n",
    ")\n",
    "\n",
    "pydough_output = pydough.to_df(output)\n",
    "pydough_output"
   ]
  },
  {
   "cell_type": "markdown",
   "metadata": {},
   "source": [
    "Now we are to compare the results in SQL and PyDough:"
   ]
  },
  {
   "cell_type": "code",
   "execution_count": 30,
   "metadata": {},
   "outputs": [
    {
     "data": {
      "text/plain": [
       "True"
      ]
     },
     "execution_count": 30,
     "metadata": {},
     "output_type": "execute_result"
    }
   ],
   "source": [
    "dfcompare.compare_df(pydough_output, sql_output, query_category=\"instructions_string_matching\", \n",
    "                     question=\"Return the first name, last name and specialty of doctors whose first name starts with 'J' or last name contains 'son', case-insensitive.\")"
   ]
  },
  {
   "cell_type": "markdown",
   "metadata": {},
   "source": [
    "## Query 9\n",
    "\n",
    "What are the PMPD and PMTC for each of the last 12 months, not including the current month.\n",
    "\n",
    "PMPD = per month patient diagnoses. PMTC = per month treatment count. Truncate start_dt to month for aggregation.\n",
    "\n",
    "SQL:"
   ]
  },
  {
   "cell_type": "code",
   "execution_count": 31,
   "metadata": {},
   "outputs": [
    {
     "data": {
      "text/html": [
       "<div>\n",
       "<style scoped>\n",
       "    .dataframe tbody tr th:only-of-type {\n",
       "        vertical-align: middle;\n",
       "    }\n",
       "\n",
       "    .dataframe tbody tr th {\n",
       "        vertical-align: top;\n",
       "    }\n",
       "\n",
       "    .dataframe thead th {\n",
       "        text-align: right;\n",
       "    }\n",
       "</style>\n",
       "<table border=\"1\" class=\"dataframe\">\n",
       "  <thead>\n",
       "    <tr style=\"text-align: right;\">\n",
       "      <th></th>\n",
       "      <th>month</th>\n",
       "      <th>patient_count</th>\n",
       "      <th>treatment_count</th>\n",
       "    </tr>\n",
       "  </thead>\n",
       "  <tbody>\n",
       "    <tr>\n",
       "      <th>0</th>\n",
       "      <td>2024-02</td>\n",
       "      <td>1</td>\n",
       "      <td>1</td>\n",
       "    </tr>\n",
       "    <tr>\n",
       "      <th>1</th>\n",
       "      <td>2024-08</td>\n",
       "      <td>1</td>\n",
       "      <td>1</td>\n",
       "    </tr>\n",
       "    <tr>\n",
       "      <th>2</th>\n",
       "      <td>2024-09</td>\n",
       "      <td>2</td>\n",
       "      <td>2</td>\n",
       "    </tr>\n",
       "    <tr>\n",
       "      <th>3</th>\n",
       "      <td>2024-10</td>\n",
       "      <td>1</td>\n",
       "      <td>1</td>\n",
       "    </tr>\n",
       "    <tr>\n",
       "      <th>4</th>\n",
       "      <td>2024-11</td>\n",
       "      <td>1</td>\n",
       "      <td>1</td>\n",
       "    </tr>\n",
       "    <tr>\n",
       "      <th>5</th>\n",
       "      <td>2024-12</td>\n",
       "      <td>1</td>\n",
       "      <td>1</td>\n",
       "    </tr>\n",
       "    <tr>\n",
       "      <th>6</th>\n",
       "      <td>2025-01</td>\n",
       "      <td>1</td>\n",
       "      <td>1</td>\n",
       "    </tr>\n",
       "  </tbody>\n",
       "</table>\n",
       "</div>"
      ],
      "text/plain": [
       "     month  patient_count  treatment_count\n",
       "0  2024-02              1                1\n",
       "1  2024-08              1                1\n",
       "2  2024-09              2                2\n",
       "3  2024-10              1                1\n",
       "4  2024-11              1                1\n",
       "5  2024-12              1                1\n",
       "6  2025-01              1                1"
      ]
     },
     "execution_count": 31,
     "metadata": {},
     "output_type": "execute_result"
    }
   ],
   "source": [
    "query = '''\n",
    "SELECT \n",
    "    strftime('%Y-%m', t.start_dt) AS month, \n",
    "    COUNT(DISTINCT t.patient_id) AS patient_count, \n",
    "    COUNT(DISTINCT t.treatment_id) AS treatment_count\n",
    "FROM \n",
    "    treatments AS t\n",
    "JOIN \n",
    "    diagnoses AS d \n",
    "    ON t.diag_id = d.diag_id\n",
    "WHERE \n",
    "    t.start_dt >= date('now', '-12 months', 'start of month') \n",
    "    AND t.start_dt < date('now', 'start of month')\n",
    "GROUP BY \n",
    "    month;\n",
    "'''\n",
    "\n",
    "sql_output = pd.read_sql_query(query, connection)\n",
    "sql_output"
   ]
  },
  {
   "cell_type": "markdown",
   "metadata": {},
   "source": [
    "As we can not use dates functions in PyDough to take the current date and make calculations bases on it, we are going to simulate and \"now\" will be the date: \"2025-02-11\". And \"-12 months\" will be: \"2024-02-01\".\n",
    "\n",
    "PyDough:"
   ]
  },
  {
   "cell_type": "code",
   "execution_count": 37,
   "metadata": {},
   "outputs": [
    {
     "data": {
      "text/html": [
       "<div>\n",
       "<style scoped>\n",
       "    .dataframe tbody tr th:only-of-type {\n",
       "        vertical-align: middle;\n",
       "    }\n",
       "\n",
       "    .dataframe tbody tr th {\n",
       "        vertical-align: top;\n",
       "    }\n",
       "\n",
       "    .dataframe thead th {\n",
       "        text-align: right;\n",
       "    }\n",
       "</style>\n",
       "<table border=\"1\" class=\"dataframe\">\n",
       "  <thead>\n",
       "    <tr style=\"text-align: right;\">\n",
       "      <th></th>\n",
       "      <th>month</th>\n",
       "      <th>patient_count</th>\n",
       "      <th>treatment_count</th>\n",
       "    </tr>\n",
       "  </thead>\n",
       "  <tbody>\n",
       "    <tr>\n",
       "      <th>0</th>\n",
       "      <td>2024-10</td>\n",
       "      <td>1</td>\n",
       "      <td>1</td>\n",
       "    </tr>\n",
       "    <tr>\n",
       "      <th>1</th>\n",
       "      <td>2024-11</td>\n",
       "      <td>1</td>\n",
       "      <td>1</td>\n",
       "    </tr>\n",
       "    <tr>\n",
       "      <th>2</th>\n",
       "      <td>2024-12</td>\n",
       "      <td>1</td>\n",
       "      <td>1</td>\n",
       "    </tr>\n",
       "    <tr>\n",
       "      <th>3</th>\n",
       "      <td>2024-2</td>\n",
       "      <td>1</td>\n",
       "      <td>1</td>\n",
       "    </tr>\n",
       "    <tr>\n",
       "      <th>4</th>\n",
       "      <td>2024-8</td>\n",
       "      <td>1</td>\n",
       "      <td>1</td>\n",
       "    </tr>\n",
       "    <tr>\n",
       "      <th>5</th>\n",
       "      <td>2024-9</td>\n",
       "      <td>2</td>\n",
       "      <td>2</td>\n",
       "    </tr>\n",
       "    <tr>\n",
       "      <th>6</th>\n",
       "      <td>2025-1</td>\n",
       "      <td>1</td>\n",
       "      <td>1</td>\n",
       "    </tr>\n",
       "  </tbody>\n",
       "</table>\n",
       "</div>"
      ],
      "text/plain": [
       "     month  patient_count  treatment_count\n",
       "0  2024-10              1                1\n",
       "1  2024-11              1                1\n",
       "2  2024-12              1                1\n",
       "3   2024-2              1                1\n",
       "4   2024-8              1                1\n",
       "5   2024-9              2                2\n",
       "6   2025-1              1                1"
      ]
     },
     "execution_count": 37,
     "metadata": {},
     "output_type": "execute_result"
    }
   ],
   "source": [
    "%%pydough\n",
    "# Since we cannot use date functions in PyDough to take the current date and do calculations based on it, \n",
    "# we will simulate and “now” will be the date: “2025-02-11” and not including the current month will be: \"2025-01-31\". And “-12 months” will be “2024-02-01”.\n",
    "treatments = Treatments(month=JOIN_STRINGS(\"-\", YEAR(start_dt), MONTH(start_dt))).WHERE(\n",
    "    (start_dt >= \"2024-02-01\") & (start_dt <= \"2025-01-31\")\n",
    ")\n",
    "\n",
    "output = PARTITION(treatments, name=\"part\", by=month)(\n",
    "    month=month,\n",
    "    patient_count=NDISTINCT(part.patient_id),\n",
    "    treatment_count=NDISTINCT(part.treatment_id)\n",
    ")\n",
    "\n",
    "pydough_output = pydough.to_df(output)\n",
    "pydough_output"
   ]
  },
  {
   "cell_type": "markdown",
   "metadata": {},
   "source": [
    "Now we are goint to compare the results in SQL and PyDough:"
   ]
  },
  {
   "cell_type": "code",
   "execution_count": 38,
   "metadata": {},
   "outputs": [
    {
     "data": {
      "text/plain": [
       "np.False_"
      ]
     },
     "execution_count": 38,
     "metadata": {},
     "output_type": "execute_result"
    }
   ],
   "source": [
    "dfcompare.compare_df(pydough_output, sql_output, query_category=\"instructions_date_join\", \n",
    "                     question=\"What are the PMPD and PMTC for each of the last 12 months, not including the current month\")"
   ]
  },
  {
   "cell_type": "markdown",
   "metadata": {},
   "source": [
    "We believe the result is “False” because there is a difference in how SQL and PyDough return dates. For example, the date “2025-01” in SQL is not the same as “2025-1” in PyDough, we lost the 0. Also the rows order is not the same. "
   ]
  },
  {
   "cell_type": "markdown",
   "metadata": {},
   "source": [
    "## Query 10\n",
    "\n",
    "What is the average weight in kg of patients treated with the drug named 'Drugalin'? Return the average weight.\n",
    "\n",
    "To find the average weight of patients treated with a specific drug, first join patients with treatments on patient_id, then filter by the drug name.\n",
    "\n",
    "SQL:"
   ]
  },
  {
   "cell_type": "code",
   "execution_count": 85,
   "metadata": {},
   "outputs": [
    {
     "data": {
      "text/html": [
       "<div>\n",
       "<style scoped>\n",
       "    .dataframe tbody tr th:only-of-type {\n",
       "        vertical-align: middle;\n",
       "    }\n",
       "\n",
       "    .dataframe tbody tr th {\n",
       "        vertical-align: top;\n",
       "    }\n",
       "\n",
       "    .dataframe thead th {\n",
       "        text-align: right;\n",
       "    }\n",
       "</style>\n",
       "<table border=\"1\" class=\"dataframe\">\n",
       "  <thead>\n",
       "    <tr style=\"text-align: right;\">\n",
       "      <th></th>\n",
       "      <th>AVG(weight_kg)</th>\n",
       "    </tr>\n",
       "  </thead>\n",
       "  <tbody>\n",
       "    <tr>\n",
       "      <th>0</th>\n",
       "      <td>73.333333</td>\n",
       "    </tr>\n",
       "  </tbody>\n",
       "</table>\n",
       "</div>"
      ],
      "text/plain": [
       "   AVG(weight_kg)\n",
       "0       73.333333"
      ]
     },
     "execution_count": 85,
     "metadata": {},
     "output_type": "execute_result"
    }
   ],
   "source": [
    "query = '''\n",
    "WITH patient_treatment AS (\n",
    "    SELECT \n",
    "        p.patient_id, \n",
    "        p.weight_kg\n",
    "    FROM \n",
    "        patients AS p\n",
    "    JOIN \n",
    "        treatments AS t \n",
    "        ON p.patient_id = t.patient_id\n",
    "    WHERE \n",
    "        t.drug_id = (\n",
    "            SELECT \n",
    "                drug_id \n",
    "            FROM \n",
    "                drugs \n",
    "            WHERE \n",
    "                drug_name = 'Drugalin'\n",
    "        )\n",
    ")\n",
    "SELECT \n",
    "    AVG(weight_kg)\n",
    "FROM \n",
    "    patient_treatment;\n",
    "'''\n",
    "\n",
    "sql_output = pd.read_sql_query(query, connection)\n",
    "sql_output"
   ]
  },
  {
   "cell_type": "markdown",
   "metadata": {},
   "source": [
    "PyDough:"
   ]
  },
  {
   "cell_type": "code",
   "execution_count": 86,
   "metadata": {},
   "outputs": [
    {
     "data": {
      "text/html": [
       "<div>\n",
       "<style scoped>\n",
       "    .dataframe tbody tr th:only-of-type {\n",
       "        vertical-align: middle;\n",
       "    }\n",
       "\n",
       "    .dataframe tbody tr th {\n",
       "        vertical-align: top;\n",
       "    }\n",
       "\n",
       "    .dataframe thead th {\n",
       "        text-align: right;\n",
       "    }\n",
       "</style>\n",
       "<table border=\"1\" class=\"dataframe\">\n",
       "  <thead>\n",
       "    <tr style=\"text-align: right;\">\n",
       "      <th></th>\n",
       "      <th>avg</th>\n",
       "    </tr>\n",
       "  </thead>\n",
       "  <tbody>\n",
       "    <tr>\n",
       "      <th>0</th>\n",
       "      <td>73.333333</td>\n",
       "    </tr>\n",
       "  </tbody>\n",
       "</table>\n",
       "</div>"
      ],
      "text/plain": [
       "        avg\n",
       "0 73.333333"
      ]
     },
     "execution_count": 86,
     "metadata": {},
     "output_type": "execute_result"
    }
   ],
   "source": [
    "%%pydough\n",
    "patients = Treatments(patient.weight_kg).WHERE(LIKE(drug.drug_name, \"Drugalin\"))\n",
    "\n",
    "output = DermTreatment(avg = AVG(patients.weight_kg))\n",
    "\n",
    "pydough_output = pydough.to_df(output)\n",
    "pydough_output"
   ]
  },
  {
   "cell_type": "markdown",
   "metadata": {},
   "source": [
    "Now we are going to compare the results in SQL and PyDough:"
   ]
  },
  {
   "cell_type": "code",
   "execution_count": 87,
   "metadata": {},
   "outputs": [
    {
     "data": {
      "text/plain": [
       "True"
      ]
     },
     "execution_count": 87,
     "metadata": {},
     "output_type": "execute_result"
    }
   ],
   "source": [
    "dfcompare.compare_df(pydough_output, sql_output, query_category=\"instructions_cte_join\", \n",
    "                     question=\"What is the average weight in kg of patients treated with the drug named 'Drugalin'? Return the average weight.\")"
   ]
  },
  {
   "cell_type": "markdown",
   "metadata": {},
   "source": [
    "## Query 11\n",
    "\n",
    "What is the CAW for male patients.\n",
    "\n",
    "CAW = cohort average weight in kilograms\n",
    "\n",
    "SQL:"
   ]
  },
  {
   "cell_type": "code",
   "execution_count": 57,
   "metadata": {},
   "outputs": [
    {
     "data": {
      "text/html": [
       "<div>\n",
       "<style scoped>\n",
       "    .dataframe tbody tr th:only-of-type {\n",
       "        vertical-align: middle;\n",
       "    }\n",
       "\n",
       "    .dataframe tbody tr th {\n",
       "        vertical-align: top;\n",
       "    }\n",
       "\n",
       "    .dataframe thead th {\n",
       "        text-align: right;\n",
       "    }\n",
       "</style>\n",
       "<table border=\"1\" class=\"dataframe\">\n",
       "  <thead>\n",
       "    <tr style=\"text-align: right;\">\n",
       "      <th></th>\n",
       "      <th>caw</th>\n",
       "    </tr>\n",
       "  </thead>\n",
       "  <tbody>\n",
       "    <tr>\n",
       "      <th>0</th>\n",
       "      <td>83.000000</td>\n",
       "    </tr>\n",
       "  </tbody>\n",
       "</table>\n",
       "</div>"
      ],
      "text/plain": [
       "        caw\n",
       "0 83.000000"
      ]
     },
     "execution_count": 57,
     "metadata": {},
     "output_type": "execute_result"
    }
   ],
   "source": [
    "query = '''\n",
    "SELECT \n",
    "    AVG(weight_kg) AS caw\n",
    "FROM \n",
    "    patients\n",
    "WHERE \n",
    "    gender = 'Male';\n",
    "'''\n",
    "\n",
    "sql_output = pd.read_sql_query(query, connection)\n",
    "sql_output"
   ]
  },
  {
   "cell_type": "markdown",
   "metadata": {},
   "source": [
    "PyDough:"
   ]
  },
  {
   "cell_type": "code",
   "execution_count": 60,
   "metadata": {},
   "outputs": [
    {
     "data": {
      "text/html": [
       "<div>\n",
       "<style scoped>\n",
       "    .dataframe tbody tr th:only-of-type {\n",
       "        vertical-align: middle;\n",
       "    }\n",
       "\n",
       "    .dataframe tbody tr th {\n",
       "        vertical-align: top;\n",
       "    }\n",
       "\n",
       "    .dataframe thead th {\n",
       "        text-align: right;\n",
       "    }\n",
       "</style>\n",
       "<table border=\"1\" class=\"dataframe\">\n",
       "  <thead>\n",
       "    <tr style=\"text-align: right;\">\n",
       "      <th></th>\n",
       "      <th>caw</th>\n",
       "    </tr>\n",
       "  </thead>\n",
       "  <tbody>\n",
       "    <tr>\n",
       "      <th>0</th>\n",
       "      <td>83.000000</td>\n",
       "    </tr>\n",
       "  </tbody>\n",
       "</table>\n",
       "</div>"
      ],
      "text/plain": [
       "        caw\n",
       "0 83.000000"
      ]
     },
     "execution_count": 60,
     "metadata": {},
     "output_type": "execute_result"
    }
   ],
   "source": [
    "%%pydough\n",
    "patients = Patients(weight_kg).WHERE(LIKE(gender, \"Male\"))\n",
    "\n",
    "output = DermTreatment(caw = AVG(patients.weight_kg))\n",
    "\n",
    "pydough_output = pydough.to_df(output)\n",
    "pydough_output"
   ]
  },
  {
   "cell_type": "markdown",
   "metadata": {},
   "source": [
    "Now we are going to compare the results in SQL and PyDough:"
   ]
  },
  {
   "cell_type": "code",
   "execution_count": 64,
   "metadata": {},
   "outputs": [
    {
     "data": {
      "text/plain": [
       "True"
      ]
     },
     "execution_count": 64,
     "metadata": {},
     "output_type": "execute_result"
    }
   ],
   "source": [
    "dfcompare.compare_df(pydough_output, sql_output, query_category=\"keywords_aggregate\", \n",
    "                     question=\"What is the CAW for male patients\")"
   ]
  },
  {
   "cell_type": "markdown",
   "metadata": {},
   "source": [
    "## Query 12\n",
    "\n",
    "What is the NPI for each year? Return the year, number of new patients, and NPI.\n",
    "\n",
    "NPI (new patients increase) = the increase in number of new patients compared to the previous year. New patients are defined as patients starting their first treatment and require joining the patients table with the earliest record of each patient from the treatment table on patient_id\n",
    "\n",
    "SQL:"
   ]
  },
  {
   "cell_type": "code",
   "execution_count": 65,
   "metadata": {},
   "outputs": [
    {
     "data": {
      "text/html": [
       "<div>\n",
       "<style scoped>\n",
       "    .dataframe tbody tr th:only-of-type {\n",
       "        vertical-align: middle;\n",
       "    }\n",
       "\n",
       "    .dataframe tbody tr th {\n",
       "        vertical-align: top;\n",
       "    }\n",
       "\n",
       "    .dataframe thead th {\n",
       "        text-align: right;\n",
       "    }\n",
       "</style>\n",
       "<table border=\"1\" class=\"dataframe\">\n",
       "  <thead>\n",
       "    <tr style=\"text-align: right;\">\n",
       "      <th></th>\n",
       "      <th>year</th>\n",
       "      <th>new_patients</th>\n",
       "      <th>npi</th>\n",
       "    </tr>\n",
       "  </thead>\n",
       "  <tbody>\n",
       "    <tr>\n",
       "      <th>0</th>\n",
       "      <td>2022</td>\n",
       "      <td>6</td>\n",
       "      <td>NaN</td>\n",
       "    </tr>\n",
       "    <tr>\n",
       "      <th>1</th>\n",
       "      <td>2023</td>\n",
       "      <td>1</td>\n",
       "      <td>-5.000000</td>\n",
       "    </tr>\n",
       "    <tr>\n",
       "      <th>2</th>\n",
       "      <td>2024</td>\n",
       "      <td>2</td>\n",
       "      <td>1.000000</td>\n",
       "    </tr>\n",
       "  </tbody>\n",
       "</table>\n",
       "</div>"
      ],
      "text/plain": [
       "   year  new_patients       npi\n",
       "0  2022             6       NaN\n",
       "1  2023             1 -5.000000\n",
       "2  2024             2  1.000000"
      ]
     },
     "execution_count": 65,
     "metadata": {},
     "output_type": "execute_result"
    }
   ],
   "source": [
    "query = '''\n",
    "WITH FirstTreatment AS (\n",
    "    SELECT \n",
    "        p.patient_id, \n",
    "        MIN(t.start_dt) AS first_treatment_date\n",
    "    FROM \n",
    "        patients AS p\n",
    "    JOIN \n",
    "        treatments AS t \n",
    "        ON p.patient_id = t.patient_id\n",
    "    GROUP BY \n",
    "        p.patient_id\n",
    "),\n",
    "NewPatientsPerYear AS (\n",
    "    SELECT \n",
    "        strftime('%Y', first_treatment_date) AS year, \n",
    "        COUNT(patient_id) AS new_patients\n",
    "    FROM \n",
    "        FirstTreatment\n",
    "    GROUP BY \n",
    "        strftime('%Y', first_treatment_date)\n",
    "),\n",
    "NPI AS (\n",
    "    SELECT \n",
    "        year, \n",
    "        new_patients, \n",
    "        new_patients - LAG(new_patients, 1) OVER (ORDER BY year) AS npi\n",
    "    FROM \n",
    "        NewPatientsPerYear\n",
    ")\n",
    "SELECT \n",
    "    year, \n",
    "    new_patients, \n",
    "    npi\n",
    "FROM \n",
    "    NPI\n",
    "ORDER BY \n",
    "    year;\n",
    "'''\n",
    "\n",
    "sql_output = pd.read_sql_query(query, connection)\n",
    "sql_output"
   ]
  },
  {
   "cell_type": "markdown",
   "metadata": {},
   "source": [
    "We need the implementation of Next / Prev in PyDough to solve this problem. "
   ]
  },
  {
   "cell_type": "markdown",
   "metadata": {},
   "source": [
    "## Query 13\n",
    "\n",
    "What is the overall D7D100PIR across all treatments? Return the percentage value.\n",
    "\n",
    "D7D100PIR (day 7 to day 100 PASI improvement rate) = (avg PASI score on day 100 - avg PASI score on day 7) / avg PASI score on day 7 * 100. This should only include patients who have non-null PASI scores for both timepoints.\n",
    "\n",
    "SQL:"
   ]
  },
  {
   "cell_type": "code",
   "execution_count": 88,
   "metadata": {},
   "outputs": [
    {
     "data": {
      "text/html": [
       "<div>\n",
       "<style scoped>\n",
       "    .dataframe tbody tr th:only-of-type {\n",
       "        vertical-align: middle;\n",
       "    }\n",
       "\n",
       "    .dataframe tbody tr th {\n",
       "        vertical-align: top;\n",
       "    }\n",
       "\n",
       "    .dataframe thead th {\n",
       "        text-align: right;\n",
       "    }\n",
       "</style>\n",
       "<table border=\"1\" class=\"dataframe\">\n",
       "  <thead>\n",
       "    <tr style=\"text-align: right;\">\n",
       "      <th></th>\n",
       "      <th>d7d100pir</th>\n",
       "    </tr>\n",
       "  </thead>\n",
       "  <tbody>\n",
       "    <tr>\n",
       "      <th>0</th>\n",
       "      <td>-74.150439</td>\n",
       "    </tr>\n",
       "  </tbody>\n",
       "</table>\n",
       "</div>"
      ],
      "text/plain": [
       "   d7d100pir\n",
       "0 -74.150439"
      ]
     },
     "execution_count": 88,
     "metadata": {},
     "output_type": "execute_result"
    }
   ],
   "source": [
    "query = '''\n",
    "SELECT \n",
    "    (AVG(day100_pasi_score) - AVG(day7_pasi_score)) / AVG(day7_pasi_score) * 100 AS d7d100pir\n",
    "FROM \n",
    "    outcomes\n",
    "WHERE \n",
    "    NOT day7_pasi_score IS NULL \n",
    "    AND NOT day100_pasi_score IS NULL;\n",
    "'''\n",
    "\n",
    "sql_output = pd.read_sql_query(query, connection)\n",
    "sql_output"
   ]
  },
  {
   "cell_type": "markdown",
   "metadata": {},
   "source": [
    "PyDough:"
   ]
  },
  {
   "cell_type": "code",
   "execution_count": 92,
   "metadata": {},
   "outputs": [
    {
     "data": {
      "text/html": [
       "<div>\n",
       "<style scoped>\n",
       "    .dataframe tbody tr th:only-of-type {\n",
       "        vertical-align: middle;\n",
       "    }\n",
       "\n",
       "    .dataframe tbody tr th {\n",
       "        vertical-align: top;\n",
       "    }\n",
       "\n",
       "    .dataframe thead th {\n",
       "        text-align: right;\n",
       "    }\n",
       "</style>\n",
       "<table border=\"1\" class=\"dataframe\">\n",
       "  <thead>\n",
       "    <tr style=\"text-align: right;\">\n",
       "      <th></th>\n",
       "      <th>d7d100pir</th>\n",
       "    </tr>\n",
       "  </thead>\n",
       "  <tbody>\n",
       "    <tr>\n",
       "      <th>0</th>\n",
       "      <td>-74.150439</td>\n",
       "    </tr>\n",
       "  </tbody>\n",
       "</table>\n",
       "</div>"
      ],
      "text/plain": [
       "   d7d100pir\n",
       "0 -74.150439"
      ]
     },
     "execution_count": 92,
     "metadata": {},
     "output_type": "execute_result"
    }
   ],
   "source": [
    "%%pydough\n",
    "outcomes = Outcomes(day100_pasi_score, day7_pasi_score, day7_pasi_score).WHERE(\n",
    "    PRESENT(day7_pasi_score) & PRESENT(day100_pasi_score)\n",
    ")\n",
    "\n",
    "output = DermTreatment(d7d100pir=((AVG(outcomes.day100_pasi_score) - AVG(outcomes.day7_pasi_score)) / AVG(outcomes.day7_pasi_score) * 100))\n",
    "\n",
    "pydough_output = pydough.to_df(output)\n",
    "pydough_output"
   ]
  },
  {
   "cell_type": "markdown",
   "metadata": {},
   "source": [
    "Now we are going to compare results in SQL and PyDough:"
   ]
  },
  {
   "cell_type": "code",
   "execution_count": 93,
   "metadata": {},
   "outputs": [
    {
     "data": {
      "text/plain": [
       "True"
      ]
     },
     "execution_count": 93,
     "metadata": {},
     "output_type": "execute_result"
    }
   ],
   "source": [
    "dfcompare.compare_df(pydough_output, sql_output, query_category=\"keywords_ratio\", \n",
    "                     question=\"What is the overall D7D100PIR across all treatments? Return the percentage value.\")"
   ]
  },
  {
   "cell_type": "markdown",
   "metadata": {},
   "source": [
    "## Query 14\n",
    "\n",
    "What is the PIC for female patients?\n",
    "\n",
    "PIC = private insured patient count\n",
    "\n",
    "SQL:"
   ]
  },
  {
   "cell_type": "code",
   "execution_count": 98,
   "metadata": {},
   "outputs": [
    {
     "data": {
      "text/html": [
       "<div>\n",
       "<style scoped>\n",
       "    .dataframe tbody tr th:only-of-type {\n",
       "        vertical-align: middle;\n",
       "    }\n",
       "\n",
       "    .dataframe tbody tr th {\n",
       "        vertical-align: top;\n",
       "    }\n",
       "\n",
       "    .dataframe thead th {\n",
       "        text-align: right;\n",
       "    }\n",
       "</style>\n",
       "<table border=\"1\" class=\"dataframe\">\n",
       "  <thead>\n",
       "    <tr style=\"text-align: right;\">\n",
       "      <th></th>\n",
       "      <th>pic</th>\n",
       "    </tr>\n",
       "  </thead>\n",
       "  <tbody>\n",
       "    <tr>\n",
       "      <th>0</th>\n",
       "      <td>3</td>\n",
       "    </tr>\n",
       "  </tbody>\n",
       "</table>\n",
       "</div>"
      ],
      "text/plain": [
       "   pic\n",
       "0    3"
      ]
     },
     "execution_count": 98,
     "metadata": {},
     "output_type": "execute_result"
    }
   ],
   "source": [
    "query = '''\n",
    "SELECT \n",
    "    COUNT(patient_id) AS pic\n",
    "FROM \n",
    "    patients\n",
    "WHERE \n",
    "    gender = 'Female' \n",
    "    AND ins_type = 'private';\n",
    "'''\n",
    "\n",
    "sql_output = pd.read_sql_query(query, connection)\n",
    "sql_output"
   ]
  },
  {
   "cell_type": "markdown",
   "metadata": {},
   "source": [
    "PyDough:"
   ]
  },
  {
   "cell_type": "code",
   "execution_count": 99,
   "metadata": {},
   "outputs": [
    {
     "data": {
      "text/html": [
       "<div>\n",
       "<style scoped>\n",
       "    .dataframe tbody tr th:only-of-type {\n",
       "        vertical-align: middle;\n",
       "    }\n",
       "\n",
       "    .dataframe tbody tr th {\n",
       "        vertical-align: top;\n",
       "    }\n",
       "\n",
       "    .dataframe thead th {\n",
       "        text-align: right;\n",
       "    }\n",
       "</style>\n",
       "<table border=\"1\" class=\"dataframe\">\n",
       "  <thead>\n",
       "    <tr style=\"text-align: right;\">\n",
       "      <th></th>\n",
       "      <th>pic</th>\n",
       "    </tr>\n",
       "  </thead>\n",
       "  <tbody>\n",
       "    <tr>\n",
       "      <th>0</th>\n",
       "      <td>3</td>\n",
       "    </tr>\n",
       "  </tbody>\n",
       "</table>\n",
       "</div>"
      ],
      "text/plain": [
       "   pic\n",
       "0    3"
      ]
     },
     "execution_count": 99,
     "metadata": {},
     "output_type": "execute_result"
    }
   ],
   "source": [
    "%%pydough\n",
    "\n",
    "patients = Patients(patient_id).WHERE(LIKE(gender, \"female\") & LIKE(ins_type, \"private\"))\n",
    "\n",
    "output = DermTreatment(pic=COUNT(patients.patient_id))\n",
    "\n",
    "pydough_output = pydough.to_df(output)\n",
    "pydough_output"
   ]
  },
  {
   "cell_type": "markdown",
   "metadata": {},
   "source": [
    "Now we are going to compare the results in SQL and PyDough:"
   ]
  },
  {
   "cell_type": "code",
   "execution_count": 100,
   "metadata": {},
   "outputs": [
    {
     "data": {
      "text/plain": [
       "True"
      ]
     },
     "execution_count": 100,
     "metadata": {},
     "output_type": "execute_result"
    }
   ],
   "source": [
    "dfcompare.compare_df(pydough_output, sql_output, query_category=\"keywords_aggregate\", \n",
    "                     question=\"What is the PIC for female patients?\")"
   ]
  },
  {
   "cell_type": "markdown",
   "metadata": {},
   "source": [
    "## Query 15\n",
    "\n",
    "Which drug had the highest number of adverse events reported within the same month as the treatment start date (adverse event or treatment can be earlier than the other)? Return the number of adverse events along with the drug's id and name.\n",
    "\n",
    "If events from 2 different tables from the same interval are to be joined, join on the respective truncated date fields eg `FROM t1 JOIN t2 ON DATE(t1.date, '<interval>') = DATE(t2.date, '<interval>').\n",
    "\n",
    "SQL:"
   ]
  },
  {
   "cell_type": "code",
   "execution_count": 101,
   "metadata": {},
   "outputs": [
    {
     "data": {
      "text/html": [
       "<div>\n",
       "<style scoped>\n",
       "    .dataframe tbody tr th:only-of-type {\n",
       "        vertical-align: middle;\n",
       "    }\n",
       "\n",
       "    .dataframe tbody tr th {\n",
       "        vertical-align: top;\n",
       "    }\n",
       "\n",
       "    .dataframe thead th {\n",
       "        text-align: right;\n",
       "    }\n",
       "</style>\n",
       "<table border=\"1\" class=\"dataframe\">\n",
       "  <thead>\n",
       "    <tr style=\"text-align: right;\">\n",
       "      <th></th>\n",
       "      <th>drug_id</th>\n",
       "      <th>drug_name</th>\n",
       "      <th>num_events</th>\n",
       "    </tr>\n",
       "  </thead>\n",
       "  <tbody>\n",
       "    <tr>\n",
       "      <th>0</th>\n",
       "      <td>1</td>\n",
       "      <td>Drugalin</td>\n",
       "      <td>2</td>\n",
       "    </tr>\n",
       "  </tbody>\n",
       "</table>\n",
       "</div>"
      ],
      "text/plain": [
       "   drug_id drug_name  num_events\n",
       "0        1  Drugalin           2"
      ]
     },
     "execution_count": 101,
     "metadata": {},
     "output_type": "execute_result"
    }
   ],
   "source": [
    "query = '''\n",
    "WITH adverse_events_per_drug AS (\n",
    "    SELECT \n",
    "        d.drug_id, \n",
    "        COUNT(ae.id) AS num_events\n",
    "    FROM \n",
    "        adverse_events AS ae\n",
    "    JOIN \n",
    "        treatments AS t \n",
    "        ON ae.treatment_id = t.treatment_id \n",
    "        AND strftime('%Y-%m', ae.reported_dt) = strftime('%Y-%m', t.start_dt)\n",
    "    JOIN \n",
    "        drugs AS d \n",
    "        ON t.drug_id = d.drug_id\n",
    "    GROUP BY \n",
    "        d.drug_id\n",
    ")\n",
    "SELECT \n",
    "    ae.drug_id, \n",
    "    d.drug_name, \n",
    "    ae.num_events\n",
    "FROM \n",
    "    adverse_events_per_drug AS ae\n",
    "JOIN \n",
    "    drugs AS d \n",
    "    USING (drug_id)\n",
    "ORDER BY \n",
    "    ae.num_events DESC\n",
    "LIMIT 1;\n",
    "'''\n",
    "\n",
    "sql_output = pd.read_sql_query(query, connection)\n",
    "sql_output"
   ]
  },
  {
   "cell_type": "markdown",
   "metadata": {},
   "source": [
    "PyDough:"
   ]
  },
  {
   "cell_type": "code",
   "execution_count": 128,
   "metadata": {},
   "outputs": [
    {
     "data": {
      "text/html": [
       "<div>\n",
       "<style scoped>\n",
       "    .dataframe tbody tr th:only-of-type {\n",
       "        vertical-align: middle;\n",
       "    }\n",
       "\n",
       "    .dataframe tbody tr th {\n",
       "        vertical-align: top;\n",
       "    }\n",
       "\n",
       "    .dataframe thead th {\n",
       "        text-align: right;\n",
       "    }\n",
       "</style>\n",
       "<table border=\"1\" class=\"dataframe\">\n",
       "  <thead>\n",
       "    <tr style=\"text-align: right;\">\n",
       "      <th></th>\n",
       "      <th>drug_id</th>\n",
       "      <th>drug_name</th>\n",
       "      <th>num_events</th>\n",
       "    </tr>\n",
       "  </thead>\n",
       "  <tbody>\n",
       "    <tr>\n",
       "      <th>0</th>\n",
       "      <td>1</td>\n",
       "      <td>Drugalin</td>\n",
       "      <td>2</td>\n",
       "    </tr>\n",
       "  </tbody>\n",
       "</table>\n",
       "</div>"
      ],
      "text/plain": [
       "   drug_id drug_name  num_events\n",
       "0        1  Drugalin           2"
      ]
     },
     "execution_count": 128,
     "metadata": {},
     "output_type": "execute_result"
    }
   ],
   "source": [
    "%%pydough\n",
    "output = PARTITION(Drugs, name=\"part\", by=(drug_id, drug_name))(\n",
    "    drug_id,\n",
    "    drug_name,\n",
    "    num_events=COUNT(part.treatments_used_in.adverse_events.reported_dt)\n",
    ").TOP_K(1, by=num_events.DESC())\n",
    "\n",
    "pydough_output = pydough.to_df(output)\n",
    "pydough_output"
   ]
  },
  {
   "cell_type": "markdown",
   "metadata": {},
   "source": [
    "Now we are going to compare the results in SQL and PyDough:"
   ]
  },
  {
   "cell_type": "code",
   "execution_count": 130,
   "metadata": {},
   "outputs": [
    {
     "data": {
      "text/plain": [
       "True"
      ]
     },
     "execution_count": 130,
     "metadata": {},
     "output_type": "execute_result"
    }
   ],
   "source": [
    "dfcompare.compare_df(pydough_output, sql_output, query_category=\"instructions_date_join\", \n",
    "                     question=\"Which drug had the highest number of adverse events reported within the same month as the treatment start date (adverse event or treatment can be earlier than the other)? Return the number of adverse events along with the drug's id and name.\")"
   ]
  },
  {
   "cell_type": "markdown",
   "metadata": {},
   "source": [
    "## Query 16\n",
    "\n",
    "Which states do doctors who have prescribed biologic drugs reside in? Return the distinct states.\n",
    "\n",
    "To identify doctors who have prescribed a certain drug type and their respective states, first join doctors with treatments on doc_id, then filter by the drug type.\n",
    "\n",
    "SQL:"
   ]
  },
  {
   "cell_type": "code",
   "execution_count": 140,
   "metadata": {},
   "outputs": [
    {
     "data": {
      "text/html": [
       "<div>\n",
       "<style scoped>\n",
       "    .dataframe tbody tr th:only-of-type {\n",
       "        vertical-align: middle;\n",
       "    }\n",
       "\n",
       "    .dataframe tbody tr th {\n",
       "        vertical-align: top;\n",
       "    }\n",
       "\n",
       "    .dataframe thead th {\n",
       "        text-align: right;\n",
       "    }\n",
       "</style>\n",
       "<table border=\"1\" class=\"dataframe\">\n",
       "  <thead>\n",
       "    <tr style=\"text-align: right;\">\n",
       "      <th></th>\n",
       "      <th>loc_state</th>\n",
       "    </tr>\n",
       "  </thead>\n",
       "  <tbody>\n",
       "    <tr>\n",
       "      <th>0</th>\n",
       "      <td>MD</td>\n",
       "    </tr>\n",
       "    <tr>\n",
       "      <th>1</th>\n",
       "      <td>CA</td>\n",
       "    </tr>\n",
       "    <tr>\n",
       "      <th>2</th>\n",
       "      <td>CT</td>\n",
       "    </tr>\n",
       "    <tr>\n",
       "      <th>3</th>\n",
       "      <td>PA</td>\n",
       "    </tr>\n",
       "    <tr>\n",
       "      <th>4</th>\n",
       "      <td>MA</td>\n",
       "    </tr>\n",
       "    <tr>\n",
       "      <th>5</th>\n",
       "      <td>NC</td>\n",
       "    </tr>\n",
       "  </tbody>\n",
       "</table>\n",
       "</div>"
      ],
      "text/plain": [
       "  loc_state\n",
       "0        MD\n",
       "1        CA\n",
       "2        CT\n",
       "3        PA\n",
       "4        MA\n",
       "5        NC"
      ]
     },
     "execution_count": 140,
     "metadata": {},
     "output_type": "execute_result"
    }
   ],
   "source": [
    "query = '''\n",
    "WITH doctor_treatment AS (\n",
    "    SELECT \n",
    "        d.doc_id, \n",
    "        d.loc_state\n",
    "    FROM \n",
    "        doctors AS d\n",
    "    JOIN \n",
    "        treatments AS t \n",
    "        ON d.doc_id = t.doc_id\n",
    "    JOIN \n",
    "        drugs AS dr \n",
    "        ON t.drug_id = dr.drug_id\n",
    "    WHERE \n",
    "        dr.drug_type = 'biologic'\n",
    ")\n",
    "SELECT \n",
    "    DISTINCT loc_state\n",
    "FROM \n",
    "    doctor_treatment;\n",
    "'''\n",
    "\n",
    "sql_output = pd.read_sql_query(query, connection)\n",
    "sql_output"
   ]
  },
  {
   "cell_type": "markdown",
   "metadata": {},
   "source": [
    "PyDough:"
   ]
  },
  {
   "cell_type": "code",
   "execution_count": 141,
   "metadata": {},
   "outputs": [
    {
     "data": {
      "text/html": [
       "<div>\n",
       "<style scoped>\n",
       "    .dataframe tbody tr th:only-of-type {\n",
       "        vertical-align: middle;\n",
       "    }\n",
       "\n",
       "    .dataframe tbody tr th {\n",
       "        vertical-align: top;\n",
       "    }\n",
       "\n",
       "    .dataframe thead th {\n",
       "        text-align: right;\n",
       "    }\n",
       "</style>\n",
       "<table border=\"1\" class=\"dataframe\">\n",
       "  <thead>\n",
       "    <tr style=\"text-align: right;\">\n",
       "      <th></th>\n",
       "      <th>loc_state</th>\n",
       "    </tr>\n",
       "  </thead>\n",
       "  <tbody>\n",
       "    <tr>\n",
       "      <th>0</th>\n",
       "      <td>CA</td>\n",
       "    </tr>\n",
       "    <tr>\n",
       "      <th>1</th>\n",
       "      <td>CT</td>\n",
       "    </tr>\n",
       "    <tr>\n",
       "      <th>2</th>\n",
       "      <td>MA</td>\n",
       "    </tr>\n",
       "    <tr>\n",
       "      <th>3</th>\n",
       "      <td>MD</td>\n",
       "    </tr>\n",
       "    <tr>\n",
       "      <th>4</th>\n",
       "      <td>NC</td>\n",
       "    </tr>\n",
       "    <tr>\n",
       "      <th>5</th>\n",
       "      <td>PA</td>\n",
       "    </tr>\n",
       "  </tbody>\n",
       "</table>\n",
       "</div>"
      ],
      "text/plain": [
       "  loc_state\n",
       "0        CA\n",
       "1        CT\n",
       "2        MA\n",
       "3        MD\n",
       "4        NC\n",
       "5        PA"
      ]
     },
     "execution_count": 141,
     "metadata": {},
     "output_type": "execute_result"
    }
   ],
   "source": [
    "%%pydough\n",
    "\n",
    "doctors = Treatments(doctor.doc_id, doctor.loc_state).WHERE(LIKE(drug.drug_type, \"biologic\"))\n",
    "\n",
    "output = PARTITION(doctors, name=\"part\", by=loc_state)(\n",
    "    loc_state\n",
    ")\n",
    "\n",
    "pydough_output = pydough.to_df(output)\n",
    "pydough_output"
   ]
  },
  {
   "cell_type": "markdown",
   "metadata": {},
   "source": [
    "Now we are going to compare the results in SQL and PyDough:"
   ]
  },
  {
   "cell_type": "code",
   "execution_count": 142,
   "metadata": {},
   "outputs": [
    {
     "data": {
      "text/plain": [
       "np.True_"
      ]
     },
     "execution_count": 142,
     "metadata": {},
     "output_type": "execute_result"
    }
   ],
   "source": [
    "dfcompare.compare_df(pydough_output, sql_output, query_category=\"instructions_cte_join\", \n",
    "                     question=\"Which states do doctors who have prescribed biologic drugs reside in? Return the distinct states.\")"
   ]
  },
  {
   "cell_type": "markdown",
   "metadata": {},
   "source": [
    "## Query 17\n",
    "\n",
    "For treatments that ended in the year 2022 (from Jan 1st to Dec 31st inclusive), what is the average PASI score at day 100 and number of distinct patients per insurance type? Return the top 5 insurance types sorted by lowest average PASI score first.\n",
    "\n",
    "Note: This query will not return 5, because there is no five types insurance, only 3. \n",
    "\n",
    "SQL:"
   ]
  },
  {
   "cell_type": "code",
   "execution_count": 97,
   "metadata": {},
   "outputs": [
    {
     "data": {
      "text/html": [
       "<div>\n",
       "<style scoped>\n",
       "    .dataframe tbody tr th:only-of-type {\n",
       "        vertical-align: middle;\n",
       "    }\n",
       "\n",
       "    .dataframe tbody tr th {\n",
       "        vertical-align: top;\n",
       "    }\n",
       "\n",
       "    .dataframe thead th {\n",
       "        text-align: right;\n",
       "    }\n",
       "</style>\n",
       "<table border=\"1\" class=\"dataframe\">\n",
       "  <thead>\n",
       "    <tr style=\"text-align: right;\">\n",
       "      <th></th>\n",
       "      <th>ins_type</th>\n",
       "      <th>num_patients</th>\n",
       "      <th>avg_pasi_score</th>\n",
       "    </tr>\n",
       "  </thead>\n",
       "  <tbody>\n",
       "    <tr>\n",
       "      <th>0</th>\n",
       "      <td>private</td>\n",
       "      <td>3</td>\n",
       "      <td>2.275000</td>\n",
       "    </tr>\n",
       "    <tr>\n",
       "      <th>1</th>\n",
       "      <td>uninsured</td>\n",
       "      <td>1</td>\n",
       "      <td>2.600000</td>\n",
       "    </tr>\n",
       "    <tr>\n",
       "      <th>2</th>\n",
       "      <td>medicare</td>\n",
       "      <td>1</td>\n",
       "      <td>3.500000</td>\n",
       "    </tr>\n",
       "  </tbody>\n",
       "</table>\n",
       "</div>"
      ],
      "text/plain": [
       "    ins_type  num_patients  avg_pasi_score\n",
       "0    private             3        2.275000\n",
       "1  uninsured             1        2.600000\n",
       "2   medicare             1        3.500000"
      ]
     },
     "execution_count": 97,
     "metadata": {},
     "output_type": "execute_result"
    }
   ],
   "source": [
    "# Test sql query in python\n",
    "query = '''\n",
    "SELECT \n",
    "    p.ins_type, \n",
    "    COUNT(DISTINCT t.patient_id) AS num_patients, \n",
    "    AVG(o.day100_pasi_score) AS avg_pasi_score\n",
    "FROM \n",
    "    treatments AS t\n",
    "JOIN \n",
    "    patients AS p \n",
    "    ON t.patient_id = p.patient_id\n",
    "JOIN \n",
    "    outcomes AS o \n",
    "    ON t.treatment_id = o.treatment_id\n",
    "WHERE \n",
    "    t.end_dt BETWEEN '2022-01-01' AND '2022-12-31'\n",
    "GROUP BY \n",
    "    p.ins_type\n",
    "ORDER BY \n",
    "    CASE \n",
    "        WHEN avg_pasi_score IS NULL THEN 1 \n",
    "        ELSE 0 \n",
    "    END, \n",
    "    avg_pasi_score\n",
    "LIMIT 5;\n",
    "'''\n",
    "\n",
    "sql_output = pd.read_sql_query(query, connection)\n",
    "sql_output"
   ]
  },
  {
   "cell_type": "code",
   "execution_count": 96,
   "metadata": {},
   "outputs": [
    {
     "data": {
      "text/html": [
       "<div>\n",
       "<style scoped>\n",
       "    .dataframe tbody tr th:only-of-type {\n",
       "        vertical-align: middle;\n",
       "    }\n",
       "\n",
       "    .dataframe tbody tr th {\n",
       "        vertical-align: top;\n",
       "    }\n",
       "\n",
       "    .dataframe thead th {\n",
       "        text-align: right;\n",
       "    }\n",
       "</style>\n",
       "<table border=\"1\" class=\"dataframe\">\n",
       "  <thead>\n",
       "    <tr style=\"text-align: right;\">\n",
       "      <th></th>\n",
       "      <th>ins_type</th>\n",
       "      <th>num_patients</th>\n",
       "      <th>avg_pasi_score</th>\n",
       "    </tr>\n",
       "  </thead>\n",
       "  <tbody>\n",
       "    <tr>\n",
       "      <th>0</th>\n",
       "      <td>private</td>\n",
       "      <td>3</td>\n",
       "      <td>2.275000</td>\n",
       "    </tr>\n",
       "    <tr>\n",
       "      <th>1</th>\n",
       "      <td>uninsured</td>\n",
       "      <td>1</td>\n",
       "      <td>2.600000</td>\n",
       "    </tr>\n",
       "    <tr>\n",
       "      <th>2</th>\n",
       "      <td>medicare</td>\n",
       "      <td>1</td>\n",
       "      <td>3.500000</td>\n",
       "    </tr>\n",
       "  </tbody>\n",
       "</table>\n",
       "</div>"
      ],
      "text/plain": [
       "    ins_type  num_patients  avg_pasi_score\n",
       "0    private             3        2.275000\n",
       "1  uninsured             1        2.600000\n",
       "2   medicare             1        3.500000"
      ]
     },
     "execution_count": 96,
     "metadata": {},
     "output_type": "execute_result"
    }
   ],
   "source": [
    "%%pydough\n",
    "\n",
    "selected_treatments = Treatments(ins_type=patient.ins_type).WHERE((end_dt >= \"2022-01-01\") & (end_dt <= \"2022-12-31\"))\n",
    "\n",
    "output = PARTITION(selected_treatments, name=\"treatment\", by=ins_type)(\n",
    "    ins_type=ins_type,\n",
    "    num_patients= NDISTINCT(treatment.patient_id),\n",
    "    avg_pasi_score= AVG(treatment.outcome_records.day100_pasi_score)\n",
    ").TOP_K(5, by=avg_pasi_score.ASC())\n",
    "\n",
    "pydough_output = pydough.to_df(output)\n",
    "pydough_output"
   ]
  },
  {
   "cell_type": "markdown",
   "metadata": {},
   "source": [
    "Now we are going to compare the results in SQL and PyDough:"
   ]
  },
  {
   "cell_type": "code",
   "execution_count": 98,
   "metadata": {},
   "outputs": [
    {
     "data": {
      "text/plain": [
       "True"
      ]
     },
     "execution_count": 98,
     "metadata": {},
     "output_type": "execute_result"
    }
   ],
   "source": [
    "dfcompare.compare_df(pydough_output, sql_output, query_category=\"basic_join_date_group_order_limit\", \n",
    "                     question=\"For treatments that ended in the year 2022 (from Jan 1st to Dec 31st inclusive), what is the average PASI score at day 100 and number of distinct patients per insurance type? Return the top 5 insurance types sorted by lowest average PASI score first.\")"
   ]
  },
  {
   "cell_type": "markdown",
   "metadata": {},
   "source": [
    "## Query 18\n",
    "\n",
    "Return the distinct list of doctor IDs, first names and last names that have prescribed treatments.\n",
    "\n",
    "SQL:"
   ]
  },
  {
   "cell_type": "code",
   "execution_count": 100,
   "metadata": {},
   "outputs": [
    {
     "data": {
      "text/html": [
       "<div>\n",
       "<style scoped>\n",
       "    .dataframe tbody tr th:only-of-type {\n",
       "        vertical-align: middle;\n",
       "    }\n",
       "\n",
       "    .dataframe tbody tr th {\n",
       "        vertical-align: top;\n",
       "    }\n",
       "\n",
       "    .dataframe thead th {\n",
       "        text-align: right;\n",
       "    }\n",
       "</style>\n",
       "<table border=\"1\" class=\"dataframe\">\n",
       "  <thead>\n",
       "    <tr style=\"text-align: right;\">\n",
       "      <th></th>\n",
       "      <th>doc_id</th>\n",
       "      <th>first_name</th>\n",
       "      <th>last_name</th>\n",
       "    </tr>\n",
       "  </thead>\n",
       "  <tbody>\n",
       "    <tr>\n",
       "      <th>0</th>\n",
       "      <td>1</td>\n",
       "      <td>John</td>\n",
       "      <td>Doe</td>\n",
       "    </tr>\n",
       "    <tr>\n",
       "      <th>1</th>\n",
       "      <td>2</td>\n",
       "      <td>Jane</td>\n",
       "      <td>Smith</td>\n",
       "    </tr>\n",
       "    <tr>\n",
       "      <th>2</th>\n",
       "      <td>3</td>\n",
       "      <td>David</td>\n",
       "      <td>Johnson</td>\n",
       "    </tr>\n",
       "    <tr>\n",
       "      <th>3</th>\n",
       "      <td>4</td>\n",
       "      <td>Emily</td>\n",
       "      <td>Brown</td>\n",
       "    </tr>\n",
       "    <tr>\n",
       "      <th>4</th>\n",
       "      <td>5</td>\n",
       "      <td>Michael</td>\n",
       "      <td>Davis</td>\n",
       "    </tr>\n",
       "    <tr>\n",
       "      <th>5</th>\n",
       "      <td>6</td>\n",
       "      <td>Sarah</td>\n",
       "      <td>Wilson</td>\n",
       "    </tr>\n",
       "    <tr>\n",
       "      <th>6</th>\n",
       "      <td>7</td>\n",
       "      <td>Robert</td>\n",
       "      <td>Taylor</td>\n",
       "    </tr>\n",
       "  </tbody>\n",
       "</table>\n",
       "</div>"
      ],
      "text/plain": [
       "   doc_id first_name last_name\n",
       "0       1       John       Doe\n",
       "1       2       Jane     Smith\n",
       "2       3      David   Johnson\n",
       "3       4      Emily     Brown\n",
       "4       5    Michael     Davis\n",
       "5       6      Sarah    Wilson\n",
       "6       7     Robert    Taylor"
      ]
     },
     "execution_count": 100,
     "metadata": {},
     "output_type": "execute_result"
    }
   ],
   "source": [
    "query = \"\"\"\n",
    "SELECT DISTINCT d.doc_id, d.first_name, d.last_name \n",
    "FROM treatments AS t \n",
    "JOIN doctors AS d ON t.doc_id = d.doc_id;\n",
    "\"\"\"\n",
    "\n",
    "sql_output = pd.read_sql_query(query, connection)\n",
    "\n",
    "sql_output"
   ]
  },
  {
   "cell_type": "markdown",
   "metadata": {},
   "source": [
    "Query in PyDough:"
   ]
  },
  {
   "cell_type": "code",
   "execution_count": 101,
   "metadata": {},
   "outputs": [
    {
     "data": {
      "text/html": [
       "<div>\n",
       "<style scoped>\n",
       "    .dataframe tbody tr th:only-of-type {\n",
       "        vertical-align: middle;\n",
       "    }\n",
       "\n",
       "    .dataframe tbody tr th {\n",
       "        vertical-align: top;\n",
       "    }\n",
       "\n",
       "    .dataframe thead th {\n",
       "        text-align: right;\n",
       "    }\n",
       "</style>\n",
       "<table border=\"1\" class=\"dataframe\">\n",
       "  <thead>\n",
       "    <tr style=\"text-align: right;\">\n",
       "      <th></th>\n",
       "      <th>doc_id</th>\n",
       "      <th>first_name</th>\n",
       "      <th>last_name</th>\n",
       "    </tr>\n",
       "  </thead>\n",
       "  <tbody>\n",
       "    <tr>\n",
       "      <th>0</th>\n",
       "      <td>1</td>\n",
       "      <td>John</td>\n",
       "      <td>Doe</td>\n",
       "    </tr>\n",
       "    <tr>\n",
       "      <th>1</th>\n",
       "      <td>2</td>\n",
       "      <td>Jane</td>\n",
       "      <td>Smith</td>\n",
       "    </tr>\n",
       "    <tr>\n",
       "      <th>2</th>\n",
       "      <td>3</td>\n",
       "      <td>David</td>\n",
       "      <td>Johnson</td>\n",
       "    </tr>\n",
       "    <tr>\n",
       "      <th>3</th>\n",
       "      <td>4</td>\n",
       "      <td>Emily</td>\n",
       "      <td>Brown</td>\n",
       "    </tr>\n",
       "    <tr>\n",
       "      <th>4</th>\n",
       "      <td>5</td>\n",
       "      <td>Michael</td>\n",
       "      <td>Davis</td>\n",
       "    </tr>\n",
       "    <tr>\n",
       "      <th>5</th>\n",
       "      <td>6</td>\n",
       "      <td>Sarah</td>\n",
       "      <td>Wilson</td>\n",
       "    </tr>\n",
       "    <tr>\n",
       "      <th>6</th>\n",
       "      <td>7</td>\n",
       "      <td>Robert</td>\n",
       "      <td>Taylor</td>\n",
       "    </tr>\n",
       "  </tbody>\n",
       "</table>\n",
       "</div>"
      ],
      "text/plain": [
       "   doc_id first_name last_name\n",
       "0       1       John       Doe\n",
       "1       2       Jane     Smith\n",
       "2       3      David   Johnson\n",
       "3       4      Emily     Brown\n",
       "4       5    Michael     Davis\n",
       "5       6      Sarah    Wilson\n",
       "6       7     Robert    Taylor"
      ]
     },
     "execution_count": 101,
     "metadata": {},
     "output_type": "execute_result"
    }
   ],
   "source": [
    "%%pydough\n",
    "\n",
    "output = Doctors(doc_id, first_name, last_name).WHERE(HAS(prescribed_treatments))\n",
    "\n",
    "pydough_output = pydough.to_df(output)\n",
    "pydough_output"
   ]
  },
  {
   "cell_type": "markdown",
   "metadata": {},
   "source": [
    "Now, we are going to compare the results in SQL and PyDough:"
   ]
  },
  {
   "cell_type": "code",
   "execution_count": 102,
   "metadata": {},
   "outputs": [
    {
     "data": {
      "text/plain": [
       "True"
      ]
     },
     "execution_count": 102,
     "metadata": {},
     "output_type": "execute_result"
    }
   ],
   "source": [
    "dfcompare.compare_df(pydough_output, sql_output, query_category=\"basic_left_join\", \n",
    "                     question=\"Return the customer ID and name of customers who have not made any transactions.\")"
   ]
  },
  {
   "cell_type": "markdown",
   "metadata": {},
   "source": [
    "## Query 19\n",
    "Return the distinct list of patient IDs, first names and last names that have outcome assessments.\n",
    "\n",
    "SQL:"
   ]
  },
  {
   "cell_type": "code",
   "execution_count": 103,
   "metadata": {},
   "outputs": [
    {
     "data": {
      "text/html": [
       "<div>\n",
       "<style scoped>\n",
       "    .dataframe tbody tr th:only-of-type {\n",
       "        vertical-align: middle;\n",
       "    }\n",
       "\n",
       "    .dataframe tbody tr th {\n",
       "        vertical-align: top;\n",
       "    }\n",
       "\n",
       "    .dataframe thead th {\n",
       "        text-align: right;\n",
       "    }\n",
       "</style>\n",
       "<table border=\"1\" class=\"dataframe\">\n",
       "  <thead>\n",
       "    <tr style=\"text-align: right;\">\n",
       "      <th></th>\n",
       "      <th>patient_id</th>\n",
       "      <th>first_name</th>\n",
       "      <th>last_name</th>\n",
       "    </tr>\n",
       "  </thead>\n",
       "  <tbody>\n",
       "    <tr>\n",
       "      <th>0</th>\n",
       "      <td>1</td>\n",
       "      <td>Alice</td>\n",
       "      <td>Johnson</td>\n",
       "    </tr>\n",
       "    <tr>\n",
       "      <th>1</th>\n",
       "      <td>2</td>\n",
       "      <td>Bob</td>\n",
       "      <td>Smith</td>\n",
       "    </tr>\n",
       "    <tr>\n",
       "      <th>2</th>\n",
       "      <td>3</td>\n",
       "      <td>Carol</td>\n",
       "      <td>Davis</td>\n",
       "    </tr>\n",
       "    <tr>\n",
       "      <th>3</th>\n",
       "      <td>4</td>\n",
       "      <td>David</td>\n",
       "      <td>Wilson</td>\n",
       "    </tr>\n",
       "    <tr>\n",
       "      <th>4</th>\n",
       "      <td>5</td>\n",
       "      <td>Eve</td>\n",
       "      <td>Brown</td>\n",
       "    </tr>\n",
       "    <tr>\n",
       "      <th>5</th>\n",
       "      <td>6</td>\n",
       "      <td>Frank</td>\n",
       "      <td>Taylor</td>\n",
       "    </tr>\n",
       "    <tr>\n",
       "      <th>6</th>\n",
       "      <td>7</td>\n",
       "      <td>Grace</td>\n",
       "      <td>Anderson</td>\n",
       "    </tr>\n",
       "    <tr>\n",
       "      <th>7</th>\n",
       "      <td>9</td>\n",
       "      <td>Isaac</td>\n",
       "      <td>Martinez</td>\n",
       "    </tr>\n",
       "    <tr>\n",
       "      <th>8</th>\n",
       "      <td>10</td>\n",
       "      <td>John</td>\n",
       "      <td>Richter</td>\n",
       "    </tr>\n",
       "  </tbody>\n",
       "</table>\n",
       "</div>"
      ],
      "text/plain": [
       "   patient_id first_name last_name\n",
       "0           1      Alice   Johnson\n",
       "1           2        Bob     Smith\n",
       "2           3      Carol     Davis\n",
       "3           4      David    Wilson\n",
       "4           5        Eve     Brown\n",
       "5           6      Frank    Taylor\n",
       "6           7      Grace  Anderson\n",
       "7           9      Isaac  Martinez\n",
       "8          10       John   Richter"
      ]
     },
     "execution_count": 103,
     "metadata": {},
     "output_type": "execute_result"
    }
   ],
   "source": [
    "query = \"\"\"\n",
    "SELECT DISTINCT p.patient_id, p.first_name, p.last_name \n",
    "FROM outcomes AS o \n",
    "JOIN treatments AS t ON o.treatment_id = t.treatment_id \n",
    "JOIN patients AS p ON t.patient_id = p.patient_id;\n",
    "\"\"\"\n",
    "\n",
    "sql_output = pd.read_sql_query(query, connection)\n",
    "sql_output"
   ]
  },
  {
   "cell_type": "markdown",
   "metadata": {},
   "source": [
    "PyDough:"
   ]
  },
  {
   "cell_type": "code",
   "execution_count": 105,
   "metadata": {},
   "outputs": [
    {
     "data": {
      "text/html": [
       "<div>\n",
       "<style scoped>\n",
       "    .dataframe tbody tr th:only-of-type {\n",
       "        vertical-align: middle;\n",
       "    }\n",
       "\n",
       "    .dataframe tbody tr th {\n",
       "        vertical-align: top;\n",
       "    }\n",
       "\n",
       "    .dataframe thead th {\n",
       "        text-align: right;\n",
       "    }\n",
       "</style>\n",
       "<table border=\"1\" class=\"dataframe\">\n",
       "  <thead>\n",
       "    <tr style=\"text-align: right;\">\n",
       "      <th></th>\n",
       "      <th>patient_id</th>\n",
       "      <th>first_name</th>\n",
       "      <th>last_name</th>\n",
       "    </tr>\n",
       "  </thead>\n",
       "  <tbody>\n",
       "    <tr>\n",
       "      <th>0</th>\n",
       "      <td>1</td>\n",
       "      <td>Alice</td>\n",
       "      <td>Johnson</td>\n",
       "    </tr>\n",
       "    <tr>\n",
       "      <th>1</th>\n",
       "      <td>2</td>\n",
       "      <td>Bob</td>\n",
       "      <td>Smith</td>\n",
       "    </tr>\n",
       "    <tr>\n",
       "      <th>2</th>\n",
       "      <td>3</td>\n",
       "      <td>Carol</td>\n",
       "      <td>Davis</td>\n",
       "    </tr>\n",
       "    <tr>\n",
       "      <th>3</th>\n",
       "      <td>4</td>\n",
       "      <td>David</td>\n",
       "      <td>Wilson</td>\n",
       "    </tr>\n",
       "    <tr>\n",
       "      <th>4</th>\n",
       "      <td>5</td>\n",
       "      <td>Eve</td>\n",
       "      <td>Brown</td>\n",
       "    </tr>\n",
       "    <tr>\n",
       "      <th>5</th>\n",
       "      <td>6</td>\n",
       "      <td>Frank</td>\n",
       "      <td>Taylor</td>\n",
       "    </tr>\n",
       "    <tr>\n",
       "      <th>6</th>\n",
       "      <td>7</td>\n",
       "      <td>Grace</td>\n",
       "      <td>Anderson</td>\n",
       "    </tr>\n",
       "    <tr>\n",
       "      <th>7</th>\n",
       "      <td>9</td>\n",
       "      <td>Isaac</td>\n",
       "      <td>Martinez</td>\n",
       "    </tr>\n",
       "    <tr>\n",
       "      <th>8</th>\n",
       "      <td>10</td>\n",
       "      <td>John</td>\n",
       "      <td>Richter</td>\n",
       "    </tr>\n",
       "  </tbody>\n",
       "</table>\n",
       "</div>"
      ],
      "text/plain": [
       "   patient_id first_name last_name\n",
       "0           1      Alice   Johnson\n",
       "1           2        Bob     Smith\n",
       "2           3      Carol     Davis\n",
       "3           4      David    Wilson\n",
       "4           5        Eve     Brown\n",
       "5           6      Frank    Taylor\n",
       "6           7      Grace  Anderson\n",
       "7           9      Isaac  Martinez\n",
       "8          10       John   Richter"
      ]
     },
     "execution_count": 105,
     "metadata": {},
     "output_type": "execute_result"
    }
   ],
   "source": [
    "%%pydough\n",
    "\n",
    "output = Patients(patient_id, first_name, last_name).WHERE(HAS(treatments_received.WHERE(HAS(outcome_records))))\n",
    "\n",
    "pydough_output = pydough.to_df(output)\n",
    "pydough_output\n"
   ]
  },
  {
   "cell_type": "markdown",
   "metadata": {},
   "source": [
    "Now we are going to compare the results in SQL and PyDough:"
   ]
  },
  {
   "cell_type": "code",
   "execution_count": 106,
   "metadata": {},
   "outputs": [
    {
     "data": {
      "text/plain": [
       "True"
      ]
     },
     "execution_count": 106,
     "metadata": {},
     "output_type": "execute_result"
    }
   ],
   "source": [
    "dfcompare.compare_df(pydough_output, sql_output, query_category=\"basic_join_distinct\", \n",
    "                     question=\"Return the distinct list of patient IDs, first names and last names that have outcome assessments.\")"
   ]
  },
  {
   "cell_type": "markdown",
   "metadata": {},
   "source": [
    "## Query 20\n",
    "\n",
    "Return the drug IDs and names of drugs that have not been used in any treatments.\n",
    "\n",
    "SQL:"
   ]
  },
  {
   "cell_type": "code",
   "execution_count": 107,
   "metadata": {},
   "outputs": [
    {
     "data": {
      "text/html": [
       "<div>\n",
       "<style scoped>\n",
       "    .dataframe tbody tr th:only-of-type {\n",
       "        vertical-align: middle;\n",
       "    }\n",
       "\n",
       "    .dataframe tbody tr th {\n",
       "        vertical-align: top;\n",
       "    }\n",
       "\n",
       "    .dataframe thead th {\n",
       "        text-align: right;\n",
       "    }\n",
       "</style>\n",
       "<table border=\"1\" class=\"dataframe\">\n",
       "  <thead>\n",
       "    <tr style=\"text-align: right;\">\n",
       "      <th></th>\n",
       "      <th>drug_id</th>\n",
       "      <th>drug_name</th>\n",
       "    </tr>\n",
       "  </thead>\n",
       "  <tbody>\n",
       "    <tr>\n",
       "      <th>0</th>\n",
       "      <td>7</td>\n",
       "      <td>Biologic-Y</td>\n",
       "    </tr>\n",
       "    <tr>\n",
       "      <th>1</th>\n",
       "      <td>8</td>\n",
       "      <td>Smallitol</td>\n",
       "    </tr>\n",
       "    <tr>\n",
       "      <th>2</th>\n",
       "      <td>9</td>\n",
       "      <td>Topicalin</td>\n",
       "    </tr>\n",
       "    <tr>\n",
       "      <th>3</th>\n",
       "      <td>10</td>\n",
       "      <td>Biologic-Z</td>\n",
       "    </tr>\n",
       "  </tbody>\n",
       "</table>\n",
       "</div>"
      ],
      "text/plain": [
       "   drug_id   drug_name\n",
       "0        7  Biologic-Y\n",
       "1        8   Smallitol\n",
       "2        9   Topicalin\n",
       "3       10  Biologic-Z"
      ]
     },
     "execution_count": 107,
     "metadata": {},
     "output_type": "execute_result"
    }
   ],
   "source": [
    "query = \"\"\"\n",
    "SELECT d.drug_id, d.drug_name \n",
    "FROM drugs AS d \n",
    "LEFT JOIN treatments AS t ON d.drug_id = t.drug_id \n",
    "WHERE t.drug_id IS NULL;\n",
    "\"\"\"\n",
    "\n",
    "sql_output = pd.read_sql_query(query, connection)\n",
    "sql_output"
   ]
  },
  {
   "cell_type": "markdown",
   "metadata": {},
   "source": [
    "PyDoudh:"
   ]
  },
  {
   "cell_type": "code",
   "execution_count": 111,
   "metadata": {},
   "outputs": [
    {
     "data": {
      "text/html": [
       "<div>\n",
       "<style scoped>\n",
       "    .dataframe tbody tr th:only-of-type {\n",
       "        vertical-align: middle;\n",
       "    }\n",
       "\n",
       "    .dataframe tbody tr th {\n",
       "        vertical-align: top;\n",
       "    }\n",
       "\n",
       "    .dataframe thead th {\n",
       "        text-align: right;\n",
       "    }\n",
       "</style>\n",
       "<table border=\"1\" class=\"dataframe\">\n",
       "  <thead>\n",
       "    <tr style=\"text-align: right;\">\n",
       "      <th></th>\n",
       "      <th>drug_id</th>\n",
       "      <th>drug_name</th>\n",
       "    </tr>\n",
       "  </thead>\n",
       "  <tbody>\n",
       "    <tr>\n",
       "      <th>0</th>\n",
       "      <td>7</td>\n",
       "      <td>Biologic-Y</td>\n",
       "    </tr>\n",
       "    <tr>\n",
       "      <th>1</th>\n",
       "      <td>8</td>\n",
       "      <td>Smallitol</td>\n",
       "    </tr>\n",
       "    <tr>\n",
       "      <th>2</th>\n",
       "      <td>9</td>\n",
       "      <td>Topicalin</td>\n",
       "    </tr>\n",
       "    <tr>\n",
       "      <th>3</th>\n",
       "      <td>10</td>\n",
       "      <td>Biologic-Z</td>\n",
       "    </tr>\n",
       "  </tbody>\n",
       "</table>\n",
       "</div>"
      ],
      "text/plain": [
       "   drug_id   drug_name\n",
       "0        7  Biologic-Y\n",
       "1        8   Smallitol\n",
       "2        9   Topicalin\n",
       "3       10  Biologic-Z"
      ]
     },
     "execution_count": 111,
     "metadata": {},
     "output_type": "execute_result"
    }
   ],
   "source": [
    "%%pydough\n",
    "\n",
    "output = Drugs(drug_id, drug_name).WHERE(HASNOT(treatments_used_in))\n",
    "\n",
    "pydough_output = pydough.to_df(output)\n",
    "pydough_output"
   ]
  },
  {
   "cell_type": "markdown",
   "metadata": {},
   "source": [
    "Now we are going to compare the results in SQL and PyDough:"
   ]
  },
  {
   "cell_type": "code",
   "execution_count": 110,
   "metadata": {},
   "outputs": [
    {
     "data": {
      "text/plain": [
       "True"
      ]
     },
     "execution_count": 110,
     "metadata": {},
     "output_type": "execute_result"
    }
   ],
   "source": [
    "dfcompare.compare_df(pydough_output, sql_output, query_category=\"basic_left_join\", \n",
    "                     question=\"Return the drug IDs and names of drugs that have not been used in any treatments.\")"
   ]
  },
  {
   "cell_type": "markdown",
   "metadata": {},
   "source": [
    "## Query 21\n",
    "\n",
    "Return the patient IDs, first names and last names of patients who have not received any treatments.\n",
    "\n",
    "SQL:"
   ]
  },
  {
   "cell_type": "code",
   "execution_count": 112,
   "metadata": {},
   "outputs": [
    {
     "data": {
      "text/html": [
       "<div>\n",
       "<style scoped>\n",
       "    .dataframe tbody tr th:only-of-type {\n",
       "        vertical-align: middle;\n",
       "    }\n",
       "\n",
       "    .dataframe tbody tr th {\n",
       "        vertical-align: top;\n",
       "    }\n",
       "\n",
       "    .dataframe thead th {\n",
       "        text-align: right;\n",
       "    }\n",
       "</style>\n",
       "<table border=\"1\" class=\"dataframe\">\n",
       "  <thead>\n",
       "    <tr style=\"text-align: right;\">\n",
       "      <th></th>\n",
       "      <th>patient_id</th>\n",
       "      <th>first_name</th>\n",
       "      <th>last_name</th>\n",
       "    </tr>\n",
       "  </thead>\n",
       "  <tbody>\n",
       "    <tr>\n",
       "      <th>0</th>\n",
       "      <td>8</td>\n",
       "      <td>Hannah</td>\n",
       "      <td>Garcia</td>\n",
       "    </tr>\n",
       "    <tr>\n",
       "      <th>1</th>\n",
       "      <td>11</td>\n",
       "      <td>Kelly</td>\n",
       "      <td>Smith</td>\n",
       "    </tr>\n",
       "  </tbody>\n",
       "</table>\n",
       "</div>"
      ],
      "text/plain": [
       "   patient_id first_name last_name\n",
       "0           8     Hannah    Garcia\n",
       "1          11      Kelly     Smith"
      ]
     },
     "execution_count": 112,
     "metadata": {},
     "output_type": "execute_result"
    }
   ],
   "source": [
    "query = \"\"\"\n",
    "SELECT p.patient_id, p.first_name, p.last_name \n",
    "FROM patients AS p \n",
    "LEFT JOIN treatments AS t ON p.patient_id = t.patient_id \n",
    "WHERE t.patient_id IS NULL;\n",
    "\"\"\"\n",
    "\n",
    "sql_output = pd.read_sql_query(query, connection)\n",
    "sql_output"
   ]
  },
  {
   "cell_type": "markdown",
   "metadata": {},
   "source": [
    "PyDough:"
   ]
  },
  {
   "cell_type": "code",
   "execution_count": 116,
   "metadata": {},
   "outputs": [
    {
     "data": {
      "text/html": [
       "<div>\n",
       "<style scoped>\n",
       "    .dataframe tbody tr th:only-of-type {\n",
       "        vertical-align: middle;\n",
       "    }\n",
       "\n",
       "    .dataframe tbody tr th {\n",
       "        vertical-align: top;\n",
       "    }\n",
       "\n",
       "    .dataframe thead th {\n",
       "        text-align: right;\n",
       "    }\n",
       "</style>\n",
       "<table border=\"1\" class=\"dataframe\">\n",
       "  <thead>\n",
       "    <tr style=\"text-align: right;\">\n",
       "      <th></th>\n",
       "      <th>patient_id</th>\n",
       "      <th>first_name</th>\n",
       "      <th>last_name</th>\n",
       "    </tr>\n",
       "  </thead>\n",
       "  <tbody>\n",
       "    <tr>\n",
       "      <th>0</th>\n",
       "      <td>8</td>\n",
       "      <td>Hannah</td>\n",
       "      <td>Garcia</td>\n",
       "    </tr>\n",
       "    <tr>\n",
       "      <th>1</th>\n",
       "      <td>11</td>\n",
       "      <td>Kelly</td>\n",
       "      <td>Smith</td>\n",
       "    </tr>\n",
       "  </tbody>\n",
       "</table>\n",
       "</div>"
      ],
      "text/plain": [
       "   patient_id first_name last_name\n",
       "0           8     Hannah    Garcia\n",
       "1          11      Kelly     Smith"
      ]
     },
     "execution_count": 116,
     "metadata": {},
     "output_type": "execute_result"
    }
   ],
   "source": [
    "%%pydough\n",
    "output = Patients(patient_id, first_name, last_name).WHERE(HASNOT(treatments_received))\n",
    "\n",
    "pydough_output = pydough.to_df(output)\n",
    "pydough_output"
   ]
  },
  {
   "cell_type": "markdown",
   "metadata": {},
   "source": [
    "Now we are going to compare the results in SQL and PyDough:"
   ]
  },
  {
   "cell_type": "code",
   "execution_count": 115,
   "metadata": {},
   "outputs": [
    {
     "data": {
      "text/plain": [
       "True"
      ]
     },
     "execution_count": 115,
     "metadata": {},
     "output_type": "execute_result"
    }
   ],
   "source": [
    "dfcompare.compare_df(pydough_output, sql_output, query_category=\"basic_left_join\", \n",
    "                     question=\"Return the patient IDs, first names and last names of patients who have not received any treatments.\")"
   ]
  },
  {
   "cell_type": "markdown",
   "metadata": {},
   "source": [
    "## Query 22\n",
    "\n",
    "What are the top 2 specialties by number of doctors? Return the specialty and number of doctors.\n",
    "\n",
    "SQL:"
   ]
  },
  {
   "cell_type": "code",
   "execution_count": 118,
   "metadata": {},
   "outputs": [
    {
     "data": {
      "text/html": [
       "<div>\n",
       "<style scoped>\n",
       "    .dataframe tbody tr th:only-of-type {\n",
       "        vertical-align: middle;\n",
       "    }\n",
       "\n",
       "    .dataframe tbody tr th {\n",
       "        vertical-align: top;\n",
       "    }\n",
       "\n",
       "    .dataframe thead th {\n",
       "        text-align: right;\n",
       "    }\n",
       "</style>\n",
       "<table border=\"1\" class=\"dataframe\">\n",
       "  <thead>\n",
       "    <tr style=\"text-align: right;\">\n",
       "      <th></th>\n",
       "      <th>specialty</th>\n",
       "      <th>num_doctors</th>\n",
       "    </tr>\n",
       "  </thead>\n",
       "  <tbody>\n",
       "    <tr>\n",
       "      <th>0</th>\n",
       "      <td>dermatology</td>\n",
       "      <td>4</td>\n",
       "    </tr>\n",
       "    <tr>\n",
       "      <th>1</th>\n",
       "      <td>immunology</td>\n",
       "      <td>3</td>\n",
       "    </tr>\n",
       "  </tbody>\n",
       "</table>\n",
       "</div>"
      ],
      "text/plain": [
       "     specialty  num_doctors\n",
       "0  dermatology            4\n",
       "1   immunology            3"
      ]
     },
     "execution_count": 118,
     "metadata": {},
     "output_type": "execute_result"
    }
   ],
   "source": [
    "query = \"\"\"\n",
    "SELECT \n",
    "    specialty, \n",
    "    COUNT(*) AS num_doctors \n",
    "FROM \n",
    "    doctors \n",
    "GROUP BY \n",
    "    specialty \n",
    "ORDER BY \n",
    "    CASE \n",
    "        WHEN COUNT(*) IS NULL THEN 1 \n",
    "        ELSE 0 \n",
    "    END DESC, \n",
    "    num_doctors DESC \n",
    "LIMIT 2;\n",
    "\"\"\"\n",
    "\n",
    "sql_output = pd.read_sql_query(query, connection)\n",
    "sql_output\n"
   ]
  },
  {
   "cell_type": "markdown",
   "metadata": {},
   "source": [
    "PyDough:"
   ]
  },
  {
   "cell_type": "code",
   "execution_count": 121,
   "metadata": {},
   "outputs": [
    {
     "data": {
      "text/html": [
       "<div>\n",
       "<style scoped>\n",
       "    .dataframe tbody tr th:only-of-type {\n",
       "        vertical-align: middle;\n",
       "    }\n",
       "\n",
       "    .dataframe tbody tr th {\n",
       "        vertical-align: top;\n",
       "    }\n",
       "\n",
       "    .dataframe thead th {\n",
       "        text-align: right;\n",
       "    }\n",
       "</style>\n",
       "<table border=\"1\" class=\"dataframe\">\n",
       "  <thead>\n",
       "    <tr style=\"text-align: right;\">\n",
       "      <th></th>\n",
       "      <th>specialty</th>\n",
       "      <th>num_doctors</th>\n",
       "    </tr>\n",
       "  </thead>\n",
       "  <tbody>\n",
       "    <tr>\n",
       "      <th>0</th>\n",
       "      <td>dermatology</td>\n",
       "      <td>4</td>\n",
       "    </tr>\n",
       "    <tr>\n",
       "      <th>1</th>\n",
       "      <td>immunology</td>\n",
       "      <td>3</td>\n",
       "    </tr>\n",
       "  </tbody>\n",
       "</table>\n",
       "</div>"
      ],
      "text/plain": [
       "     specialty  num_doctors\n",
       "0  dermatology            4\n",
       "1   immunology            3"
      ]
     },
     "execution_count": 121,
     "metadata": {},
     "output_type": "execute_result"
    }
   ],
   "source": [
    "%%pydough\n",
    "\n",
    "output = PARTITION(Doctors, name=\"part\", by=speciality)(\n",
    "    specialty=speciality,\n",
    "    num_doctors=COUNT(part.doc_id)\n",
    ").TOP_K(2, by=num_doctors.DESC())\n",
    "\n",
    "pydough_output = pydough.to_df(output)\n",
    "pydough_output"
   ]
  },
  {
   "cell_type": "markdown",
   "metadata": {},
   "source": [
    "Now we are going to compare the results in SQL and PyDough:"
   ]
  },
  {
   "cell_type": "code",
   "execution_count": 120,
   "metadata": {},
   "outputs": [
    {
     "data": {
      "text/plain": [
       "True"
      ]
     },
     "execution_count": 120,
     "metadata": {},
     "output_type": "execute_result"
    }
   ],
   "source": [
    "dfcompare.compare_df(pydough_output, sql_output, query_category=\"basic_group_order_limit\", \n",
    "                     question=\"What are the top 2 specialties by number of doctors? Return the specialty and number of doctors.\")"
   ]
  },
  {
   "cell_type": "markdown",
   "metadata": {},
   "source": [
    "## Query 23\n",
    "\n",
    "What are the top 3 diagnoses by maximum itch VAS score at day 100 and number of distinct patients? Return the diagnosis name, number of patients, and maximum itch score.\n",
    "\n",
    "SQL:"
   ]
  },
  {
   "cell_type": "code",
   "execution_count": 122,
   "metadata": {},
   "outputs": [
    {
     "data": {
      "text/html": [
       "<div>\n",
       "<style scoped>\n",
       "    .dataframe tbody tr th:only-of-type {\n",
       "        vertical-align: middle;\n",
       "    }\n",
       "\n",
       "    .dataframe tbody tr th {\n",
       "        vertical-align: top;\n",
       "    }\n",
       "\n",
       "    .dataframe thead th {\n",
       "        text-align: right;\n",
       "    }\n",
       "</style>\n",
       "<table border=\"1\" class=\"dataframe\">\n",
       "  <thead>\n",
       "    <tr style=\"text-align: right;\">\n",
       "      <th></th>\n",
       "      <th>diag_name</th>\n",
       "      <th>num_patients</th>\n",
       "      <th>max_itch_score</th>\n",
       "    </tr>\n",
       "  </thead>\n",
       "  <tbody>\n",
       "    <tr>\n",
       "      <th>0</th>\n",
       "      <td>Other psoriatic arthropathy</td>\n",
       "      <td>1</td>\n",
       "      <td>70</td>\n",
       "    </tr>\n",
       "    <tr>\n",
       "      <th>1</th>\n",
       "      <td>Psoriasis vulgaris</td>\n",
       "      <td>3</td>\n",
       "      <td>40</td>\n",
       "    </tr>\n",
       "    <tr>\n",
       "      <th>2</th>\n",
       "      <td>Other psoriasis</td>\n",
       "      <td>2</td>\n",
       "      <td>40</td>\n",
       "    </tr>\n",
       "  </tbody>\n",
       "</table>\n",
       "</div>"
      ],
      "text/plain": [
       "                     diag_name  num_patients  max_itch_score\n",
       "0  Other psoriatic arthropathy             1              70\n",
       "1           Psoriasis vulgaris             3              40\n",
       "2              Other psoriasis             2              40"
      ]
     },
     "execution_count": 122,
     "metadata": {},
     "output_type": "execute_result"
    }
   ],
   "source": [
    "query = \"\"\"\n",
    "SELECT \n",
    "    di.diag_name, \n",
    "    COUNT(DISTINCT t.patient_id) AS num_patients, \n",
    "    MAX(o.day100_itch_vas) AS max_itch_score\n",
    "FROM \n",
    "    treatments AS t\n",
    "JOIN \n",
    "    diagnoses AS di \n",
    "    ON t.diag_id = di.diag_id\n",
    "JOIN \n",
    "    outcomes AS o \n",
    "    ON t.treatment_id = o.treatment_id\n",
    "GROUP BY \n",
    "    di.diag_name\n",
    "ORDER BY \n",
    "    CASE \n",
    "        WHEN max_itch_score IS NULL THEN 1 \n",
    "        ELSE 0 \n",
    "    END DESC, \n",
    "    max_itch_score DESC, \n",
    "    CASE \n",
    "        WHEN num_patients IS NULL THEN 1 \n",
    "        ELSE 0 \n",
    "    END DESC, \n",
    "    num_patients DESC\n",
    "LIMIT 3;\n",
    "\"\"\"\n",
    "\n",
    "sql_output = pd.read_sql_query(query, connection)\n",
    "sql_output"
   ]
  },
  {
   "cell_type": "markdown",
   "metadata": {},
   "source": [
    "PyDough:"
   ]
  },
  {
   "cell_type": "code",
   "execution_count": 124,
   "metadata": {},
   "outputs": [
    {
     "data": {
      "text/html": [
       "<div>\n",
       "<style scoped>\n",
       "    .dataframe tbody tr th:only-of-type {\n",
       "        vertical-align: middle;\n",
       "    }\n",
       "\n",
       "    .dataframe tbody tr th {\n",
       "        vertical-align: top;\n",
       "    }\n",
       "\n",
       "    .dataframe thead th {\n",
       "        text-align: right;\n",
       "    }\n",
       "</style>\n",
       "<table border=\"1\" class=\"dataframe\">\n",
       "  <thead>\n",
       "    <tr style=\"text-align: right;\">\n",
       "      <th></th>\n",
       "      <th>diag_name</th>\n",
       "      <th>num_patients</th>\n",
       "      <th>max_itch_score</th>\n",
       "    </tr>\n",
       "  </thead>\n",
       "  <tbody>\n",
       "    <tr>\n",
       "      <th>0</th>\n",
       "      <td>Other psoriatic arthropathy</td>\n",
       "      <td>1</td>\n",
       "      <td>70</td>\n",
       "    </tr>\n",
       "    <tr>\n",
       "      <th>1</th>\n",
       "      <td>Psoriasis vulgaris</td>\n",
       "      <td>3</td>\n",
       "      <td>40</td>\n",
       "    </tr>\n",
       "    <tr>\n",
       "      <th>2</th>\n",
       "      <td>Other psoriasis</td>\n",
       "      <td>2</td>\n",
       "      <td>40</td>\n",
       "    </tr>\n",
       "  </tbody>\n",
       "</table>\n",
       "</div>"
      ],
      "text/plain": [
       "                     diag_name  num_patients  max_itch_score\n",
       "0  Other psoriatic arthropathy             1              70\n",
       "1           Psoriasis vulgaris             3              40\n",
       "2              Other psoriasis             2              40"
      ]
     },
     "execution_count": 124,
     "metadata": {},
     "output_type": "execute_result"
    }
   ],
   "source": [
    "%%pydough\n",
    "\n",
    "selected_lines = Treatments(diag_name=diagnosis.diag_name).WHERE(HAS(outcome_records))\n",
    "\n",
    "output = PARTITION(selected_lines, name=\"partit\", by=diag_name)(\n",
    "    diag_name=diag_name,\n",
    "    num_patients=NDISTINCT(partit.patient_id),\n",
    "    max_itch_score=MAX(partit.outcome_records.day100_itch_vas)\n",
    ").TOP_K(3, (max_itch_score.DESC(), num_patients.DESC()))\n",
    "\n",
    "pydough_output = pydough.to_df(output)\n",
    "pydough_output"
   ]
  },
  {
   "cell_type": "markdown",
   "metadata": {},
   "source": [
    "Now we are going to compare the results in SQL and PyDough:"
   ]
  },
  {
   "cell_type": "code",
   "execution_count": 125,
   "metadata": {},
   "outputs": [
    {
     "data": {
      "text/plain": [
       "True"
      ]
     },
     "execution_count": 125,
     "metadata": {},
     "output_type": "execute_result"
    }
   ],
   "source": [
    "dfcompare.compare_df(pydough_output, sql_output, query_category=\"basic_join_group_order_limit\", \n",
    "                     question=\"What are the top 3 diagnoses by maximum itch VAS score at day 100 and number of distinct patients? Return the diagnosis name, number of patients, and maximum itch score.\")"
   ]
  },
  {
   "cell_type": "markdown",
   "metadata": {},
   "source": [
    "## Query 24\n",
    "\n",
    "What are the top 3 doctor specialties by total drug amount prescribed for treatments started in the past 6 calendar months? Return the specialty, number of treatments, and total drug amount.\n",
    "\n",
    "SQL:"
   ]
  },
  {
   "cell_type": "code",
   "execution_count": 129,
   "metadata": {},
   "outputs": [
    {
     "data": {
      "text/html": [
       "<div>\n",
       "<style scoped>\n",
       "    .dataframe tbody tr th:only-of-type {\n",
       "        vertical-align: middle;\n",
       "    }\n",
       "\n",
       "    .dataframe tbody tr th {\n",
       "        vertical-align: top;\n",
       "    }\n",
       "\n",
       "    .dataframe thead th {\n",
       "        text-align: right;\n",
       "    }\n",
       "</style>\n",
       "<table border=\"1\" class=\"dataframe\">\n",
       "  <thead>\n",
       "    <tr style=\"text-align: right;\">\n",
       "      <th></th>\n",
       "      <th>specialty</th>\n",
       "      <th>num_treatments</th>\n",
       "      <th>total_drug_amt</th>\n",
       "    </tr>\n",
       "  </thead>\n",
       "  <tbody>\n",
       "    <tr>\n",
       "      <th>0</th>\n",
       "      <td>immunology</td>\n",
       "      <td>3</td>\n",
       "      <td>580.000000</td>\n",
       "    </tr>\n",
       "    <tr>\n",
       "      <th>1</th>\n",
       "      <td>dermatology</td>\n",
       "      <td>3</td>\n",
       "      <td>450.000000</td>\n",
       "    </tr>\n",
       "    <tr>\n",
       "      <th>2</th>\n",
       "      <td>general</td>\n",
       "      <td>1</td>\n",
       "      <td>300.000000</td>\n",
       "    </tr>\n",
       "  </tbody>\n",
       "</table>\n",
       "</div>"
      ],
      "text/plain": [
       "     specialty  num_treatments  total_drug_amt\n",
       "0   immunology               3      580.000000\n",
       "1  dermatology               3      450.000000\n",
       "2      general               1      300.000000"
      ]
     },
     "execution_count": 129,
     "metadata": {},
     "output_type": "execute_result"
    }
   ],
   "source": [
    "query = \"\"\"\n",
    "SELECT \n",
    "    d.specialty, \n",
    "    COUNT(*) AS num_treatments, \n",
    "    SUM(t.tot_drug_amt) AS total_drug_amt \n",
    "FROM \n",
    "    treatments AS t \n",
    "JOIN \n",
    "    doctors AS d \n",
    "ON \n",
    "    t.doc_id = d.doc_id \n",
    "WHERE \n",
    "    t.start_dt >= DATE('now', '-6 months') \n",
    "GROUP BY \n",
    "    d.specialty \n",
    "ORDER BY \n",
    "    total_drug_amt DESC \n",
    "LIMIT 3;\n",
    "\n",
    "\"\"\"\n",
    "\n",
    "sql_output = pd.read_sql_query(query, connection)\n",
    "sql_output"
   ]
  },
  {
   "cell_type": "markdown",
   "metadata": {},
   "source": [
    "In PyDough we do not have a method DATE('now', '-6 months') to return the date. Then we take 2025-02-07 (current day when it was made) as \"now\" to calculate the date if we go 6 months in the past. This would be: \"2024-08-07\"\n",
    "\n",
    "PyDough:"
   ]
  },
  {
   "cell_type": "code",
   "execution_count": 128,
   "metadata": {},
   "outputs": [
    {
     "data": {
      "text/html": [
       "<div>\n",
       "<style scoped>\n",
       "    .dataframe tbody tr th:only-of-type {\n",
       "        vertical-align: middle;\n",
       "    }\n",
       "\n",
       "    .dataframe tbody tr th {\n",
       "        vertical-align: top;\n",
       "    }\n",
       "\n",
       "    .dataframe thead th {\n",
       "        text-align: right;\n",
       "    }\n",
       "</style>\n",
       "<table border=\"1\" class=\"dataframe\">\n",
       "  <thead>\n",
       "    <tr style=\"text-align: right;\">\n",
       "      <th></th>\n",
       "      <th>speciality</th>\n",
       "      <th>num_treatments</th>\n",
       "      <th>total_drug_amt</th>\n",
       "    </tr>\n",
       "  </thead>\n",
       "  <tbody>\n",
       "    <tr>\n",
       "      <th>0</th>\n",
       "      <td>immunology</td>\n",
       "      <td>3</td>\n",
       "      <td>580.000000</td>\n",
       "    </tr>\n",
       "    <tr>\n",
       "      <th>1</th>\n",
       "      <td>dermatology</td>\n",
       "      <td>3</td>\n",
       "      <td>450.000000</td>\n",
       "    </tr>\n",
       "    <tr>\n",
       "      <th>2</th>\n",
       "      <td>general</td>\n",
       "      <td>1</td>\n",
       "      <td>300.000000</td>\n",
       "    </tr>\n",
       "  </tbody>\n",
       "</table>\n",
       "</div>"
      ],
      "text/plain": [
       "    speciality  num_treatments  total_drug_amt\n",
       "0   immunology               3      580.000000\n",
       "1  dermatology               3      450.000000\n",
       "2      general               1      300.000000"
      ]
     },
     "execution_count": 128,
     "metadata": {},
     "output_type": "execute_result"
    }
   ],
   "source": [
    "%%pydough\n",
    "# In PyDough we do not have a method DATE('now', '-6 months') to return the date. \n",
    "# Then we take 2025-02-07 (current day when it was made) as \"now\" to calculate the date if we go 6 months in the past. \n",
    "# This would be: \"2024-08-07\"\n",
    "\n",
    "selected_treatments = Treatments(speciality=doctor.speciality).WHERE(start_dt >= \"2024-08-07\")\n",
    "\n",
    "output = PARTITION(selected_treatments, name=\"part\", by=speciality)(\n",
    "    speciality=speciality,\n",
    "    num_treatments= COUNT(part),\n",
    "    total_drug_amt=SUM(part.tot_drug_amt)\n",
    ").TOP_K(3, by=total_drug_amt.DESC())\n",
    "\n",
    "pydough_output = pydough.to_df(output)\n",
    "pydough_output"
   ]
  },
  {
   "cell_type": "markdown",
   "metadata": {},
   "source": [
    "Now we are going to compare the results in SQL and PyDough:"
   ]
  },
  {
   "cell_type": "code",
   "execution_count": 130,
   "metadata": {},
   "outputs": [
    {
     "data": {
      "text/plain": [
       "True"
      ]
     },
     "execution_count": 130,
     "metadata": {},
     "output_type": "execute_result"
    }
   ],
   "source": [
    "dfcompare.compare_df(pydough_output, sql_output, query_category=\"basic_join_date_group_order_limit\", \n",
    "                     question=\"What are the top 3 doctor specialties by total drug amount prescribed for treatments started in the past 6 calendar months? Return the specialty, number of treatments, and total drug amount.\")"
   ]
  },
  {
   "cell_type": "markdown",
   "metadata": {},
   "source": [
    "## Query 25\n",
    "\n",
    "What are the top 3 insurance types by average patient height in cm? Return the insurance type, average height and average weight.\n",
    "\n",
    "SQL:"
   ]
  },
  {
   "cell_type": "code",
   "execution_count": 131,
   "metadata": {},
   "outputs": [
    {
     "data": {
      "text/html": [
       "<div>\n",
       "<style scoped>\n",
       "    .dataframe tbody tr th:only-of-type {\n",
       "        vertical-align: middle;\n",
       "    }\n",
       "\n",
       "    .dataframe tbody tr th {\n",
       "        vertical-align: top;\n",
       "    }\n",
       "\n",
       "    .dataframe thead th {\n",
       "        text-align: right;\n",
       "    }\n",
       "</style>\n",
       "<table border=\"1\" class=\"dataframe\">\n",
       "  <thead>\n",
       "    <tr style=\"text-align: right;\">\n",
       "      <th></th>\n",
       "      <th>ins_type</th>\n",
       "      <th>avg_height</th>\n",
       "      <th>avg_weight</th>\n",
       "    </tr>\n",
       "  </thead>\n",
       "  <tbody>\n",
       "    <tr>\n",
       "      <th>0</th>\n",
       "      <td>medicaid</td>\n",
       "      <td>176.500000</td>\n",
       "      <td>80.000000</td>\n",
       "    </tr>\n",
       "    <tr>\n",
       "      <th>1</th>\n",
       "      <td>medicare</td>\n",
       "      <td>171.666667</td>\n",
       "      <td>71.000000</td>\n",
       "    </tr>\n",
       "    <tr>\n",
       "      <th>2</th>\n",
       "      <td>private</td>\n",
       "      <td>169.600000</td>\n",
       "      <td>67.800000</td>\n",
       "    </tr>\n",
       "  </tbody>\n",
       "</table>\n",
       "</div>"
      ],
      "text/plain": [
       "   ins_type  avg_height  avg_weight\n",
       "0  medicaid  176.500000   80.000000\n",
       "1  medicare  171.666667   71.000000\n",
       "2   private  169.600000   67.800000"
      ]
     },
     "execution_count": 131,
     "metadata": {},
     "output_type": "execute_result"
    }
   ],
   "source": [
    "query = \"\"\"\n",
    "SELECT \n",
    "    ins_type, \n",
    "    AVG(height_cm) AS avg_height, \n",
    "    AVG(weight_kg) AS avg_weight \n",
    "FROM \n",
    "    patients \n",
    "GROUP BY \n",
    "    ins_type \n",
    "ORDER BY \n",
    "    CASE \n",
    "        WHEN AVG(height_cm) IS NULL THEN 1 \n",
    "        ELSE 0 \n",
    "    END DESC, \n",
    "    avg_height DESC \n",
    "LIMIT 3;\n",
    "\"\"\"\n",
    "\n",
    "sql_output = pd.read_sql_query(query, connection)\n",
    "sql_output"
   ]
  },
  {
   "cell_type": "markdown",
   "metadata": {},
   "source": [
    "PyDough:"
   ]
  },
  {
   "cell_type": "code",
   "execution_count": 133,
   "metadata": {},
   "outputs": [
    {
     "data": {
      "text/html": [
       "<div>\n",
       "<style scoped>\n",
       "    .dataframe tbody tr th:only-of-type {\n",
       "        vertical-align: middle;\n",
       "    }\n",
       "\n",
       "    .dataframe tbody tr th {\n",
       "        vertical-align: top;\n",
       "    }\n",
       "\n",
       "    .dataframe thead th {\n",
       "        text-align: right;\n",
       "    }\n",
       "</style>\n",
       "<table border=\"1\" class=\"dataframe\">\n",
       "  <thead>\n",
       "    <tr style=\"text-align: right;\">\n",
       "      <th></th>\n",
       "      <th>ins_type</th>\n",
       "      <th>avg_height</th>\n",
       "      <th>avg_weight</th>\n",
       "    </tr>\n",
       "  </thead>\n",
       "  <tbody>\n",
       "    <tr>\n",
       "      <th>0</th>\n",
       "      <td>medicaid</td>\n",
       "      <td>176.500000</td>\n",
       "      <td>80.000000</td>\n",
       "    </tr>\n",
       "    <tr>\n",
       "      <th>1</th>\n",
       "      <td>medicare</td>\n",
       "      <td>171.666667</td>\n",
       "      <td>71.000000</td>\n",
       "    </tr>\n",
       "    <tr>\n",
       "      <th>2</th>\n",
       "      <td>private</td>\n",
       "      <td>169.600000</td>\n",
       "      <td>67.800000</td>\n",
       "    </tr>\n",
       "  </tbody>\n",
       "</table>\n",
       "</div>"
      ],
      "text/plain": [
       "   ins_type  avg_height  avg_weight\n",
       "0  medicaid  176.500000   80.000000\n",
       "1  medicare  171.666667   71.000000\n",
       "2   private  169.600000   67.800000"
      ]
     },
     "execution_count": 133,
     "metadata": {},
     "output_type": "execute_result"
    }
   ],
   "source": [
    "%%pydough\n",
    "output = PARTITION(Patients, name=\"par\", by=ins_type)(\n",
    "    ins_type,\n",
    "    avg_height=AVG(par.height_cm),\n",
    "    avg_weight=AVG(par.weight_kg)\n",
    ").TOP_K(3, by=ins_type.ASC())\n",
    "\n",
    "pydough_output = pydough.to_df(output)\n",
    "pydough_output"
   ]
  },
  {
   "cell_type": "markdown",
   "metadata": {},
   "source": [
    "Now we are going to compare the results in SQL and PyDough:"
   ]
  },
  {
   "cell_type": "code",
   "execution_count": 77,
   "metadata": {},
   "outputs": [
    {
     "data": {
      "text/plain": [
       "True"
      ]
     },
     "execution_count": 77,
     "metadata": {},
     "output_type": "execute_result"
    }
   ],
   "source": [
    "dfcompare.compare_df(pydough_output, sql_output, query_category=\"basic_group_order_limit\", \n",
    "                     question=\"What are the top 3 insurance types by average patient height in cm? Return the insurance type, average height and average weight.)\")"
   ]
  },
  {
   "cell_type": "markdown",
   "metadata": {},
   "source": [
    "## Query 26\n",
    "\n",
    "What are the top 5 drugs by number of treatments and average drug amount per treatment? Return the drug name, number of treatments, and average drug amount.\n",
    "\n",
    "SQL:"
   ]
  },
  {
   "cell_type": "code",
   "execution_count": 78,
   "metadata": {},
   "outputs": [
    {
     "data": {
      "text/html": [
       "<div>\n",
       "<style scoped>\n",
       "    .dataframe tbody tr th:only-of-type {\n",
       "        vertical-align: middle;\n",
       "    }\n",
       "\n",
       "    .dataframe tbody tr th {\n",
       "        vertical-align: top;\n",
       "    }\n",
       "\n",
       "    .dataframe thead th {\n",
       "        text-align: right;\n",
       "    }\n",
       "</style>\n",
       "<table border=\"1\" class=\"dataframe\">\n",
       "  <thead>\n",
       "    <tr style=\"text-align: right;\">\n",
       "      <th></th>\n",
       "      <th>drug_name</th>\n",
       "      <th>num_treatments</th>\n",
       "      <th>avg_drug_amt</th>\n",
       "    </tr>\n",
       "  </thead>\n",
       "  <tbody>\n",
       "    <tr>\n",
       "      <th>0</th>\n",
       "      <td>Drugalin</td>\n",
       "      <td>6</td>\n",
       "      <td>206.666667</td>\n",
       "    </tr>\n",
       "    <tr>\n",
       "      <th>1</th>\n",
       "      <td>Medicol</td>\n",
       "      <td>6</td>\n",
       "      <td>178.333333</td>\n",
       "    </tr>\n",
       "    <tr>\n",
       "      <th>2</th>\n",
       "      <td>Topizol</td>\n",
       "      <td>4</td>\n",
       "      <td>307.500000</td>\n",
       "    </tr>\n",
       "    <tr>\n",
       "      <th>3</th>\n",
       "      <td>Biologic-X</td>\n",
       "      <td>4</td>\n",
       "      <td>150.000000</td>\n",
       "    </tr>\n",
       "    <tr>\n",
       "      <th>4</th>\n",
       "      <td>Topicort</td>\n",
       "      <td>3</td>\n",
       "      <td>580.000000</td>\n",
       "    </tr>\n",
       "  </tbody>\n",
       "</table>\n",
       "</div>"
      ],
      "text/plain": [
       "    drug_name  num_treatments  avg_drug_amt\n",
       "0    Drugalin               6    206.666667\n",
       "1     Medicol               6    178.333333\n",
       "2     Topizol               4    307.500000\n",
       "3  Biologic-X               4    150.000000\n",
       "4    Topicort               3    580.000000"
      ]
     },
     "execution_count": 78,
     "metadata": {},
     "output_type": "execute_result"
    }
   ],
   "source": [
    "query = \"\"\"\n",
    "SELECT \n",
    "    d.drug_name, \n",
    "    COUNT(*) AS num_treatments, \n",
    "    AVG(t.tot_drug_amt) AS avg_drug_amt\n",
    "FROM \n",
    "    treatments AS t\n",
    "JOIN \n",
    "    drugs AS d \n",
    "    ON t.drug_id = d.drug_id\n",
    "GROUP BY \n",
    "    d.drug_name\n",
    "ORDER BY \n",
    "    CASE \n",
    "        WHEN num_treatments IS NULL THEN 1 \n",
    "        ELSE 0 \n",
    "    END DESC, \n",
    "    num_treatments DESC, \n",
    "    CASE \n",
    "        WHEN avg_drug_amt IS NULL THEN 1 \n",
    "        ELSE 0 \n",
    "    END DESC, \n",
    "    avg_drug_amt DESC\n",
    "LIMIT 5;\n",
    "\"\"\"\n",
    "\n",
    "sql_output = pd.read_sql_query(query, connection)\n",
    "sql_output"
   ]
  },
  {
   "cell_type": "markdown",
   "metadata": {},
   "source": [
    "PyDpugh:"
   ]
  },
  {
   "cell_type": "code",
   "execution_count": 134,
   "metadata": {},
   "outputs": [
    {
     "data": {
      "text/html": [
       "<div>\n",
       "<style scoped>\n",
       "    .dataframe tbody tr th:only-of-type {\n",
       "        vertical-align: middle;\n",
       "    }\n",
       "\n",
       "    .dataframe tbody tr th {\n",
       "        vertical-align: top;\n",
       "    }\n",
       "\n",
       "    .dataframe thead th {\n",
       "        text-align: right;\n",
       "    }\n",
       "</style>\n",
       "<table border=\"1\" class=\"dataframe\">\n",
       "  <thead>\n",
       "    <tr style=\"text-align: right;\">\n",
       "      <th></th>\n",
       "      <th>drug_name</th>\n",
       "      <th>num_treatments</th>\n",
       "      <th>tot_drug_amt</th>\n",
       "    </tr>\n",
       "  </thead>\n",
       "  <tbody>\n",
       "    <tr>\n",
       "      <th>0</th>\n",
       "      <td>Drugalin</td>\n",
       "      <td>6</td>\n",
       "      <td>206.666667</td>\n",
       "    </tr>\n",
       "    <tr>\n",
       "      <th>1</th>\n",
       "      <td>Medicol</td>\n",
       "      <td>6</td>\n",
       "      <td>178.333333</td>\n",
       "    </tr>\n",
       "    <tr>\n",
       "      <th>2</th>\n",
       "      <td>Topizol</td>\n",
       "      <td>4</td>\n",
       "      <td>307.500000</td>\n",
       "    </tr>\n",
       "    <tr>\n",
       "      <th>3</th>\n",
       "      <td>Biologic-X</td>\n",
       "      <td>4</td>\n",
       "      <td>150.000000</td>\n",
       "    </tr>\n",
       "    <tr>\n",
       "      <th>4</th>\n",
       "      <td>Topicort</td>\n",
       "      <td>3</td>\n",
       "      <td>580.000000</td>\n",
       "    </tr>\n",
       "  </tbody>\n",
       "</table>\n",
       "</div>"
      ],
      "text/plain": [
       "    drug_name  num_treatments  tot_drug_amt\n",
       "0    Drugalin               6    206.666667\n",
       "1     Medicol               6    178.333333\n",
       "2     Topizol               4    307.500000\n",
       "3  Biologic-X               4    150.000000\n",
       "4    Topicort               3    580.000000"
      ]
     },
     "execution_count": 134,
     "metadata": {},
     "output_type": "execute_result"
    }
   ],
   "source": [
    "%%pydough\n",
    "\n",
    "selected_lines = Treatments(drug_name=drug.drug_name).WHERE(HAS(drug))\n",
    "\n",
    "output = PARTITION(selected_lines, name=\"part\", by=drug_name)(\n",
    "    drug_name=drug_name,\n",
    "    num_treatments=COUNT(part.treatment_id),\n",
    "    tot_drug_amt=AVG(part.tot_drug_amt)\n",
    ").TOP_K(5, (num_treatments.DESC(), tot_drug_amt.DESC()))\n",
    "\n",
    "pydough_output = pydough.to_df(output)\n",
    "pydough_output"
   ]
  },
  {
   "cell_type": "markdown",
   "metadata": {},
   "source": [
    "Now we are going to compare the results in SQL and PyDough:"
   ]
  },
  {
   "cell_type": "code",
   "execution_count": 84,
   "metadata": {},
   "outputs": [
    {
     "data": {
      "text/plain": [
       "True"
      ]
     },
     "execution_count": 84,
     "metadata": {},
     "output_type": "execute_result"
    }
   ],
   "source": [
    "dfcompare.compare_df(pydough_output, sql_output, query_category=\"basic_join_group_order_limit\", \n",
    "                     question=\"What are the top 5 drugs by number of treatments and average drug amount per treatment? Return the drug name, number of treatments, and average drug amount.\")"
   ]
  },
  {
   "cell_type": "markdown",
   "metadata": {},
   "source": [
    "## Query 27\n",
    "\n",
    "How many treatments for diagnoses containing 'psoriasis' (match with wildcards case-insensitively) involve drugs that have been FDA-approved and the treatments have ended within the last 6 months from today?\n",
    "\n",
    "SQL:"
   ]
  },
  {
   "cell_type": "code",
   "execution_count": 48,
   "metadata": {},
   "outputs": [
    {
     "data": {
      "text/html": [
       "<div>\n",
       "<style scoped>\n",
       "    .dataframe tbody tr th:only-of-type {\n",
       "        vertical-align: middle;\n",
       "    }\n",
       "\n",
       "    .dataframe tbody tr th {\n",
       "        vertical-align: top;\n",
       "    }\n",
       "\n",
       "    .dataframe thead th {\n",
       "        text-align: right;\n",
       "    }\n",
       "</style>\n",
       "<table border=\"1\" class=\"dataframe\">\n",
       "  <thead>\n",
       "    <tr style=\"text-align: right;\">\n",
       "      <th></th>\n",
       "      <th>COUNT(*)</th>\n",
       "    </tr>\n",
       "  </thead>\n",
       "  <tbody>\n",
       "    <tr>\n",
       "      <th>0</th>\n",
       "      <td>2</td>\n",
       "    </tr>\n",
       "  </tbody>\n",
       "</table>\n",
       "</div>"
      ],
      "text/plain": [
       "   COUNT(*)\n",
       "0         2"
      ]
     },
     "execution_count": 48,
     "metadata": {},
     "output_type": "execute_result"
    }
   ],
   "source": [
    "query = \"\"\"\n",
    "SELECT \n",
    "    COUNT(*)\n",
    "FROM \n",
    "    treatments AS t\n",
    "JOIN \n",
    "    diagnoses AS d \n",
    "    ON t.diag_id = d.diag_id\n",
    "JOIN \n",
    "    drugs AS dr \n",
    "    ON t.drug_id = dr.drug_id\n",
    "WHERE \n",
    "    d.diag_name LIKE '%psoriasis%'\n",
    "    AND dr.fda_appr_dt IS NOT NULL\n",
    "    AND t.end_dt >= DATE('now', '-6 months');\n",
    "\"\"\"\n",
    "\n",
    "sql_output = pd.read_sql_query(query, connection)\n",
    "sql_output"
   ]
  },
  {
   "cell_type": "markdown",
   "metadata": {},
   "source": [
    "In PyDough we do not have a method DATE('now', '-6 months') to return the date. Then we take 2025-02-07 (current day when it was made) as \"now\" to calculate the date if we go 6 months in the past. This would be: \"2024-08-07\"\n",
    "\n",
    "PyDough:"
   ]
  },
  {
   "cell_type": "code",
   "execution_count": 51,
   "metadata": {},
   "outputs": [
    {
     "data": {
      "text/html": [
       "<div>\n",
       "<style scoped>\n",
       "    .dataframe tbody tr th:only-of-type {\n",
       "        vertical-align: middle;\n",
       "    }\n",
       "\n",
       "    .dataframe tbody tr th {\n",
       "        vertical-align: top;\n",
       "    }\n",
       "\n",
       "    .dataframe thead th {\n",
       "        text-align: right;\n",
       "    }\n",
       "</style>\n",
       "<table border=\"1\" class=\"dataframe\">\n",
       "  <thead>\n",
       "    <tr style=\"text-align: right;\">\n",
       "      <th></th>\n",
       "      <th>COUNT</th>\n",
       "    </tr>\n",
       "  </thead>\n",
       "  <tbody>\n",
       "    <tr>\n",
       "      <th>0</th>\n",
       "      <td>2</td>\n",
       "    </tr>\n",
       "  </tbody>\n",
       "</table>\n",
       "</div>"
      ],
      "text/plain": [
       "   COUNT\n",
       "0      2"
      ]
     },
     "execution_count": 51,
     "metadata": {},
     "output_type": "execute_result"
    }
   ],
   "source": [
    "%%pydough\n",
    "# In PyDough we do not have a method DATE('now', '-6 months') to return the date. \n",
    "# Then we take 2025-02-07 (current day when it was made) as \"now\" to calculate the date if we go 6 months in the past. \n",
    "# This would be: \"2024-08-07\"\n",
    "\n",
    "treatments = Treatments.WHERE(\n",
    "    (end_dt >= \"2024-08-07\") \n",
    "    & LIKE(diagnosis.diag_name,'%psoriasis%')\n",
    "    & PRESENT(drug.fda_appr_dt)\n",
    ")\n",
    "\n",
    "output = DermTreatment(COUNT=COUNT(treatments))\n",
    "\n",
    "pydough_output = pydough.to_df(output)\n",
    "pydough_output"
   ]
  },
  {
   "cell_type": "markdown",
   "metadata": {},
   "source": [
    "Now we are going to compare the results in SQL and PyDough:"
   ]
  },
  {
   "cell_type": "code",
   "execution_count": 52,
   "metadata": {},
   "outputs": [
    {
     "data": {
      "text/plain": [
       "True"
      ]
     },
     "execution_count": 52,
     "metadata": {},
     "output_type": "execute_result"
    }
   ],
   "source": [
    "dfcompare.compare_df(pydough_output, sql_output, query_category=\"date_functions\", \n",
    "                     question=\"How many treatments for diagnoses containing 'psoriasis' (match with wildcards case-insensitively) involve drugs that have been FDA-approved and the treatments have ended within the last 6 months from today?\")"
   ]
  },
  {
   "cell_type": "markdown",
   "metadata": {},
   "source": [
    "## Query 28\n",
    "\n",
    "List the last name, year of registration, and first treatment (date and id) by doctors who were registered 2 years ago.\n",
    "\n",
    "SQL:"
   ]
  },
  {
   "cell_type": "code",
   "execution_count": 63,
   "metadata": {},
   "outputs": [
    {
     "data": {
      "text/html": [
       "<div>\n",
       "<style scoped>\n",
       "    .dataframe tbody tr th:only-of-type {\n",
       "        vertical-align: middle;\n",
       "    }\n",
       "\n",
       "    .dataframe tbody tr th {\n",
       "        vertical-align: top;\n",
       "    }\n",
       "\n",
       "    .dataframe thead th {\n",
       "        text-align: right;\n",
       "    }\n",
       "</style>\n",
       "<table border=\"1\" class=\"dataframe\">\n",
       "  <thead>\n",
       "    <tr style=\"text-align: right;\">\n",
       "      <th></th>\n",
       "      <th>last_name</th>\n",
       "      <th>year_reg</th>\n",
       "      <th>first_treatment_date</th>\n",
       "      <th>first_treatment_id</th>\n",
       "    </tr>\n",
       "  </thead>\n",
       "  <tbody>\n",
       "    <tr>\n",
       "      <th>0</th>\n",
       "      <td>Doe</td>\n",
       "      <td>2023</td>\n",
       "      <td>2022-01-01</td>\n",
       "      <td>1</td>\n",
       "    </tr>\n",
       "    <tr>\n",
       "      <th>1</th>\n",
       "      <td>Smith</td>\n",
       "      <td>2023</td>\n",
       "      <td>2022-02-15</td>\n",
       "      <td>2</td>\n",
       "    </tr>\n",
       "  </tbody>\n",
       "</table>\n",
       "</div>"
      ],
      "text/plain": [
       "  last_name  year_reg first_treatment_date  first_treatment_id\n",
       "0       Doe      2023           2022-01-01                   1\n",
       "1     Smith      2023           2022-02-15                   2"
      ]
     },
     "execution_count": 63,
     "metadata": {},
     "output_type": "execute_result"
    }
   ],
   "source": [
    "query = \"\"\"\n",
    "WITH doc_first_treatment AS (\n",
    "    SELECT \n",
    "        d.doc_id, \n",
    "        d.last_name, \n",
    "        d.year_reg, \n",
    "        t.treatment_id, \n",
    "        t.start_dt, \n",
    "        ROW_NUMBER() OVER (\n",
    "            PARTITION BY d.doc_id \n",
    "            ORDER BY t.start_dt ASC\n",
    "        ) AS rn\n",
    "    FROM \n",
    "        doctors AS d\n",
    "    JOIN \n",
    "        treatments AS t \n",
    "        ON d.doc_id = t.doc_id\n",
    "    WHERE \n",
    "        d.year_reg = strftime('%Y', 'now', '-2 years')\n",
    ")\n",
    "SELECT \n",
    "    last_name, \n",
    "    year_reg, \n",
    "    start_dt AS first_treatment_date, \n",
    "    treatment_id AS first_treatment_id\n",
    "FROM \n",
    "    doc_first_treatment\n",
    "WHERE \n",
    "    rn = 1;\n",
    "\"\"\"\n",
    "\n",
    "df = pd.read_sql_query(query, connection)\n",
    "\n",
    "df"
   ]
  },
  {
   "cell_type": "markdown",
   "metadata": {},
   "source": [
    "PyDough does not support date manipulation. Then, for this context, two years ago is until 2023. \n",
    "\n",
    "PyDough:"
   ]
  },
  {
   "cell_type": "code",
   "execution_count": null,
   "metadata": {},
   "outputs": [],
   "source": []
  },
  {
   "cell_type": "markdown",
   "metadata": {},
   "source": [
    "## Query 29\n",
    "\n",
    "Return the treatment id, treatment start date, adverse event date and description of all adverse events that occured within 10 days after starting treatment\n",
    "\n",
    "SQL:"
   ]
  },
  {
   "cell_type": "code",
   "execution_count": 90,
   "metadata": {},
   "outputs": [
    {
     "data": {
      "text/html": [
       "<div>\n",
       "<style scoped>\n",
       "    .dataframe tbody tr th:only-of-type {\n",
       "        vertical-align: middle;\n",
       "    }\n",
       "\n",
       "    .dataframe tbody tr th {\n",
       "        vertical-align: top;\n",
       "    }\n",
       "\n",
       "    .dataframe thead th {\n",
       "        text-align: right;\n",
       "    }\n",
       "</style>\n",
       "<table border=\"1\" class=\"dataframe\">\n",
       "  <thead>\n",
       "    <tr style=\"text-align: right;\">\n",
       "      <th></th>\n",
       "      <th>treatment_id</th>\n",
       "      <th>start_dt</th>\n",
       "      <th>reported_dt</th>\n",
       "      <th>description</th>\n",
       "    </tr>\n",
       "  </thead>\n",
       "  <tbody>\n",
       "    <tr>\n",
       "      <th>0</th>\n",
       "      <td>4</td>\n",
       "      <td>2022-04-01</td>\n",
       "      <td>2022-04-10</td>\n",
       "      <td>Severe allergic reaction, hospitalization requ...</td>\n",
       "    </tr>\n",
       "    <tr>\n",
       "      <th>1</th>\n",
       "      <td>14</td>\n",
       "      <td>2023-02-01</td>\n",
       "      <td>2023-02-05</td>\n",
       "      <td>Mild skin rash</td>\n",
       "    </tr>\n",
       "  </tbody>\n",
       "</table>\n",
       "</div>"
      ],
      "text/plain": [
       "   treatment_id    start_dt reported_dt  \\\n",
       "0             4  2022-04-01  2022-04-10   \n",
       "1            14  2023-02-01  2023-02-05   \n",
       "\n",
       "                                         description  \n",
       "0  Severe allergic reaction, hospitalization requ...  \n",
       "1                                     Mild skin rash  "
      ]
     },
     "execution_count": 90,
     "metadata": {},
     "output_type": "execute_result"
    }
   ],
   "source": [
    "query = \"\"\"\n",
    "SELECT \n",
    "    t.treatment_id, \n",
    "    t.start_dt, \n",
    "    ae.reported_dt, \n",
    "    ae.description\n",
    "FROM \n",
    "    adverse_events AS ae\n",
    "JOIN \n",
    "    treatments AS t \n",
    "    ON ae.treatment_id = t.treatment_id\n",
    "WHERE \n",
    "    ae.reported_dt BETWEEN t.start_dt AND DATE(t.start_dt, '+10 days');\n",
    "\"\"\"\n",
    "\n",
    "sql_output = pd.read_sql_query(query, connection)\n",
    "sql_output"
   ]
  },
  {
   "cell_type": "markdown",
   "metadata": {},
   "source": [
    "PyDough does not support date manipulation. And in this case, we can´t simulate dates because is impossible to add for every ´start_dt´."
   ]
  },
  {
   "cell_type": "markdown",
   "metadata": {},
   "source": [
    "## Query 30\n",
    "\n",
    "Show all placebo treatment id, start and end date, where there concomitant_meds were started within 2 weeks of starting the treatment. also return the start and end dates of all concomitant drug usage.\n",
    "\n",
    "SQL:"
   ]
  },
  {
   "cell_type": "code",
   "execution_count": 91,
   "metadata": {},
   "outputs": [
    {
     "data": {
      "text/html": [
       "<div>\n",
       "<style scoped>\n",
       "    .dataframe tbody tr th:only-of-type {\n",
       "        vertical-align: middle;\n",
       "    }\n",
       "\n",
       "    .dataframe tbody tr th {\n",
       "        vertical-align: top;\n",
       "    }\n",
       "\n",
       "    .dataframe thead th {\n",
       "        text-align: right;\n",
       "    }\n",
       "</style>\n",
       "<table border=\"1\" class=\"dataframe\">\n",
       "  <thead>\n",
       "    <tr style=\"text-align: right;\">\n",
       "      <th></th>\n",
       "      <th>treatment_id</th>\n",
       "      <th>treatment_start_date</th>\n",
       "      <th>treatment_end_date</th>\n",
       "      <th>concomitant_med_start_date</th>\n",
       "      <th>concomitant_med_end_date</th>\n",
       "    </tr>\n",
       "  </thead>\n",
       "  <tbody>\n",
       "    <tr>\n",
       "      <th>0</th>\n",
       "      <td>2</td>\n",
       "      <td>2022-02-15</td>\n",
       "      <td>2022-08-14</td>\n",
       "      <td>2022-02-15</td>\n",
       "      <td>2022-03-15</td>\n",
       "    </tr>\n",
       "    <tr>\n",
       "      <th>1</th>\n",
       "      <td>7</td>\n",
       "      <td>2022-07-01</td>\n",
       "      <td>2022-12-31</td>\n",
       "      <td>2022-07-15</td>\n",
       "      <td>2022-07-21</td>\n",
       "    </tr>\n",
       "  </tbody>\n",
       "</table>\n",
       "</div>"
      ],
      "text/plain": [
       "   treatment_id treatment_start_date treatment_end_date  \\\n",
       "0             2           2022-02-15         2022-08-14   \n",
       "1             7           2022-07-01         2022-12-31   \n",
       "\n",
       "  concomitant_med_start_date concomitant_med_end_date  \n",
       "0                 2022-02-15               2022-03-15  \n",
       "1                 2022-07-15               2022-07-21  "
      ]
     },
     "execution_count": 91,
     "metadata": {},
     "output_type": "execute_result"
    }
   ],
   "source": [
    "query = \"\"\"\n",
    "SELECT \n",
    "    t.treatment_id, \n",
    "    t.start_dt AS treatment_start_date, \n",
    "    t.end_dt AS treatment_end_date, \n",
    "    cm.start_dt AS concomitant_med_start_date, \n",
    "    cm.end_dt AS concomitant_med_end_date\n",
    "FROM \n",
    "    treatments AS t\n",
    "JOIN \n",
    "    concomitant_meds AS cm \n",
    "    ON t.treatment_id = cm.treatment_id\n",
    "WHERE \n",
    "    t.is_placebo = 1\n",
    "    AND cm.start_dt BETWEEN t.start_dt AND DATE(t.start_dt, '+14 days')\n",
    "ORDER BY \n",
    "    t.treatment_id;\n",
    "\"\"\"\n",
    "\n",
    "sql_output = pd.read_sql_query(query, connection)\n",
    "sql_output"
   ]
  },
  {
   "cell_type": "markdown",
   "metadata": {},
   "source": [
    "PyDough does not support date manipulation. And in this case, we can´t simulate dates because is impossible to add for every ´start_dt´."
   ]
  },
  {
   "cell_type": "markdown",
   "metadata": {},
   "source": [
    "## Query 31\n",
    "\n",
    "What is average age (in integer years) of all registered male patients with private insurance currently?\n",
    "\n",
    "SQL:"
   ]
  },
  {
   "cell_type": "code",
   "execution_count": 92,
   "metadata": {},
   "outputs": [
    {
     "data": {
      "text/html": [
       "<div>\n",
       "<style scoped>\n",
       "    .dataframe tbody tr th:only-of-type {\n",
       "        vertical-align: middle;\n",
       "    }\n",
       "\n",
       "    .dataframe tbody tr th {\n",
       "        vertical-align: top;\n",
       "    }\n",
       "\n",
       "    .dataframe thead th {\n",
       "        text-align: right;\n",
       "    }\n",
       "</style>\n",
       "<table border=\"1\" class=\"dataframe\">\n",
       "  <thead>\n",
       "    <tr style=\"text-align: right;\">\n",
       "      <th></th>\n",
       "      <th>avg_age</th>\n",
       "    </tr>\n",
       "  </thead>\n",
       "  <tbody>\n",
       "    <tr>\n",
       "      <th>0</th>\n",
       "      <td>41.000000</td>\n",
       "    </tr>\n",
       "  </tbody>\n",
       "</table>\n",
       "</div>"
      ],
      "text/plain": [
       "    avg_age\n",
       "0 41.000000"
      ]
     },
     "execution_count": 92,
     "metadata": {},
     "output_type": "execute_result"
    }
   ],
   "source": [
    "query = \"\"\"\n",
    "SELECT \n",
    "    AVG(strftime('%Y', 'now') - strftime('%Y', date_of_birth)) AS avg_age\n",
    "FROM \n",
    "    patients\n",
    "WHERE \n",
    "    gender = 'Male' \n",
    "    AND ins_type = 'private';\n",
    "\"\"\"\n",
    "\n",
    "sql_output = pd.read_sql_query(query, connection)\n",
    "sql_output"
   ]
  },
  {
   "cell_type": "markdown",
   "metadata": {},
   "source": [
    "PyDough:"
   ]
  },
  {
   "cell_type": "code",
   "execution_count": 135,
   "metadata": {},
   "outputs": [
    {
     "data": {
      "text/html": [
       "<div>\n",
       "<style scoped>\n",
       "    .dataframe tbody tr th:only-of-type {\n",
       "        vertical-align: middle;\n",
       "    }\n",
       "\n",
       "    .dataframe tbody tr th {\n",
       "        vertical-align: top;\n",
       "    }\n",
       "\n",
       "    .dataframe thead th {\n",
       "        text-align: right;\n",
       "    }\n",
       "</style>\n",
       "<table border=\"1\" class=\"dataframe\">\n",
       "  <thead>\n",
       "    <tr style=\"text-align: right;\">\n",
       "      <th></th>\n",
       "      <th>avg_age</th>\n",
       "    </tr>\n",
       "  </thead>\n",
       "  <tbody>\n",
       "    <tr>\n",
       "      <th>0</th>\n",
       "      <td>41.000000</td>\n",
       "    </tr>\n",
       "  </tbody>\n",
       "</table>\n",
       "</div>"
      ],
      "text/plain": [
       "    avg_age\n",
       "0 41.000000"
      ]
     },
     "execution_count": 135,
     "metadata": {},
     "output_type": "execute_result"
    }
   ],
   "source": [
    "%%pydough\n",
    "\n",
    "# We can not manipulate dates in PyDough. Then we are going to use \"2025\" like current year to calculate patients age, just by year. \n",
    "selected_patients = Patients(age=(2025-YEAR(date_of_birth))).WHERE(\n",
    "    LIKE(gender, \"Male\")\n",
    "    & LIKE(ins_type, \"private\")\n",
    ")\n",
    "\n",
    "output = DermTreatment(avg_age=AVG(selected_patients.age))\n",
    "\n",
    "pydough_output = pydough.to_df(output)\n",
    "pydough_output"
   ]
  },
  {
   "cell_type": "code",
   "execution_count": 95,
   "metadata": {},
   "outputs": [
    {
     "data": {
      "text/plain": [
       "True"
      ]
     },
     "execution_count": 95,
     "metadata": {},
     "output_type": "execute_result"
    }
   ],
   "source": [
    "dfcompare.compare_df(pydough_output, sql_output, query_category=\"date_functions\", \n",
    "                     question=\"what is average age (in integer years) of all registered male patients with private insurance currently?\")"
   ]
  }
 ],
 "metadata": {
  "kernelspec": {
   "display_name": ".venv",
   "language": "python",
   "name": "python3"
  },
  "language_info": {
   "codemirror_mode": {
    "name": "ipython",
    "version": 3
   },
   "file_extension": ".py",
   "mimetype": "text/x-python",
   "name": "python",
   "nbconvert_exporter": "python",
   "pygments_lexer": "ipython3",
   "version": "3.12.8"
  }
 },
 "nbformat": 4,
 "nbformat_minor": 2
}
